{
 "cells": [
  {
   "cell_type": "code",
   "execution_count": 41,
   "metadata": {},
   "outputs": [],
   "source": [
    "import pandas as pd\n",
    "import seaborn as sns\n",
    "import plotly.express as px\n",
    "from matplotlib import pyplot as plt\n",
    "\n",
    "from sklearn.cluster import AgglomerativeClustering, BisectingKMeans\n",
    "from sklearn.metrics import silhouette_score\n",
    "from sklearn.preprocessing import StandardScaler, OneHotEncoder\n",
    "from sklearn.compose import ColumnTransformer\n",
    "import numpy as np\n",
    "from scipy.cluster.hierarchy import dendrogram, linkage, cut_tree\n",
    "\n",
    "import optuna"
   ]
  },
  {
   "cell_type": "markdown",
   "metadata": {},
   "source": [
    "### Carregar dados"
   ]
  },
  {
   "cell_type": "code",
   "execution_count": 3,
   "metadata": {},
   "outputs": [
    {
     "data": {
      "text/html": [
       "<div>\n",
       "<style scoped>\n",
       "    .dataframe tbody tr th:only-of-type {\n",
       "        vertical-align: middle;\n",
       "    }\n",
       "\n",
       "    .dataframe tbody tr th {\n",
       "        vertical-align: top;\n",
       "    }\n",
       "\n",
       "    .dataframe thead th {\n",
       "        text-align: right;\n",
       "    }\n",
       "</style>\n",
       "<table border=\"1\" class=\"dataframe\">\n",
       "  <thead>\n",
       "    <tr style=\"text-align: right;\">\n",
       "      <th></th>\n",
       "      <th>index</th>\n",
       "      <th>brand</th>\n",
       "      <th>model</th>\n",
       "      <th>price</th>\n",
       "      <th>rating</th>\n",
       "      <th>processor_brand</th>\n",
       "      <th>processor_tier</th>\n",
       "      <th>num_cores</th>\n",
       "      <th>num_threads</th>\n",
       "      <th>ram_memory</th>\n",
       "      <th>primary_storage_type</th>\n",
       "      <th>primary_storage_capacity</th>\n",
       "      <th>gpu_brand</th>\n",
       "      <th>gpu_type</th>\n",
       "      <th>is_touch_screen</th>\n",
       "      <th>display_size</th>\n",
       "      <th>resolution_width</th>\n",
       "      <th>resolution_height</th>\n",
       "      <th>os</th>\n",
       "      <th>year_of_warranty</th>\n",
       "    </tr>\n",
       "  </thead>\n",
       "  <tbody>\n",
       "    <tr>\n",
       "      <th>0</th>\n",
       "      <td>1</td>\n",
       "      <td>tecno</td>\n",
       "      <td>Tecno Megabook T1 Laptop (11th Gen Core i3/ 8G...</td>\n",
       "      <td>287.72</td>\n",
       "      <td>63</td>\n",
       "      <td>intel</td>\n",
       "      <td>core i3</td>\n",
       "      <td>2</td>\n",
       "      <td>4</td>\n",
       "      <td>8</td>\n",
       "      <td>SSD</td>\n",
       "      <td>512</td>\n",
       "      <td>intel</td>\n",
       "      <td>integrated</td>\n",
       "      <td>False</td>\n",
       "      <td>15.6</td>\n",
       "      <td>1920</td>\n",
       "      <td>1080</td>\n",
       "      <td>windows</td>\n",
       "      <td>1</td>\n",
       "    </tr>\n",
       "    <tr>\n",
       "      <th>1</th>\n",
       "      <td>2</td>\n",
       "      <td>tecno</td>\n",
       "      <td>Tecno Megabook T1 Laptop (11th Gen Core i7/ 16...</td>\n",
       "      <td>431.64</td>\n",
       "      <td>67</td>\n",
       "      <td>intel</td>\n",
       "      <td>core i7</td>\n",
       "      <td>4</td>\n",
       "      <td>8</td>\n",
       "      <td>16</td>\n",
       "      <td>SSD</td>\n",
       "      <td>1024</td>\n",
       "      <td>intel</td>\n",
       "      <td>integrated</td>\n",
       "      <td>False</td>\n",
       "      <td>15.6</td>\n",
       "      <td>1920</td>\n",
       "      <td>1080</td>\n",
       "      <td>windows</td>\n",
       "      <td>1</td>\n",
       "    </tr>\n",
       "    <tr>\n",
       "      <th>2</th>\n",
       "      <td>3</td>\n",
       "      <td>hp</td>\n",
       "      <td>HP Victus 15-fb0157AX Gaming Laptop (AMD Ryzen...</td>\n",
       "      <td>612.86</td>\n",
       "      <td>73</td>\n",
       "      <td>amd</td>\n",
       "      <td>ryzen 5</td>\n",
       "      <td>6</td>\n",
       "      <td>12</td>\n",
       "      <td>8</td>\n",
       "      <td>SSD</td>\n",
       "      <td>512</td>\n",
       "      <td>amd</td>\n",
       "      <td>dedicated</td>\n",
       "      <td>False</td>\n",
       "      <td>15.6</td>\n",
       "      <td>1920</td>\n",
       "      <td>1080</td>\n",
       "      <td>windows</td>\n",
       "      <td>1</td>\n",
       "    </tr>\n",
       "    <tr>\n",
       "      <th>3</th>\n",
       "      <td>4</td>\n",
       "      <td>acer</td>\n",
       "      <td>Acer Extensa EX214-53 Laptop (12th Gen Core i5...</td>\n",
       "      <td>479.62</td>\n",
       "      <td>62</td>\n",
       "      <td>intel</td>\n",
       "      <td>core i5</td>\n",
       "      <td>12</td>\n",
       "      <td>16</td>\n",
       "      <td>8</td>\n",
       "      <td>SSD</td>\n",
       "      <td>512</td>\n",
       "      <td>intel</td>\n",
       "      <td>integrated</td>\n",
       "      <td>False</td>\n",
       "      <td>14.0</td>\n",
       "      <td>1920</td>\n",
       "      <td>1080</td>\n",
       "      <td>windows</td>\n",
       "      <td>1</td>\n",
       "    </tr>\n",
       "    <tr>\n",
       "      <th>4</th>\n",
       "      <td>5</td>\n",
       "      <td>lenovo</td>\n",
       "      <td>Lenovo V15 82KDA01BIH Laptop (AMD Ryzen 3 5300...</td>\n",
       "      <td>342.77</td>\n",
       "      <td>62</td>\n",
       "      <td>amd</td>\n",
       "      <td>ryzen 3</td>\n",
       "      <td>4</td>\n",
       "      <td>8</td>\n",
       "      <td>8</td>\n",
       "      <td>SSD</td>\n",
       "      <td>512</td>\n",
       "      <td>amd</td>\n",
       "      <td>integrated</td>\n",
       "      <td>False</td>\n",
       "      <td>15.6</td>\n",
       "      <td>1920</td>\n",
       "      <td>1080</td>\n",
       "      <td>windows</td>\n",
       "      <td>1</td>\n",
       "    </tr>\n",
       "    <tr>\n",
       "      <th>...</th>\n",
       "      <td>...</td>\n",
       "      <td>...</td>\n",
       "      <td>...</td>\n",
       "      <td>...</td>\n",
       "      <td>...</td>\n",
       "      <td>...</td>\n",
       "      <td>...</td>\n",
       "      <td>...</td>\n",
       "      <td>...</td>\n",
       "      <td>...</td>\n",
       "      <td>...</td>\n",
       "      <td>...</td>\n",
       "      <td>...</td>\n",
       "      <td>...</td>\n",
       "      <td>...</td>\n",
       "      <td>...</td>\n",
       "      <td>...</td>\n",
       "      <td>...</td>\n",
       "      <td>...</td>\n",
       "      <td>...</td>\n",
       "    </tr>\n",
       "    <tr>\n",
       "      <th>986</th>\n",
       "      <td>998</td>\n",
       "      <td>asus</td>\n",
       "      <td>Asus Vivobook Pro 15 M6500QC-HN542WS Laptop (R...</td>\n",
       "      <td>791.44</td>\n",
       "      <td>68</td>\n",
       "      <td>amd</td>\n",
       "      <td>ryzen 5</td>\n",
       "      <td>6</td>\n",
       "      <td>12</td>\n",
       "      <td>16</td>\n",
       "      <td>SSD</td>\n",
       "      <td>512</td>\n",
       "      <td>nvidia</td>\n",
       "      <td>dedicated</td>\n",
       "      <td>False</td>\n",
       "      <td>15.6</td>\n",
       "      <td>1920</td>\n",
       "      <td>1080</td>\n",
       "      <td>windows</td>\n",
       "      <td>1</td>\n",
       "    </tr>\n",
       "    <tr>\n",
       "      <th>987</th>\n",
       "      <td>999</td>\n",
       "      <td>msi</td>\n",
       "      <td>MSI Thin GF63 12VE-070IN Gaming Laptop (12th G...</td>\n",
       "      <td>1103.27</td>\n",
       "      <td>73</td>\n",
       "      <td>intel</td>\n",
       "      <td>core i7</td>\n",
       "      <td>10</td>\n",
       "      <td>16</td>\n",
       "      <td>16</td>\n",
       "      <td>SSD</td>\n",
       "      <td>512</td>\n",
       "      <td>nvidia</td>\n",
       "      <td>dedicated</td>\n",
       "      <td>False</td>\n",
       "      <td>15.6</td>\n",
       "      <td>1920</td>\n",
       "      <td>1080</td>\n",
       "      <td>windows</td>\n",
       "      <td>2</td>\n",
       "    </tr>\n",
       "    <tr>\n",
       "      <th>988</th>\n",
       "      <td>1000</td>\n",
       "      <td>asus</td>\n",
       "      <td>Asus Vivobook Go 15 2023 E1504FA-NJ522WS Lapto...</td>\n",
       "      <td>539.58</td>\n",
       "      <td>59</td>\n",
       "      <td>amd</td>\n",
       "      <td>ryzen 5</td>\n",
       "      <td>4</td>\n",
       "      <td>8</td>\n",
       "      <td>8</td>\n",
       "      <td>SSD</td>\n",
       "      <td>512</td>\n",
       "      <td>amd</td>\n",
       "      <td>integrated</td>\n",
       "      <td>False</td>\n",
       "      <td>15.6</td>\n",
       "      <td>1920</td>\n",
       "      <td>1080</td>\n",
       "      <td>windows</td>\n",
       "      <td>1</td>\n",
       "    </tr>\n",
       "    <tr>\n",
       "      <th>989</th>\n",
       "      <td>1001</td>\n",
       "      <td>asus</td>\n",
       "      <td>Asus Zenbook 14 2023 UM3402YA-KP541WS Laptop (...</td>\n",
       "      <td>815.43</td>\n",
       "      <td>68</td>\n",
       "      <td>amd</td>\n",
       "      <td>ryzen 5</td>\n",
       "      <td>6</td>\n",
       "      <td>12</td>\n",
       "      <td>16</td>\n",
       "      <td>SSD</td>\n",
       "      <td>512</td>\n",
       "      <td>amd</td>\n",
       "      <td>integrated</td>\n",
       "      <td>False</td>\n",
       "      <td>14.0</td>\n",
       "      <td>2560</td>\n",
       "      <td>1600</td>\n",
       "      <td>windows</td>\n",
       "      <td>1</td>\n",
       "    </tr>\n",
       "    <tr>\n",
       "      <th>990</th>\n",
       "      <td>1002</td>\n",
       "      <td>hp</td>\n",
       "      <td>HP Chromebook 15a-na0008TU Laptop (Intel Celer...</td>\n",
       "      <td>251.74</td>\n",
       "      <td>37</td>\n",
       "      <td>intel</td>\n",
       "      <td>celeron</td>\n",
       "      <td>2</td>\n",
       "      <td>2</td>\n",
       "      <td>4</td>\n",
       "      <td>HDD</td>\n",
       "      <td>128</td>\n",
       "      <td>intel</td>\n",
       "      <td>integrated</td>\n",
       "      <td>False</td>\n",
       "      <td>15.6</td>\n",
       "      <td>1366</td>\n",
       "      <td>768</td>\n",
       "      <td>chrome</td>\n",
       "      <td>1</td>\n",
       "    </tr>\n",
       "  </tbody>\n",
       "</table>\n",
       "<p>991 rows × 20 columns</p>\n",
       "</div>"
      ],
      "text/plain": [
       "     index   brand                                              model  \\\n",
       "0        1   tecno  Tecno Megabook T1 Laptop (11th Gen Core i3/ 8G...   \n",
       "1        2   tecno  Tecno Megabook T1 Laptop (11th Gen Core i7/ 16...   \n",
       "2        3      hp  HP Victus 15-fb0157AX Gaming Laptop (AMD Ryzen...   \n",
       "3        4    acer  Acer Extensa EX214-53 Laptop (12th Gen Core i5...   \n",
       "4        5  lenovo  Lenovo V15 82KDA01BIH Laptop (AMD Ryzen 3 5300...   \n",
       "..     ...     ...                                                ...   \n",
       "986    998    asus  Asus Vivobook Pro 15 M6500QC-HN542WS Laptop (R...   \n",
       "987    999     msi  MSI Thin GF63 12VE-070IN Gaming Laptop (12th G...   \n",
       "988   1000    asus  Asus Vivobook Go 15 2023 E1504FA-NJ522WS Lapto...   \n",
       "989   1001    asus  Asus Zenbook 14 2023 UM3402YA-KP541WS Laptop (...   \n",
       "990   1002      hp  HP Chromebook 15a-na0008TU Laptop (Intel Celer...   \n",
       "\n",
       "       price  rating processor_brand processor_tier  num_cores  num_threads  \\\n",
       "0     287.72      63           intel        core i3          2            4   \n",
       "1     431.64      67           intel        core i7          4            8   \n",
       "2     612.86      73             amd        ryzen 5          6           12   \n",
       "3     479.62      62           intel        core i5         12           16   \n",
       "4     342.77      62             amd        ryzen 3          4            8   \n",
       "..       ...     ...             ...            ...        ...          ...   \n",
       "986   791.44      68             amd        ryzen 5          6           12   \n",
       "987  1103.27      73           intel        core i7         10           16   \n",
       "988   539.58      59             amd        ryzen 5          4            8   \n",
       "989   815.43      68             amd        ryzen 5          6           12   \n",
       "990   251.74      37           intel        celeron          2            2   \n",
       "\n",
       "     ram_memory primary_storage_type  primary_storage_capacity gpu_brand  \\\n",
       "0             8                  SSD                       512     intel   \n",
       "1            16                  SSD                      1024     intel   \n",
       "2             8                  SSD                       512       amd   \n",
       "3             8                  SSD                       512     intel   \n",
       "4             8                  SSD                       512       amd   \n",
       "..          ...                  ...                       ...       ...   \n",
       "986          16                  SSD                       512    nvidia   \n",
       "987          16                  SSD                       512    nvidia   \n",
       "988           8                  SSD                       512       amd   \n",
       "989          16                  SSD                       512       amd   \n",
       "990           4                  HDD                       128     intel   \n",
       "\n",
       "       gpu_type  is_touch_screen  display_size  resolution_width  \\\n",
       "0    integrated            False          15.6              1920   \n",
       "1    integrated            False          15.6              1920   \n",
       "2     dedicated            False          15.6              1920   \n",
       "3    integrated            False          14.0              1920   \n",
       "4    integrated            False          15.6              1920   \n",
       "..          ...              ...           ...               ...   \n",
       "986   dedicated            False          15.6              1920   \n",
       "987   dedicated            False          15.6              1920   \n",
       "988  integrated            False          15.6              1920   \n",
       "989  integrated            False          14.0              2560   \n",
       "990  integrated            False          15.6              1366   \n",
       "\n",
       "     resolution_height       os year_of_warranty  \n",
       "0                 1080  windows                1  \n",
       "1                 1080  windows                1  \n",
       "2                 1080  windows                1  \n",
       "3                 1080  windows                1  \n",
       "4                 1080  windows                1  \n",
       "..                 ...      ...              ...  \n",
       "986               1080  windows                1  \n",
       "987               1080  windows                2  \n",
       "988               1080  windows                1  \n",
       "989               1600  windows                1  \n",
       "990                768   chrome                1  \n",
       "\n",
       "[991 rows x 20 columns]"
      ]
     },
     "execution_count": 3,
     "metadata": {},
     "output_type": "execute_result"
    }
   ],
   "source": [
    "df_laptops = pd.read_csv(\"./datasets/data.csv\")\n",
    "df_laptops"
   ]
  },
  {
   "cell_type": "code",
   "execution_count": 4,
   "metadata": {},
   "outputs": [
    {
     "data": {
      "text/html": [
       "<div>\n",
       "<style scoped>\n",
       "    .dataframe tbody tr th:only-of-type {\n",
       "        vertical-align: middle;\n",
       "    }\n",
       "\n",
       "    .dataframe tbody tr th {\n",
       "        vertical-align: top;\n",
       "    }\n",
       "\n",
       "    .dataframe thead th {\n",
       "        text-align: right;\n",
       "    }\n",
       "</style>\n",
       "<table border=\"1\" class=\"dataframe\">\n",
       "  <thead>\n",
       "    <tr style=\"text-align: right;\">\n",
       "      <th></th>\n",
       "      <th>index</th>\n",
       "      <th>brand</th>\n",
       "      <th>model</th>\n",
       "      <th>price</th>\n",
       "      <th>rating</th>\n",
       "      <th>processor_brand</th>\n",
       "      <th>processor_tier</th>\n",
       "      <th>num_cores</th>\n",
       "      <th>num_threads</th>\n",
       "      <th>ram_memory</th>\n",
       "      <th>primary_storage_type</th>\n",
       "      <th>primary_storage_capacity</th>\n",
       "      <th>gpu_brand</th>\n",
       "      <th>gpu_type</th>\n",
       "      <th>is_touch_screen</th>\n",
       "      <th>display_size</th>\n",
       "      <th>resolution_width</th>\n",
       "      <th>resolution_height</th>\n",
       "      <th>os</th>\n",
       "      <th>year_of_warranty</th>\n",
       "    </tr>\n",
       "  </thead>\n",
       "  <tbody>\n",
       "    <tr>\n",
       "      <th>0</th>\n",
       "      <td>1</td>\n",
       "      <td>tecno</td>\n",
       "      <td>Tecno Megabook T1 Laptop (11th Gen Core i3/ 8G...</td>\n",
       "      <td>287.72</td>\n",
       "      <td>63</td>\n",
       "      <td>intel</td>\n",
       "      <td>core i3</td>\n",
       "      <td>2</td>\n",
       "      <td>4</td>\n",
       "      <td>8</td>\n",
       "      <td>SSD</td>\n",
       "      <td>512</td>\n",
       "      <td>intel</td>\n",
       "      <td>integrated</td>\n",
       "      <td>False</td>\n",
       "      <td>15.6</td>\n",
       "      <td>1920</td>\n",
       "      <td>1080</td>\n",
       "      <td>windows</td>\n",
       "      <td>1</td>\n",
       "    </tr>\n",
       "    <tr>\n",
       "      <th>1</th>\n",
       "      <td>2</td>\n",
       "      <td>tecno</td>\n",
       "      <td>Tecno Megabook T1 Laptop (11th Gen Core i7/ 16...</td>\n",
       "      <td>431.64</td>\n",
       "      <td>67</td>\n",
       "      <td>intel</td>\n",
       "      <td>core i7</td>\n",
       "      <td>4</td>\n",
       "      <td>8</td>\n",
       "      <td>16</td>\n",
       "      <td>SSD</td>\n",
       "      <td>1024</td>\n",
       "      <td>intel</td>\n",
       "      <td>integrated</td>\n",
       "      <td>False</td>\n",
       "      <td>15.6</td>\n",
       "      <td>1920</td>\n",
       "      <td>1080</td>\n",
       "      <td>windows</td>\n",
       "      <td>1</td>\n",
       "    </tr>\n",
       "    <tr>\n",
       "      <th>2</th>\n",
       "      <td>3</td>\n",
       "      <td>hp</td>\n",
       "      <td>HP Victus 15-fb0157AX Gaming Laptop (AMD Ryzen...</td>\n",
       "      <td>612.86</td>\n",
       "      <td>73</td>\n",
       "      <td>amd</td>\n",
       "      <td>ryzen 5</td>\n",
       "      <td>6</td>\n",
       "      <td>12</td>\n",
       "      <td>8</td>\n",
       "      <td>SSD</td>\n",
       "      <td>512</td>\n",
       "      <td>amd</td>\n",
       "      <td>dedicated</td>\n",
       "      <td>False</td>\n",
       "      <td>15.6</td>\n",
       "      <td>1920</td>\n",
       "      <td>1080</td>\n",
       "      <td>windows</td>\n",
       "      <td>1</td>\n",
       "    </tr>\n",
       "    <tr>\n",
       "      <th>3</th>\n",
       "      <td>4</td>\n",
       "      <td>acer</td>\n",
       "      <td>Acer Extensa EX214-53 Laptop (12th Gen Core i5...</td>\n",
       "      <td>479.62</td>\n",
       "      <td>62</td>\n",
       "      <td>intel</td>\n",
       "      <td>core i5</td>\n",
       "      <td>12</td>\n",
       "      <td>16</td>\n",
       "      <td>8</td>\n",
       "      <td>SSD</td>\n",
       "      <td>512</td>\n",
       "      <td>intel</td>\n",
       "      <td>integrated</td>\n",
       "      <td>False</td>\n",
       "      <td>14.0</td>\n",
       "      <td>1920</td>\n",
       "      <td>1080</td>\n",
       "      <td>windows</td>\n",
       "      <td>1</td>\n",
       "    </tr>\n",
       "    <tr>\n",
       "      <th>4</th>\n",
       "      <td>5</td>\n",
       "      <td>lenovo</td>\n",
       "      <td>Lenovo V15 82KDA01BIH Laptop (AMD Ryzen 3 5300...</td>\n",
       "      <td>342.77</td>\n",
       "      <td>62</td>\n",
       "      <td>amd</td>\n",
       "      <td>ryzen 3</td>\n",
       "      <td>4</td>\n",
       "      <td>8</td>\n",
       "      <td>8</td>\n",
       "      <td>SSD</td>\n",
       "      <td>512</td>\n",
       "      <td>amd</td>\n",
       "      <td>integrated</td>\n",
       "      <td>False</td>\n",
       "      <td>15.6</td>\n",
       "      <td>1920</td>\n",
       "      <td>1080</td>\n",
       "      <td>windows</td>\n",
       "      <td>1</td>\n",
       "    </tr>\n",
       "    <tr>\n",
       "      <th>5</th>\n",
       "      <td>6</td>\n",
       "      <td>apple</td>\n",
       "      <td>Apple MacBook Air 2020 MGND3HN Laptop (Apple M...</td>\n",
       "      <td>851.41</td>\n",
       "      <td>45</td>\n",
       "      <td>apple</td>\n",
       "      <td>m1</td>\n",
       "      <td>8</td>\n",
       "      <td>8</td>\n",
       "      <td>8</td>\n",
       "      <td>SSD</td>\n",
       "      <td>256</td>\n",
       "      <td>apple</td>\n",
       "      <td>apple</td>\n",
       "      <td>False</td>\n",
       "      <td>13.3</td>\n",
       "      <td>2560</td>\n",
       "      <td>1600</td>\n",
       "      <td>mac</td>\n",
       "      <td>1</td>\n",
       "    </tr>\n",
       "    <tr>\n",
       "      <th>6</th>\n",
       "      <td>7</td>\n",
       "      <td>infinix</td>\n",
       "      <td>Infinix INBook Y2 Plus Laptop (11th Gen Core i...</td>\n",
       "      <td>419.65</td>\n",
       "      <td>56</td>\n",
       "      <td>intel</td>\n",
       "      <td>core i5</td>\n",
       "      <td>4</td>\n",
       "      <td>8</td>\n",
       "      <td>16</td>\n",
       "      <td>SSD</td>\n",
       "      <td>512</td>\n",
       "      <td>intel</td>\n",
       "      <td>integrated</td>\n",
       "      <td>False</td>\n",
       "      <td>15.6</td>\n",
       "      <td>1920</td>\n",
       "      <td>1080</td>\n",
       "      <td>windows</td>\n",
       "      <td>1</td>\n",
       "    </tr>\n",
       "    <tr>\n",
       "      <th>7</th>\n",
       "      <td>8</td>\n",
       "      <td>asus</td>\n",
       "      <td>Asus TUF Gaming F15 FX506HF-HN024W Gaming Lapt...</td>\n",
       "      <td>599.55</td>\n",
       "      <td>70</td>\n",
       "      <td>intel</td>\n",
       "      <td>core i5</td>\n",
       "      <td>6</td>\n",
       "      <td>12</td>\n",
       "      <td>8</td>\n",
       "      <td>SSD</td>\n",
       "      <td>512</td>\n",
       "      <td>nvidia</td>\n",
       "      <td>dedicated</td>\n",
       "      <td>False</td>\n",
       "      <td>15.6</td>\n",
       "      <td>1920</td>\n",
       "      <td>1080</td>\n",
       "      <td>windows</td>\n",
       "      <td>1</td>\n",
       "    </tr>\n",
       "    <tr>\n",
       "      <th>8</th>\n",
       "      <td>9</td>\n",
       "      <td>hp</td>\n",
       "      <td>HP 15s-fq5007TU Laptop (12th Gen Core i3/ 8GB/...</td>\n",
       "      <td>443.64</td>\n",
       "      <td>60</td>\n",
       "      <td>intel</td>\n",
       "      <td>core i3</td>\n",
       "      <td>6</td>\n",
       "      <td>8</td>\n",
       "      <td>8</td>\n",
       "      <td>SSD</td>\n",
       "      <td>512</td>\n",
       "      <td>intel</td>\n",
       "      <td>integrated</td>\n",
       "      <td>False</td>\n",
       "      <td>15.6</td>\n",
       "      <td>1920</td>\n",
       "      <td>1080</td>\n",
       "      <td>windows</td>\n",
       "      <td>1</td>\n",
       "    </tr>\n",
       "    <tr>\n",
       "      <th>9</th>\n",
       "      <td>10</td>\n",
       "      <td>infinix</td>\n",
       "      <td>Infinix Zerobook 2023 Laptop (13th Gen Core i9...</td>\n",
       "      <td>719.48</td>\n",
       "      <td>71</td>\n",
       "      <td>intel</td>\n",
       "      <td>core i9</td>\n",
       "      <td>14</td>\n",
       "      <td>20</td>\n",
       "      <td>32</td>\n",
       "      <td>SSD</td>\n",
       "      <td>1024</td>\n",
       "      <td>intel</td>\n",
       "      <td>integrated</td>\n",
       "      <td>False</td>\n",
       "      <td>15.6</td>\n",
       "      <td>1920</td>\n",
       "      <td>1080</td>\n",
       "      <td>windows</td>\n",
       "      <td>1</td>\n",
       "    </tr>\n",
       "  </tbody>\n",
       "</table>\n",
       "</div>"
      ],
      "text/plain": [
       "   index    brand                                              model   price  \\\n",
       "0      1    tecno  Tecno Megabook T1 Laptop (11th Gen Core i3/ 8G...  287.72   \n",
       "1      2    tecno  Tecno Megabook T1 Laptop (11th Gen Core i7/ 16...  431.64   \n",
       "2      3       hp  HP Victus 15-fb0157AX Gaming Laptop (AMD Ryzen...  612.86   \n",
       "3      4     acer  Acer Extensa EX214-53 Laptop (12th Gen Core i5...  479.62   \n",
       "4      5   lenovo  Lenovo V15 82KDA01BIH Laptop (AMD Ryzen 3 5300...  342.77   \n",
       "5      6    apple  Apple MacBook Air 2020 MGND3HN Laptop (Apple M...  851.41   \n",
       "6      7  infinix  Infinix INBook Y2 Plus Laptop (11th Gen Core i...  419.65   \n",
       "7      8     asus  Asus TUF Gaming F15 FX506HF-HN024W Gaming Lapt...  599.55   \n",
       "8      9       hp  HP 15s-fq5007TU Laptop (12th Gen Core i3/ 8GB/...  443.64   \n",
       "9     10  infinix  Infinix Zerobook 2023 Laptop (13th Gen Core i9...  719.48   \n",
       "\n",
       "   rating processor_brand processor_tier  num_cores  num_threads  ram_memory  \\\n",
       "0      63           intel        core i3          2            4           8   \n",
       "1      67           intel        core i7          4            8          16   \n",
       "2      73             amd        ryzen 5          6           12           8   \n",
       "3      62           intel        core i5         12           16           8   \n",
       "4      62             amd        ryzen 3          4            8           8   \n",
       "5      45           apple             m1          8            8           8   \n",
       "6      56           intel        core i5          4            8          16   \n",
       "7      70           intel        core i5          6           12           8   \n",
       "8      60           intel        core i3          6            8           8   \n",
       "9      71           intel        core i9         14           20          32   \n",
       "\n",
       "  primary_storage_type  primary_storage_capacity gpu_brand    gpu_type  \\\n",
       "0                  SSD                       512     intel  integrated   \n",
       "1                  SSD                      1024     intel  integrated   \n",
       "2                  SSD                       512       amd   dedicated   \n",
       "3                  SSD                       512     intel  integrated   \n",
       "4                  SSD                       512       amd  integrated   \n",
       "5                  SSD                       256     apple       apple   \n",
       "6                  SSD                       512     intel  integrated   \n",
       "7                  SSD                       512    nvidia   dedicated   \n",
       "8                  SSD                       512     intel  integrated   \n",
       "9                  SSD                      1024     intel  integrated   \n",
       "\n",
       "   is_touch_screen  display_size  resolution_width  resolution_height  \\\n",
       "0            False          15.6              1920               1080   \n",
       "1            False          15.6              1920               1080   \n",
       "2            False          15.6              1920               1080   \n",
       "3            False          14.0              1920               1080   \n",
       "4            False          15.6              1920               1080   \n",
       "5            False          13.3              2560               1600   \n",
       "6            False          15.6              1920               1080   \n",
       "7            False          15.6              1920               1080   \n",
       "8            False          15.6              1920               1080   \n",
       "9            False          15.6              1920               1080   \n",
       "\n",
       "        os year_of_warranty  \n",
       "0  windows                1  \n",
       "1  windows                1  \n",
       "2  windows                1  \n",
       "3  windows                1  \n",
       "4  windows                1  \n",
       "5      mac                1  \n",
       "6  windows                1  \n",
       "7  windows                1  \n",
       "8  windows                1  \n",
       "9  windows                1  "
      ]
     },
     "execution_count": 4,
     "metadata": {},
     "output_type": "execute_result"
    }
   ],
   "source": [
    "df_laptops.head(10)"
   ]
  },
  {
   "cell_type": "markdown",
   "metadata": {},
   "source": [
    "### EDA"
   ]
  },
  {
   "cell_type": "code",
   "execution_count": 5,
   "metadata": {},
   "outputs": [
    {
     "data": {
      "text/html": [
       "<div>\n",
       "<style scoped>\n",
       "    .dataframe tbody tr th:only-of-type {\n",
       "        vertical-align: middle;\n",
       "    }\n",
       "\n",
       "    .dataframe tbody tr th {\n",
       "        vertical-align: top;\n",
       "    }\n",
       "\n",
       "    .dataframe thead th {\n",
       "        text-align: right;\n",
       "    }\n",
       "</style>\n",
       "<table border=\"1\" class=\"dataframe\">\n",
       "  <thead>\n",
       "    <tr style=\"text-align: right;\">\n",
       "      <th></th>\n",
       "      <th>index</th>\n",
       "      <th>price</th>\n",
       "      <th>rating</th>\n",
       "      <th>num_cores</th>\n",
       "      <th>num_threads</th>\n",
       "      <th>ram_memory</th>\n",
       "      <th>primary_storage_capacity</th>\n",
       "      <th>display_size</th>\n",
       "      <th>resolution_width</th>\n",
       "      <th>resolution_height</th>\n",
       "    </tr>\n",
       "  </thead>\n",
       "  <tbody>\n",
       "    <tr>\n",
       "      <th>count</th>\n",
       "      <td>991.000000</td>\n",
       "      <td>991.000000</td>\n",
       "      <td>991.000000</td>\n",
       "      <td>991.000000</td>\n",
       "      <td>991.000000</td>\n",
       "      <td>991.000000</td>\n",
       "      <td>991.000000</td>\n",
       "      <td>991.000000</td>\n",
       "      <td>991.000000</td>\n",
       "      <td>991.000000</td>\n",
       "    </tr>\n",
       "    <tr>\n",
       "      <th>mean</th>\n",
       "      <td>505.860747</td>\n",
       "      <td>926.687487</td>\n",
       "      <td>63.931382</td>\n",
       "      <td>8.128153</td>\n",
       "      <td>12.191726</td>\n",
       "      <td>13.047427</td>\n",
       "      <td>610.938446</td>\n",
       "      <td>15.171241</td>\n",
       "      <td>2003.503532</td>\n",
       "      <td>1181.227043</td>\n",
       "    </tr>\n",
       "    <tr>\n",
       "      <th>std</th>\n",
       "      <td>287.899458</td>\n",
       "      <td>688.239764</td>\n",
       "      <td>10.190575</td>\n",
       "      <td>4.215499</td>\n",
       "      <td>5.585115</td>\n",
       "      <td>5.591188</td>\n",
       "      <td>266.927666</td>\n",
       "      <td>0.938089</td>\n",
       "      <td>361.965292</td>\n",
       "      <td>263.884019</td>\n",
       "    </tr>\n",
       "    <tr>\n",
       "      <th>min</th>\n",
       "      <td>1.000000</td>\n",
       "      <td>117.540000</td>\n",
       "      <td>24.000000</td>\n",
       "      <td>2.000000</td>\n",
       "      <td>0.000000</td>\n",
       "      <td>2.000000</td>\n",
       "      <td>32.000000</td>\n",
       "      <td>10.100000</td>\n",
       "      <td>1080.000000</td>\n",
       "      <td>768.000000</td>\n",
       "    </tr>\n",
       "    <tr>\n",
       "      <th>25%</th>\n",
       "      <td>258.500000</td>\n",
       "      <td>522.850000</td>\n",
       "      <td>58.000000</td>\n",
       "      <td>6.000000</td>\n",
       "      <td>8.000000</td>\n",
       "      <td>8.000000</td>\n",
       "      <td>512.000000</td>\n",
       "      <td>14.000000</td>\n",
       "      <td>1920.000000</td>\n",
       "      <td>1080.000000</td>\n",
       "    </tr>\n",
       "    <tr>\n",
       "      <th>50%</th>\n",
       "      <td>507.000000</td>\n",
       "      <td>742.390000</td>\n",
       "      <td>64.000000</td>\n",
       "      <td>8.000000</td>\n",
       "      <td>12.000000</td>\n",
       "      <td>16.000000</td>\n",
       "      <td>512.000000</td>\n",
       "      <td>15.600000</td>\n",
       "      <td>1920.000000</td>\n",
       "      <td>1080.000000</td>\n",
       "    </tr>\n",
       "    <tr>\n",
       "      <th>75%</th>\n",
       "      <td>754.500000</td>\n",
       "      <td>1070.350000</td>\n",
       "      <td>71.000000</td>\n",
       "      <td>10.000000</td>\n",
       "      <td>16.000000</td>\n",
       "      <td>16.000000</td>\n",
       "      <td>512.000000</td>\n",
       "      <td>15.600000</td>\n",
       "      <td>1920.000000</td>\n",
       "      <td>1200.000000</td>\n",
       "    </tr>\n",
       "    <tr>\n",
       "      <th>max</th>\n",
       "      <td>1002.000000</td>\n",
       "      <td>5450.880000</td>\n",
       "      <td>89.000000</td>\n",
       "      <td>24.000000</td>\n",
       "      <td>32.000000</td>\n",
       "      <td>36.000000</td>\n",
       "      <td>2048.000000</td>\n",
       "      <td>18.000000</td>\n",
       "      <td>3840.000000</td>\n",
       "      <td>2560.000000</td>\n",
       "    </tr>\n",
       "  </tbody>\n",
       "</table>\n",
       "</div>"
      ],
      "text/plain": [
       "             index        price      rating   num_cores  num_threads  \\\n",
       "count   991.000000   991.000000  991.000000  991.000000   991.000000   \n",
       "mean    505.860747   926.687487   63.931382    8.128153    12.191726   \n",
       "std     287.899458   688.239764   10.190575    4.215499     5.585115   \n",
       "min       1.000000   117.540000   24.000000    2.000000     0.000000   \n",
       "25%     258.500000   522.850000   58.000000    6.000000     8.000000   \n",
       "50%     507.000000   742.390000   64.000000    8.000000    12.000000   \n",
       "75%     754.500000  1070.350000   71.000000   10.000000    16.000000   \n",
       "max    1002.000000  5450.880000   89.000000   24.000000    32.000000   \n",
       "\n",
       "       ram_memory  primary_storage_capacity  display_size  resolution_width  \\\n",
       "count  991.000000                991.000000    991.000000        991.000000   \n",
       "mean    13.047427                610.938446     15.171241       2003.503532   \n",
       "std      5.591188                266.927666      0.938089        361.965292   \n",
       "min      2.000000                 32.000000     10.100000       1080.000000   \n",
       "25%      8.000000                512.000000     14.000000       1920.000000   \n",
       "50%     16.000000                512.000000     15.600000       1920.000000   \n",
       "75%     16.000000                512.000000     15.600000       1920.000000   \n",
       "max     36.000000               2048.000000     18.000000       3840.000000   \n",
       "\n",
       "       resolution_height  \n",
       "count         991.000000  \n",
       "mean         1181.227043  \n",
       "std           263.884019  \n",
       "min           768.000000  \n",
       "25%          1080.000000  \n",
       "50%          1080.000000  \n",
       "75%          1200.000000  \n",
       "max          2560.000000  "
      ]
     },
     "execution_count": 5,
     "metadata": {},
     "output_type": "execute_result"
    }
   ],
   "source": [
    "df_laptops.describe()"
   ]
  },
  {
   "cell_type": "code",
   "execution_count": 6,
   "metadata": {},
   "outputs": [
    {
     "data": {
      "text/plain": [
       "array(['1', '2', 'No information', '3'], dtype=object)"
      ]
     },
     "execution_count": 6,
     "metadata": {},
     "output_type": "execute_result"
    }
   ],
   "source": [
    "df_laptops['year_of_warranty'].unique()"
   ]
  },
  {
   "cell_type": "code",
   "execution_count": 7,
   "metadata": {},
   "outputs": [],
   "source": [
    "df_laptops.loc[df_laptops['year_of_warranty'] == 'No information', 'year_of_warranty'] = 1\n",
    "df_laptops['year_of_warranty'] = df_laptops['year_of_warranty'].astype(int)"
   ]
  },
  {
   "cell_type": "code",
   "execution_count": 8,
   "metadata": {},
   "outputs": [],
   "source": [
    "df_laptops['is_touch_screen'] = df_laptops['is_touch_screen'].astype(int)"
   ]
  },
  {
   "cell_type": "code",
   "execution_count": 9,
   "metadata": {},
   "outputs": [
    {
     "data": {
      "application/vnd.plotly.v1+json": {
       "config": {
        "plotlyServerURL": "https://plot.ly"
       },
       "data": [
        {
         "alignmentgroup": "True",
         "hovertemplate": "brand=%{x}<br>value=%{y}<extra></extra>",
         "legendgroup": "asus",
         "marker": {
          "color": "#636efa",
          "pattern": {
           "shape": ""
          }
         },
         "name": "asus",
         "offsetgroup": "asus",
         "orientation": "v",
         "showlegend": true,
         "textposition": "auto",
         "type": "bar",
         "x": [
          "asus"
         ],
         "xaxis": "x",
         "y": [
          21.19071644803229
         ],
         "yaxis": "y"
        },
        {
         "alignmentgroup": "True",
         "hovertemplate": "brand=%{x}<br>value=%{y}<extra></extra>",
         "legendgroup": "hp",
         "marker": {
          "color": "#EF553B",
          "pattern": {
           "shape": ""
          }
         },
         "name": "hp",
         "offsetgroup": "hp",
         "orientation": "v",
         "showlegend": true,
         "textposition": "auto",
         "type": "bar",
         "x": [
          "hp"
         ],
         "xaxis": "x",
         "y": [
          20.686175580222
         ],
         "yaxis": "y"
        },
        {
         "alignmentgroup": "True",
         "hovertemplate": "brand=%{x}<br>value=%{y}<extra></extra>",
         "legendgroup": "lenovo",
         "marker": {
          "color": "#00cc96",
          "pattern": {
           "shape": ""
          }
         },
         "name": "lenovo",
         "offsetgroup": "lenovo",
         "orientation": "v",
         "showlegend": true,
         "textposition": "auto",
         "type": "bar",
         "x": [
          "lenovo"
         ],
         "xaxis": "x",
         "y": [
          20.282542885973765
         ],
         "yaxis": "y"
        },
        {
         "alignmentgroup": "True",
         "hovertemplate": "brand=%{x}<br>value=%{y}<extra></extra>",
         "legendgroup": "dell",
         "marker": {
          "color": "#ab63fa",
          "pattern": {
           "shape": ""
          }
         },
         "name": "dell",
         "offsetgroup": "dell",
         "orientation": "v",
         "showlegend": true,
         "textposition": "auto",
         "type": "bar",
         "x": [
          "dell"
         ],
         "xaxis": "x",
         "y": [
          10.696266397578205
         ],
         "yaxis": "y"
        },
        {
         "alignmentgroup": "True",
         "hovertemplate": "brand=%{x}<br>value=%{y}<extra></extra>",
         "legendgroup": "msi",
         "marker": {
          "color": "#FFA15A",
          "pattern": {
           "shape": ""
          }
         },
         "name": "msi",
         "offsetgroup": "msi",
         "orientation": "v",
         "showlegend": true,
         "textposition": "auto",
         "type": "bar",
         "x": [
          "msi"
         ],
         "xaxis": "x",
         "y": [
          9.081735620585267
         ],
         "yaxis": "y"
        },
        {
         "alignmentgroup": "True",
         "hovertemplate": "brand=%{x}<br>value=%{y}<extra></extra>",
         "legendgroup": "acer",
         "marker": {
          "color": "#19d3f3",
          "pattern": {
           "shape": ""
          }
         },
         "name": "acer",
         "offsetgroup": "acer",
         "orientation": "v",
         "showlegend": true,
         "textposition": "auto",
         "type": "bar",
         "x": [
          "acer"
         ],
         "xaxis": "x",
         "y": [
          8.980827447023207
         ],
         "yaxis": "y"
        },
        {
         "alignmentgroup": "True",
         "hovertemplate": "brand=%{x}<br>value=%{y}<extra></extra>",
         "legendgroup": "apple",
         "marker": {
          "color": "#FF6692",
          "pattern": {
           "shape": ""
          }
         },
         "name": "apple",
         "offsetgroup": "apple",
         "orientation": "v",
         "showlegend": true,
         "textposition": "auto",
         "type": "bar",
         "x": [
          "apple"
         ],
         "xaxis": "x",
         "y": [
          1.513622603430878
         ],
         "yaxis": "y"
        },
        {
         "alignmentgroup": "True",
         "hovertemplate": "brand=%{x}<br>value=%{y}<extra></extra>",
         "legendgroup": "infinix",
         "marker": {
          "color": "#B6E880",
          "pattern": {
           "shape": ""
          }
         },
         "name": "infinix",
         "offsetgroup": "infinix",
         "orientation": "v",
         "showlegend": true,
         "textposition": "auto",
         "type": "bar",
         "x": [
          "infinix"
         ],
         "xaxis": "x",
         "y": [
          1.3118062563067607
         ],
         "yaxis": "y"
        },
        {
         "alignmentgroup": "True",
         "hovertemplate": "brand=%{x}<br>value=%{y}<extra></extra>",
         "legendgroup": "samsung",
         "marker": {
          "color": "#FF97FF",
          "pattern": {
           "shape": ""
          }
         },
         "name": "samsung",
         "offsetgroup": "samsung",
         "orientation": "v",
         "showlegend": true,
         "textposition": "auto",
         "type": "bar",
         "x": [
          "samsung"
         ],
         "xaxis": "x",
         "y": [
          0.7063572149344097
         ],
         "yaxis": "y"
        },
        {
         "alignmentgroup": "True",
         "hovertemplate": "brand=%{x}<br>value=%{y}<extra></extra>",
         "legendgroup": "lg",
         "marker": {
          "color": "#FECB52",
          "pattern": {
           "shape": ""
          }
         },
         "name": "lg",
         "offsetgroup": "lg",
         "orientation": "v",
         "showlegend": true,
         "textposition": "auto",
         "type": "bar",
         "x": [
          "lg"
         ],
         "xaxis": "x",
         "y": [
          0.7063572149344097
         ],
         "yaxis": "y"
        },
        {
         "alignmentgroup": "True",
         "hovertemplate": "brand=%{x}<br>value=%{y}<extra></extra>",
         "legendgroup": "zebronics",
         "marker": {
          "color": "#636efa",
          "pattern": {
           "shape": ""
          }
         },
         "name": "zebronics",
         "offsetgroup": "zebronics",
         "orientation": "v",
         "showlegend": true,
         "textposition": "auto",
         "type": "bar",
         "x": [
          "zebronics"
         ],
         "xaxis": "x",
         "y": [
          0.7063572149344097
         ],
         "yaxis": "y"
        },
        {
         "alignmentgroup": "True",
         "hovertemplate": "brand=%{x}<br>value=%{y}<extra></extra>",
         "legendgroup": "ultimus",
         "marker": {
          "color": "#EF553B",
          "pattern": {
           "shape": ""
          }
         },
         "name": "ultimus",
         "offsetgroup": "ultimus",
         "orientation": "v",
         "showlegend": true,
         "textposition": "auto",
         "type": "bar",
         "x": [
          "ultimus"
         ],
         "xaxis": "x",
         "y": [
          0.6054490413723511
         ],
         "yaxis": "y"
        },
        {
         "alignmentgroup": "True",
         "hovertemplate": "brand=%{x}<br>value=%{y}<extra></extra>",
         "legendgroup": "avita",
         "marker": {
          "color": "#00cc96",
          "pattern": {
           "shape": ""
          }
         },
         "name": "avita",
         "offsetgroup": "avita",
         "orientation": "v",
         "showlegend": true,
         "textposition": "auto",
         "type": "bar",
         "x": [
          "avita"
         ],
         "xaxis": "x",
         "y": [
          0.5045408678102926
         ],
         "yaxis": "y"
        },
        {
         "alignmentgroup": "True",
         "hovertemplate": "brand=%{x}<br>value=%{y}<extra></extra>",
         "legendgroup": "fujitsu",
         "marker": {
          "color": "#ab63fa",
          "pattern": {
           "shape": ""
          }
         },
         "name": "fujitsu",
         "offsetgroup": "fujitsu",
         "orientation": "v",
         "showlegend": true,
         "textposition": "auto",
         "type": "bar",
         "x": [
          "fujitsu"
         ],
         "xaxis": "x",
         "y": [
          0.5045408678102926
         ],
         "yaxis": "y"
        },
        {
         "alignmentgroup": "True",
         "hovertemplate": "brand=%{x}<br>value=%{y}<extra></extra>",
         "legendgroup": "wings",
         "marker": {
          "color": "#FFA15A",
          "pattern": {
           "shape": ""
          }
         },
         "name": "wings",
         "offsetgroup": "wings",
         "orientation": "v",
         "showlegend": true,
         "textposition": "auto",
         "type": "bar",
         "x": [
          "wings"
         ],
         "xaxis": "x",
         "y": [
          0.4036326942482341
         ],
         "yaxis": "y"
        },
        {
         "alignmentgroup": "True",
         "hovertemplate": "brand=%{x}<br>value=%{y}<extra></extra>",
         "legendgroup": "chuwi",
         "marker": {
          "color": "#19d3f3",
          "pattern": {
           "shape": ""
          }
         },
         "name": "chuwi",
         "offsetgroup": "chuwi",
         "orientation": "v",
         "showlegend": true,
         "textposition": "auto",
         "type": "bar",
         "x": [
          "chuwi"
         ],
         "xaxis": "x",
         "y": [
          0.4036326942482341
         ],
         "yaxis": "y"
        },
        {
         "alignmentgroup": "True",
         "hovertemplate": "brand=%{x}<br>value=%{y}<extra></extra>",
         "legendgroup": "axl",
         "marker": {
          "color": "#FF6692",
          "pattern": {
           "shape": ""
          }
         },
         "name": "axl",
         "offsetgroup": "axl",
         "orientation": "v",
         "showlegend": true,
         "textposition": "auto",
         "type": "bar",
         "x": [
          "axl"
         ],
         "xaxis": "x",
         "y": [
          0.20181634712411706
         ],
         "yaxis": "y"
        },
        {
         "alignmentgroup": "True",
         "hovertemplate": "brand=%{x}<br>value=%{y}<extra></extra>",
         "legendgroup": "gigabyte",
         "marker": {
          "color": "#B6E880",
          "pattern": {
           "shape": ""
          }
         },
         "name": "gigabyte",
         "offsetgroup": "gigabyte",
         "orientation": "v",
         "showlegend": true,
         "textposition": "auto",
         "type": "bar",
         "x": [
          "gigabyte"
         ],
         "xaxis": "x",
         "y": [
          0.20181634712411706
         ],
         "yaxis": "y"
        },
        {
         "alignmentgroup": "True",
         "hovertemplate": "brand=%{x}<br>value=%{y}<extra></extra>",
         "legendgroup": "honor",
         "marker": {
          "color": "#FF97FF",
          "pattern": {
           "shape": ""
          }
         },
         "name": "honor",
         "offsetgroup": "honor",
         "orientation": "v",
         "showlegend": true,
         "textposition": "auto",
         "type": "bar",
         "x": [
          "honor"
         ],
         "xaxis": "x",
         "y": [
          0.20181634712411706
         ],
         "yaxis": "y"
        },
        {
         "alignmentgroup": "True",
         "hovertemplate": "brand=%{x}<br>value=%{y}<extra></extra>",
         "legendgroup": "tecno",
         "marker": {
          "color": "#FECB52",
          "pattern": {
           "shape": ""
          }
         },
         "name": "tecno",
         "offsetgroup": "tecno",
         "orientation": "v",
         "showlegend": true,
         "textposition": "auto",
         "type": "bar",
         "x": [
          "tecno"
         ],
         "xaxis": "x",
         "y": [
          0.20181634712411706
         ],
         "yaxis": "y"
        },
        {
         "alignmentgroup": "True",
         "hovertemplate": "brand=%{x}<br>value=%{y}<extra></extra>",
         "legendgroup": "microsoft",
         "marker": {
          "color": "#636efa",
          "pattern": {
           "shape": ""
          }
         },
         "name": "microsoft",
         "offsetgroup": "microsoft",
         "orientation": "v",
         "showlegend": true,
         "textposition": "auto",
         "type": "bar",
         "x": [
          "microsoft"
         ],
         "xaxis": "x",
         "y": [
          0.20181634712411706
         ],
         "yaxis": "y"
        },
        {
         "alignmentgroup": "True",
         "hovertemplate": "brand=%{x}<br>value=%{y}<extra></extra>",
         "legendgroup": "realme",
         "marker": {
          "color": "#EF553B",
          "pattern": {
           "shape": ""
          }
         },
         "name": "realme",
         "offsetgroup": "realme",
         "orientation": "v",
         "showlegend": true,
         "textposition": "auto",
         "type": "bar",
         "x": [
          "realme"
         ],
         "xaxis": "x",
         "y": [
          0.20181634712411706
         ],
         "yaxis": "y"
        },
        {
         "alignmentgroup": "True",
         "hovertemplate": "brand=%{x}<br>value=%{y}<extra></extra>",
         "legendgroup": "primebook",
         "marker": {
          "color": "#00cc96",
          "pattern": {
           "shape": ""
          }
         },
         "name": "primebook",
         "offsetgroup": "primebook",
         "orientation": "v",
         "showlegend": true,
         "textposition": "auto",
         "type": "bar",
         "x": [
          "primebook"
         ],
         "xaxis": "x",
         "y": [
          0.20181634712411706
         ],
         "yaxis": "y"
        },
        {
         "alignmentgroup": "True",
         "hovertemplate": "brand=%{x}<br>value=%{y}<extra></extra>",
         "legendgroup": "jio",
         "marker": {
          "color": "#ab63fa",
          "pattern": {
           "shape": ""
          }
         },
         "name": "jio",
         "offsetgroup": "jio",
         "orientation": "v",
         "showlegend": true,
         "textposition": "auto",
         "type": "bar",
         "x": [
          "jio"
         ],
         "xaxis": "x",
         "y": [
          0.10090817356205853
         ],
         "yaxis": "y"
        },
        {
         "alignmentgroup": "True",
         "hovertemplate": "brand=%{x}<br>value=%{y}<extra></extra>",
         "legendgroup": "iball",
         "marker": {
          "color": "#FFA15A",
          "pattern": {
           "shape": ""
          }
         },
         "name": "iball",
         "offsetgroup": "iball",
         "orientation": "v",
         "showlegend": true,
         "textposition": "auto",
         "type": "bar",
         "x": [
          "iball"
         ],
         "xaxis": "x",
         "y": [
          0.10090817356205853
         ],
         "yaxis": "y"
        },
        {
         "alignmentgroup": "True",
         "hovertemplate": "brand=%{x}<br>value=%{y}<extra></extra>",
         "legendgroup": "walker",
         "marker": {
          "color": "#19d3f3",
          "pattern": {
           "shape": ""
          }
         },
         "name": "walker",
         "offsetgroup": "walker",
         "orientation": "v",
         "showlegend": true,
         "textposition": "auto",
         "type": "bar",
         "x": [
          "walker"
         ],
         "xaxis": "x",
         "y": [
          0.10090817356205853
         ],
         "yaxis": "y"
        }
       ],
       "layout": {
        "barmode": "relative",
        "legend": {
         "title": {
          "text": "brand"
         },
         "tracegroupgap": 0
        },
        "margin": {
         "t": 60
        },
        "template": {
         "data": {
          "bar": [
           {
            "error_x": {
             "color": "#2a3f5f"
            },
            "error_y": {
             "color": "#2a3f5f"
            },
            "marker": {
             "line": {
              "color": "#E5ECF6",
              "width": 0.5
             },
             "pattern": {
              "fillmode": "overlay",
              "size": 10,
              "solidity": 0.2
             }
            },
            "type": "bar"
           }
          ],
          "barpolar": [
           {
            "marker": {
             "line": {
              "color": "#E5ECF6",
              "width": 0.5
             },
             "pattern": {
              "fillmode": "overlay",
              "size": 10,
              "solidity": 0.2
             }
            },
            "type": "barpolar"
           }
          ],
          "carpet": [
           {
            "aaxis": {
             "endlinecolor": "#2a3f5f",
             "gridcolor": "white",
             "linecolor": "white",
             "minorgridcolor": "white",
             "startlinecolor": "#2a3f5f"
            },
            "baxis": {
             "endlinecolor": "#2a3f5f",
             "gridcolor": "white",
             "linecolor": "white",
             "minorgridcolor": "white",
             "startlinecolor": "#2a3f5f"
            },
            "type": "carpet"
           }
          ],
          "choropleth": [
           {
            "colorbar": {
             "outlinewidth": 0,
             "ticks": ""
            },
            "type": "choropleth"
           }
          ],
          "contour": [
           {
            "colorbar": {
             "outlinewidth": 0,
             "ticks": ""
            },
            "colorscale": [
             [
              0,
              "#0d0887"
             ],
             [
              0.1111111111111111,
              "#46039f"
             ],
             [
              0.2222222222222222,
              "#7201a8"
             ],
             [
              0.3333333333333333,
              "#9c179e"
             ],
             [
              0.4444444444444444,
              "#bd3786"
             ],
             [
              0.5555555555555556,
              "#d8576b"
             ],
             [
              0.6666666666666666,
              "#ed7953"
             ],
             [
              0.7777777777777778,
              "#fb9f3a"
             ],
             [
              0.8888888888888888,
              "#fdca26"
             ],
             [
              1,
              "#f0f921"
             ]
            ],
            "type": "contour"
           }
          ],
          "contourcarpet": [
           {
            "colorbar": {
             "outlinewidth": 0,
             "ticks": ""
            },
            "type": "contourcarpet"
           }
          ],
          "heatmap": [
           {
            "colorbar": {
             "outlinewidth": 0,
             "ticks": ""
            },
            "colorscale": [
             [
              0,
              "#0d0887"
             ],
             [
              0.1111111111111111,
              "#46039f"
             ],
             [
              0.2222222222222222,
              "#7201a8"
             ],
             [
              0.3333333333333333,
              "#9c179e"
             ],
             [
              0.4444444444444444,
              "#bd3786"
             ],
             [
              0.5555555555555556,
              "#d8576b"
             ],
             [
              0.6666666666666666,
              "#ed7953"
             ],
             [
              0.7777777777777778,
              "#fb9f3a"
             ],
             [
              0.8888888888888888,
              "#fdca26"
             ],
             [
              1,
              "#f0f921"
             ]
            ],
            "type": "heatmap"
           }
          ],
          "heatmapgl": [
           {
            "colorbar": {
             "outlinewidth": 0,
             "ticks": ""
            },
            "colorscale": [
             [
              0,
              "#0d0887"
             ],
             [
              0.1111111111111111,
              "#46039f"
             ],
             [
              0.2222222222222222,
              "#7201a8"
             ],
             [
              0.3333333333333333,
              "#9c179e"
             ],
             [
              0.4444444444444444,
              "#bd3786"
             ],
             [
              0.5555555555555556,
              "#d8576b"
             ],
             [
              0.6666666666666666,
              "#ed7953"
             ],
             [
              0.7777777777777778,
              "#fb9f3a"
             ],
             [
              0.8888888888888888,
              "#fdca26"
             ],
             [
              1,
              "#f0f921"
             ]
            ],
            "type": "heatmapgl"
           }
          ],
          "histogram": [
           {
            "marker": {
             "pattern": {
              "fillmode": "overlay",
              "size": 10,
              "solidity": 0.2
             }
            },
            "type": "histogram"
           }
          ],
          "histogram2d": [
           {
            "colorbar": {
             "outlinewidth": 0,
             "ticks": ""
            },
            "colorscale": [
             [
              0,
              "#0d0887"
             ],
             [
              0.1111111111111111,
              "#46039f"
             ],
             [
              0.2222222222222222,
              "#7201a8"
             ],
             [
              0.3333333333333333,
              "#9c179e"
             ],
             [
              0.4444444444444444,
              "#bd3786"
             ],
             [
              0.5555555555555556,
              "#d8576b"
             ],
             [
              0.6666666666666666,
              "#ed7953"
             ],
             [
              0.7777777777777778,
              "#fb9f3a"
             ],
             [
              0.8888888888888888,
              "#fdca26"
             ],
             [
              1,
              "#f0f921"
             ]
            ],
            "type": "histogram2d"
           }
          ],
          "histogram2dcontour": [
           {
            "colorbar": {
             "outlinewidth": 0,
             "ticks": ""
            },
            "colorscale": [
             [
              0,
              "#0d0887"
             ],
             [
              0.1111111111111111,
              "#46039f"
             ],
             [
              0.2222222222222222,
              "#7201a8"
             ],
             [
              0.3333333333333333,
              "#9c179e"
             ],
             [
              0.4444444444444444,
              "#bd3786"
             ],
             [
              0.5555555555555556,
              "#d8576b"
             ],
             [
              0.6666666666666666,
              "#ed7953"
             ],
             [
              0.7777777777777778,
              "#fb9f3a"
             ],
             [
              0.8888888888888888,
              "#fdca26"
             ],
             [
              1,
              "#f0f921"
             ]
            ],
            "type": "histogram2dcontour"
           }
          ],
          "mesh3d": [
           {
            "colorbar": {
             "outlinewidth": 0,
             "ticks": ""
            },
            "type": "mesh3d"
           }
          ],
          "parcoords": [
           {
            "line": {
             "colorbar": {
              "outlinewidth": 0,
              "ticks": ""
             }
            },
            "type": "parcoords"
           }
          ],
          "pie": [
           {
            "automargin": true,
            "type": "pie"
           }
          ],
          "scatter": [
           {
            "fillpattern": {
             "fillmode": "overlay",
             "size": 10,
             "solidity": 0.2
            },
            "type": "scatter"
           }
          ],
          "scatter3d": [
           {
            "line": {
             "colorbar": {
              "outlinewidth": 0,
              "ticks": ""
             }
            },
            "marker": {
             "colorbar": {
              "outlinewidth": 0,
              "ticks": ""
             }
            },
            "type": "scatter3d"
           }
          ],
          "scattercarpet": [
           {
            "marker": {
             "colorbar": {
              "outlinewidth": 0,
              "ticks": ""
             }
            },
            "type": "scattercarpet"
           }
          ],
          "scattergeo": [
           {
            "marker": {
             "colorbar": {
              "outlinewidth": 0,
              "ticks": ""
             }
            },
            "type": "scattergeo"
           }
          ],
          "scattergl": [
           {
            "marker": {
             "colorbar": {
              "outlinewidth": 0,
              "ticks": ""
             }
            },
            "type": "scattergl"
           }
          ],
          "scattermapbox": [
           {
            "marker": {
             "colorbar": {
              "outlinewidth": 0,
              "ticks": ""
             }
            },
            "type": "scattermapbox"
           }
          ],
          "scatterpolar": [
           {
            "marker": {
             "colorbar": {
              "outlinewidth": 0,
              "ticks": ""
             }
            },
            "type": "scatterpolar"
           }
          ],
          "scatterpolargl": [
           {
            "marker": {
             "colorbar": {
              "outlinewidth": 0,
              "ticks": ""
             }
            },
            "type": "scatterpolargl"
           }
          ],
          "scatterternary": [
           {
            "marker": {
             "colorbar": {
              "outlinewidth": 0,
              "ticks": ""
             }
            },
            "type": "scatterternary"
           }
          ],
          "surface": [
           {
            "colorbar": {
             "outlinewidth": 0,
             "ticks": ""
            },
            "colorscale": [
             [
              0,
              "#0d0887"
             ],
             [
              0.1111111111111111,
              "#46039f"
             ],
             [
              0.2222222222222222,
              "#7201a8"
             ],
             [
              0.3333333333333333,
              "#9c179e"
             ],
             [
              0.4444444444444444,
              "#bd3786"
             ],
             [
              0.5555555555555556,
              "#d8576b"
             ],
             [
              0.6666666666666666,
              "#ed7953"
             ],
             [
              0.7777777777777778,
              "#fb9f3a"
             ],
             [
              0.8888888888888888,
              "#fdca26"
             ],
             [
              1,
              "#f0f921"
             ]
            ],
            "type": "surface"
           }
          ],
          "table": [
           {
            "cells": {
             "fill": {
              "color": "#EBF0F8"
             },
             "line": {
              "color": "white"
             }
            },
            "header": {
             "fill": {
              "color": "#C8D4E3"
             },
             "line": {
              "color": "white"
             }
            },
            "type": "table"
           }
          ]
         },
         "layout": {
          "annotationdefaults": {
           "arrowcolor": "#2a3f5f",
           "arrowhead": 0,
           "arrowwidth": 1
          },
          "autotypenumbers": "strict",
          "coloraxis": {
           "colorbar": {
            "outlinewidth": 0,
            "ticks": ""
           }
          },
          "colorscale": {
           "diverging": [
            [
             0,
             "#8e0152"
            ],
            [
             0.1,
             "#c51b7d"
            ],
            [
             0.2,
             "#de77ae"
            ],
            [
             0.3,
             "#f1b6da"
            ],
            [
             0.4,
             "#fde0ef"
            ],
            [
             0.5,
             "#f7f7f7"
            ],
            [
             0.6,
             "#e6f5d0"
            ],
            [
             0.7,
             "#b8e186"
            ],
            [
             0.8,
             "#7fbc41"
            ],
            [
             0.9,
             "#4d9221"
            ],
            [
             1,
             "#276419"
            ]
           ],
           "sequential": [
            [
             0,
             "#0d0887"
            ],
            [
             0.1111111111111111,
             "#46039f"
            ],
            [
             0.2222222222222222,
             "#7201a8"
            ],
            [
             0.3333333333333333,
             "#9c179e"
            ],
            [
             0.4444444444444444,
             "#bd3786"
            ],
            [
             0.5555555555555556,
             "#d8576b"
            ],
            [
             0.6666666666666666,
             "#ed7953"
            ],
            [
             0.7777777777777778,
             "#fb9f3a"
            ],
            [
             0.8888888888888888,
             "#fdca26"
            ],
            [
             1,
             "#f0f921"
            ]
           ],
           "sequentialminus": [
            [
             0,
             "#0d0887"
            ],
            [
             0.1111111111111111,
             "#46039f"
            ],
            [
             0.2222222222222222,
             "#7201a8"
            ],
            [
             0.3333333333333333,
             "#9c179e"
            ],
            [
             0.4444444444444444,
             "#bd3786"
            ],
            [
             0.5555555555555556,
             "#d8576b"
            ],
            [
             0.6666666666666666,
             "#ed7953"
            ],
            [
             0.7777777777777778,
             "#fb9f3a"
            ],
            [
             0.8888888888888888,
             "#fdca26"
            ],
            [
             1,
             "#f0f921"
            ]
           ]
          },
          "colorway": [
           "#636efa",
           "#EF553B",
           "#00cc96",
           "#ab63fa",
           "#FFA15A",
           "#19d3f3",
           "#FF6692",
           "#B6E880",
           "#FF97FF",
           "#FECB52"
          ],
          "font": {
           "color": "#2a3f5f"
          },
          "geo": {
           "bgcolor": "white",
           "lakecolor": "white",
           "landcolor": "#E5ECF6",
           "showlakes": true,
           "showland": true,
           "subunitcolor": "white"
          },
          "hoverlabel": {
           "align": "left"
          },
          "hovermode": "closest",
          "mapbox": {
           "style": "light"
          },
          "paper_bgcolor": "white",
          "plot_bgcolor": "#E5ECF6",
          "polar": {
           "angularaxis": {
            "gridcolor": "white",
            "linecolor": "white",
            "ticks": ""
           },
           "bgcolor": "#E5ECF6",
           "radialaxis": {
            "gridcolor": "white",
            "linecolor": "white",
            "ticks": ""
           }
          },
          "scene": {
           "xaxis": {
            "backgroundcolor": "#E5ECF6",
            "gridcolor": "white",
            "gridwidth": 2,
            "linecolor": "white",
            "showbackground": true,
            "ticks": "",
            "zerolinecolor": "white"
           },
           "yaxis": {
            "backgroundcolor": "#E5ECF6",
            "gridcolor": "white",
            "gridwidth": 2,
            "linecolor": "white",
            "showbackground": true,
            "ticks": "",
            "zerolinecolor": "white"
           },
           "zaxis": {
            "backgroundcolor": "#E5ECF6",
            "gridcolor": "white",
            "gridwidth": 2,
            "linecolor": "white",
            "showbackground": true,
            "ticks": "",
            "zerolinecolor": "white"
           }
          },
          "shapedefaults": {
           "line": {
            "color": "#2a3f5f"
           }
          },
          "ternary": {
           "aaxis": {
            "gridcolor": "white",
            "linecolor": "white",
            "ticks": ""
           },
           "baxis": {
            "gridcolor": "white",
            "linecolor": "white",
            "ticks": ""
           },
           "bgcolor": "#E5ECF6",
           "caxis": {
            "gridcolor": "white",
            "linecolor": "white",
            "ticks": ""
           }
          },
          "title": {
           "x": 0.05
          },
          "xaxis": {
           "automargin": true,
           "gridcolor": "white",
           "linecolor": "white",
           "ticks": "",
           "title": {
            "standoff": 15
           },
           "zerolinecolor": "white",
           "zerolinewidth": 2
          },
          "yaxis": {
           "automargin": true,
           "gridcolor": "white",
           "linecolor": "white",
           "ticks": "",
           "title": {
            "standoff": 15
           },
           "zerolinecolor": "white",
           "zerolinewidth": 2
          }
         }
        },
        "xaxis": {
         "anchor": "y",
         "categoryarray": [
          "asus",
          "hp",
          "lenovo",
          "dell",
          "msi",
          "acer",
          "apple",
          "infinix",
          "samsung",
          "lg",
          "zebronics",
          "ultimus",
          "avita",
          "fujitsu",
          "wings",
          "chuwi",
          "axl",
          "gigabyte",
          "honor",
          "tecno",
          "microsoft",
          "realme",
          "primebook",
          "jio",
          "iball",
          "walker"
         ],
         "categoryorder": "array",
         "domain": [
          0,
          1
         ],
         "title": {
          "text": "brand"
         }
        },
        "yaxis": {
         "anchor": "x",
         "domain": [
          0,
          1
         ],
         "title": {
          "text": "value"
         }
        }
       }
      }
     },
     "metadata": {},
     "output_type": "display_data"
    }
   ],
   "source": [
    "# Distribuição Brand\n",
    "percentual_brand = df_laptops.value_counts('brand') / len(df_laptops) * 100\n",
    "px.bar(percentual_brand, color=percentual_brand.index)"
   ]
  },
  {
   "cell_type": "code",
   "execution_count": 10,
   "metadata": {},
   "outputs": [
    {
     "data": {
      "application/vnd.plotly.v1+json": {
       "config": {
        "plotlyServerURL": "https://plot.ly"
       },
       "data": [
        {
         "alignmentgroup": "True",
         "hovertemplate": "processor_brand=%{x}<br>value=%{y}<extra></extra>",
         "legendgroup": "intel",
         "marker": {
          "color": "#636efa",
          "pattern": {
           "shape": ""
          }
         },
         "name": "intel",
         "offsetgroup": "intel",
         "orientation": "v",
         "showlegend": true,
         "textposition": "auto",
         "type": "bar",
         "x": [
          "intel"
         ],
         "xaxis": "x",
         "y": [
          71.14026236125126
         ],
         "yaxis": "y"
        },
        {
         "alignmentgroup": "True",
         "hovertemplate": "processor_brand=%{x}<br>value=%{y}<extra></extra>",
         "legendgroup": "amd",
         "marker": {
          "color": "#EF553B",
          "pattern": {
           "shape": ""
          }
         },
         "name": "amd",
         "offsetgroup": "amd",
         "orientation": "v",
         "showlegend": true,
         "textposition": "auto",
         "type": "bar",
         "x": [
          "amd"
         ],
         "xaxis": "x",
         "y": [
          26.942482341069628
         ],
         "yaxis": "y"
        },
        {
         "alignmentgroup": "True",
         "hovertemplate": "processor_brand=%{x}<br>value=%{y}<extra></extra>",
         "legendgroup": "apple",
         "marker": {
          "color": "#00cc96",
          "pattern": {
           "shape": ""
          }
         },
         "name": "apple",
         "offsetgroup": "apple",
         "orientation": "v",
         "showlegend": true,
         "textposition": "auto",
         "type": "bar",
         "x": [
          "apple"
         ],
         "xaxis": "x",
         "y": [
          1.513622603430878
         ],
         "yaxis": "y"
        },
        {
         "alignmentgroup": "True",
         "hovertemplate": "processor_brand=%{x}<br>value=%{y}<extra></extra>",
         "legendgroup": "other",
         "marker": {
          "color": "#ab63fa",
          "pattern": {
           "shape": ""
          }
         },
         "name": "other",
         "offsetgroup": "other",
         "orientation": "v",
         "showlegend": true,
         "textposition": "auto",
         "type": "bar",
         "x": [
          "other"
         ],
         "xaxis": "x",
         "y": [
          0.4036326942482341
         ],
         "yaxis": "y"
        }
       ],
       "layout": {
        "barmode": "relative",
        "legend": {
         "title": {
          "text": "processor_brand"
         },
         "tracegroupgap": 0
        },
        "margin": {
         "t": 60
        },
        "template": {
         "data": {
          "bar": [
           {
            "error_x": {
             "color": "#2a3f5f"
            },
            "error_y": {
             "color": "#2a3f5f"
            },
            "marker": {
             "line": {
              "color": "#E5ECF6",
              "width": 0.5
             },
             "pattern": {
              "fillmode": "overlay",
              "size": 10,
              "solidity": 0.2
             }
            },
            "type": "bar"
           }
          ],
          "barpolar": [
           {
            "marker": {
             "line": {
              "color": "#E5ECF6",
              "width": 0.5
             },
             "pattern": {
              "fillmode": "overlay",
              "size": 10,
              "solidity": 0.2
             }
            },
            "type": "barpolar"
           }
          ],
          "carpet": [
           {
            "aaxis": {
             "endlinecolor": "#2a3f5f",
             "gridcolor": "white",
             "linecolor": "white",
             "minorgridcolor": "white",
             "startlinecolor": "#2a3f5f"
            },
            "baxis": {
             "endlinecolor": "#2a3f5f",
             "gridcolor": "white",
             "linecolor": "white",
             "minorgridcolor": "white",
             "startlinecolor": "#2a3f5f"
            },
            "type": "carpet"
           }
          ],
          "choropleth": [
           {
            "colorbar": {
             "outlinewidth": 0,
             "ticks": ""
            },
            "type": "choropleth"
           }
          ],
          "contour": [
           {
            "colorbar": {
             "outlinewidth": 0,
             "ticks": ""
            },
            "colorscale": [
             [
              0,
              "#0d0887"
             ],
             [
              0.1111111111111111,
              "#46039f"
             ],
             [
              0.2222222222222222,
              "#7201a8"
             ],
             [
              0.3333333333333333,
              "#9c179e"
             ],
             [
              0.4444444444444444,
              "#bd3786"
             ],
             [
              0.5555555555555556,
              "#d8576b"
             ],
             [
              0.6666666666666666,
              "#ed7953"
             ],
             [
              0.7777777777777778,
              "#fb9f3a"
             ],
             [
              0.8888888888888888,
              "#fdca26"
             ],
             [
              1,
              "#f0f921"
             ]
            ],
            "type": "contour"
           }
          ],
          "contourcarpet": [
           {
            "colorbar": {
             "outlinewidth": 0,
             "ticks": ""
            },
            "type": "contourcarpet"
           }
          ],
          "heatmap": [
           {
            "colorbar": {
             "outlinewidth": 0,
             "ticks": ""
            },
            "colorscale": [
             [
              0,
              "#0d0887"
             ],
             [
              0.1111111111111111,
              "#46039f"
             ],
             [
              0.2222222222222222,
              "#7201a8"
             ],
             [
              0.3333333333333333,
              "#9c179e"
             ],
             [
              0.4444444444444444,
              "#bd3786"
             ],
             [
              0.5555555555555556,
              "#d8576b"
             ],
             [
              0.6666666666666666,
              "#ed7953"
             ],
             [
              0.7777777777777778,
              "#fb9f3a"
             ],
             [
              0.8888888888888888,
              "#fdca26"
             ],
             [
              1,
              "#f0f921"
             ]
            ],
            "type": "heatmap"
           }
          ],
          "heatmapgl": [
           {
            "colorbar": {
             "outlinewidth": 0,
             "ticks": ""
            },
            "colorscale": [
             [
              0,
              "#0d0887"
             ],
             [
              0.1111111111111111,
              "#46039f"
             ],
             [
              0.2222222222222222,
              "#7201a8"
             ],
             [
              0.3333333333333333,
              "#9c179e"
             ],
             [
              0.4444444444444444,
              "#bd3786"
             ],
             [
              0.5555555555555556,
              "#d8576b"
             ],
             [
              0.6666666666666666,
              "#ed7953"
             ],
             [
              0.7777777777777778,
              "#fb9f3a"
             ],
             [
              0.8888888888888888,
              "#fdca26"
             ],
             [
              1,
              "#f0f921"
             ]
            ],
            "type": "heatmapgl"
           }
          ],
          "histogram": [
           {
            "marker": {
             "pattern": {
              "fillmode": "overlay",
              "size": 10,
              "solidity": 0.2
             }
            },
            "type": "histogram"
           }
          ],
          "histogram2d": [
           {
            "colorbar": {
             "outlinewidth": 0,
             "ticks": ""
            },
            "colorscale": [
             [
              0,
              "#0d0887"
             ],
             [
              0.1111111111111111,
              "#46039f"
             ],
             [
              0.2222222222222222,
              "#7201a8"
             ],
             [
              0.3333333333333333,
              "#9c179e"
             ],
             [
              0.4444444444444444,
              "#bd3786"
             ],
             [
              0.5555555555555556,
              "#d8576b"
             ],
             [
              0.6666666666666666,
              "#ed7953"
             ],
             [
              0.7777777777777778,
              "#fb9f3a"
             ],
             [
              0.8888888888888888,
              "#fdca26"
             ],
             [
              1,
              "#f0f921"
             ]
            ],
            "type": "histogram2d"
           }
          ],
          "histogram2dcontour": [
           {
            "colorbar": {
             "outlinewidth": 0,
             "ticks": ""
            },
            "colorscale": [
             [
              0,
              "#0d0887"
             ],
             [
              0.1111111111111111,
              "#46039f"
             ],
             [
              0.2222222222222222,
              "#7201a8"
             ],
             [
              0.3333333333333333,
              "#9c179e"
             ],
             [
              0.4444444444444444,
              "#bd3786"
             ],
             [
              0.5555555555555556,
              "#d8576b"
             ],
             [
              0.6666666666666666,
              "#ed7953"
             ],
             [
              0.7777777777777778,
              "#fb9f3a"
             ],
             [
              0.8888888888888888,
              "#fdca26"
             ],
             [
              1,
              "#f0f921"
             ]
            ],
            "type": "histogram2dcontour"
           }
          ],
          "mesh3d": [
           {
            "colorbar": {
             "outlinewidth": 0,
             "ticks": ""
            },
            "type": "mesh3d"
           }
          ],
          "parcoords": [
           {
            "line": {
             "colorbar": {
              "outlinewidth": 0,
              "ticks": ""
             }
            },
            "type": "parcoords"
           }
          ],
          "pie": [
           {
            "automargin": true,
            "type": "pie"
           }
          ],
          "scatter": [
           {
            "fillpattern": {
             "fillmode": "overlay",
             "size": 10,
             "solidity": 0.2
            },
            "type": "scatter"
           }
          ],
          "scatter3d": [
           {
            "line": {
             "colorbar": {
              "outlinewidth": 0,
              "ticks": ""
             }
            },
            "marker": {
             "colorbar": {
              "outlinewidth": 0,
              "ticks": ""
             }
            },
            "type": "scatter3d"
           }
          ],
          "scattercarpet": [
           {
            "marker": {
             "colorbar": {
              "outlinewidth": 0,
              "ticks": ""
             }
            },
            "type": "scattercarpet"
           }
          ],
          "scattergeo": [
           {
            "marker": {
             "colorbar": {
              "outlinewidth": 0,
              "ticks": ""
             }
            },
            "type": "scattergeo"
           }
          ],
          "scattergl": [
           {
            "marker": {
             "colorbar": {
              "outlinewidth": 0,
              "ticks": ""
             }
            },
            "type": "scattergl"
           }
          ],
          "scattermapbox": [
           {
            "marker": {
             "colorbar": {
              "outlinewidth": 0,
              "ticks": ""
             }
            },
            "type": "scattermapbox"
           }
          ],
          "scatterpolar": [
           {
            "marker": {
             "colorbar": {
              "outlinewidth": 0,
              "ticks": ""
             }
            },
            "type": "scatterpolar"
           }
          ],
          "scatterpolargl": [
           {
            "marker": {
             "colorbar": {
              "outlinewidth": 0,
              "ticks": ""
             }
            },
            "type": "scatterpolargl"
           }
          ],
          "scatterternary": [
           {
            "marker": {
             "colorbar": {
              "outlinewidth": 0,
              "ticks": ""
             }
            },
            "type": "scatterternary"
           }
          ],
          "surface": [
           {
            "colorbar": {
             "outlinewidth": 0,
             "ticks": ""
            },
            "colorscale": [
             [
              0,
              "#0d0887"
             ],
             [
              0.1111111111111111,
              "#46039f"
             ],
             [
              0.2222222222222222,
              "#7201a8"
             ],
             [
              0.3333333333333333,
              "#9c179e"
             ],
             [
              0.4444444444444444,
              "#bd3786"
             ],
             [
              0.5555555555555556,
              "#d8576b"
             ],
             [
              0.6666666666666666,
              "#ed7953"
             ],
             [
              0.7777777777777778,
              "#fb9f3a"
             ],
             [
              0.8888888888888888,
              "#fdca26"
             ],
             [
              1,
              "#f0f921"
             ]
            ],
            "type": "surface"
           }
          ],
          "table": [
           {
            "cells": {
             "fill": {
              "color": "#EBF0F8"
             },
             "line": {
              "color": "white"
             }
            },
            "header": {
             "fill": {
              "color": "#C8D4E3"
             },
             "line": {
              "color": "white"
             }
            },
            "type": "table"
           }
          ]
         },
         "layout": {
          "annotationdefaults": {
           "arrowcolor": "#2a3f5f",
           "arrowhead": 0,
           "arrowwidth": 1
          },
          "autotypenumbers": "strict",
          "coloraxis": {
           "colorbar": {
            "outlinewidth": 0,
            "ticks": ""
           }
          },
          "colorscale": {
           "diverging": [
            [
             0,
             "#8e0152"
            ],
            [
             0.1,
             "#c51b7d"
            ],
            [
             0.2,
             "#de77ae"
            ],
            [
             0.3,
             "#f1b6da"
            ],
            [
             0.4,
             "#fde0ef"
            ],
            [
             0.5,
             "#f7f7f7"
            ],
            [
             0.6,
             "#e6f5d0"
            ],
            [
             0.7,
             "#b8e186"
            ],
            [
             0.8,
             "#7fbc41"
            ],
            [
             0.9,
             "#4d9221"
            ],
            [
             1,
             "#276419"
            ]
           ],
           "sequential": [
            [
             0,
             "#0d0887"
            ],
            [
             0.1111111111111111,
             "#46039f"
            ],
            [
             0.2222222222222222,
             "#7201a8"
            ],
            [
             0.3333333333333333,
             "#9c179e"
            ],
            [
             0.4444444444444444,
             "#bd3786"
            ],
            [
             0.5555555555555556,
             "#d8576b"
            ],
            [
             0.6666666666666666,
             "#ed7953"
            ],
            [
             0.7777777777777778,
             "#fb9f3a"
            ],
            [
             0.8888888888888888,
             "#fdca26"
            ],
            [
             1,
             "#f0f921"
            ]
           ],
           "sequentialminus": [
            [
             0,
             "#0d0887"
            ],
            [
             0.1111111111111111,
             "#46039f"
            ],
            [
             0.2222222222222222,
             "#7201a8"
            ],
            [
             0.3333333333333333,
             "#9c179e"
            ],
            [
             0.4444444444444444,
             "#bd3786"
            ],
            [
             0.5555555555555556,
             "#d8576b"
            ],
            [
             0.6666666666666666,
             "#ed7953"
            ],
            [
             0.7777777777777778,
             "#fb9f3a"
            ],
            [
             0.8888888888888888,
             "#fdca26"
            ],
            [
             1,
             "#f0f921"
            ]
           ]
          },
          "colorway": [
           "#636efa",
           "#EF553B",
           "#00cc96",
           "#ab63fa",
           "#FFA15A",
           "#19d3f3",
           "#FF6692",
           "#B6E880",
           "#FF97FF",
           "#FECB52"
          ],
          "font": {
           "color": "#2a3f5f"
          },
          "geo": {
           "bgcolor": "white",
           "lakecolor": "white",
           "landcolor": "#E5ECF6",
           "showlakes": true,
           "showland": true,
           "subunitcolor": "white"
          },
          "hoverlabel": {
           "align": "left"
          },
          "hovermode": "closest",
          "mapbox": {
           "style": "light"
          },
          "paper_bgcolor": "white",
          "plot_bgcolor": "#E5ECF6",
          "polar": {
           "angularaxis": {
            "gridcolor": "white",
            "linecolor": "white",
            "ticks": ""
           },
           "bgcolor": "#E5ECF6",
           "radialaxis": {
            "gridcolor": "white",
            "linecolor": "white",
            "ticks": ""
           }
          },
          "scene": {
           "xaxis": {
            "backgroundcolor": "#E5ECF6",
            "gridcolor": "white",
            "gridwidth": 2,
            "linecolor": "white",
            "showbackground": true,
            "ticks": "",
            "zerolinecolor": "white"
           },
           "yaxis": {
            "backgroundcolor": "#E5ECF6",
            "gridcolor": "white",
            "gridwidth": 2,
            "linecolor": "white",
            "showbackground": true,
            "ticks": "",
            "zerolinecolor": "white"
           },
           "zaxis": {
            "backgroundcolor": "#E5ECF6",
            "gridcolor": "white",
            "gridwidth": 2,
            "linecolor": "white",
            "showbackground": true,
            "ticks": "",
            "zerolinecolor": "white"
           }
          },
          "shapedefaults": {
           "line": {
            "color": "#2a3f5f"
           }
          },
          "ternary": {
           "aaxis": {
            "gridcolor": "white",
            "linecolor": "white",
            "ticks": ""
           },
           "baxis": {
            "gridcolor": "white",
            "linecolor": "white",
            "ticks": ""
           },
           "bgcolor": "#E5ECF6",
           "caxis": {
            "gridcolor": "white",
            "linecolor": "white",
            "ticks": ""
           }
          },
          "title": {
           "x": 0.05
          },
          "xaxis": {
           "automargin": true,
           "gridcolor": "white",
           "linecolor": "white",
           "ticks": "",
           "title": {
            "standoff": 15
           },
           "zerolinecolor": "white",
           "zerolinewidth": 2
          },
          "yaxis": {
           "automargin": true,
           "gridcolor": "white",
           "linecolor": "white",
           "ticks": "",
           "title": {
            "standoff": 15
           },
           "zerolinecolor": "white",
           "zerolinewidth": 2
          }
         }
        },
        "xaxis": {
         "anchor": "y",
         "categoryarray": [
          "intel",
          "amd",
          "apple",
          "other"
         ],
         "categoryorder": "array",
         "domain": [
          0,
          1
         ],
         "title": {
          "text": "processor_brand"
         }
        },
        "yaxis": {
         "anchor": "x",
         "domain": [
          0,
          1
         ],
         "title": {
          "text": "value"
         }
        }
       }
      }
     },
     "metadata": {},
     "output_type": "display_data"
    }
   ],
   "source": [
    "# Distribuição da variável processor_brand\n",
    "percentual_processor_brand = df_laptops.value_counts('processor_brand') / len(df_laptops) * 100\n",
    "px.bar(percentual_processor_brand, color=percentual_processor_brand.index)"
   ]
  },
  {
   "cell_type": "code",
   "execution_count": 11,
   "metadata": {},
   "outputs": [
    {
     "data": {
      "text/plain": [
       "<Axes: xlabel='price', ylabel='Count'>"
      ]
     },
     "execution_count": 11,
     "metadata": {},
     "output_type": "execute_result"
    },
    {
     "data": {
      "image/png": "[encoded data removed]",
      "text/plain": [
       "<Figure size 640x480 with 1 Axes>"
      ]
     },
     "metadata": {},
     "output_type": "display_data"
    }
   ],
   "source": [
    "# Dist price\n",
    "sns.histplot(df_laptops['price'], kde=True, color='lightblue')"
   ]
  },
  {
   "cell_type": "code",
   "execution_count": 12,
   "metadata": {},
   "outputs": [
    {
     "data": {
      "text/plain": [
       "<Axes: xlabel='rating', ylabel='Count'>"
      ]
     },
     "execution_count": 12,
     "metadata": {},
     "output_type": "execute_result"
    },
    {
     "data": {
      "image/png": "[encoded data removed]",
      "text/plain": [
       "<Figure size 640x480 with 1 Axes>"
      ]
     },
     "metadata": {},
     "output_type": "display_data"
    }
   ],
   "source": [
    "# Dist rating\n",
    "sns.histplot(df_laptops['rating'], kde=True, color='red')"
   ]
  },
  {
   "cell_type": "code",
   "execution_count": 13,
   "metadata": {},
   "outputs": [
    {
     "data": {
      "application/vnd.plotly.v1+json": {
       "config": {
        "plotlyServerURL": "https://plot.ly"
       },
       "data": [
        {
         "alignmentgroup": "True",
         "hovertemplate": "brand=%{y}<br>price=%{x}<extra></extra>",
         "legendgroup": "tecno",
         "marker": {
          "color": "#636efa"
         },
         "name": "tecno",
         "notched": false,
         "offsetgroup": "tecno",
         "orientation": "h",
         "showlegend": true,
         "type": "box",
         "x": [
          287.72,
          431.64
         ],
         "x0": " ",
         "xaxis": "x",
         "y": [
          "tecno",
          "tecno"
         ],
         "y0": " ",
         "yaxis": "y"
        },
        {
         "alignmentgroup": "True",
         "hovertemplate": "brand=%{y}<br>price=%{x}<extra></extra>",
         "legendgroup": "hp",
         "marker": {
          "color": "#EF553B"
         },
         "name": "hp",
         "notched": false,
         "offsetgroup": "hp",
         "orientation": "h",
         "showlegend": true,
         "type": "box",
         "x": [
          612.86,
          443.64,
          1846.86,
          665.51,
          231.46,
          947.36,
          863.51,
          647.52,
          1065.01,
          642.49,
          1403.11,
          849.25,
          1002.53,
          653.52,
          509.71,
          1774.9,
          839.53,
          863.4,
          934.27,
          695.5,
          599.66,
          731.48,
          803.44,
          623.54,
          671.51,
          621.26,
          596.97,
          524.11,
          418.45,
          389.67,
          520.51,
          372.87,
          485.72,
          2426.74,
          1989.7,
          731.48,
          611.65,
          1989.7,
          476.14,
          824.07,
          731.48,
          287.83,
          383.78,
          1112.99,
          875.51,
          1044.5,
          419.65,
          773.57,
          2116.82,
          1139.25,
          671.51,
          875.76,
          599.55,
          629.53,
          482.01,
          743.47,
          1073.29,
          419.65,
          611.54,
          563.57,
          851.41,
          623.54,
          695.5,
          581.08,
          959.35,
          767.46,
          231.46,
          718.06,
          683.61,
          487.04,
          767.46,
          299.71,
          500.72,
          1084.97,
          953.08,
          689.62,
          654.83,
          622.47,
          807.01,
          1862.56,
          1342.58,
          918.68,
          491.61,
          1192.98,
          1355.13,
          1091.39,
          430.56,
          4107.74,
          637.93,
          1110.47,
          3112.27,
          3514.05,
          1990.89,
          2020.89,
          467.62,
          347.69,
          1079.39,
          899.49,
          1367.23,
          623.54,
          1087.67,
          480.93,
          910.18,
          335.7,
          731.58,
          533.59,
          2194.67,
          696.46,
          383.67,
          1834.87,
          898.9,
          1432.01,
          1199.33,
          2870.01,
          1590.31,
          611.65,
          1259.74,
          1220.93,
          677.51,
          936.68,
          441.24,
          1762.91,
          1475.31,
          1678.95,
          275.73,
          524.53,
          520.51,
          311.71,
          1520.76,
          1598.35,
          395.66,
          1444.59,
          2759.2,
          611.54,
          287.83,
          1175.34,
          1158.44,
          1055.3,
          1039.71,
          1051.7,
          946.16,
          1007.32,
          467.62,
          611.54,
          1292.44,
          935.71,
          1387.71,
          1319.15,
          539.58,
          575.56,
          635.53,
          1391.11,
          539.58,
          644.03,
          467.62,
          1574.92,
          780.77,
          701.6,
          344.81,
          338.29,
          887.39,
          550.48,
          821.42,
          759.35,
          467.62,
          779.45,
          353.69,
          743.47,
          905.9,
          1104.23,
          839.42,
          808.35,
          779.45,
          395.66,
          737.47,
          1415.22,
          954.55,
          635.53,
          480.93,
          557.57,
          571.49,
          563.57,
          725.48,
          599.55,
          786.65,
          851.53,
          1319.15,
          630.73,
          773.57,
          623.54,
          407.64,
          1439.09,
          1724.94,
          449.63,
          1749.82,
          1661.22,
          517.99,
          695.5,
          394.46,
          474.35,
          251.74,
          323.81,
          371.78,
          1858.96,
          251.74
         ],
         "x0": " ",
         "xaxis": "x",
         "y": [
          "hp",
          "hp",
          "hp",
          "hp",
          "hp",
          "hp",
          "hp",
          "hp",
          "hp",
          "hp",
          "hp",
          "hp",
          "hp",
          "hp",
          "hp",
          "hp",
          "hp",
          "hp",
          "hp",
          "hp",
          "hp",
          "hp",
          "hp",
          "hp",
          "hp",
          "hp",
          "hp",
          "hp",
          "hp",
          "hp",
          "hp",
          "hp",
          "hp",
          "hp",
          "hp",
          "hp",
          "hp",
          "hp",
          "hp",
          "hp",
          "hp",
          "hp",
          "hp",
          "hp",
          "hp",
          "hp",
          "hp",
          "hp",
          "hp",
          "hp",
          "hp",
          "hp",
          "hp",
          "hp",
          "hp",
          "hp",
          "hp",
          "hp",
          "hp",
          "hp",
          "hp",
          "hp",
          "hp",
          "hp",
          "hp",
          "hp",
          "hp",
          "hp",
          "hp",
          "hp",
          "hp",
          "hp",
          "hp",
          "hp",
          "hp",
          "hp",
          "hp",
          "hp",
          "hp",
          "hp",
          "hp",
          "hp",
          "hp",
          "hp",
          "hp",
          "hp",
          "hp",
          "hp",
          "hp",
          "hp",
          "hp",
          "hp",
          "hp",
          "hp",
          "hp",
          "hp",
          "hp",
          "hp",
          "hp",
          "hp",
          "hp",
          "hp",
          "hp",
          "hp",
          "hp",
          "hp",
          "hp",
          "hp",
          "hp",
          "hp",
          "hp",
          "hp",
          "hp",
          "hp",
          "hp",
          "hp",
          "hp",
          "hp",
          "hp",
          "hp",
          "hp",
          "hp",
          "hp",
          "hp",
          "hp",
          "hp",
          "hp",
          "hp",
          "hp",
          "hp",
          "hp",
          "hp",
          "hp",
          "hp",
          "hp",
          "hp",
          "hp",
          "hp",
          "hp",
          "hp",
          "hp",
          "hp",
          "hp",
          "hp",
          "hp",
          "hp",
          "hp",
          "hp",
          "hp",
          "hp",
          "hp",
          "hp",
          "hp",
          "hp",
          "hp",
          "hp",
          "hp",
          "hp",
          "hp",
          "hp",
          "hp",
          "hp",
          "hp",
          "hp",
          "hp",
          "hp",
          "hp",
          "hp",
          "hp",
          "hp",
          "hp",
          "hp",
          "hp",
          "hp",
          "hp",
          "hp",
          "hp",
          "hp",
          "hp",
          "hp",
          "hp",
          "hp",
          "hp",
          "hp",
          "hp",
          "hp",
          "hp",
          "hp",
          "hp",
          "hp",
          "hp",
          "hp",
          "hp",
          "hp",
          "hp",
          "hp",
          "hp",
          "hp",
          "hp",
          "hp",
          "hp",
          "hp",
          "hp",
          "hp",
          "hp"
         ],
         "y0": " ",
         "yaxis": "y"
        },
        {
         "alignmentgroup": "True",
         "hovertemplate": "brand=%{y}<br>price=%{x}<extra></extra>",
         "legendgroup": "acer",
         "marker": {
          "color": "#00cc96"
         },
         "name": "acer",
         "notched": false,
         "offsetgroup": "acer",
         "orientation": "h",
         "showlegend": true,
         "type": "box",
         "x": [
          479.62,
          935.36,
          563.57,
          419.65,
          395.66,
          683.5,
          455.63,
          473.73,
          1139.25,
          575.56,
          1439.09,
          1259.19,
          371.68,
          467.62,
          395.66,
          875.4,
          2158.69,
          383.67,
          359.68,
          731.48,
          683.5,
          1439.09,
          335.7,
          563.57,
          359.68,
          557.69,
          599.55,
          539.69,
          515.7,
          563.57,
          557.57,
          683.5,
          477.34,
          287.72,
          767.57,
          791.44,
          599.55,
          739.99,
          305.71,
          479.62,
          419.65,
          515.6,
          683.5,
          635.53,
          443.64,
          503.6,
          497.61,
          1918.82,
          809.54,
          431.64,
          1559.02,
          905.49,
          503.6,
          863.4,
          369.28,
          359.56,
          353.69,
          515.6,
          491.61,
          659.52,
          394.46,
          347.8,
          479.62,
          599.55,
          698.84,
          677.51,
          670.43,
          1719.85,
          707.49,
          1715.04,
          479.62,
          441.36,
          1259.29,
          1379.12,
          539.63,
          1067.29,
          827.42,
          2399.76,
          934.17,
          551.58,
          395.66,
          384.87,
          2218.77,
          2998.23,
          335.7,
          917.48,
          359.68,
          827.53,
          905.5
         ],
         "x0": " ",
         "xaxis": "x",
         "y": [
          "acer",
          "acer",
          "acer",
          "acer",
          "acer",
          "acer",
          "acer",
          "acer",
          "acer",
          "acer",
          "acer",
          "acer",
          "acer",
          "acer",
          "acer",
          "acer",
          "acer",
          "acer",
          "acer",
          "acer",
          "acer",
          "acer",
          "acer",
          "acer",
          "acer",
          "acer",
          "acer",
          "acer",
          "acer",
          "acer",
          "acer",
          "acer",
          "acer",
          "acer",
          "acer",
          "acer",
          "acer",
          "acer",
          "acer",
          "acer",
          "acer",
          "acer",
          "acer",
          "acer",
          "acer",
          "acer",
          "acer",
          "acer",
          "acer",
          "acer",
          "acer",
          "acer",
          "acer",
          "acer",
          "acer",
          "acer",
          "acer",
          "acer",
          "acer",
          "acer",
          "acer",
          "acer",
          "acer",
          "acer",
          "acer",
          "acer",
          "acer",
          "acer",
          "acer",
          "acer",
          "acer",
          "acer",
          "acer",
          "acer",
          "acer",
          "acer",
          "acer",
          "acer",
          "acer",
          "acer",
          "acer",
          "acer",
          "acer",
          "acer",
          "acer",
          "acer",
          "acer",
          "acer",
          "acer"
         ],
         "y0": " ",
         "yaxis": "y"
        },
        {
         "alignmentgroup": "True",
         "hovertemplate": "brand=%{y}<br>price=%{x}<extra></extra>",
         "legendgroup": "lenovo",
         "marker": {
          "color": "#ab63fa"
         },
         "name": "lenovo",
         "notched": false,
         "offsetgroup": "lenovo",
         "orientation": "h",
         "showlegend": true,
         "type": "box",
         "x": [
          342.77,
          569.57,
          599.55,
          335.7,
          575.56,
          683.5,
          539.58,
          419.65,
          293.12,
          587.56,
          766.25,
          444.24,
          1139.25,
          959.35,
          491.61,
          491.61,
          547.51,
          431.64,
          539.58,
          1834.87,
          1585.41,
          740.14,
          309.31,
          587.56,
          846.61,
          803.44,
          1379.12,
          1199.22,
          395.54,
          263.73,
          400.58,
          1199.22,
          779.45,
          299.71,
          1799.01,
          683.5,
          659.52,
          755.57,
          437.64,
          551.58,
          563.57,
          755.46,
          887.39,
          743.47,
          898.3,
          383.67,
          2626.43,
          1477.47,
          827.42,
          1294.22,
          622.39,
          563.57,
          4306.77,
          661.92,
          743.47,
          593.66,
          443.64,
          414.85,
          389.67,
          668.03,
          841.82,
          1105.67,
          623.54,
          1019.32,
          961.75,
          1309.56,
          649.92,
          649.92,
          937.76,
          479.62,
          1117.66,
          1969.19,
          3585.9,
          1669.36,
          841.82,
          1240.06,
          479.62,
          1079.41,
          419.65,
          395.66,
          599.55,
          479.62,
          764.12,
          599.55,
          395.66,
          362.08,
          359.68,
          563.57,
          659.52,
          509.71,
          815.43,
          439.56,
          587.56,
          599.55,
          1043.31,
          791.44,
          2230.65,
          1547.03,
          1367.13,
          623.54,
          839.42,
          575.56,
          1201.62,
          1648.97,
          647.52,
          443.76,
          1057.7,
          755.46,
          796.23,
          863.4,
          741.9,
          443.64,
          745.87,
          707.49,
          721.88,
          769.86,
          503.6,
          539.58,
          545.58,
          569.57,
          705.81,
          767.46,
          841.82,
          440.04,
          805.84,
          563.57,
          1009.72,
          1043.31,
          935.36,
          449.75,
          707.49,
          527.59,
          833.47,
          1175.23,
          1097.28,
          1061.74,
          1199.22,
          1319.15,
          2700.79,
          1078.07,
          899.38,
          779.45,
          486.81,
          791.44,
          290.12,
          635.53,
          755.46,
          394.57,
          299.71,
          635.53,
          831.68,
          539.58,
          875.4,
          680.03,
          791.44,
          647.52,
          688.3,
          599.55,
          725.48,
          425.65,
          863.4,
          545.7,
          599.66,
          793.95,
          401.66,
          803.56,
          1499.17,
          905.49,
          491.61,
          563.57,
          457.8,
          335.7,
          886.31,
          419.65,
          419.65,
          562.49,
          359.68,
          557.57,
          624.87,
          898.17,
          377.67,
          634.45,
          633.18,
          757.86,
          971.46,
          1478.44,
          266.72,
          263.73,
          263.73,
          551.58,
          401.66,
          430.44,
          437.64,
          551.58,
          791.55,
          407.66,
          1754.29,
          521.71,
          371.68,
          386.19,
          719.48
         ],
         "x0": " ",
         "xaxis": "x",
         "y": [
          "lenovo",
          "lenovo",
          "lenovo",
          "lenovo",
          "lenovo",
          "lenovo",
          "lenovo",
          "lenovo",
          "lenovo",
          "lenovo",
          "lenovo",
          "lenovo",
          "lenovo",
          "lenovo",
          "lenovo",
          "lenovo",
          "lenovo",
          "lenovo",
          "lenovo",
          "lenovo",
          "lenovo",
          "lenovo",
          "lenovo",
          "lenovo",
          "lenovo",
          "lenovo",
          "lenovo",
          "lenovo",
          "lenovo",
          "lenovo",
          "lenovo",
          "lenovo",
          "lenovo",
          "lenovo",
          "lenovo",
          "lenovo",
          "lenovo",
          "lenovo",
          "lenovo",
          "lenovo",
          "lenovo",
          "lenovo",
          "lenovo",
          "lenovo",
          "lenovo",
          "lenovo",
          "lenovo",
          "lenovo",
          "lenovo",
          "lenovo",
          "lenovo",
          "lenovo",
          "lenovo",
          "lenovo",
          "lenovo",
          "lenovo",
          "lenovo",
          "lenovo",
          "lenovo",
          "lenovo",
          "lenovo",
          "lenovo",
          "lenovo",
          "lenovo",
          "lenovo",
          "lenovo",
          "lenovo",
          "lenovo",
          "lenovo",
          "lenovo",
          "lenovo",
          "lenovo",
          "lenovo",
          "lenovo",
          "lenovo",
          "lenovo",
          "lenovo",
          "lenovo",
          "lenovo",
          "lenovo",
          "lenovo",
          "lenovo",
          "lenovo",
          "lenovo",
          "lenovo",
          "lenovo",
          "lenovo",
          "lenovo",
          "lenovo",
          "lenovo",
          "lenovo",
          "lenovo",
          "lenovo",
          "lenovo",
          "lenovo",
          "lenovo",
          "lenovo",
          "lenovo",
          "lenovo",
          "lenovo",
          "lenovo",
          "lenovo",
          "lenovo",
          "lenovo",
          "lenovo",
          "lenovo",
          "lenovo",
          "lenovo",
          "lenovo",
          "lenovo",
          "lenovo",
          "lenovo",
          "lenovo",
          "lenovo",
          "lenovo",
          "lenovo",
          "lenovo",
          "lenovo",
          "lenovo",
          "lenovo",
          "lenovo",
          "lenovo",
          "lenovo",
          "lenovo",
          "lenovo",
          "lenovo",
          "lenovo",
          "lenovo",
          "lenovo",
          "lenovo",
          "lenovo",
          "lenovo",
          "lenovo",
          "lenovo",
          "lenovo",
          "lenovo",
          "lenovo",
          "lenovo",
          "lenovo",
          "lenovo",
          "lenovo",
          "lenovo",
          "lenovo",
          "lenovo",
          "lenovo",
          "lenovo",
          "lenovo",
          "lenovo",
          "lenovo",
          "lenovo",
          "lenovo",
          "lenovo",
          "lenovo",
          "lenovo",
          "lenovo",
          "lenovo",
          "lenovo",
          "lenovo",
          "lenovo",
          "lenovo",
          "lenovo",
          "lenovo",
          "lenovo",
          "lenovo",
          "lenovo",
          "lenovo",
          "lenovo",
          "lenovo",
          "lenovo",
          "lenovo",
          "lenovo",
          "lenovo",
          "lenovo",
          "lenovo",
          "lenovo",
          "lenovo",
          "lenovo",
          "lenovo",
          "lenovo",
          "lenovo",
          "lenovo",
          "lenovo",
          "lenovo",
          "lenovo",
          "lenovo",
          "lenovo",
          "lenovo",
          "lenovo",
          "lenovo",
          "lenovo",
          "lenovo",
          "lenovo",
          "lenovo",
          "lenovo",
          "lenovo",
          "lenovo",
          "lenovo",
          "lenovo",
          "lenovo",
          "lenovo",
          "lenovo"
         ],
         "y0": " ",
         "yaxis": "y"
        },
        {
         "alignmentgroup": "True",
         "hovertemplate": "brand=%{y}<br>price=%{x}<extra></extra>",
         "legendgroup": "apple",
         "marker": {
          "color": "#FFA15A"
         },
         "name": "apple",
         "notched": false,
         "offsetgroup": "apple",
         "orientation": "h",
         "showlegend": true,
         "type": "box",
         "x": [
          851.41,
          4796.16,
          1235.2,
          1439.09,
          1319.15,
          3476.88,
          4196.49,
          2997.15,
          2397.48,
          1738.92,
          1595,
          1642.97,
          2277.54,
          2877.21,
          2037.68
         ],
         "x0": " ",
         "xaxis": "x",
         "y": [
          "apple",
          "apple",
          "apple",
          "apple",
          "apple",
          "apple",
          "apple",
          "apple",
          "apple",
          "apple",
          "apple",
          "apple",
          "apple",
          "apple",
          "apple"
         ],
         "y0": " ",
         "yaxis": "y"
        },
        {
         "alignmentgroup": "True",
         "hovertemplate": "brand=%{y}<br>price=%{x}<extra></extra>",
         "legendgroup": "infinix",
         "marker": {
          "color": "#19d3f3"
         },
         "name": "infinix",
         "notched": false,
         "offsetgroup": "infinix",
         "orientation": "h",
         "showlegend": true,
         "type": "box",
         "x": [
          419.65,
          719.48,
          359.68,
          335.7,
          323.7,
          431.64,
          695.5,
          467.62,
          587.56,
          311.71,
          299.71,
          539.58,
          467.62
         ],
         "x0": " ",
         "xaxis": "x",
         "y": [
          "infinix",
          "infinix",
          "infinix",
          "infinix",
          "infinix",
          "infinix",
          "infinix",
          "infinix",
          "infinix",
          "infinix",
          "infinix",
          "infinix",
          "infinix"
         ],
         "y0": " ",
         "yaxis": "y"
        },
        {
         "alignmentgroup": "True",
         "hovertemplate": "brand=%{y}<br>price=%{x}<extra></extra>",
         "legendgroup": "asus",
         "marker": {
          "color": "#FF6692"
         },
         "name": "asus",
         "notched": false,
         "offsetgroup": "asus",
         "orientation": "h",
         "showlegend": true,
         "type": "box",
         "x": [
          599.55,
          688.3,
          911.38,
          479.62,
          335.7,
          563.57,
          767.46,
          1362.1,
          3238.1,
          888.53,
          731.48,
          431.64,
          1307.16,
          695.5,
          869.4,
          835.81,
          563.57,
          647.52,
          979.73,
          1139.25,
          875.4,
          647.52,
          1031.31,
          815.43,
          902.5,
          803.44,
          1858.86,
          1156.03,
          527.59,
          635.53,
          401.66,
          875.4,
          575.56,
          1103.27,
          1019.32,
          215.76,
          875.4,
          899.38,
          1259.19,
          1080.12,
          1029.03,
          695.5,
          731.48,
          719.48,
          383.67,
          677.63,
          683.5,
          1439.09,
          2158.69,
          2278.62,
          1457.07,
          573.64,
          1079.29,
          667.9,
          839.42,
          947.36,
          1268.17,
          515.6,
          647.52,
          582.63,
          851.41,
          370.48,
          750.79,
          1738.92,
          393.68,
          362.19,
          1037.43,
          570.29,
          779.45,
          1188.68,
          335.7,
          959.11,
          1031.31,
          179.78,
          800.18,
          647.52,
          251.74,
          1039.7,
          832.79,
          887.39,
          1199.22,
          1033.7,
          338.09,
          881.07,
          539.58,
          724.15,
          887.39,
          839.42,
          1187.23,
          1091.28,
          1379.12,
          203.77,
          308.84,
          227.75,
          535.37,
          275.74,
          1180.97,
          911.38,
          911.38,
          1131.8,
          490.84,
          858.73,
          407.66,
          695.5,
          719.48,
          1079.29,
          450.81,
          443.64,
          1139.25,
          839.42,
          875.4,
          393.26,
          719.48,
          311.71,
          472.42,
          779.45,
          1067.41,
          839.54,
          1702.93,
          918.69,
          1559.02,
          767.46,
          887.39,
          1199.22,
          743.47,
          671.51,
          1002.64,
          1678.95,
          707.49,
          575.44,
          839.42,
          779.45,
          1142.97,
          420.76,
          335.7,
          593.55,
          587.56,
          923.37,
          479.62,
          1256.3,
          1521.84,
          2398.56,
          1583.01,
          1605.8,
          1858.86,
          1731.92,
          1139.25,
          3130.16,
          1798.89,
          1618.99,
          724.15,
          2517.29,
          1858.86,
          839.42,
          1018.84,
          1360.06,
          1271.18,
          1336.53,
          918.92,
          1127.37,
          1937.09,
          2398.56,
          431.64,
          370.92,
          555.15,
          1499.05,
          707.49,
          383.67,
          1583.13,
          1391.11,
          1079.29,
          1094.28,
          755.46,
          862.78,
          477.22,
          467.5,
          671.51,
          851.41,
          749.59,
          825.15,
          1031.31,
          551.58,
          719.48,
          1259.19,
          820.23,
          1175.23,
          1115.27,
          779.45,
          899.38,
          527.59,
          767.46,
          470.64,
          1559.02,
          707.49,
          953.47,
          609.08,
          742.39,
          2998.23,
          539.34,
          547.98,
          386.07,
          827.42,
          3358.03,
          659.52,
          935.36,
          803.44,
          719.48,
          791.44,
          539.58,
          815.43
         ],
         "x0": " ",
         "xaxis": "x",
         "y": [
          "asus",
          "asus",
          "asus",
          "asus",
          "asus",
          "asus",
          "asus",
          "asus",
          "asus",
          "asus",
          "asus",
          "asus",
          "asus",
          "asus",
          "asus",
          "asus",
          "asus",
          "asus",
          "asus",
          "asus",
          "asus",
          "asus",
          "asus",
          "asus",
          "asus",
          "asus",
          "asus",
          "asus",
          "asus",
          "asus",
          "asus",
          "asus",
          "asus",
          "asus",
          "asus",
          "asus",
          "asus",
          "asus",
          "asus",
          "asus",
          "asus",
          "asus",
          "asus",
          "asus",
          "asus",
          "asus",
          "asus",
          "asus",
          "asus",
          "asus",
          "asus",
          "asus",
          "asus",
          "asus",
          "asus",
          "asus",
          "asus",
          "asus",
          "asus",
          "asus",
          "asus",
          "asus",
          "asus",
          "asus",
          "asus",
          "asus",
          "asus",
          "asus",
          "asus",
          "asus",
          "asus",
          "asus",
          "asus",
          "asus",
          "asus",
          "asus",
          "asus",
          "asus",
          "asus",
          "asus",
          "asus",
          "asus",
          "asus",
          "asus",
          "asus",
          "asus",
          "asus",
          "asus",
          "asus",
          "asus",
          "asus",
          "asus",
          "asus",
          "asus",
          "asus",
          "asus",
          "asus",
          "asus",
          "asus",
          "asus",
          "asus",
          "asus",
          "asus",
          "asus",
          "asus",
          "asus",
          "asus",
          "asus",
          "asus",
          "asus",
          "asus",
          "asus",
          "asus",
          "asus",
          "asus",
          "asus",
          "asus",
          "asus",
          "asus",
          "asus",
          "asus",
          "asus",
          "asus",
          "asus",
          "asus",
          "asus",
          "asus",
          "asus",
          "asus",
          "asus",
          "asus",
          "asus",
          "asus",
          "asus",
          "asus",
          "asus",
          "asus",
          "asus",
          "asus",
          "asus",
          "asus",
          "asus",
          "asus",
          "asus",
          "asus",
          "asus",
          "asus",
          "asus",
          "asus",
          "asus",
          "asus",
          "asus",
          "asus",
          "asus",
          "asus",
          "asus",
          "asus",
          "asus",
          "asus",
          "asus",
          "asus",
          "asus",
          "asus",
          "asus",
          "asus",
          "asus",
          "asus",
          "asus",
          "asus",
          "asus",
          "asus",
          "asus",
          "asus",
          "asus",
          "asus",
          "asus",
          "asus",
          "asus",
          "asus",
          "asus",
          "asus",
          "asus",
          "asus",
          "asus",
          "asus",
          "asus",
          "asus",
          "asus",
          "asus",
          "asus",
          "asus",
          "asus",
          "asus",
          "asus",
          "asus",
          "asus",
          "asus",
          "asus",
          "asus",
          "asus",
          "asus",
          "asus",
          "asus",
          "asus",
          "asus",
          "asus",
          "asus",
          "asus",
          "asus",
          "asus"
         ],
         "y0": " ",
         "yaxis": "y"
        },
        {
         "alignmentgroup": "True",
         "hovertemplate": "brand=%{y}<br>price=%{x}<extra></extra>",
         "legendgroup": "dell",
         "marker": {
          "color": "#B6E880"
         },
         "name": "dell",
         "notched": false,
         "offsetgroup": "dell",
         "orientation": "h",
         "showlegend": true,
         "type": "box",
         "x": [
          419.65,
          818.42,
          974.94,
          475.53,
          1037.31,
          869.4,
          599.67,
          1007.32,
          827.42,
          1780.9,
          455.63,
          791.44,
          929.37,
          470.62,
          687.22,
          611.54,
          839.53,
          626.04,
          1055.3,
          2500.5,
          440.53,
          718.28,
          419.65,
          1823,
          1067.29,
          1265.18,
          617.5,
          683.5,
          743.47,
          815.89,
          675.71,
          682.18,
          683.5,
          611.54,
          467.62,
          791.44,
          1193.1,
          719.48,
          449.63,
          1031.31,
          2677.82,
          550.14,
          459.93,
          1187.23,
          395.66,
          1049.3,
          575.56,
          929.37,
          496.92,
          1046.9,
          725.48,
          447.13,
          1013.32,
          3088.18,
          1151.25,
          730.4,
          5450.88,
          814.23,
          3885.74,
          2266.63,
          5408.9,
          3597.9,
          785.57,
          887.39,
          471.22,
          719.48,
          501.42,
          1055.3,
          1085.28,
          491.61,
          523.99,
          671.51,
          575.56,
          955.75,
          3352.03,
          2422.55,
          490.41,
          2464.52,
          1138.17,
          743.47,
          1894.84,
          1996.78,
          1193.22,
          959.71,
          515.6,
          1067.17,
          863.4,
          887.39,
          743.47,
          1790.49,
          515.72,
          2254.64,
          1319.15,
          1559.02,
          976.29,
          2704.39,
          2650.42,
          4659.31,
          4419.44,
          575.56,
          623.54,
          461.63,
          539.58,
          670.43,
          1434.41,
          1055.3
         ],
         "x0": " ",
         "xaxis": "x",
         "y": [
          "dell",
          "dell",
          "dell",
          "dell",
          "dell",
          "dell",
          "dell",
          "dell",
          "dell",
          "dell",
          "dell",
          "dell",
          "dell",
          "dell",
          "dell",
          "dell",
          "dell",
          "dell",
          "dell",
          "dell",
          "dell",
          "dell",
          "dell",
          "dell",
          "dell",
          "dell",
          "dell",
          "dell",
          "dell",
          "dell",
          "dell",
          "dell",
          "dell",
          "dell",
          "dell",
          "dell",
          "dell",
          "dell",
          "dell",
          "dell",
          "dell",
          "dell",
          "dell",
          "dell",
          "dell",
          "dell",
          "dell",
          "dell",
          "dell",
          "dell",
          "dell",
          "dell",
          "dell",
          "dell",
          "dell",
          "dell",
          "dell",
          "dell",
          "dell",
          "dell",
          "dell",
          "dell",
          "dell",
          "dell",
          "dell",
          "dell",
          "dell",
          "dell",
          "dell",
          "dell",
          "dell",
          "dell",
          "dell",
          "dell",
          "dell",
          "dell",
          "dell",
          "dell",
          "dell",
          "dell",
          "dell",
          "dell",
          "dell",
          "dell",
          "dell",
          "dell",
          "dell",
          "dell",
          "dell",
          "dell",
          "dell",
          "dell",
          "dell",
          "dell",
          "dell",
          "dell",
          "dell",
          "dell",
          "dell",
          "dell",
          "dell",
          "dell",
          "dell",
          "dell",
          "dell",
          "dell"
         ],
         "y0": " ",
         "yaxis": "y"
        },
        {
         "alignmentgroup": "True",
         "hovertemplate": "brand=%{y}<br>price=%{x}<extra></extra>",
         "legendgroup": "samsung",
         "marker": {
          "color": "#FF97FF"
         },
         "name": "samsung",
         "notched": false,
         "offsetgroup": "samsung",
         "orientation": "h",
         "showlegend": true,
         "type": "box",
         "x": [
          779.45,
          539.58,
          575.56,
          839.42,
          911.38,
          659.52,
          1403.11
         ],
         "x0": " ",
         "xaxis": "x",
         "y": [
          "samsung",
          "samsung",
          "samsung",
          "samsung",
          "samsung",
          "samsung",
          "samsung"
         ],
         "y0": " ",
         "yaxis": "y"
        },
        {
         "alignmentgroup": "True",
         "hovertemplate": "brand=%{y}<br>price=%{x}<extra></extra>",
         "legendgroup": "msi",
         "marker": {
          "color": "#FECB52"
         },
         "name": "msi",
         "notched": false,
         "offsetgroup": "msi",
         "orientation": "h",
         "showlegend": true,
         "type": "box",
         "x": [
          635.53,
          800.92,
          431.16,
          839.42,
          659.52,
          899.38,
          599.55,
          503.6,
          659.52,
          743.47,
          635.53,
          755.46,
          479.62,
          647.52,
          683.5,
          443.64,
          815.43,
          785.45,
          527.59,
          1271.18,
          1007.32,
          795.76,
          2398.56,
          5396.91,
          959.35,
          2357.66,
          755.46,
          1139.25,
          1163.24,
          1259.19,
          1798.89,
          1798.89,
          1379.12,
          671.51,
          707.49,
          671.51,
          2398.56,
          1439.09,
          3597.9,
          983.34,
          443.64,
          1912.07,
          1079.29,
          887.39,
          575.56,
          1343.14,
          695.5,
          659.52,
          1259.19,
          899.38,
          1139.25,
          611.54,
          1139.25,
          1019.32,
          731.48,
          623.54,
          635.53,
          1103.27,
          1055.3,
          3358.03,
          923.37,
          875.4,
          1043.31,
          2998.23,
          767.46,
          1163.24,
          983.34,
          839.42,
          3130.16,
          781.85,
          875.4,
          2638.43,
          2590.45,
          2062.74,
          839.42,
          743.47,
          527.59,
          587.56,
          503.6,
          455.63,
          569.57,
          1115.27,
          995.33,
          1048.11,
          606.76,
          731.48,
          647.52,
          491.61,
          1439.09,
          1103.27
         ],
         "x0": " ",
         "xaxis": "x",
         "y": [
          "msi",
          "msi",
          "msi",
          "msi",
          "msi",
          "msi",
          "msi",
          "msi",
          "msi",
          "msi",
          "msi",
          "msi",
          "msi",
          "msi",
          "msi",
          "msi",
          "msi",
          "msi",
          "msi",
          "msi",
          "msi",
          "msi",
          "msi",
          "msi",
          "msi",
          "msi",
          "msi",
          "msi",
          "msi",
          "msi",
          "msi",
          "msi",
          "msi",
          "msi",
          "msi",
          "msi",
          "msi",
          "msi",
          "msi",
          "msi",
          "msi",
          "msi",
          "msi",
          "msi",
          "msi",
          "msi",
          "msi",
          "msi",
          "msi",
          "msi",
          "msi",
          "msi",
          "msi",
          "msi",
          "msi",
          "msi",
          "msi",
          "msi",
          "msi",
          "msi",
          "msi",
          "msi",
          "msi",
          "msi",
          "msi",
          "msi",
          "msi",
          "msi",
          "msi",
          "msi",
          "msi",
          "msi",
          "msi",
          "msi",
          "msi",
          "msi",
          "msi",
          "msi",
          "msi",
          "msi",
          "msi",
          "msi",
          "msi",
          "msi",
          "msi",
          "msi",
          "msi",
          "msi",
          "msi",
          "msi"
         ],
         "y0": " ",
         "yaxis": "y"
        },
        {
         "alignmentgroup": "True",
         "hovertemplate": "brand=%{y}<br>price=%{x}<extra></extra>",
         "legendgroup": "wings",
         "marker": {
          "color": "#636efa"
         },
         "name": "wings",
         "notched": false,
         "offsetgroup": "wings",
         "orientation": "h",
         "showlegend": true,
         "type": "box",
         "x": [
          335.7,
          479.62,
          299.71,
          323.7
         ],
         "x0": " ",
         "xaxis": "x",
         "y": [
          "wings",
          "wings",
          "wings",
          "wings"
         ],
         "y0": " ",
         "yaxis": "y"
        },
        {
         "alignmentgroup": "True",
         "hovertemplate": "brand=%{y}<br>price=%{x}<extra></extra>",
         "legendgroup": "ultimus",
         "marker": {
          "color": "#EF553B"
         },
         "name": "ultimus",
         "notched": false,
         "offsetgroup": "ultimus",
         "orientation": "h",
         "showlegend": true,
         "type": "box",
         "x": [
          239.75,
          191.77,
          143.8,
          179.78,
          197.77,
          274.8
         ],
         "x0": " ",
         "xaxis": "x",
         "y": [
          "ultimus",
          "ultimus",
          "ultimus",
          "ultimus",
          "ultimus",
          "ultimus"
         ],
         "y0": " ",
         "yaxis": "y"
        },
        {
         "alignmentgroup": "True",
         "hovertemplate": "brand=%{y}<br>price=%{x}<extra></extra>",
         "legendgroup": "primebook",
         "marker": {
          "color": "#00cc96"
         },
         "name": "primebook",
         "notched": false,
         "offsetgroup": "primebook",
         "orientation": "h",
         "showlegend": true,
         "type": "box",
         "x": [
          179.78,
          155.79
         ],
         "x0": " ",
         "xaxis": "x",
         "y": [
          "primebook",
          "primebook"
         ],
         "y0": " ",
         "yaxis": "y"
        },
        {
         "alignmentgroup": "True",
         "hovertemplate": "brand=%{y}<br>price=%{x}<extra></extra>",
         "legendgroup": "iball",
         "marker": {
          "color": "#ab63fa"
         },
         "name": "iball",
         "notched": false,
         "offsetgroup": "iball",
         "orientation": "h",
         "showlegend": true,
         "type": "box",
         "x": [
          117.54
         ],
         "x0": " ",
         "xaxis": "x",
         "y": [
          "iball"
         ],
         "y0": " ",
         "yaxis": "y"
        },
        {
         "alignmentgroup": "True",
         "hovertemplate": "brand=%{y}<br>price=%{x}<extra></extra>",
         "legendgroup": "zebronics",
         "marker": {
          "color": "#FFA15A"
         },
         "name": "zebronics",
         "notched": false,
         "offsetgroup": "zebronics",
         "orientation": "h",
         "showlegend": true,
         "type": "box",
         "x": [
          407.66,
          395.66,
          635.53,
          359.68,
          479.62,
          395.66,
          611.54
         ],
         "x0": " ",
         "xaxis": "x",
         "y": [
          "zebronics",
          "zebronics",
          "zebronics",
          "zebronics",
          "zebronics",
          "zebronics",
          "zebronics"
         ],
         "y0": " ",
         "yaxis": "y"
        },
        {
         "alignmentgroup": "True",
         "hovertemplate": "brand=%{y}<br>price=%{x}<extra></extra>",
         "legendgroup": "chuwi",
         "marker": {
          "color": "#19d3f3"
         },
         "name": "chuwi",
         "notched": false,
         "offsetgroup": "chuwi",
         "orientation": "h",
         "showlegend": true,
         "type": "box",
         "x": [
          395.66,
          299.71,
          263.73,
          419.65
         ],
         "x0": " ",
         "xaxis": "x",
         "y": [
          "chuwi",
          "chuwi",
          "chuwi",
          "chuwi"
         ],
         "y0": " ",
         "yaxis": "y"
        },
        {
         "alignmentgroup": "True",
         "hovertemplate": "brand=%{y}<br>price=%{x}<extra></extra>",
         "legendgroup": "gigabyte",
         "marker": {
          "color": "#FF6692"
         },
         "name": "gigabyte",
         "notched": false,
         "offsetgroup": "gigabyte",
         "orientation": "h",
         "showlegend": true,
         "type": "box",
         "x": [
          863.4,
          1079.29
         ],
         "x0": " ",
         "xaxis": "x",
         "y": [
          "gigabyte",
          "gigabyte"
         ],
         "y0": " ",
         "yaxis": "y"
        },
        {
         "alignmentgroup": "True",
         "hovertemplate": "brand=%{y}<br>price=%{x}<extra></extra>",
         "legendgroup": "jio",
         "marker": {
          "color": "#B6E880"
         },
         "name": "jio",
         "notched": false,
         "offsetgroup": "jio",
         "orientation": "h",
         "showlegend": true,
         "type": "box",
         "x": [
          176.31
         ],
         "x0": " ",
         "xaxis": "x",
         "y": [
          "jio"
         ],
         "y0": " ",
         "yaxis": "y"
        },
        {
         "alignmentgroup": "True",
         "hovertemplate": "brand=%{y}<br>price=%{x}<extra></extra>",
         "legendgroup": "honor",
         "marker": {
          "color": "#FF97FF"
         },
         "name": "honor",
         "notched": false,
         "offsetgroup": "honor",
         "orientation": "h",
         "showlegend": true,
         "type": "box",
         "x": [
          659.52,
          527.59
         ],
         "x0": " ",
         "xaxis": "x",
         "y": [
          "honor",
          "honor"
         ],
         "y0": " ",
         "yaxis": "y"
        },
        {
         "alignmentgroup": "True",
         "hovertemplate": "brand=%{y}<br>price=%{x}<extra></extra>",
         "legendgroup": "realme",
         "marker": {
          "color": "#FECB52"
         },
         "name": "realme",
         "notched": false,
         "offsetgroup": "realme",
         "orientation": "h",
         "showlegend": true,
         "type": "box",
         "x": [
          443.64,
          515.6
         ],
         "x0": " ",
         "xaxis": "x",
         "y": [
          "realme",
          "realme"
         ],
         "y0": " ",
         "yaxis": "y"
        },
        {
         "alignmentgroup": "True",
         "hovertemplate": "brand=%{y}<br>price=%{x}<extra></extra>",
         "legendgroup": "avita",
         "marker": {
          "color": "#636efa"
         },
         "name": "avita",
         "notched": false,
         "offsetgroup": "avita",
         "orientation": "h",
         "showlegend": true,
         "type": "box",
         "x": [
          256.54,
          395.17,
          390.38,
          232.92,
          251.85
         ],
         "x0": " ",
         "xaxis": "x",
         "y": [
          "avita",
          "avita",
          "avita",
          "avita",
          "avita"
         ],
         "y0": " ",
         "yaxis": "y"
        },
        {
         "alignmentgroup": "True",
         "hovertemplate": "brand=%{y}<br>price=%{x}<extra></extra>",
         "legendgroup": "microsoft",
         "marker": {
          "color": "#EF553B"
         },
         "name": "microsoft",
         "notched": false,
         "offsetgroup": "microsoft",
         "orientation": "h",
         "showlegend": true,
         "type": "box",
         "x": [
          959.35,
          1169.24
         ],
         "x0": " ",
         "xaxis": "x",
         "y": [
          "microsoft",
          "microsoft"
         ],
         "y0": " ",
         "yaxis": "y"
        },
        {
         "alignmentgroup": "True",
         "hovertemplate": "brand=%{y}<br>price=%{x}<extra></extra>",
         "legendgroup": "fujitsu",
         "marker": {
          "color": "#00cc96"
         },
         "name": "fujitsu",
         "notched": false,
         "offsetgroup": "fujitsu",
         "orientation": "h",
         "showlegend": true,
         "type": "box",
         "x": [
          887.39,
          887.39,
          1319.15,
          1199.22,
          677.55
         ],
         "x0": " ",
         "xaxis": "x",
         "y": [
          "fujitsu",
          "fujitsu",
          "fujitsu",
          "fujitsu",
          "fujitsu"
         ],
         "y0": " ",
         "yaxis": "y"
        },
        {
         "alignmentgroup": "True",
         "hovertemplate": "brand=%{y}<br>price=%{x}<extra></extra>",
         "legendgroup": "lg",
         "marker": {
          "color": "#ab63fa"
         },
         "name": "lg",
         "notched": false,
         "offsetgroup": "lg",
         "orientation": "h",
         "showlegend": true,
         "type": "box",
         "x": [
          1187.33,
          939.07,
          1828.98,
          1414.01,
          1076.99,
          1810.99,
          1421.2
         ],
         "x0": " ",
         "xaxis": "x",
         "y": [
          "lg",
          "lg",
          "lg",
          "lg",
          "lg",
          "lg",
          "lg"
         ],
         "y0": " ",
         "yaxis": "y"
        },
        {
         "alignmentgroup": "True",
         "hovertemplate": "brand=%{y}<br>price=%{x}<extra></extra>",
         "legendgroup": "walker",
         "marker": {
          "color": "#FFA15A"
         },
         "name": "walker",
         "notched": false,
         "offsetgroup": "walker",
         "orientation": "h",
         "showlegend": true,
         "type": "box",
         "x": [
          191.77
         ],
         "x0": " ",
         "xaxis": "x",
         "y": [
          "walker"
         ],
         "y0": " ",
         "yaxis": "y"
        },
        {
         "alignmentgroup": "True",
         "hovertemplate": "brand=%{y}<br>price=%{x}<extra></extra>",
         "legendgroup": "axl",
         "marker": {
          "color": "#19d3f3"
         },
         "name": "axl",
         "notched": false,
         "offsetgroup": "axl",
         "orientation": "h",
         "showlegend": true,
         "type": "box",
         "x": [
          215.76,
          179.78
         ],
         "x0": " ",
         "xaxis": "x",
         "y": [
          "axl",
          "axl"
         ],
         "y0": " ",
         "yaxis": "y"
        }
       ],
       "layout": {
        "boxmode": "overlay",
        "legend": {
         "title": {
          "text": "brand"
         },
         "tracegroupgap": 0
        },
        "margin": {
         "t": 60
        },
        "template": {
         "data": {
          "bar": [
           {
            "error_x": {
             "color": "#2a3f5f"
            },
            "error_y": {
             "color": "#2a3f5f"
            },
            "marker": {
             "line": {
              "color": "#E5ECF6",
              "width": 0.5
             },
             "pattern": {
              "fillmode": "overlay",
              "size": 10,
              "solidity": 0.2
             }
            },
            "type": "bar"
           }
          ],
          "barpolar": [
           {
            "marker": {
             "line": {
              "color": "#E5ECF6",
              "width": 0.5
             },
             "pattern": {
              "fillmode": "overlay",
              "size": 10,
              "solidity": 0.2
             }
            },
            "type": "barpolar"
           }
          ],
          "carpet": [
           {
            "aaxis": {
             "endlinecolor": "#2a3f5f",
             "gridcolor": "white",
             "linecolor": "white",
             "minorgridcolor": "white",
             "startlinecolor": "#2a3f5f"
            },
            "baxis": {
             "endlinecolor": "#2a3f5f",
             "gridcolor": "white",
             "linecolor": "white",
             "minorgridcolor": "white",
             "startlinecolor": "#2a3f5f"
            },
            "type": "carpet"
           }
          ],
          "choropleth": [
           {
            "colorbar": {
             "outlinewidth": 0,
             "ticks": ""
            },
            "type": "choropleth"
           }
          ],
          "contour": [
           {
            "colorbar": {
             "outlinewidth": 0,
             "ticks": ""
            },
            "colorscale": [
             [
              0,
              "#0d0887"
             ],
             [
              0.1111111111111111,
              "#46039f"
             ],
             [
              0.2222222222222222,
              "#7201a8"
             ],
             [
              0.3333333333333333,
              "#9c179e"
             ],
             [
              0.4444444444444444,
              "#bd3786"
             ],
             [
              0.5555555555555556,
              "#d8576b"
             ],
             [
              0.6666666666666666,
              "#ed7953"
             ],
             [
              0.7777777777777778,
              "#fb9f3a"
             ],
             [
              0.8888888888888888,
              "#fdca26"
             ],
             [
              1,
              "#f0f921"
             ]
            ],
            "type": "contour"
           }
          ],
          "contourcarpet": [
           {
            "colorbar": {
             "outlinewidth": 0,
             "ticks": ""
            },
            "type": "contourcarpet"
           }
          ],
          "heatmap": [
           {
            "colorbar": {
             "outlinewidth": 0,
             "ticks": ""
            },
            "colorscale": [
             [
              0,
              "#0d0887"
             ],
             [
              0.1111111111111111,
              "#46039f"
             ],
             [
              0.2222222222222222,
              "#7201a8"
             ],
             [
              0.3333333333333333,
              "#9c179e"
             ],
             [
              0.4444444444444444,
              "#bd3786"
             ],
             [
              0.5555555555555556,
              "#d8576b"
             ],
             [
              0.6666666666666666,
              "#ed7953"
             ],
             [
              0.7777777777777778,
              "#fb9f3a"
             ],
             [
              0.8888888888888888,
              "#fdca26"
             ],
             [
              1,
              "#f0f921"
             ]
            ],
            "type": "heatmap"
           }
          ],
          "heatmapgl": [
           {
            "colorbar": {
             "outlinewidth": 0,
             "ticks": ""
            },
            "colorscale": [
             [
              0,
              "#0d0887"
             ],
             [
              0.1111111111111111,
              "#46039f"
             ],
             [
              0.2222222222222222,
              "#7201a8"
             ],
             [
              0.3333333333333333,
              "#9c179e"
             ],
             [
              0.4444444444444444,
              "#bd3786"
             ],
             [
              0.5555555555555556,
              "#d8576b"
             ],
             [
              0.6666666666666666,
              "#ed7953"
             ],
             [
              0.7777777777777778,
              "#fb9f3a"
             ],
             [
              0.8888888888888888,
              "#fdca26"
             ],
             [
              1,
              "#f0f921"
             ]
            ],
            "type": "heatmapgl"
           }
          ],
          "histogram": [
           {
            "marker": {
             "pattern": {
              "fillmode": "overlay",
              "size": 10,
              "solidity": 0.2
             }
            },
            "type": "histogram"
           }
          ],
          "histogram2d": [
           {
            "colorbar": {
             "outlinewidth": 0,
             "ticks": ""
            },
            "colorscale": [
             [
              0,
              "#0d0887"
             ],
             [
              0.1111111111111111,
              "#46039f"
             ],
             [
              0.2222222222222222,
              "#7201a8"
             ],
             [
              0.3333333333333333,
              "#9c179e"
             ],
             [
              0.4444444444444444,
              "#bd3786"
             ],
             [
              0.5555555555555556,
              "#d8576b"
             ],
             [
              0.6666666666666666,
              "#ed7953"
             ],
             [
              0.7777777777777778,
              "#fb9f3a"
             ],
             [
              0.8888888888888888,
              "#fdca26"
             ],
             [
              1,
              "#f0f921"
             ]
            ],
            "type": "histogram2d"
           }
          ],
          "histogram2dcontour": [
           {
            "colorbar": {
             "outlinewidth": 0,
             "ticks": ""
            },
            "colorscale": [
             [
              0,
              "#0d0887"
             ],
             [
              0.1111111111111111,
              "#46039f"
             ],
             [
              0.2222222222222222,
              "#7201a8"
             ],
             [
              0.3333333333333333,
              "#9c179e"
             ],
             [
              0.4444444444444444,
              "#bd3786"
             ],
             [
              0.5555555555555556,
              "#d8576b"
             ],
             [
              0.6666666666666666,
              "#ed7953"
             ],
             [
              0.7777777777777778,
              "#fb9f3a"
             ],
             [
              0.8888888888888888,
              "#fdca26"
             ],
             [
              1,
              "#f0f921"
             ]
            ],
            "type": "histogram2dcontour"
           }
          ],
          "mesh3d": [
           {
            "colorbar": {
             "outlinewidth": 0,
             "ticks": ""
            },
            "type": "mesh3d"
           }
          ],
          "parcoords": [
           {
            "line": {
             "colorbar": {
              "outlinewidth": 0,
              "ticks": ""
             }
            },
            "type": "parcoords"
           }
          ],
          "pie": [
           {
            "automargin": true,
            "type": "pie"
           }
          ],
          "scatter": [
           {
            "fillpattern": {
             "fillmode": "overlay",
             "size": 10,
             "solidity": 0.2
            },
            "type": "scatter"
           }
          ],
          "scatter3d": [
           {
            "line": {
             "colorbar": {
              "outlinewidth": 0,
              "ticks": ""
             }
            },
            "marker": {
             "colorbar": {
              "outlinewidth": 0,
              "ticks": ""
             }
            },
            "type": "scatter3d"
           }
          ],
          "scattercarpet": [
           {
            "marker": {
             "colorbar": {
              "outlinewidth": 0,
              "ticks": ""
             }
            },
            "type": "scattercarpet"
           }
          ],
          "scattergeo": [
           {
            "marker": {
             "colorbar": {
              "outlinewidth": 0,
              "ticks": ""
             }
            },
            "type": "scattergeo"
           }
          ],
          "scattergl": [
           {
            "marker": {
             "colorbar": {
              "outlinewidth": 0,
              "ticks": ""
             }
            },
            "type": "scattergl"
           }
          ],
          "scattermapbox": [
           {
            "marker": {
             "colorbar": {
              "outlinewidth": 0,
              "ticks": ""
             }
            },
            "type": "scattermapbox"
           }
          ],
          "scatterpolar": [
           {
            "marker": {
             "colorbar": {
              "outlinewidth": 0,
              "ticks": ""
             }
            },
            "type": "scatterpolar"
           }
          ],
          "scatterpolargl": [
           {
            "marker": {
             "colorbar": {
              "outlinewidth": 0,
              "ticks": ""
             }
            },
            "type": "scatterpolargl"
           }
          ],
          "scatterternary": [
           {
            "marker": {
             "colorbar": {
              "outlinewidth": 0,
              "ticks": ""
             }
            },
            "type": "scatterternary"
           }
          ],
          "surface": [
           {
            "colorbar": {
             "outlinewidth": 0,
             "ticks": ""
            },
            "colorscale": [
             [
              0,
              "#0d0887"
             ],
             [
              0.1111111111111111,
              "#46039f"
             ],
             [
              0.2222222222222222,
              "#7201a8"
             ],
             [
              0.3333333333333333,
              "#9c179e"
             ],
             [
              0.4444444444444444,
              "#bd3786"
             ],
             [
              0.5555555555555556,
              "#d8576b"
             ],
             [
              0.6666666666666666,
              "#ed7953"
             ],
             [
              0.7777777777777778,
              "#fb9f3a"
             ],
             [
              0.8888888888888888,
              "#fdca26"
             ],
             [
              1,
              "#f0f921"
             ]
            ],
            "type": "surface"
           }
          ],
          "table": [
           {
            "cells": {
             "fill": {
              "color": "#EBF0F8"
             },
             "line": {
              "color": "white"
             }
            },
            "header": {
             "fill": {
              "color": "#C8D4E3"
             },
             "line": {
              "color": "white"
             }
            },
            "type": "table"
           }
          ]
         },
         "layout": {
          "annotationdefaults": {
           "arrowcolor": "#2a3f5f",
           "arrowhead": 0,
           "arrowwidth": 1
          },
          "autotypenumbers": "strict",
          "coloraxis": {
           "colorbar": {
            "outlinewidth": 0,
            "ticks": ""
           }
          },
          "colorscale": {
           "diverging": [
            [
             0,
             "#8e0152"
            ],
            [
             0.1,
             "#c51b7d"
            ],
            [
             0.2,
             "#de77ae"
            ],
            [
             0.3,
             "#f1b6da"
            ],
            [
             0.4,
             "#fde0ef"
            ],
            [
             0.5,
             "#f7f7f7"
            ],
            [
             0.6,
             "#e6f5d0"
            ],
            [
             0.7,
             "#b8e186"
            ],
            [
             0.8,
             "#7fbc41"
            ],
            [
             0.9,
             "#4d9221"
            ],
            [
             1,
             "#276419"
            ]
           ],
           "sequential": [
            [
             0,
             "#0d0887"
            ],
            [
             0.1111111111111111,
             "#46039f"
            ],
            [
             0.2222222222222222,
             "#7201a8"
            ],
            [
             0.3333333333333333,
             "#9c179e"
            ],
            [
             0.4444444444444444,
             "#bd3786"
            ],
            [
             0.5555555555555556,
             "#d8576b"
            ],
            [
             0.6666666666666666,
             "#ed7953"
            ],
            [
             0.7777777777777778,
             "#fb9f3a"
            ],
            [
             0.8888888888888888,
             "#fdca26"
            ],
            [
             1,
             "#f0f921"
            ]
           ],
           "sequentialminus": [
            [
             0,
             "#0d0887"
            ],
            [
             0.1111111111111111,
             "#46039f"
            ],
            [
             0.2222222222222222,
             "#7201a8"
            ],
            [
             0.3333333333333333,
             "#9c179e"
            ],
            [
             0.4444444444444444,
             "#bd3786"
            ],
            [
             0.5555555555555556,
             "#d8576b"
            ],
            [
             0.6666666666666666,
             "#ed7953"
            ],
            [
             0.7777777777777778,
             "#fb9f3a"
            ],
            [
             0.8888888888888888,
             "#fdca26"
            ],
            [
             1,
             "#f0f921"
            ]
           ]
          },
          "colorway": [
           "#636efa",
           "#EF553B",
           "#00cc96",
           "#ab63fa",
           "#FFA15A",
           "#19d3f3",
           "#FF6692",
           "#B6E880",
           "#FF97FF",
           "#FECB52"
          ],
          "font": {
           "color": "#2a3f5f"
          },
          "geo": {
           "bgcolor": "white",
           "lakecolor": "white",
           "landcolor": "#E5ECF6",
           "showlakes": true,
           "showland": true,
           "subunitcolor": "white"
          },
          "hoverlabel": {
           "align": "left"
          },
          "hovermode": "closest",
          "mapbox": {
           "style": "light"
          },
          "paper_bgcolor": "white",
          "plot_bgcolor": "#E5ECF6",
          "polar": {
           "angularaxis": {
            "gridcolor": "white",
            "linecolor": "white",
            "ticks": ""
           },
           "bgcolor": "#E5ECF6",
           "radialaxis": {
            "gridcolor": "white",
            "linecolor": "white",
            "ticks": ""
           }
          },
          "scene": {
           "xaxis": {
            "backgroundcolor": "#E5ECF6",
            "gridcolor": "white",
            "gridwidth": 2,
            "linecolor": "white",
            "showbackground": true,
            "ticks": "",
            "zerolinecolor": "white"
           },
           "yaxis": {
            "backgroundcolor": "#E5ECF6",
            "gridcolor": "white",
            "gridwidth": 2,
            "linecolor": "white",
            "showbackground": true,
            "ticks": "",
            "zerolinecolor": "white"
           },
           "zaxis": {
            "backgroundcolor": "#E5ECF6",
            "gridcolor": "white",
            "gridwidth": 2,
            "linecolor": "white",
            "showbackground": true,
            "ticks": "",
            "zerolinecolor": "white"
           }
          },
          "shapedefaults": {
           "line": {
            "color": "#2a3f5f"
           }
          },
          "ternary": {
           "aaxis": {
            "gridcolor": "white",
            "linecolor": "white",
            "ticks": ""
           },
           "baxis": {
            "gridcolor": "white",
            "linecolor": "white",
            "ticks": ""
           },
           "bgcolor": "#E5ECF6",
           "caxis": {
            "gridcolor": "white",
            "linecolor": "white",
            "ticks": ""
           }
          },
          "title": {
           "x": 0.05
          },
          "xaxis": {
           "automargin": true,
           "gridcolor": "white",
           "linecolor": "white",
           "ticks": "",
           "title": {
            "standoff": 15
           },
           "zerolinecolor": "white",
           "zerolinewidth": 2
          },
          "yaxis": {
           "automargin": true,
           "gridcolor": "white",
           "linecolor": "white",
           "ticks": "",
           "title": {
            "standoff": 15
           },
           "zerolinecolor": "white",
           "zerolinewidth": 2
          }
         }
        },
        "xaxis": {
         "anchor": "y",
         "domain": [
          0,
          1
         ],
         "title": {
          "text": "price"
         }
        },
        "yaxis": {
         "anchor": "x",
         "categoryarray": [
          "axl",
          "walker",
          "lg",
          "fujitsu",
          "microsoft",
          "avita",
          "realme",
          "honor",
          "jio",
          "gigabyte",
          "chuwi",
          "zebronics",
          "iball",
          "primebook",
          "ultimus",
          "wings",
          "msi",
          "samsung",
          "dell",
          "asus",
          "infinix",
          "apple",
          "lenovo",
          "acer",
          "hp",
          "tecno"
         ],
         "categoryorder": "array",
         "domain": [
          0,
          1
         ],
         "title": {
          "text": "brand"
         }
        }
       }
      }
     },
     "metadata": {},
     "output_type": "display_data"
    }
   ],
   "source": [
    "# Plot de dist boxplot por brand e price\n",
    "px.box(df_laptops, x='price', y='brand', color='brand', orientation='h')"
   ]
  },
  {
   "cell_type": "code",
   "execution_count": 14,
   "metadata": {},
   "outputs": [
    {
     "data": {
      "application/vnd.plotly.v1+json": {
       "config": {
        "plotlyServerURL": "https://plot.ly"
       },
       "data": [
        {
         "alignmentgroup": "True",
         "hovertemplate": "brand=%{y}<br>rating=%{x}<extra></extra>",
         "legendgroup": "tecno",
         "marker": {
          "color": "#636efa"
         },
         "name": "tecno",
         "notched": false,
         "offsetgroup": "tecno",
         "orientation": "h",
         "showlegend": true,
         "type": "box",
         "x": [
          63,
          67
         ],
         "x0": " ",
         "xaxis": "x",
         "y": [
          "tecno",
          "tecno"
         ],
         "y0": " ",
         "yaxis": "y"
        },
        {
         "alignmentgroup": "True",
         "hovertemplate": "brand=%{y}<br>rating=%{x}<extra></extra>",
         "legendgroup": "hp",
         "marker": {
          "color": "#EF553B"
         },
         "name": "hp",
         "notched": false,
         "offsetgroup": "hp",
         "orientation": "h",
         "showlegend": true,
         "type": "box",
         "x": [
          73,
          60,
          85,
          71,
          49,
          77,
          66,
          62,
          71,
          71,
          80,
          71,
          76,
          70,
          63,
          80,
          72,
          65,
          70,
          70,
          70,
          54,
          72,
          70,
          67,
          57,
          62,
          62,
          58,
          54,
          52,
          60,
          60,
          82,
          76,
          64,
          58,
          76,
          59,
          67,
          66,
          49,
          56,
          76,
          63,
          76,
          63,
          75,
          85,
          70,
          63,
          66,
          65,
          65,
          59,
          57,
          69,
          54,
          67,
          68,
          69,
          67,
          73,
          62,
          71,
          64,
          39,
          71,
          54,
          58,
          62,
          52,
          64,
          56,
          64,
          51,
          58,
          62,
          52,
          70,
          78,
          69,
          57,
          77,
          76,
          72,
          60,
          88,
          62,
          70,
          85,
          88,
          79,
          78,
          57,
          47,
          70,
          64,
          75,
          67,
          70,
          57,
          59,
          51,
          58,
          62,
          78,
          63,
          51,
          70,
          71,
          72,
          71,
          86,
          75,
          67,
          67,
          72,
          70,
          67,
          60,
          77,
          73,
          77,
          44,
          56,
          57,
          44,
          69,
          69,
          46,
          67,
          80,
          38,
          52,
          73,
          66,
          66,
          66,
          70,
          66,
          72,
          57,
          60,
          71,
          69,
          71,
          69,
          58,
          53,
          60,
          70,
          58,
          62,
          63,
          72,
          66,
          71,
          49,
          50,
          67,
          63,
          65,
          67,
          47,
          66,
          50,
          64,
          66,
          71,
          65,
          57,
          59,
          58,
          57,
          75,
          66,
          57,
          54,
          54,
          51,
          51,
          54,
          67,
          56,
          67,
          71,
          60,
          75,
          67,
          56,
          77,
          75,
          64,
          79,
          72,
          58,
          59,
          52,
          43,
          37,
          59,
          47,
          73,
          37
         ],
         "x0": " ",
         "xaxis": "x",
         "y": [
          "hp",
          "hp",
          "hp",
          "hp",
          "hp",
          "hp",
          "hp",
          "hp",
          "hp",
          "hp",
          "hp",
          "hp",
          "hp",
          "hp",
          "hp",
          "hp",
          "hp",
          "hp",
          "hp",
          "hp",
          "hp",
          "hp",
          "hp",
          "hp",
          "hp",
          "hp",
          "hp",
          "hp",
          "hp",
          "hp",
          "hp",
          "hp",
          "hp",
          "hp",
          "hp",
          "hp",
          "hp",
          "hp",
          "hp",
          "hp",
          "hp",
          "hp",
          "hp",
          "hp",
          "hp",
          "hp",
          "hp",
          "hp",
          "hp",
          "hp",
          "hp",
          "hp",
          "hp",
          "hp",
          "hp",
          "hp",
          "hp",
          "hp",
          "hp",
          "hp",
          "hp",
          "hp",
          "hp",
          "hp",
          "hp",
          "hp",
          "hp",
          "hp",
          "hp",
          "hp",
          "hp",
          "hp",
          "hp",
          "hp",
          "hp",
          "hp",
          "hp",
          "hp",
          "hp",
          "hp",
          "hp",
          "hp",
          "hp",
          "hp",
          "hp",
          "hp",
          "hp",
          "hp",
          "hp",
          "hp",
          "hp",
          "hp",
          "hp",
          "hp",
          "hp",
          "hp",
          "hp",
          "hp",
          "hp",
          "hp",
          "hp",
          "hp",
          "hp",
          "hp",
          "hp",
          "hp",
          "hp",
          "hp",
          "hp",
          "hp",
          "hp",
          "hp",
          "hp",
          "hp",
          "hp",
          "hp",
          "hp",
          "hp",
          "hp",
          "hp",
          "hp",
          "hp",
          "hp",
          "hp",
          "hp",
          "hp",
          "hp",
          "hp",
          "hp",
          "hp",
          "hp",
          "hp",
          "hp",
          "hp",
          "hp",
          "hp",
          "hp",
          "hp",
          "hp",
          "hp",
          "hp",
          "hp",
          "hp",
          "hp",
          "hp",
          "hp",
          "hp",
          "hp",
          "hp",
          "hp",
          "hp",
          "hp",
          "hp",
          "hp",
          "hp",
          "hp",
          "hp",
          "hp",
          "hp",
          "hp",
          "hp",
          "hp",
          "hp",
          "hp",
          "hp",
          "hp",
          "hp",
          "hp",
          "hp",
          "hp",
          "hp",
          "hp",
          "hp",
          "hp",
          "hp",
          "hp",
          "hp",
          "hp",
          "hp",
          "hp",
          "hp",
          "hp",
          "hp",
          "hp",
          "hp",
          "hp",
          "hp",
          "hp",
          "hp",
          "hp",
          "hp",
          "hp",
          "hp",
          "hp",
          "hp",
          "hp",
          "hp",
          "hp",
          "hp",
          "hp",
          "hp",
          "hp",
          "hp",
          "hp",
          "hp"
         ],
         "y0": " ",
         "yaxis": "y"
        },
        {
         "alignmentgroup": "True",
         "hovertemplate": "brand=%{y}<br>rating=%{x}<extra></extra>",
         "legendgroup": "acer",
         "marker": {
          "color": "#00cc96"
         },
         "name": "acer",
         "notched": false,
         "offsetgroup": "acer",
         "orientation": "h",
         "showlegend": true,
         "type": "box",
         "x": [
          62,
          63,
          64,
          60,
          58,
          71,
          60,
          62,
          72,
          67,
          75,
          70,
          49,
          64,
          54,
          64,
          78,
          57,
          59,
          70,
          67,
          75,
          49,
          67,
          47,
          64,
          64,
          64,
          62,
          63,
          63,
          56,
          62,
          38,
          65,
          62,
          67,
          65,
          38,
          58,
          62,
          50,
          72,
          70,
          63,
          60,
          45,
          79,
          65,
          58,
          80,
          59,
          64,
          70,
          59,
          50,
          57,
          50,
          60,
          69,
          56,
          53,
          51,
          50,
          59,
          52,
          50,
          70,
          62,
          78,
          58,
          47,
          65,
          66,
          64,
          65,
          73,
          74,
          72,
          59,
          50,
          44,
          71,
          77,
          52,
          71,
          54,
          71,
          67
         ],
         "x0": " ",
         "xaxis": "x",
         "y": [
          "acer",
          "acer",
          "acer",
          "acer",
          "acer",
          "acer",
          "acer",
          "acer",
          "acer",
          "acer",
          "acer",
          "acer",
          "acer",
          "acer",
          "acer",
          "acer",
          "acer",
          "acer",
          "acer",
          "acer",
          "acer",
          "acer",
          "acer",
          "acer",
          "acer",
          "acer",
          "acer",
          "acer",
          "acer",
          "acer",
          "acer",
          "acer",
          "acer",
          "acer",
          "acer",
          "acer",
          "acer",
          "acer",
          "acer",
          "acer",
          "acer",
          "acer",
          "acer",
          "acer",
          "acer",
          "acer",
          "acer",
          "acer",
          "acer",
          "acer",
          "acer",
          "acer",
          "acer",
          "acer",
          "acer",
          "acer",
          "acer",
          "acer",
          "acer",
          "acer",
          "acer",
          "acer",
          "acer",
          "acer",
          "acer",
          "acer",
          "acer",
          "acer",
          "acer",
          "acer",
          "acer",
          "acer",
          "acer",
          "acer",
          "acer",
          "acer",
          "acer",
          "acer",
          "acer",
          "acer",
          "acer",
          "acer",
          "acer",
          "acer",
          "acer",
          "acer",
          "acer",
          "acer",
          "acer"
         ],
         "y0": " ",
         "yaxis": "y"
        },
        {
         "alignmentgroup": "True",
         "hovertemplate": "brand=%{y}<br>rating=%{x}<extra></extra>",
         "legendgroup": "lenovo",
         "marker": {
          "color": "#ab63fa"
         },
         "name": "lenovo",
         "notched": false,
         "offsetgroup": "lenovo",
         "orientation": "h",
         "showlegend": true,
         "type": "box",
         "x": [
          62,
          66,
          59,
          59,
          71,
          69,
          51,
          66,
          47,
          70,
          63,
          59,
          80,
          70,
          66,
          64,
          67,
          60,
          64,
          77,
          83,
          60,
          50,
          64,
          62,
          69,
          63,
          67,
          53,
          53,
          53,
          78,
          74,
          49,
          64,
          57,
          58,
          62,
          50,
          58,
          62,
          66,
          57,
          60,
          63,
          51,
          64,
          67,
          66,
          75,
          65,
          57,
          86,
          70,
          69,
          54,
          53,
          57,
          56,
          69,
          67,
          75,
          63,
          58,
          57,
          63,
          65,
          69,
          64,
          56,
          58,
          84,
          85,
          78,
          58,
          77,
          57,
          65,
          57,
          57,
          67,
          58,
          60,
          62,
          51,
          46,
          51,
          63,
          64,
          43,
          69,
          58,
          59,
          65,
          71,
          63,
          89,
          83,
          79,
          67,
          66,
          56,
          65,
          83,
          69,
          52,
          58,
          60,
          62,
          58,
          58,
          53,
          63,
          58,
          59,
          69,
          58,
          60,
          56,
          65,
          64,
          60,
          60,
          60,
          62,
          65,
          64,
          62,
          60,
          59,
          64,
          58,
          60,
          72,
          71,
          73,
          73,
          75,
          73,
          63,
          69,
          72,
          57,
          69,
          38,
          62,
          65,
          59,
          50,
          70,
          62,
          58,
          69,
          64,
          67,
          66,
          67,
          64,
          67,
          59,
          70,
          57,
          62,
          62,
          57,
          63,
          75,
          62,
          57,
          57,
          59,
          54,
          64,
          53,
          54,
          56,
          59,
          57,
          66,
          64,
          50,
          67,
          58,
          67,
          71,
          78,
          47,
          43,
          45,
          58,
          56,
          56,
          60,
          66,
          55,
          52,
          75,
          54,
          50,
          48,
          64
         ],
         "x0": " ",
         "xaxis": "x",
         "y": [
          "lenovo",
          "lenovo",
          "lenovo",
          "lenovo",
          "lenovo",
          "lenovo",
          "lenovo",
          "lenovo",
          "lenovo",
          "lenovo",
          "lenovo",
          "lenovo",
          "lenovo",
          "lenovo",
          "lenovo",
          "lenovo",
          "lenovo",
          "lenovo",
          "lenovo",
          "lenovo",
          "lenovo",
          "lenovo",
          "lenovo",
          "lenovo",
          "lenovo",
          "lenovo",
          "lenovo",
          "lenovo",
          "lenovo",
          "lenovo",
          "lenovo",
          "lenovo",
          "lenovo",
          "lenovo",
          "lenovo",
          "lenovo",
          "lenovo",
          "lenovo",
          "lenovo",
          "lenovo",
          "lenovo",
          "lenovo",
          "lenovo",
          "lenovo",
          "lenovo",
          "lenovo",
          "lenovo",
          "lenovo",
          "lenovo",
          "lenovo",
          "lenovo",
          "lenovo",
          "lenovo",
          "lenovo",
          "lenovo",
          "lenovo",
          "lenovo",
          "lenovo",
          "lenovo",
          "lenovo",
          "lenovo",
          "lenovo",
          "lenovo",
          "lenovo",
          "lenovo",
          "lenovo",
          "lenovo",
          "lenovo",
          "lenovo",
          "lenovo",
          "lenovo",
          "lenovo",
          "lenovo",
          "lenovo",
          "lenovo",
          "lenovo",
          "lenovo",
          "lenovo",
          "lenovo",
          "lenovo",
          "lenovo",
          "lenovo",
          "lenovo",
          "lenovo",
          "lenovo",
          "lenovo",
          "lenovo",
          "lenovo",
          "lenovo",
          "lenovo",
          "lenovo",
          "lenovo",
          "lenovo",
          "lenovo",
          "lenovo",
          "lenovo",
          "lenovo",
          "lenovo",
          "lenovo",
          "lenovo",
          "lenovo",
          "lenovo",
          "lenovo",
          "lenovo",
          "lenovo",
          "lenovo",
          "lenovo",
          "lenovo",
          "lenovo",
          "lenovo",
          "lenovo",
          "lenovo",
          "lenovo",
          "lenovo",
          "lenovo",
          "lenovo",
          "lenovo",
          "lenovo",
          "lenovo",
          "lenovo",
          "lenovo",
          "lenovo",
          "lenovo",
          "lenovo",
          "lenovo",
          "lenovo",
          "lenovo",
          "lenovo",
          "lenovo",
          "lenovo",
          "lenovo",
          "lenovo",
          "lenovo",
          "lenovo",
          "lenovo",
          "lenovo",
          "lenovo",
          "lenovo",
          "lenovo",
          "lenovo",
          "lenovo",
          "lenovo",
          "lenovo",
          "lenovo",
          "lenovo",
          "lenovo",
          "lenovo",
          "lenovo",
          "lenovo",
          "lenovo",
          "lenovo",
          "lenovo",
          "lenovo",
          "lenovo",
          "lenovo",
          "lenovo",
          "lenovo",
          "lenovo",
          "lenovo",
          "lenovo",
          "lenovo",
          "lenovo",
          "lenovo",
          "lenovo",
          "lenovo",
          "lenovo",
          "lenovo",
          "lenovo",
          "lenovo",
          "lenovo",
          "lenovo",
          "lenovo",
          "lenovo",
          "lenovo",
          "lenovo",
          "lenovo",
          "lenovo",
          "lenovo",
          "lenovo",
          "lenovo",
          "lenovo",
          "lenovo",
          "lenovo",
          "lenovo",
          "lenovo",
          "lenovo",
          "lenovo",
          "lenovo",
          "lenovo",
          "lenovo",
          "lenovo",
          "lenovo",
          "lenovo",
          "lenovo",
          "lenovo",
          "lenovo",
          "lenovo",
          "lenovo",
          "lenovo",
          "lenovo",
          "lenovo"
         ],
         "y0": " ",
         "yaxis": "y"
        },
        {
         "alignmentgroup": "True",
         "hovertemplate": "brand=%{y}<br>rating=%{x}<extra></extra>",
         "legendgroup": "apple",
         "marker": {
          "color": "#FFA15A"
         },
         "name": "apple",
         "notched": false,
         "offsetgroup": "apple",
         "orientation": "h",
         "showlegend": true,
         "type": "box",
         "x": [
          45,
          65,
          48,
          53,
          43,
          63,
          64,
          58,
          56,
          56,
          45,
          45,
          53,
          58,
          51
         ],
         "x0": " ",
         "xaxis": "x",
         "y": [
          "apple",
          "apple",
          "apple",
          "apple",
          "apple",
          "apple",
          "apple",
          "apple",
          "apple",
          "apple",
          "apple",
          "apple",
          "apple",
          "apple",
          "apple"
         ],
         "y0": " ",
         "yaxis": "y"
        },
        {
         "alignmentgroup": "True",
         "hovertemplate": "brand=%{y}<br>rating=%{x}<extra></extra>",
         "legendgroup": "infinix",
         "marker": {
          "color": "#19d3f3"
         },
         "name": "infinix",
         "notched": false,
         "offsetgroup": "infinix",
         "orientation": "h",
         "showlegend": true,
         "type": "box",
         "x": [
          56,
          71,
          54,
          50,
          53,
          60,
          63,
          56,
          57,
          57,
          52,
          57,
          58
         ],
         "x0": " ",
         "xaxis": "x",
         "y": [
          "infinix",
          "infinix",
          "infinix",
          "infinix",
          "infinix",
          "infinix",
          "infinix",
          "infinix",
          "infinix",
          "infinix",
          "infinix",
          "infinix",
          "infinix"
         ],
         "y0": " ",
         "yaxis": "y"
        },
        {
         "alignmentgroup": "True",
         "hovertemplate": "brand=%{y}<br>rating=%{x}<extra></extra>",
         "legendgroup": "asus",
         "marker": {
          "color": "#FF6692"
         },
         "name": "asus",
         "notched": false,
         "offsetgroup": "asus",
         "orientation": "h",
         "showlegend": true,
         "type": "box",
         "x": [
          70,
          71,
          76,
          57,
          57,
          65,
          72,
          77,
          83,
          75,
          67,
          64,
          78,
          72,
          62,
          64,
          57,
          63,
          71,
          70,
          70,
          66,
          75,
          72,
          72,
          64,
          88,
          79,
          60,
          65,
          56,
          70,
          62,
          71,
          69,
          35,
          71,
          65,
          76,
          77,
          76,
          70,
          66,
          60,
          59,
          64,
          58,
          80,
          77,
          79,
          78,
          64,
          67,
          64,
          70,
          65,
          71,
          59,
          65,
          60,
          65,
          50,
          73,
          85,
          37,
          44,
          67,
          58,
          65,
          69,
          45,
          63,
          70,
          38,
          66,
          51,
          38,
          73,
          58,
          62,
          70,
          71,
          43,
          67,
          59,
          60,
          64,
          63,
          73,
          64,
          72,
          37,
          41,
          37,
          57,
          37,
          72,
          65,
          66,
          70,
          57,
          62,
          56,
          69,
          63,
          76,
          59,
          57,
          72,
          66,
          72,
          54,
          64,
          45,
          57,
          72,
          75,
          70,
          82,
          72,
          71,
          65,
          60,
          75,
          64,
          60,
          72,
          83,
          71,
          59,
          69,
          64,
          66,
          53,
          45,
          58,
          63,
          64,
          54,
          71,
          73,
          89,
          84,
          75,
          83,
          73,
          77,
          89,
          76,
          80,
          67,
          73,
          82,
          66,
          72,
          75,
          66,
          76,
          66,
          70,
          84,
          71,
          56,
          45,
          56,
          78,
          60,
          59,
          73,
          73,
          70,
          75,
          59,
          64,
          52,
          48,
          59,
          63,
          56,
          62,
          60,
          57,
          56,
          71,
          64,
          64,
          70,
          62,
          60,
          53,
          58,
          51,
          74,
          62,
          67,
          59,
          67,
          89,
          58,
          59,
          53,
          72,
          83,
          68,
          68,
          65,
          64,
          68,
          59,
          68
         ],
         "x0": " ",
         "xaxis": "x",
         "y": [
          "asus",
          "asus",
          "asus",
          "asus",
          "asus",
          "asus",
          "asus",
          "asus",
          "asus",
          "asus",
          "asus",
          "asus",
          "asus",
          "asus",
          "asus",
          "asus",
          "asus",
          "asus",
          "asus",
          "asus",
          "asus",
          "asus",
          "asus",
          "asus",
          "asus",
          "asus",
          "asus",
          "asus",
          "asus",
          "asus",
          "asus",
          "asus",
          "asus",
          "asus",
          "asus",
          "asus",
          "asus",
          "asus",
          "asus",
          "asus",
          "asus",
          "asus",
          "asus",
          "asus",
          "asus",
          "asus",
          "asus",
          "asus",
          "asus",
          "asus",
          "asus",
          "asus",
          "asus",
          "asus",
          "asus",
          "asus",
          "asus",
          "asus",
          "asus",
          "asus",
          "asus",
          "asus",
          "asus",
          "asus",
          "asus",
          "asus",
          "asus",
          "asus",
          "asus",
          "asus",
          "asus",
          "asus",
          "asus",
          "asus",
          "asus",
          "asus",
          "asus",
          "asus",
          "asus",
          "asus",
          "asus",
          "asus",
          "asus",
          "asus",
          "asus",
          "asus",
          "asus",
          "asus",
          "asus",
          "asus",
          "asus",
          "asus",
          "asus",
          "asus",
          "asus",
          "asus",
          "asus",
          "asus",
          "asus",
          "asus",
          "asus",
          "asus",
          "asus",
          "asus",
          "asus",
          "asus",
          "asus",
          "asus",
          "asus",
          "asus",
          "asus",
          "asus",
          "asus",
          "asus",
          "asus",
          "asus",
          "asus",
          "asus",
          "asus",
          "asus",
          "asus",
          "asus",
          "asus",
          "asus",
          "asus",
          "asus",
          "asus",
          "asus",
          "asus",
          "asus",
          "asus",
          "asus",
          "asus",
          "asus",
          "asus",
          "asus",
          "asus",
          "asus",
          "asus",
          "asus",
          "asus",
          "asus",
          "asus",
          "asus",
          "asus",
          "asus",
          "asus",
          "asus",
          "asus",
          "asus",
          "asus",
          "asus",
          "asus",
          "asus",
          "asus",
          "asus",
          "asus",
          "asus",
          "asus",
          "asus",
          "asus",
          "asus",
          "asus",
          "asus",
          "asus",
          "asus",
          "asus",
          "asus",
          "asus",
          "asus",
          "asus",
          "asus",
          "asus",
          "asus",
          "asus",
          "asus",
          "asus",
          "asus",
          "asus",
          "asus",
          "asus",
          "asus",
          "asus",
          "asus",
          "asus",
          "asus",
          "asus",
          "asus",
          "asus",
          "asus",
          "asus",
          "asus",
          "asus",
          "asus",
          "asus",
          "asus",
          "asus",
          "asus",
          "asus",
          "asus",
          "asus",
          "asus",
          "asus",
          "asus",
          "asus",
          "asus",
          "asus",
          "asus",
          "asus",
          "asus"
         ],
         "y0": " ",
         "yaxis": "y"
        },
        {
         "alignmentgroup": "True",
         "hovertemplate": "brand=%{y}<br>rating=%{x}<extra></extra>",
         "legendgroup": "dell",
         "marker": {
          "color": "#B6E880"
         },
         "name": "dell",
         "notched": false,
         "offsetgroup": "dell",
         "orientation": "h",
         "showlegend": true,
         "type": "box",
         "x": [
          60,
          66,
          71,
          66,
          66,
          70,
          60,
          72,
          74,
          78,
          59,
          53,
          73,
          63,
          62,
          68,
          62,
          56,
          67,
          80,
          53,
          58,
          49,
          59,
          64,
          75,
          58,
          57,
          53,
          53,
          57,
          57,
          56,
          57,
          56,
          57,
          62,
          53,
          58,
          57,
          78,
          56,
          58,
          63,
          58,
          62,
          54,
          59,
          57,
          60,
          63,
          58,
          60,
          85,
          63,
          65,
          83,
          65,
          85,
          80,
          83,
          89,
          60,
          63,
          60,
          56,
          53,
          56,
          67,
          58,
          52,
          60,
          60,
          70,
          88,
          82,
          54,
          72,
          71,
          56,
          78,
          82,
          59,
          58,
          57,
          56,
          52,
          57,
          56,
          76,
          52,
          79,
          73,
          75,
          69,
          78,
          83,
          82,
          83,
          63,
          63,
          59,
          62,
          59,
          68,
          72
         ],
         "x0": " ",
         "xaxis": "x",
         "y": [
          "dell",
          "dell",
          "dell",
          "dell",
          "dell",
          "dell",
          "dell",
          "dell",
          "dell",
          "dell",
          "dell",
          "dell",
          "dell",
          "dell",
          "dell",
          "dell",
          "dell",
          "dell",
          "dell",
          "dell",
          "dell",
          "dell",
          "dell",
          "dell",
          "dell",
          "dell",
          "dell",
          "dell",
          "dell",
          "dell",
          "dell",
          "dell",
          "dell",
          "dell",
          "dell",
          "dell",
          "dell",
          "dell",
          "dell",
          "dell",
          "dell",
          "dell",
          "dell",
          "dell",
          "dell",
          "dell",
          "dell",
          "dell",
          "dell",
          "dell",
          "dell",
          "dell",
          "dell",
          "dell",
          "dell",
          "dell",
          "dell",
          "dell",
          "dell",
          "dell",
          "dell",
          "dell",
          "dell",
          "dell",
          "dell",
          "dell",
          "dell",
          "dell",
          "dell",
          "dell",
          "dell",
          "dell",
          "dell",
          "dell",
          "dell",
          "dell",
          "dell",
          "dell",
          "dell",
          "dell",
          "dell",
          "dell",
          "dell",
          "dell",
          "dell",
          "dell",
          "dell",
          "dell",
          "dell",
          "dell",
          "dell",
          "dell",
          "dell",
          "dell",
          "dell",
          "dell",
          "dell",
          "dell",
          "dell",
          "dell",
          "dell",
          "dell",
          "dell",
          "dell",
          "dell",
          "dell"
         ],
         "y0": " ",
         "yaxis": "y"
        },
        {
         "alignmentgroup": "True",
         "hovertemplate": "brand=%{y}<br>rating=%{x}<extra></extra>",
         "legendgroup": "samsung",
         "marker": {
          "color": "#FF97FF"
         },
         "name": "samsung",
         "notched": false,
         "offsetgroup": "samsung",
         "orientation": "h",
         "showlegend": true,
         "type": "box",
         "x": [
          68,
          59,
          62,
          56,
          60,
          59,
          68
         ],
         "x0": " ",
         "xaxis": "x",
         "y": [
          "samsung",
          "samsung",
          "samsung",
          "samsung",
          "samsung",
          "samsung",
          "samsung"
         ],
         "y0": " ",
         "yaxis": "y"
        },
        {
         "alignmentgroup": "True",
         "hovertemplate": "brand=%{y}<br>rating=%{x}<extra></extra>",
         "legendgroup": "msi",
         "marker": {
          "color": "#FECB52"
         },
         "name": "msi",
         "notched": false,
         "offsetgroup": "msi",
         "orientation": "h",
         "showlegend": true,
         "type": "box",
         "x": [
          71,
          76,
          58,
          70,
          65,
          75,
          65,
          63,
          60,
          73,
          65,
          73,
          62,
          65,
          72,
          62,
          73,
          69,
          62,
          79,
          78,
          69,
          80,
          89,
          70,
          83,
          71,
          76,
          76,
          77,
          79,
          76,
          77,
          69,
          71,
          70,
          83,
          73,
          89,
          63,
          58,
          77,
          71,
          65,
          67,
          78,
          67,
          65,
          78,
          69,
          77,
          66,
          77,
          75,
          63,
          70,
          65,
          75,
          75,
          85,
          69,
          71,
          73,
          86,
          71,
          77,
          65,
          70,
          89,
          65,
          71,
          84,
          87,
          80,
          70,
          72,
          53,
          54,
          60,
          58,
          59,
          72,
          74,
          67,
          59,
          61,
          58,
          56,
          76,
          73
         ],
         "x0": " ",
         "xaxis": "x",
         "y": [
          "msi",
          "msi",
          "msi",
          "msi",
          "msi",
          "msi",
          "msi",
          "msi",
          "msi",
          "msi",
          "msi",
          "msi",
          "msi",
          "msi",
          "msi",
          "msi",
          "msi",
          "msi",
          "msi",
          "msi",
          "msi",
          "msi",
          "msi",
          "msi",
          "msi",
          "msi",
          "msi",
          "msi",
          "msi",
          "msi",
          "msi",
          "msi",
          "msi",
          "msi",
          "msi",
          "msi",
          "msi",
          "msi",
          "msi",
          "msi",
          "msi",
          "msi",
          "msi",
          "msi",
          "msi",
          "msi",
          "msi",
          "msi",
          "msi",
          "msi",
          "msi",
          "msi",
          "msi",
          "msi",
          "msi",
          "msi",
          "msi",
          "msi",
          "msi",
          "msi",
          "msi",
          "msi",
          "msi",
          "msi",
          "msi",
          "msi",
          "msi",
          "msi",
          "msi",
          "msi",
          "msi",
          "msi",
          "msi",
          "msi",
          "msi",
          "msi",
          "msi",
          "msi",
          "msi",
          "msi",
          "msi",
          "msi",
          "msi",
          "msi",
          "msi",
          "msi",
          "msi",
          "msi",
          "msi",
          "msi"
         ],
         "y0": " ",
         "yaxis": "y"
        },
        {
         "alignmentgroup": "True",
         "hovertemplate": "brand=%{y}<br>rating=%{x}<extra></extra>",
         "legendgroup": "wings",
         "marker": {
          "color": "#636efa"
         },
         "name": "wings",
         "notched": false,
         "offsetgroup": "wings",
         "orientation": "h",
         "showlegend": true,
         "type": "box",
         "x": [
          56,
          58,
          49,
          51
         ],
         "x0": " ",
         "xaxis": "x",
         "y": [
          "wings",
          "wings",
          "wings",
          "wings"
         ],
         "y0": " ",
         "yaxis": "y"
        },
        {
         "alignmentgroup": "True",
         "hovertemplate": "brand=%{y}<br>rating=%{x}<extra></extra>",
         "legendgroup": "ultimus",
         "marker": {
          "color": "#EF553B"
         },
         "name": "ultimus",
         "notched": false,
         "offsetgroup": "ultimus",
         "orientation": "h",
         "showlegend": true,
         "type": "box",
         "x": [
          54,
          46,
          41,
          45,
          47,
          52
         ],
         "x0": " ",
         "xaxis": "x",
         "y": [
          "ultimus",
          "ultimus",
          "ultimus",
          "ultimus",
          "ultimus",
          "ultimus"
         ],
         "y0": " ",
         "yaxis": "y"
        },
        {
         "alignmentgroup": "True",
         "hovertemplate": "brand=%{y}<br>rating=%{x}<extra></extra>",
         "legendgroup": "primebook",
         "marker": {
          "color": "#00cc96"
         },
         "name": "primebook",
         "notched": false,
         "offsetgroup": "primebook",
         "orientation": "h",
         "showlegend": true,
         "type": "box",
         "x": [
          26,
          31
         ],
         "x0": " ",
         "xaxis": "x",
         "y": [
          "primebook",
          "primebook"
         ],
         "y0": " ",
         "yaxis": "y"
        },
        {
         "alignmentgroup": "True",
         "hovertemplate": "brand=%{y}<br>rating=%{x}<extra></extra>",
         "legendgroup": "iball",
         "marker": {
          "color": "#ab63fa"
         },
         "name": "iball",
         "notched": false,
         "offsetgroup": "iball",
         "orientation": "h",
         "showlegend": true,
         "type": "box",
         "x": [
          41
         ],
         "x0": " ",
         "xaxis": "x",
         "y": [
          "iball"
         ],
         "y0": " ",
         "yaxis": "y"
        },
        {
         "alignmentgroup": "True",
         "hovertemplate": "brand=%{y}<br>rating=%{x}<extra></extra>",
         "legendgroup": "zebronics",
         "marker": {
          "color": "#FFA15A"
         },
         "name": "zebronics",
         "notched": false,
         "offsetgroup": "zebronics",
         "orientation": "h",
         "showlegend": true,
         "type": "box",
         "x": [
          65,
          63,
          72,
          56,
          66,
          60,
          72
         ],
         "x0": " ",
         "xaxis": "x",
         "y": [
          "zebronics",
          "zebronics",
          "zebronics",
          "zebronics",
          "zebronics",
          "zebronics",
          "zebronics"
         ],
         "y0": " ",
         "yaxis": "y"
        },
        {
         "alignmentgroup": "True",
         "hovertemplate": "brand=%{y}<br>rating=%{x}<extra></extra>",
         "legendgroup": "chuwi",
         "marker": {
          "color": "#19d3f3"
         },
         "name": "chuwi",
         "notched": false,
         "offsetgroup": "chuwi",
         "orientation": "h",
         "showlegend": true,
         "type": "box",
         "x": [
          50,
          50,
          50,
          54
         ],
         "x0": " ",
         "xaxis": "x",
         "y": [
          "chuwi",
          "chuwi",
          "chuwi",
          "chuwi"
         ],
         "y0": " ",
         "yaxis": "y"
        },
        {
         "alignmentgroup": "True",
         "hovertemplate": "brand=%{y}<br>rating=%{x}<extra></extra>",
         "legendgroup": "gigabyte",
         "marker": {
          "color": "#FF6692"
         },
         "name": "gigabyte",
         "notched": false,
         "offsetgroup": "gigabyte",
         "orientation": "h",
         "showlegend": true,
         "type": "box",
         "x": [
          67,
          73
         ],
         "x0": " ",
         "xaxis": "x",
         "y": [
          "gigabyte",
          "gigabyte"
         ],
         "y0": " ",
         "yaxis": "y"
        },
        {
         "alignmentgroup": "True",
         "hovertemplate": "brand=%{y}<br>rating=%{x}<extra></extra>",
         "legendgroup": "jio",
         "marker": {
          "color": "#B6E880"
         },
         "name": "jio",
         "notched": false,
         "offsetgroup": "jio",
         "orientation": "h",
         "showlegend": true,
         "type": "box",
         "x": [
          24
         ],
         "x0": " ",
         "xaxis": "x",
         "y": [
          "jio"
         ],
         "y0": " ",
         "yaxis": "y"
        },
        {
         "alignmentgroup": "True",
         "hovertemplate": "brand=%{y}<br>rating=%{x}<extra></extra>",
         "legendgroup": "honor",
         "marker": {
          "color": "#FF97FF"
         },
         "name": "honor",
         "notched": false,
         "offsetgroup": "honor",
         "orientation": "h",
         "showlegend": true,
         "type": "box",
         "x": [
          66,
          59
         ],
         "x0": " ",
         "xaxis": "x",
         "y": [
          "honor",
          "honor"
         ],
         "y0": " ",
         "yaxis": "y"
        },
        {
         "alignmentgroup": "True",
         "hovertemplate": "brand=%{y}<br>rating=%{x}<extra></extra>",
         "legendgroup": "realme",
         "marker": {
          "color": "#FECB52"
         },
         "name": "realme",
         "notched": false,
         "offsetgroup": "realme",
         "orientation": "h",
         "showlegend": true,
         "type": "box",
         "x": [
          52,
          62
         ],
         "x0": " ",
         "xaxis": "x",
         "y": [
          "realme",
          "realme"
         ],
         "y0": " ",
         "yaxis": "y"
        },
        {
         "alignmentgroup": "True",
         "hovertemplate": "brand=%{y}<br>rating=%{x}<extra></extra>",
         "legendgroup": "avita",
         "marker": {
          "color": "#636efa"
         },
         "name": "avita",
         "notched": false,
         "offsetgroup": "avita",
         "orientation": "h",
         "showlegend": true,
         "type": "box",
         "x": [
          56,
          50,
          51,
          41,
          43
         ],
         "x0": " ",
         "xaxis": "x",
         "y": [
          "avita",
          "avita",
          "avita",
          "avita",
          "avita"
         ],
         "y0": " ",
         "yaxis": "y"
        },
        {
         "alignmentgroup": "True",
         "hovertemplate": "brand=%{y}<br>rating=%{x}<extra></extra>",
         "legendgroup": "microsoft",
         "marker": {
          "color": "#EF553B"
         },
         "name": "microsoft",
         "notched": false,
         "offsetgroup": "microsoft",
         "orientation": "h",
         "showlegend": true,
         "type": "box",
         "x": [
          58,
          60
         ],
         "x0": " ",
         "xaxis": "x",
         "y": [
          "microsoft",
          "microsoft"
         ],
         "y0": " ",
         "yaxis": "y"
        },
        {
         "alignmentgroup": "True",
         "hovertemplate": "brand=%{y}<br>rating=%{x}<extra></extra>",
         "legendgroup": "fujitsu",
         "marker": {
          "color": "#00cc96"
         },
         "name": "fujitsu",
         "notched": false,
         "offsetgroup": "fujitsu",
         "orientation": "h",
         "showlegend": true,
         "type": "box",
         "x": [
          67,
          65,
          76,
          73,
          70
         ],
         "x0": " ",
         "xaxis": "x",
         "y": [
          "fujitsu",
          "fujitsu",
          "fujitsu",
          "fujitsu",
          "fujitsu"
         ],
         "y0": " ",
         "yaxis": "y"
        },
        {
         "alignmentgroup": "True",
         "hovertemplate": "brand=%{y}<br>rating=%{x}<extra></extra>",
         "legendgroup": "lg",
         "marker": {
          "color": "#ab63fa"
         },
         "name": "lg",
         "notched": false,
         "offsetgroup": "lg",
         "orientation": "h",
         "showlegend": true,
         "type": "box",
         "x": [
          67,
          72,
          78,
          69,
          75,
          72,
          72
         ],
         "x0": " ",
         "xaxis": "x",
         "y": [
          "lg",
          "lg",
          "lg",
          "lg",
          "lg",
          "lg",
          "lg"
         ],
         "y0": " ",
         "yaxis": "y"
        },
        {
         "alignmentgroup": "True",
         "hovertemplate": "brand=%{y}<br>rating=%{x}<extra></extra>",
         "legendgroup": "walker",
         "marker": {
          "color": "#FFA15A"
         },
         "name": "walker",
         "notched": false,
         "offsetgroup": "walker",
         "orientation": "h",
         "showlegend": true,
         "type": "box",
         "x": [
          37
         ],
         "x0": " ",
         "xaxis": "x",
         "y": [
          "walker"
         ],
         "y0": " ",
         "yaxis": "y"
        },
        {
         "alignmentgroup": "True",
         "hovertemplate": "brand=%{y}<br>rating=%{x}<extra></extra>",
         "legendgroup": "axl",
         "marker": {
          "color": "#19d3f3"
         },
         "name": "axl",
         "notched": false,
         "offsetgroup": "axl",
         "orientation": "h",
         "showlegend": true,
         "type": "box",
         "x": [
          38,
          37
         ],
         "x0": " ",
         "xaxis": "x",
         "y": [
          "axl",
          "axl"
         ],
         "y0": " ",
         "yaxis": "y"
        }
       ],
       "layout": {
        "boxmode": "overlay",
        "legend": {
         "title": {
          "text": "brand"
         },
         "tracegroupgap": 0
        },
        "margin": {
         "t": 60
        },
        "template": {
         "data": {
          "bar": [
           {
            "error_x": {
             "color": "#2a3f5f"
            },
            "error_y": {
             "color": "#2a3f5f"
            },
            "marker": {
             "line": {
              "color": "#E5ECF6",
              "width": 0.5
             },
             "pattern": {
              "fillmode": "overlay",
              "size": 10,
              "solidity": 0.2
             }
            },
            "type": "bar"
           }
          ],
          "barpolar": [
           {
            "marker": {
             "line": {
              "color": "#E5ECF6",
              "width": 0.5
             },
             "pattern": {
              "fillmode": "overlay",
              "size": 10,
              "solidity": 0.2
             }
            },
            "type": "barpolar"
           }
          ],
          "carpet": [
           {
            "aaxis": {
             "endlinecolor": "#2a3f5f",
             "gridcolor": "white",
             "linecolor": "white",
             "minorgridcolor": "white",
             "startlinecolor": "#2a3f5f"
            },
            "baxis": {
             "endlinecolor": "#2a3f5f",
             "gridcolor": "white",
             "linecolor": "white",
             "minorgridcolor": "white",
             "startlinecolor": "#2a3f5f"
            },
            "type": "carpet"
           }
          ],
          "choropleth": [
           {
            "colorbar": {
             "outlinewidth": 0,
             "ticks": ""
            },
            "type": "choropleth"
           }
          ],
          "contour": [
           {
            "colorbar": {
             "outlinewidth": 0,
             "ticks": ""
            },
            "colorscale": [
             [
              0,
              "#0d0887"
             ],
             [
              0.1111111111111111,
              "#46039f"
             ],
             [
              0.2222222222222222,
              "#7201a8"
             ],
             [
              0.3333333333333333,
              "#9c179e"
             ],
             [
              0.4444444444444444,
              "#bd3786"
             ],
             [
              0.5555555555555556,
              "#d8576b"
             ],
             [
              0.6666666666666666,
              "#ed7953"
             ],
             [
              0.7777777777777778,
              "#fb9f3a"
             ],
             [
              0.8888888888888888,
              "#fdca26"
             ],
             [
              1,
              "#f0f921"
             ]
            ],
            "type": "contour"
           }
          ],
          "contourcarpet": [
           {
            "colorbar": {
             "outlinewidth": 0,
             "ticks": ""
            },
            "type": "contourcarpet"
           }
          ],
          "heatmap": [
           {
            "colorbar": {
             "outlinewidth": 0,
             "ticks": ""
            },
            "colorscale": [
             [
              0,
              "#0d0887"
             ],
             [
              0.1111111111111111,
              "#46039f"
             ],
             [
              0.2222222222222222,
              "#7201a8"
             ],
             [
              0.3333333333333333,
              "#9c179e"
             ],
             [
              0.4444444444444444,
              "#bd3786"
             ],
             [
              0.5555555555555556,
              "#d8576b"
             ],
             [
              0.6666666666666666,
              "#ed7953"
             ],
             [
              0.7777777777777778,
              "#fb9f3a"
             ],
             [
              0.8888888888888888,
              "#fdca26"
             ],
             [
              1,
              "#f0f921"
             ]
            ],
            "type": "heatmap"
           }
          ],
          "heatmapgl": [
           {
            "colorbar": {
             "outlinewidth": 0,
             "ticks": ""
            },
            "colorscale": [
             [
              0,
              "#0d0887"
             ],
             [
              0.1111111111111111,
              "#46039f"
             ],
             [
              0.2222222222222222,
              "#7201a8"
             ],
             [
              0.3333333333333333,
              "#9c179e"
             ],
             [
              0.4444444444444444,
              "#bd3786"
             ],
             [
              0.5555555555555556,
              "#d8576b"
             ],
             [
              0.6666666666666666,
              "#ed7953"
             ],
             [
              0.7777777777777778,
              "#fb9f3a"
             ],
             [
              0.8888888888888888,
              "#fdca26"
             ],
             [
              1,
              "#f0f921"
             ]
            ],
            "type": "heatmapgl"
           }
          ],
          "histogram": [
           {
            "marker": {
             "pattern": {
              "fillmode": "overlay",
              "size": 10,
              "solidity": 0.2
             }
            },
            "type": "histogram"
           }
          ],
          "histogram2d": [
           {
            "colorbar": {
             "outlinewidth": 0,
             "ticks": ""
            },
            "colorscale": [
             [
              0,
              "#0d0887"
             ],
             [
              0.1111111111111111,
              "#46039f"
             ],
             [
              0.2222222222222222,
              "#7201a8"
             ],
             [
              0.3333333333333333,
              "#9c179e"
             ],
             [
              0.4444444444444444,
              "#bd3786"
             ],
             [
              0.5555555555555556,
              "#d8576b"
             ],
             [
              0.6666666666666666,
              "#ed7953"
             ],
             [
              0.7777777777777778,
              "#fb9f3a"
             ],
             [
              0.8888888888888888,
              "#fdca26"
             ],
             [
              1,
              "#f0f921"
             ]
            ],
            "type": "histogram2d"
           }
          ],
          "histogram2dcontour": [
           {
            "colorbar": {
             "outlinewidth": 0,
             "ticks": ""
            },
            "colorscale": [
             [
              0,
              "#0d0887"
             ],
             [
              0.1111111111111111,
              "#46039f"
             ],
             [
              0.2222222222222222,
              "#7201a8"
             ],
             [
              0.3333333333333333,
              "#9c179e"
             ],
             [
              0.4444444444444444,
              "#bd3786"
             ],
             [
              0.5555555555555556,
              "#d8576b"
             ],
             [
              0.6666666666666666,
              "#ed7953"
             ],
             [
              0.7777777777777778,
              "#fb9f3a"
             ],
             [
              0.8888888888888888,
              "#fdca26"
             ],
             [
              1,
              "#f0f921"
             ]
            ],
            "type": "histogram2dcontour"
           }
          ],
          "mesh3d": [
           {
            "colorbar": {
             "outlinewidth": 0,
             "ticks": ""
            },
            "type": "mesh3d"
           }
          ],
          "parcoords": [
           {
            "line": {
             "colorbar": {
              "outlinewidth": 0,
              "ticks": ""
             }
            },
            "type": "parcoords"
           }
          ],
          "pie": [
           {
            "automargin": true,
            "type": "pie"
           }
          ],
          "scatter": [
           {
            "fillpattern": {
             "fillmode": "overlay",
             "size": 10,
             "solidity": 0.2
            },
            "type": "scatter"
           }
          ],
          "scatter3d": [
           {
            "line": {
             "colorbar": {
              "outlinewidth": 0,
              "ticks": ""
             }
            },
            "marker": {
             "colorbar": {
              "outlinewidth": 0,
              "ticks": ""
             }
            },
            "type": "scatter3d"
           }
          ],
          "scattercarpet": [
           {
            "marker": {
             "colorbar": {
              "outlinewidth": 0,
              "ticks": ""
             }
            },
            "type": "scattercarpet"
           }
          ],
          "scattergeo": [
           {
            "marker": {
             "colorbar": {
              "outlinewidth": 0,
              "ticks": ""
             }
            },
            "type": "scattergeo"
           }
          ],
          "scattergl": [
           {
            "marker": {
             "colorbar": {
              "outlinewidth": 0,
              "ticks": ""
             }
            },
            "type": "scattergl"
           }
          ],
          "scattermapbox": [
           {
            "marker": {
             "colorbar": {
              "outlinewidth": 0,
              "ticks": ""
             }
            },
            "type": "scattermapbox"
           }
          ],
          "scatterpolar": [
           {
            "marker": {
             "colorbar": {
              "outlinewidth": 0,
              "ticks": ""
             }
            },
            "type": "scatterpolar"
           }
          ],
          "scatterpolargl": [
           {
            "marker": {
             "colorbar": {
              "outlinewidth": 0,
              "ticks": ""
             }
            },
            "type": "scatterpolargl"
           }
          ],
          "scatterternary": [
           {
            "marker": {
             "colorbar": {
              "outlinewidth": 0,
              "ticks": ""
             }
            },
            "type": "scatterternary"
           }
          ],
          "surface": [
           {
            "colorbar": {
             "outlinewidth": 0,
             "ticks": ""
            },
            "colorscale": [
             [
              0,
              "#0d0887"
             ],
             [
              0.1111111111111111,
              "#46039f"
             ],
             [
              0.2222222222222222,
              "#7201a8"
             ],
             [
              0.3333333333333333,
              "#9c179e"
             ],
             [
              0.4444444444444444,
              "#bd3786"
             ],
             [
              0.5555555555555556,
              "#d8576b"
             ],
             [
              0.6666666666666666,
              "#ed7953"
             ],
             [
              0.7777777777777778,
              "#fb9f3a"
             ],
             [
              0.8888888888888888,
              "#fdca26"
             ],
             [
              1,
              "#f0f921"
             ]
            ],
            "type": "surface"
           }
          ],
          "table": [
           {
            "cells": {
             "fill": {
              "color": "#EBF0F8"
             },
             "line": {
              "color": "white"
             }
            },
            "header": {
             "fill": {
              "color": "#C8D4E3"
             },
             "line": {
              "color": "white"
             }
            },
            "type": "table"
           }
          ]
         },
         "layout": {
          "annotationdefaults": {
           "arrowcolor": "#2a3f5f",
           "arrowhead": 0,
           "arrowwidth": 1
          },
          "autotypenumbers": "strict",
          "coloraxis": {
           "colorbar": {
            "outlinewidth": 0,
            "ticks": ""
           }
          },
          "colorscale": {
           "diverging": [
            [
             0,
             "#8e0152"
            ],
            [
             0.1,
             "#c51b7d"
            ],
            [
             0.2,
             "#de77ae"
            ],
            [
             0.3,
             "#f1b6da"
            ],
            [
             0.4,
             "#fde0ef"
            ],
            [
             0.5,
             "#f7f7f7"
            ],
            [
             0.6,
             "#e6f5d0"
            ],
            [
             0.7,
             "#b8e186"
            ],
            [
             0.8,
             "#7fbc41"
            ],
            [
             0.9,
             "#4d9221"
            ],
            [
             1,
             "#276419"
            ]
           ],
           "sequential": [
            [
             0,
             "#0d0887"
            ],
            [
             0.1111111111111111,
             "#46039f"
            ],
            [
             0.2222222222222222,
             "#7201a8"
            ],
            [
             0.3333333333333333,
             "#9c179e"
            ],
            [
             0.4444444444444444,
             "#bd3786"
            ],
            [
             0.5555555555555556,
             "#d8576b"
            ],
            [
             0.6666666666666666,
             "#ed7953"
            ],
            [
             0.7777777777777778,
             "#fb9f3a"
            ],
            [
             0.8888888888888888,
             "#fdca26"
            ],
            [
             1,
             "#f0f921"
            ]
           ],
           "sequentialminus": [
            [
             0,
             "#0d0887"
            ],
            [
             0.1111111111111111,
             "#46039f"
            ],
            [
             0.2222222222222222,
             "#7201a8"
            ],
            [
             0.3333333333333333,
             "#9c179e"
            ],
            [
             0.4444444444444444,
             "#bd3786"
            ],
            [
             0.5555555555555556,
             "#d8576b"
            ],
            [
             0.6666666666666666,
             "#ed7953"
            ],
            [
             0.7777777777777778,
             "#fb9f3a"
            ],
            [
             0.8888888888888888,
             "#fdca26"
            ],
            [
             1,
             "#f0f921"
            ]
           ]
          },
          "colorway": [
           "#636efa",
           "#EF553B",
           "#00cc96",
           "#ab63fa",
           "#FFA15A",
           "#19d3f3",
           "#FF6692",
           "#B6E880",
           "#FF97FF",
           "#FECB52"
          ],
          "font": {
           "color": "#2a3f5f"
          },
          "geo": {
           "bgcolor": "white",
           "lakecolor": "white",
           "landcolor": "#E5ECF6",
           "showlakes": true,
           "showland": true,
           "subunitcolor": "white"
          },
          "hoverlabel": {
           "align": "left"
          },
          "hovermode": "closest",
          "mapbox": {
           "style": "light"
          },
          "paper_bgcolor": "white",
          "plot_bgcolor": "#E5ECF6",
          "polar": {
           "angularaxis": {
            "gridcolor": "white",
            "linecolor": "white",
            "ticks": ""
           },
           "bgcolor": "#E5ECF6",
           "radialaxis": {
            "gridcolor": "white",
            "linecolor": "white",
            "ticks": ""
           }
          },
          "scene": {
           "xaxis": {
            "backgroundcolor": "#E5ECF6",
            "gridcolor": "white",
            "gridwidth": 2,
            "linecolor": "white",
            "showbackground": true,
            "ticks": "",
            "zerolinecolor": "white"
           },
           "yaxis": {
            "backgroundcolor": "#E5ECF6",
            "gridcolor": "white",
            "gridwidth": 2,
            "linecolor": "white",
            "showbackground": true,
            "ticks": "",
            "zerolinecolor": "white"
           },
           "zaxis": {
            "backgroundcolor": "#E5ECF6",
            "gridcolor": "white",
            "gridwidth": 2,
            "linecolor": "white",
            "showbackground": true,
            "ticks": "",
            "zerolinecolor": "white"
           }
          },
          "shapedefaults": {
           "line": {
            "color": "#2a3f5f"
           }
          },
          "ternary": {
           "aaxis": {
            "gridcolor": "white",
            "linecolor": "white",
            "ticks": ""
           },
           "baxis": {
            "gridcolor": "white",
            "linecolor": "white",
            "ticks": ""
           },
           "bgcolor": "#E5ECF6",
           "caxis": {
            "gridcolor": "white",
            "linecolor": "white",
            "ticks": ""
           }
          },
          "title": {
           "x": 0.05
          },
          "xaxis": {
           "automargin": true,
           "gridcolor": "white",
           "linecolor": "white",
           "ticks": "",
           "title": {
            "standoff": 15
           },
           "zerolinecolor": "white",
           "zerolinewidth": 2
          },
          "yaxis": {
           "automargin": true,
           "gridcolor": "white",
           "linecolor": "white",
           "ticks": "",
           "title": {
            "standoff": 15
           },
           "zerolinecolor": "white",
           "zerolinewidth": 2
          }
         }
        },
        "xaxis": {
         "anchor": "y",
         "domain": [
          0,
          1
         ],
         "title": {
          "text": "rating"
         }
        },
        "yaxis": {
         "anchor": "x",
         "categoryarray": [
          "axl",
          "walker",
          "lg",
          "fujitsu",
          "microsoft",
          "avita",
          "realme",
          "honor",
          "jio",
          "gigabyte",
          "chuwi",
          "zebronics",
          "iball",
          "primebook",
          "ultimus",
          "wings",
          "msi",
          "samsung",
          "dell",
          "asus",
          "infinix",
          "apple",
          "lenovo",
          "acer",
          "hp",
          "tecno"
         ],
         "categoryorder": "array",
         "domain": [
          0,
          1
         ],
         "title": {
          "text": "brand"
         }
        }
       }
      }
     },
     "metadata": {},
     "output_type": "display_data"
    }
   ],
   "source": [
    "# Plot de dist boxplot por brand e rating\n",
    "px.box(df_laptops, x='rating', y='brand', color='brand', orientation='h')"
   ]
  },
  {
   "cell_type": "code",
   "execution_count": 15,
   "metadata": {},
   "outputs": [
    {
     "data": {
      "application/vnd.plotly.v1+json": {
       "config": {
        "plotlyServerURL": "https://plot.ly"
       },
       "data": [
        {
         "hovertemplate": "brand=tecno<br>price=%{x}<br>rating=%{y}<extra></extra>",
         "legendgroup": "tecno",
         "marker": {
          "color": "#636efa",
          "symbol": "circle"
         },
         "mode": "markers",
         "name": "tecno",
         "orientation": "v",
         "showlegend": true,
         "type": "scatter",
         "x": [
          287.72,
          431.64
         ],
         "xaxis": "x",
         "y": [
          63,
          67
         ],
         "yaxis": "y"
        },
        {
         "hovertemplate": "brand=hp<br>price=%{x}<br>rating=%{y}<extra></extra>",
         "legendgroup": "hp",
         "marker": {
          "color": "#EF553B",
          "symbol": "circle"
         },
         "mode": "markers",
         "name": "hp",
         "orientation": "v",
         "showlegend": true,
         "type": "scatter",
         "x": [
          612.86,
          443.64,
          1846.86,
          665.51,
          231.46,
          947.36,
          863.51,
          647.52,
          1065.01,
          642.49,
          1403.11,
          849.25,
          1002.53,
          653.52,
          509.71,
          1774.9,
          839.53,
          863.4,
          934.27,
          695.5,
          599.66,
          731.48,
          803.44,
          623.54,
          671.51,
          621.26,
          596.97,
          524.11,
          418.45,
          389.67,
          520.51,
          372.87,
          485.72,
          2426.74,
          1989.7,
          731.48,
          611.65,
          1989.7,
          476.14,
          824.07,
          731.48,
          287.83,
          383.78,
          1112.99,
          875.51,
          1044.5,
          419.65,
          773.57,
          2116.82,
          1139.25,
          671.51,
          875.76,
          599.55,
          629.53,
          482.01,
          743.47,
          1073.29,
          419.65,
          611.54,
          563.57,
          851.41,
          623.54,
          695.5,
          581.08,
          959.35,
          767.46,
          231.46,
          718.06,
          683.61,
          487.04,
          767.46,
          299.71,
          500.72,
          1084.97,
          953.08,
          689.62,
          654.83,
          622.47,
          807.01,
          1862.56,
          1342.58,
          918.68,
          491.61,
          1192.98,
          1355.13,
          1091.39,
          430.56,
          4107.74,
          637.93,
          1110.47,
          3112.27,
          3514.05,
          1990.89,
          2020.89,
          467.62,
          347.69,
          1079.39,
          899.49,
          1367.23,
          623.54,
          1087.67,
          480.93,
          910.18,
          335.7,
          731.58,
          533.59,
          2194.67,
          696.46,
          383.67,
          1834.87,
          898.9,
          1432.01,
          1199.33,
          2870.01,
          1590.31,
          611.65,
          1259.74,
          1220.93,
          677.51,
          936.68,
          441.24,
          1762.91,
          1475.31,
          1678.95,
          275.73,
          524.53,
          520.51,
          311.71,
          1520.76,
          1598.35,
          395.66,
          1444.59,
          2759.2,
          611.54,
          287.83,
          1175.34,
          1158.44,
          1055.3,
          1039.71,
          1051.7,
          946.16,
          1007.32,
          467.62,
          611.54,
          1292.44,
          935.71,
          1387.71,
          1319.15,
          539.58,
          575.56,
          635.53,
          1391.11,
          539.58,
          644.03,
          467.62,
          1574.92,
          780.77,
          701.6,
          344.81,
          338.29,
          887.39,
          550.48,
          821.42,
          759.35,
          467.62,
          779.45,
          353.69,
          743.47,
          905.9,
          1104.23,
          839.42,
          808.35,
          779.45,
          395.66,
          737.47,
          1415.22,
          954.55,
          635.53,
          480.93,
          557.57,
          571.49,
          563.57,
          725.48,
          599.55,
          786.65,
          851.53,
          1319.15,
          630.73,
          773.57,
          623.54,
          407.64,
          1439.09,
          1724.94,
          449.63,
          1749.82,
          1661.22,
          517.99,
          695.5,
          394.46,
          474.35,
          251.74,
          323.81,
          371.78,
          1858.96,
          251.74
         ],
         "xaxis": "x",
         "y": [
          73,
          60,
          85,
          71,
          49,
          77,
          66,
          62,
          71,
          71,
          80,
          71,
          76,
          70,
          63,
          80,
          72,
          65,
          70,
          70,
          70,
          54,
          72,
          70,
          67,
          57,
          62,
          62,
          58,
          54,
          52,
          60,
          60,
          82,
          76,
          64,
          58,
          76,
          59,
          67,
          66,
          49,
          56,
          76,
          63,
          76,
          63,
          75,
          85,
          70,
          63,
          66,
          65,
          65,
          59,
          57,
          69,
          54,
          67,
          68,
          69,
          67,
          73,
          62,
          71,
          64,
          39,
          71,
          54,
          58,
          62,
          52,
          64,
          56,
          64,
          51,
          58,
          62,
          52,
          70,
          78,
          69,
          57,
          77,
          76,
          72,
          60,
          88,
          62,
          70,
          85,
          88,
          79,
          78,
          57,
          47,
          70,
          64,
          75,
          67,
          70,
          57,
          59,
          51,
          58,
          62,
          78,
          63,
          51,
          70,
          71,
          72,
          71,
          86,
          75,
          67,
          67,
          72,
          70,
          67,
          60,
          77,
          73,
          77,
          44,
          56,
          57,
          44,
          69,
          69,
          46,
          67,
          80,
          38,
          52,
          73,
          66,
          66,
          66,
          70,
          66,
          72,
          57,
          60,
          71,
          69,
          71,
          69,
          58,
          53,
          60,
          70,
          58,
          62,
          63,
          72,
          66,
          71,
          49,
          50,
          67,
          63,
          65,
          67,
          47,
          66,
          50,
          64,
          66,
          71,
          65,
          57,
          59,
          58,
          57,
          75,
          66,
          57,
          54,
          54,
          51,
          51,
          54,
          67,
          56,
          67,
          71,
          60,
          75,
          67,
          56,
          77,
          75,
          64,
          79,
          72,
          58,
          59,
          52,
          43,
          37,
          59,
          47,
          73,
          37
         ],
         "yaxis": "y"
        },
        {
         "hovertemplate": "brand=acer<br>price=%{x}<br>rating=%{y}<extra></extra>",
         "legendgroup": "acer",
         "marker": {
          "color": "#00cc96",
          "symbol": "circle"
         },
         "mode": "markers",
         "name": "acer",
         "orientation": "v",
         "showlegend": true,
         "type": "scatter",
         "x": [
          479.62,
          935.36,
          563.57,
          419.65,
          395.66,
          683.5,
          455.63,
          473.73,
          1139.25,
          575.56,
          1439.09,
          1259.19,
          371.68,
          467.62,
          395.66,
          875.4,
          2158.69,
          383.67,
          359.68,
          731.48,
          683.5,
          1439.09,
          335.7,
          563.57,
          359.68,
          557.69,
          599.55,
          539.69,
          515.7,
          563.57,
          557.57,
          683.5,
          477.34,
          287.72,
          767.57,
          791.44,
          599.55,
          739.99,
          305.71,
          479.62,
          419.65,
          515.6,
          683.5,
          635.53,
          443.64,
          503.6,
          497.61,
          1918.82,
          809.54,
          431.64,
          1559.02,
          905.49,
          503.6,
          863.4,
          369.28,
          359.56,
          353.69,
          515.6,
          491.61,
          659.52,
          394.46,
          347.8,
          479.62,
          599.55,
          698.84,
          677.51,
          670.43,
          1719.85,
          707.49,
          1715.04,
          479.62,
          441.36,
          1259.29,
          1379.12,
          539.63,
          1067.29,
          827.42,
          2399.76,
          934.17,
          551.58,
          395.66,
          384.87,
          2218.77,
          2998.23,
          335.7,
          917.48,
          359.68,
          827.53,
          905.5
         ],
         "xaxis": "x",
         "y": [
          62,
          63,
          64,
          60,
          58,
          71,
          60,
          62,
          72,
          67,
          75,
          70,
          49,
          64,
          54,
          64,
          78,
          57,
          59,
          70,
          67,
          75,
          49,
          67,
          47,
          64,
          64,
          64,
          62,
          63,
          63,
          56,
          62,
          38,
          65,
          62,
          67,
          65,
          38,
          58,
          62,
          50,
          72,
          70,
          63,
          60,
          45,
          79,
          65,
          58,
          80,
          59,
          64,
          70,
          59,
          50,
          57,
          50,
          60,
          69,
          56,
          53,
          51,
          50,
          59,
          52,
          50,
          70,
          62,
          78,
          58,
          47,
          65,
          66,
          64,
          65,
          73,
          74,
          72,
          59,
          50,
          44,
          71,
          77,
          52,
          71,
          54,
          71,
          67
         ],
         "yaxis": "y"
        },
        {
         "hovertemplate": "brand=lenovo<br>price=%{x}<br>rating=%{y}<extra></extra>",
         "legendgroup": "lenovo",
         "marker": {
          "color": "#ab63fa",
          "symbol": "circle"
         },
         "mode": "markers",
         "name": "lenovo",
         "orientation": "v",
         "showlegend": true,
         "type": "scatter",
         "x": [
          342.77,
          569.57,
          599.55,
          335.7,
          575.56,
          683.5,
          539.58,
          419.65,
          293.12,
          587.56,
          766.25,
          444.24,
          1139.25,
          959.35,
          491.61,
          491.61,
          547.51,
          431.64,
          539.58,
          1834.87,
          1585.41,
          740.14,
          309.31,
          587.56,
          846.61,
          803.44,
          1379.12,
          1199.22,
          395.54,
          263.73,
          400.58,
          1199.22,
          779.45,
          299.71,
          1799.01,
          683.5,
          659.52,
          755.57,
          437.64,
          551.58,
          563.57,
          755.46,
          887.39,
          743.47,
          898.3,
          383.67,
          2626.43,
          1477.47,
          827.42,
          1294.22,
          622.39,
          563.57,
          4306.77,
          661.92,
          743.47,
          593.66,
          443.64,
          414.85,
          389.67,
          668.03,
          841.82,
          1105.67,
          623.54,
          1019.32,
          961.75,
          1309.56,
          649.92,
          649.92,
          937.76,
          479.62,
          1117.66,
          1969.19,
          3585.9,
          1669.36,
          841.82,
          1240.06,
          479.62,
          1079.41,
          419.65,
          395.66,
          599.55,
          479.62,
          764.12,
          599.55,
          395.66,
          362.08,
          359.68,
          563.57,
          659.52,
          509.71,
          815.43,
          439.56,
          587.56,
          599.55,
          1043.31,
          791.44,
          2230.65,
          1547.03,
          1367.13,
          623.54,
          839.42,
          575.56,
          1201.62,
          1648.97,
          647.52,
          443.76,
          1057.7,
          755.46,
          796.23,
          863.4,
          741.9,
          443.64,
          745.87,
          707.49,
          721.88,
          769.86,
          503.6,
          539.58,
          545.58,
          569.57,
          705.81,
          767.46,
          841.82,
          440.04,
          805.84,
          563.57,
          1009.72,
          1043.31,
          935.36,
          449.75,
          707.49,
          527.59,
          833.47,
          1175.23,
          1097.28,
          1061.74,
          1199.22,
          1319.15,
          2700.79,
          1078.07,
          899.38,
          779.45,
          486.81,
          791.44,
          290.12,
          635.53,
          755.46,
          394.57,
          299.71,
          635.53,
          831.68,
          539.58,
          875.4,
          680.03,
          791.44,
          647.52,
          688.3,
          599.55,
          725.48,
          425.65,
          863.4,
          545.7,
          599.66,
          793.95,
          401.66,
          803.56,
          1499.17,
          905.49,
          491.61,
          563.57,
          457.8,
          335.7,
          886.31,
          419.65,
          419.65,
          562.49,
          359.68,
          557.57,
          624.87,
          898.17,
          377.67,
          634.45,
          633.18,
          757.86,
          971.46,
          1478.44,
          266.72,
          263.73,
          263.73,
          551.58,
          401.66,
          430.44,
          437.64,
          551.58,
          791.55,
          407.66,
          1754.29,
          521.71,
          371.68,
          386.19,
          719.48
         ],
         "xaxis": "x",
         "y": [
          62,
          66,
          59,
          59,
          71,
          69,
          51,
          66,
          47,
          70,
          63,
          59,
          80,
          70,
          66,
          64,
          67,
          60,
          64,
          77,
          83,
          60,
          50,
          64,
          62,
          69,
          63,
          67,
          53,
          53,
          53,
          78,
          74,
          49,
          64,
          57,
          58,
          62,
          50,
          58,
          62,
          66,
          57,
          60,
          63,
          51,
          64,
          67,
          66,
          75,
          65,
          57,
          86,
          70,
          69,
          54,
          53,
          57,
          56,
          69,
          67,
          75,
          63,
          58,
          57,
          63,
          65,
          69,
          64,
          56,
          58,
          84,
          85,
          78,
          58,
          77,
          57,
          65,
          57,
          57,
          67,
          58,
          60,
          62,
          51,
          46,
          51,
          63,
          64,
          43,
          69,
          58,
          59,
          65,
          71,
          63,
          89,
          83,
          79,
          67,
          66,
          56,
          65,
          83,
          69,
          52,
          58,
          60,
          62,
          58,
          58,
          53,
          63,
          58,
          59,
          69,
          58,
          60,
          56,
          65,
          64,
          60,
          60,
          60,
          62,
          65,
          64,
          62,
          60,
          59,
          64,
          58,
          60,
          72,
          71,
          73,
          73,
          75,
          73,
          63,
          69,
          72,
          57,
          69,
          38,
          62,
          65,
          59,
          50,
          70,
          62,
          58,
          69,
          64,
          67,
          66,
          67,
          64,
          67,
          59,
          70,
          57,
          62,
          62,
          57,
          63,
          75,
          62,
          57,
          57,
          59,
          54,
          64,
          53,
          54,
          56,
          59,
          57,
          66,
          64,
          50,
          67,
          58,
          67,
          71,
          78,
          47,
          43,
          45,
          58,
          56,
          56,
          60,
          66,
          55,
          52,
          75,
          54,
          50,
          48,
          64
         ],
         "yaxis": "y"
        },
        {
         "hovertemplate": "brand=apple<br>price=%{x}<br>rating=%{y}<extra></extra>",
         "legendgroup": "apple",
         "marker": {
          "color": "#FFA15A",
          "symbol": "circle"
         },
         "mode": "markers",
         "name": "apple",
         "orientation": "v",
         "showlegend": true,
         "type": "scatter",
         "x": [
          851.41,
          4796.16,
          1235.2,
          1439.09,
          1319.15,
          3476.88,
          4196.49,
          2997.15,
          2397.48,
          1738.92,
          1595,
          1642.97,
          2277.54,
          2877.21,
          2037.68
         ],
         "xaxis": "x",
         "y": [
          45,
          65,
          48,
          53,
          43,
          63,
          64,
          58,
          56,
          56,
          45,
          45,
          53,
          58,
          51
         ],
         "yaxis": "y"
        },
        {
         "hovertemplate": "brand=infinix<br>price=%{x}<br>rating=%{y}<extra></extra>",
         "legendgroup": "infinix",
         "marker": {
          "color": "#19d3f3",
          "symbol": "circle"
         },
         "mode": "markers",
         "name": "infinix",
         "orientation": "v",
         "showlegend": true,
         "type": "scatter",
         "x": [
          419.65,
          719.48,
          359.68,
          335.7,
          323.7,
          431.64,
          695.5,
          467.62,
          587.56,
          311.71,
          299.71,
          539.58,
          467.62
         ],
         "xaxis": "x",
         "y": [
          56,
          71,
          54,
          50,
          53,
          60,
          63,
          56,
          57,
          57,
          52,
          57,
          58
         ],
         "yaxis": "y"
        },
        {
         "hovertemplate": "brand=asus<br>price=%{x}<br>rating=%{y}<extra></extra>",
         "legendgroup": "asus",
         "marker": {
          "color": "#FF6692",
          "symbol": "circle"
         },
         "mode": "markers",
         "name": "asus",
         "orientation": "v",
         "showlegend": true,
         "type": "scatter",
         "x": [
          599.55,
          688.3,
          911.38,
          479.62,
          335.7,
          563.57,
          767.46,
          1362.1,
          3238.1,
          888.53,
          731.48,
          431.64,
          1307.16,
          695.5,
          869.4,
          835.81,
          563.57,
          647.52,
          979.73,
          1139.25,
          875.4,
          647.52,
          1031.31,
          815.43,
          902.5,
          803.44,
          1858.86,
          1156.03,
          527.59,
          635.53,
          401.66,
          875.4,
          575.56,
          1103.27,
          1019.32,
          215.76,
          875.4,
          899.38,
          1259.19,
          1080.12,
          1029.03,
          695.5,
          731.48,
          719.48,
          383.67,
          677.63,
          683.5,
          1439.09,
          2158.69,
          2278.62,
          1457.07,
          573.64,
          1079.29,
          667.9,
          839.42,
          947.36,
          1268.17,
          515.6,
          647.52,
          582.63,
          851.41,
          370.48,
          750.79,
          1738.92,
          393.68,
          362.19,
          1037.43,
          570.29,
          779.45,
          1188.68,
          335.7,
          959.11,
          1031.31,
          179.78,
          800.18,
          647.52,
          251.74,
          1039.7,
          832.79,
          887.39,
          1199.22,
          1033.7,
          338.09,
          881.07,
          539.58,
          724.15,
          887.39,
          839.42,
          1187.23,
          1091.28,
          1379.12,
          203.77,
          308.84,
          227.75,
          535.37,
          275.74,
          1180.97,
          911.38,
          911.38,
          1131.8,
          490.84,
          858.73,
          407.66,
          695.5,
          719.48,
          1079.29,
          450.81,
          443.64,
          1139.25,
          839.42,
          875.4,
          393.26,
          719.48,
          311.71,
          472.42,
          779.45,
          1067.41,
          839.54,
          1702.93,
          918.69,
          1559.02,
          767.46,
          887.39,
          1199.22,
          743.47,
          671.51,
          1002.64,
          1678.95,
          707.49,
          575.44,
          839.42,
          779.45,
          1142.97,
          420.76,
          335.7,
          593.55,
          587.56,
          923.37,
          479.62,
          1256.3,
          1521.84,
          2398.56,
          1583.01,
          1605.8,
          1858.86,
          1731.92,
          1139.25,
          3130.16,
          1798.89,
          1618.99,
          724.15,
          2517.29,
          1858.86,
          839.42,
          1018.84,
          1360.06,
          1271.18,
          1336.53,
          918.92,
          1127.37,
          1937.09,
          2398.56,
          431.64,
          370.92,
          555.15,
          1499.05,
          707.49,
          383.67,
          1583.13,
          1391.11,
          1079.29,
          1094.28,
          755.46,
          862.78,
          477.22,
          467.5,
          671.51,
          851.41,
          749.59,
          825.15,
          1031.31,
          551.58,
          719.48,
          1259.19,
          820.23,
          1175.23,
          1115.27,
          779.45,
          899.38,
          527.59,
          767.46,
          470.64,
          1559.02,
          707.49,
          953.47,
          609.08,
          742.39,
          2998.23,
          539.34,
          547.98,
          386.07,
          827.42,
          3358.03,
          659.52,
          935.36,
          803.44,
          719.48,
          791.44,
          539.58,
          815.43
         ],
         "xaxis": "x",
         "y": [
          70,
          71,
          76,
          57,
          57,
          65,
          72,
          77,
          83,
          75,
          67,
          64,
          78,
          72,
          62,
          64,
          57,
          63,
          71,
          70,
          70,
          66,
          75,
          72,
          72,
          64,
          88,
          79,
          60,
          65,
          56,
          70,
          62,
          71,
          69,
          35,
          71,
          65,
          76,
          77,
          76,
          70,
          66,
          60,
          59,
          64,
          58,
          80,
          77,
          79,
          78,
          64,
          67,
          64,
          70,
          65,
          71,
          59,
          65,
          60,
          65,
          50,
          73,
          85,
          37,
          44,
          67,
          58,
          65,
          69,
          45,
          63,
          70,
          38,
          66,
          51,
          38,
          73,
          58,
          62,
          70,
          71,
          43,
          67,
          59,
          60,
          64,
          63,
          73,
          64,
          72,
          37,
          41,
          37,
          57,
          37,
          72,
          65,
          66,
          70,
          57,
          62,
          56,
          69,
          63,
          76,
          59,
          57,
          72,
          66,
          72,
          54,
          64,
          45,
          57,
          72,
          75,
          70,
          82,
          72,
          71,
          65,
          60,
          75,
          64,
          60,
          72,
          83,
          71,
          59,
          69,
          64,
          66,
          53,
          45,
          58,
          63,
          64,
          54,
          71,
          73,
          89,
          84,
          75,
          83,
          73,
          77,
          89,
          76,
          80,
          67,
          73,
          82,
          66,
          72,
          75,
          66,
          76,
          66,
          70,
          84,
          71,
          56,
          45,
          56,
          78,
          60,
          59,
          73,
          73,
          70,
          75,
          59,
          64,
          52,
          48,
          59,
          63,
          56,
          62,
          60,
          57,
          56,
          71,
          64,
          64,
          70,
          62,
          60,
          53,
          58,
          51,
          74,
          62,
          67,
          59,
          67,
          89,
          58,
          59,
          53,
          72,
          83,
          68,
          68,
          65,
          64,
          68,
          59,
          68
         ],
         "yaxis": "y"
        },
        {
         "hovertemplate": "brand=dell<br>price=%{x}<br>rating=%{y}<extra></extra>",
         "legendgroup": "dell",
         "marker": {
          "color": "#B6E880",
          "symbol": "circle"
         },
         "mode": "markers",
         "name": "dell",
         "orientation": "v",
         "showlegend": true,
         "type": "scatter",
         "x": [
          419.65,
          818.42,
          974.94,
          475.53,
          1037.31,
          869.4,
          599.67,
          1007.32,
          827.42,
          1780.9,
          455.63,
          791.44,
          929.37,
          470.62,
          687.22,
          611.54,
          839.53,
          626.04,
          1055.3,
          2500.5,
          440.53,
          718.28,
          419.65,
          1823,
          1067.29,
          1265.18,
          617.5,
          683.5,
          743.47,
          815.89,
          675.71,
          682.18,
          683.5,
          611.54,
          467.62,
          791.44,
          1193.1,
          719.48,
          449.63,
          1031.31,
          2677.82,
          550.14,
          459.93,
          1187.23,
          395.66,
          1049.3,
          575.56,
          929.37,
          496.92,
          1046.9,
          725.48,
          447.13,
          1013.32,
          3088.18,
          1151.25,
          730.4,
          5450.88,
          814.23,
          3885.74,
          2266.63,
          5408.9,
          3597.9,
          785.57,
          887.39,
          471.22,
          719.48,
          501.42,
          1055.3,
          1085.28,
          491.61,
          523.99,
          671.51,
          575.56,
          955.75,
          3352.03,
          2422.55,
          490.41,
          2464.52,
          1138.17,
          743.47,
          1894.84,
          1996.78,
          1193.22,
          959.71,
          515.6,
          1067.17,
          863.4,
          887.39,
          743.47,
          1790.49,
          515.72,
          2254.64,
          1319.15,
          1559.02,
          976.29,
          2704.39,
          2650.42,
          4659.31,
          4419.44,
          575.56,
          623.54,
          461.63,
          539.58,
          670.43,
          1434.41,
          1055.3
         ],
         "xaxis": "x",
         "y": [
          60,
          66,
          71,
          66,
          66,
          70,
          60,
          72,
          74,
          78,
          59,
          53,
          73,
          63,
          62,
          68,
          62,
          56,
          67,
          80,
          53,
          58,
          49,
          59,
          64,
          75,
          58,
          57,
          53,
          53,
          57,
          57,
          56,
          57,
          56,
          57,
          62,
          53,
          58,
          57,
          78,
          56,
          58,
          63,
          58,
          62,
          54,
          59,
          57,
          60,
          63,
          58,
          60,
          85,
          63,
          65,
          83,
          65,
          85,
          80,
          83,
          89,
          60,
          63,
          60,
          56,
          53,
          56,
          67,
          58,
          52,
          60,
          60,
          70,
          88,
          82,
          54,
          72,
          71,
          56,
          78,
          82,
          59,
          58,
          57,
          56,
          52,
          57,
          56,
          76,
          52,
          79,
          73,
          75,
          69,
          78,
          83,
          82,
          83,
          63,
          63,
          59,
          62,
          59,
          68,
          72
         ],
         "yaxis": "y"
        },
        {
         "hovertemplate": "brand=samsung<br>price=%{x}<br>rating=%{y}<extra></extra>",
         "legendgroup": "samsung",
         "marker": {
          "color": "#FF97FF",
          "symbol": "circle"
         },
         "mode": "markers",
         "name": "samsung",
         "orientation": "v",
         "showlegend": true,
         "type": "scatter",
         "x": [
          779.45,
          539.58,
          575.56,
          839.42,
          911.38,
          659.52,
          1403.11
         ],
         "xaxis": "x",
         "y": [
          68,
          59,
          62,
          56,
          60,
          59,
          68
         ],
         "yaxis": "y"
        },
        {
         "hovertemplate": "brand=msi<br>price=%{x}<br>rating=%{y}<extra></extra>",
         "legendgroup": "msi",
         "marker": {
          "color": "#FECB52",
          "symbol": "circle"
         },
         "mode": "markers",
         "name": "msi",
         "orientation": "v",
         "showlegend": true,
         "type": "scatter",
         "x": [
          635.53,
          800.92,
          431.16,
          839.42,
          659.52,
          899.38,
          599.55,
          503.6,
          659.52,
          743.47,
          635.53,
          755.46,
          479.62,
          647.52,
          683.5,
          443.64,
          815.43,
          785.45,
          527.59,
          1271.18,
          1007.32,
          795.76,
          2398.56,
          5396.91,
          959.35,
          2357.66,
          755.46,
          1139.25,
          1163.24,
          1259.19,
          1798.89,
          1798.89,
          1379.12,
          671.51,
          707.49,
          671.51,
          2398.56,
          1439.09,
          3597.9,
          983.34,
          443.64,
          1912.07,
          1079.29,
          887.39,
          575.56,
          1343.14,
          695.5,
          659.52,
          1259.19,
          899.38,
          1139.25,
          611.54,
          1139.25,
          1019.32,
          731.48,
          623.54,
          635.53,
          1103.27,
          1055.3,
          3358.03,
          923.37,
          875.4,
          1043.31,
          2998.23,
          767.46,
          1163.24,
          983.34,
          839.42,
          3130.16,
          781.85,
          875.4,
          2638.43,
          2590.45,
          2062.74,
          839.42,
          743.47,
          527.59,
          587.56,
          503.6,
          455.63,
          569.57,
          1115.27,
          995.33,
          1048.11,
          606.76,
          731.48,
          647.52,
          491.61,
          1439.09,
          1103.27
         ],
         "xaxis": "x",
         "y": [
          71,
          76,
          58,
          70,
          65,
          75,
          65,
          63,
          60,
          73,
          65,
          73,
          62,
          65,
          72,
          62,
          73,
          69,
          62,
          79,
          78,
          69,
          80,
          89,
          70,
          83,
          71,
          76,
          76,
          77,
          79,
          76,
          77,
          69,
          71,
          70,
          83,
          73,
          89,
          63,
          58,
          77,
          71,
          65,
          67,
          78,
          67,
          65,
          78,
          69,
          77,
          66,
          77,
          75,
          63,
          70,
          65,
          75,
          75,
          85,
          69,
          71,
          73,
          86,
          71,
          77,
          65,
          70,
          89,
          65,
          71,
          84,
          87,
          80,
          70,
          72,
          53,
          54,
          60,
          58,
          59,
          72,
          74,
          67,
          59,
          61,
          58,
          56,
          76,
          73
         ],
         "yaxis": "y"
        },
        {
         "hovertemplate": "brand=wings<br>price=%{x}<br>rating=%{y}<extra></extra>",
         "legendgroup": "wings",
         "marker": {
          "color": "#636efa",
          "symbol": "circle"
         },
         "mode": "markers",
         "name": "wings",
         "orientation": "v",
         "showlegend": true,
         "type": "scatter",
         "x": [
          335.7,
          479.62,
          299.71,
          323.7
         ],
         "xaxis": "x",
         "y": [
          56,
          58,
          49,
          51
         ],
         "yaxis": "y"
        },
        {
         "hovertemplate": "brand=ultimus<br>price=%{x}<br>rating=%{y}<extra></extra>",
         "legendgroup": "ultimus",
         "marker": {
          "color": "#EF553B",
          "symbol": "circle"
         },
         "mode": "markers",
         "name": "ultimus",
         "orientation": "v",
         "showlegend": true,
         "type": "scatter",
         "x": [
          239.75,
          191.77,
          143.8,
          179.78,
          197.77,
          274.8
         ],
         "xaxis": "x",
         "y": [
          54,
          46,
          41,
          45,
          47,
          52
         ],
         "yaxis": "y"
        },
        {
         "hovertemplate": "brand=primebook<br>price=%{x}<br>rating=%{y}<extra></extra>",
         "legendgroup": "primebook",
         "marker": {
          "color": "#00cc96",
          "symbol": "circle"
         },
         "mode": "markers",
         "name": "primebook",
         "orientation": "v",
         "showlegend": true,
         "type": "scatter",
         "x": [
          179.78,
          155.79
         ],
         "xaxis": "x",
         "y": [
          26,
          31
         ],
         "yaxis": "y"
        },
        {
         "hovertemplate": "brand=iball<br>price=%{x}<br>rating=%{y}<extra></extra>",
         "legendgroup": "iball",
         "marker": {
          "color": "#ab63fa",
          "symbol": "circle"
         },
         "mode": "markers",
         "name": "iball",
         "orientation": "v",
         "showlegend": true,
         "type": "scatter",
         "x": [
          117.54
         ],
         "xaxis": "x",
         "y": [
          41
         ],
         "yaxis": "y"
        },
        {
         "hovertemplate": "brand=zebronics<br>price=%{x}<br>rating=%{y}<extra></extra>",
         "legendgroup": "zebronics",
         "marker": {
          "color": "#FFA15A",
          "symbol": "circle"
         },
         "mode": "markers",
         "name": "zebronics",
         "orientation": "v",
         "showlegend": true,
         "type": "scatter",
         "x": [
          407.66,
          395.66,
          635.53,
          359.68,
          479.62,
          395.66,
          611.54
         ],
         "xaxis": "x",
         "y": [
          65,
          63,
          72,
          56,
          66,
          60,
          72
         ],
         "yaxis": "y"
        },
        {
         "hovertemplate": "brand=chuwi<br>price=%{x}<br>rating=%{y}<extra></extra>",
         "legendgroup": "chuwi",
         "marker": {
          "color": "#19d3f3",
          "symbol": "circle"
         },
         "mode": "markers",
         "name": "chuwi",
         "orientation": "v",
         "showlegend": true,
         "type": "scatter",
         "x": [
          395.66,
          299.71,
          263.73,
          419.65
         ],
         "xaxis": "x",
         "y": [
          50,
          50,
          50,
          54
         ],
         "yaxis": "y"
        },
        {
         "hovertemplate": "brand=gigabyte<br>price=%{x}<br>rating=%{y}<extra></extra>",
         "legendgroup": "gigabyte",
         "marker": {
          "color": "#FF6692",
          "symbol": "circle"
         },
         "mode": "markers",
         "name": "gigabyte",
         "orientation": "v",
         "showlegend": true,
         "type": "scatter",
         "x": [
          863.4,
          1079.29
         ],
         "xaxis": "x",
         "y": [
          67,
          73
         ],
         "yaxis": "y"
        },
        {
         "hovertemplate": "brand=jio<br>price=%{x}<br>rating=%{y}<extra></extra>",
         "legendgroup": "jio",
         "marker": {
          "color": "#B6E880",
          "symbol": "circle"
         },
         "mode": "markers",
         "name": "jio",
         "orientation": "v",
         "showlegend": true,
         "type": "scatter",
         "x": [
          176.31
         ],
         "xaxis": "x",
         "y": [
          24
         ],
         "yaxis": "y"
        },
        {
         "hovertemplate": "brand=honor<br>price=%{x}<br>rating=%{y}<extra></extra>",
         "legendgroup": "honor",
         "marker": {
          "color": "#FF97FF",
          "symbol": "circle"
         },
         "mode": "markers",
         "name": "honor",
         "orientation": "v",
         "showlegend": true,
         "type": "scatter",
         "x": [
          659.52,
          527.59
         ],
         "xaxis": "x",
         "y": [
          66,
          59
         ],
         "yaxis": "y"
        },
        {
         "hovertemplate": "brand=realme<br>price=%{x}<br>rating=%{y}<extra></extra>",
         "legendgroup": "realme",
         "marker": {
          "color": "#FECB52",
          "symbol": "circle"
         },
         "mode": "markers",
         "name": "realme",
         "orientation": "v",
         "showlegend": true,
         "type": "scatter",
         "x": [
          443.64,
          515.6
         ],
         "xaxis": "x",
         "y": [
          52,
          62
         ],
         "yaxis": "y"
        },
        {
         "hovertemplate": "brand=avita<br>price=%{x}<br>rating=%{y}<extra></extra>",
         "legendgroup": "avita",
         "marker": {
          "color": "#636efa",
          "symbol": "circle"
         },
         "mode": "markers",
         "name": "avita",
         "orientation": "v",
         "showlegend": true,
         "type": "scatter",
         "x": [
          256.54,
          395.17,
          390.38,
          232.92,
          251.85
         ],
         "xaxis": "x",
         "y": [
          56,
          50,
          51,
          41,
          43
         ],
         "yaxis": "y"
        },
        {
         "hovertemplate": "brand=microsoft<br>price=%{x}<br>rating=%{y}<extra></extra>",
         "legendgroup": "microsoft",
         "marker": {
          "color": "#EF553B",
          "symbol": "circle"
         },
         "mode": "markers",
         "name": "microsoft",
         "orientation": "v",
         "showlegend": true,
         "type": "scatter",
         "x": [
          959.35,
          1169.24
         ],
         "xaxis": "x",
         "y": [
          58,
          60
         ],
         "yaxis": "y"
        },
        {
         "hovertemplate": "brand=fujitsu<br>price=%{x}<br>rating=%{y}<extra></extra>",
         "legendgroup": "fujitsu",
         "marker": {
          "color": "#00cc96",
          "symbol": "circle"
         },
         "mode": "markers",
         "name": "fujitsu",
         "orientation": "v",
         "showlegend": true,
         "type": "scatter",
         "x": [
          887.39,
          887.39,
          1319.15,
          1199.22,
          677.55
         ],
         "xaxis": "x",
         "y": [
          67,
          65,
          76,
          73,
          70
         ],
         "yaxis": "y"
        },
        {
         "hovertemplate": "brand=lg<br>price=%{x}<br>rating=%{y}<extra></extra>",
         "legendgroup": "lg",
         "marker": {
          "color": "#ab63fa",
          "symbol": "circle"
         },
         "mode": "markers",
         "name": "lg",
         "orientation": "v",
         "showlegend": true,
         "type": "scatter",
         "x": [
          1187.33,
          939.07,
          1828.98,
          1414.01,
          1076.99,
          1810.99,
          1421.2
         ],
         "xaxis": "x",
         "y": [
          67,
          72,
          78,
          69,
          75,
          72,
          72
         ],
         "yaxis": "y"
        },
        {
         "hovertemplate": "brand=walker<br>price=%{x}<br>rating=%{y}<extra></extra>",
         "legendgroup": "walker",
         "marker": {
          "color": "#FFA15A",
          "symbol": "circle"
         },
         "mode": "markers",
         "name": "walker",
         "orientation": "v",
         "showlegend": true,
         "type": "scatter",
         "x": [
          191.77
         ],
         "xaxis": "x",
         "y": [
          37
         ],
         "yaxis": "y"
        },
        {
         "hovertemplate": "brand=axl<br>price=%{x}<br>rating=%{y}<extra></extra>",
         "legendgroup": "axl",
         "marker": {
          "color": "#19d3f3",
          "symbol": "circle"
         },
         "mode": "markers",
         "name": "axl",
         "orientation": "v",
         "showlegend": true,
         "type": "scatter",
         "x": [
          215.76,
          179.78
         ],
         "xaxis": "x",
         "y": [
          38,
          37
         ],
         "yaxis": "y"
        }
       ],
       "layout": {
        "legend": {
         "title": {
          "text": "brand"
         },
         "tracegroupgap": 0
        },
        "margin": {
         "t": 60
        },
        "template": {
         "data": {
          "bar": [
           {
            "error_x": {
             "color": "#2a3f5f"
            },
            "error_y": {
             "color": "#2a3f5f"
            },
            "marker": {
             "line": {
              "color": "#E5ECF6",
              "width": 0.5
             },
             "pattern": {
              "fillmode": "overlay",
              "size": 10,
              "solidity": 0.2
             }
            },
            "type": "bar"
           }
          ],
          "barpolar": [
           {
            "marker": {
             "line": {
              "color": "#E5ECF6",
              "width": 0.5
             },
             "pattern": {
              "fillmode": "overlay",
              "size": 10,
              "solidity": 0.2
             }
            },
            "type": "barpolar"
           }
          ],
          "carpet": [
           {
            "aaxis": {
             "endlinecolor": "#2a3f5f",
             "gridcolor": "white",
             "linecolor": "white",
             "minorgridcolor": "white",
             "startlinecolor": "#2a3f5f"
            },
            "baxis": {
             "endlinecolor": "#2a3f5f",
             "gridcolor": "white",
             "linecolor": "white",
             "minorgridcolor": "white",
             "startlinecolor": "#2a3f5f"
            },
            "type": "carpet"
           }
          ],
          "choropleth": [
           {
            "colorbar": {
             "outlinewidth": 0,
             "ticks": ""
            },
            "type": "choropleth"
           }
          ],
          "contour": [
           {
            "colorbar": {
             "outlinewidth": 0,
             "ticks": ""
            },
            "colorscale": [
             [
              0,
              "#0d0887"
             ],
             [
              0.1111111111111111,
              "#46039f"
             ],
             [
              0.2222222222222222,
              "#7201a8"
             ],
             [
              0.3333333333333333,
              "#9c179e"
             ],
             [
              0.4444444444444444,
              "#bd3786"
             ],
             [
              0.5555555555555556,
              "#d8576b"
             ],
             [
              0.6666666666666666,
              "#ed7953"
             ],
             [
              0.7777777777777778,
              "#fb9f3a"
             ],
             [
              0.8888888888888888,
              "#fdca26"
             ],
             [
              1,
              "#f0f921"
             ]
            ],
            "type": "contour"
           }
          ],
          "contourcarpet": [
           {
            "colorbar": {
             "outlinewidth": 0,
             "ticks": ""
            },
            "type": "contourcarpet"
           }
          ],
          "heatmap": [
           {
            "colorbar": {
             "outlinewidth": 0,
             "ticks": ""
            },
            "colorscale": [
             [
              0,
              "#0d0887"
             ],
             [
              0.1111111111111111,
              "#46039f"
             ],
             [
              0.2222222222222222,
              "#7201a8"
             ],
             [
              0.3333333333333333,
              "#9c179e"
             ],
             [
              0.4444444444444444,
              "#bd3786"
             ],
             [
              0.5555555555555556,
              "#d8576b"
             ],
             [
              0.6666666666666666,
              "#ed7953"
             ],
             [
              0.7777777777777778,
              "#fb9f3a"
             ],
             [
              0.8888888888888888,
              "#fdca26"
             ],
             [
              1,
              "#f0f921"
             ]
            ],
            "type": "heatmap"
           }
          ],
          "heatmapgl": [
           {
            "colorbar": {
             "outlinewidth": 0,
             "ticks": ""
            },
            "colorscale": [
             [
              0,
              "#0d0887"
             ],
             [
              0.1111111111111111,
              "#46039f"
             ],
             [
              0.2222222222222222,
              "#7201a8"
             ],
             [
              0.3333333333333333,
              "#9c179e"
             ],
             [
              0.4444444444444444,
              "#bd3786"
             ],
             [
              0.5555555555555556,
              "#d8576b"
             ],
             [
              0.6666666666666666,
              "#ed7953"
             ],
             [
              0.7777777777777778,
              "#fb9f3a"
             ],
             [
              0.8888888888888888,
              "#fdca26"
             ],
             [
              1,
              "#f0f921"
             ]
            ],
            "type": "heatmapgl"
           }
          ],
          "histogram": [
           {
            "marker": {
             "pattern": {
              "fillmode": "overlay",
              "size": 10,
              "solidity": 0.2
             }
            },
            "type": "histogram"
           }
          ],
          "histogram2d": [
           {
            "colorbar": {
             "outlinewidth": 0,
             "ticks": ""
            },
            "colorscale": [
             [
              0,
              "#0d0887"
             ],
             [
              0.1111111111111111,
              "#46039f"
             ],
             [
              0.2222222222222222,
              "#7201a8"
             ],
             [
              0.3333333333333333,
              "#9c179e"
             ],
             [
              0.4444444444444444,
              "#bd3786"
             ],
             [
              0.5555555555555556,
              "#d8576b"
             ],
             [
              0.6666666666666666,
              "#ed7953"
             ],
             [
              0.7777777777777778,
              "#fb9f3a"
             ],
             [
              0.8888888888888888,
              "#fdca26"
             ],
             [
              1,
              "#f0f921"
             ]
            ],
            "type": "histogram2d"
           }
          ],
          "histogram2dcontour": [
           {
            "colorbar": {
             "outlinewidth": 0,
             "ticks": ""
            },
            "colorscale": [
             [
              0,
              "#0d0887"
             ],
             [
              0.1111111111111111,
              "#46039f"
             ],
             [
              0.2222222222222222,
              "#7201a8"
             ],
             [
              0.3333333333333333,
              "#9c179e"
             ],
             [
              0.4444444444444444,
              "#bd3786"
             ],
             [
              0.5555555555555556,
              "#d8576b"
             ],
             [
              0.6666666666666666,
              "#ed7953"
             ],
             [
              0.7777777777777778,
              "#fb9f3a"
             ],
             [
              0.8888888888888888,
              "#fdca26"
             ],
             [
              1,
              "#f0f921"
             ]
            ],
            "type": "histogram2dcontour"
           }
          ],
          "mesh3d": [
           {
            "colorbar": {
             "outlinewidth": 0,
             "ticks": ""
            },
            "type": "mesh3d"
           }
          ],
          "parcoords": [
           {
            "line": {
             "colorbar": {
              "outlinewidth": 0,
              "ticks": ""
             }
            },
            "type": "parcoords"
           }
          ],
          "pie": [
           {
            "automargin": true,
            "type": "pie"
           }
          ],
          "scatter": [
           {
            "fillpattern": {
             "fillmode": "overlay",
             "size": 10,
             "solidity": 0.2
            },
            "type": "scatter"
           }
          ],
          "scatter3d": [
           {
            "line": {
             "colorbar": {
              "outlinewidth": 0,
              "ticks": ""
             }
            },
            "marker": {
             "colorbar": {
              "outlinewidth": 0,
              "ticks": ""
             }
            },
            "type": "scatter3d"
           }
          ],
          "scattercarpet": [
           {
            "marker": {
             "colorbar": {
              "outlinewidth": 0,
              "ticks": ""
             }
            },
            "type": "scattercarpet"
           }
          ],
          "scattergeo": [
           {
            "marker": {
             "colorbar": {
              "outlinewidth": 0,
              "ticks": ""
             }
            },
            "type": "scattergeo"
           }
          ],
          "scattergl": [
           {
            "marker": {
             "colorbar": {
              "outlinewidth": 0,
              "ticks": ""
             }
            },
            "type": "scattergl"
           }
          ],
          "scattermapbox": [
           {
            "marker": {
             "colorbar": {
              "outlinewidth": 0,
              "ticks": ""
             }
            },
            "type": "scattermapbox"
           }
          ],
          "scatterpolar": [
           {
            "marker": {
             "colorbar": {
              "outlinewidth": 0,
              "ticks": ""
             }
            },
            "type": "scatterpolar"
           }
          ],
          "scatterpolargl": [
           {
            "marker": {
             "colorbar": {
              "outlinewidth": 0,
              "ticks": ""
             }
            },
            "type": "scatterpolargl"
           }
          ],
          "scatterternary": [
           {
            "marker": {
             "colorbar": {
              "outlinewidth": 0,
              "ticks": ""
             }
            },
            "type": "scatterternary"
           }
          ],
          "surface": [
           {
            "colorbar": {
             "outlinewidth": 0,
             "ticks": ""
            },
            "colorscale": [
             [
              0,
              "#0d0887"
             ],
             [
              0.1111111111111111,
              "#46039f"
             ],
             [
              0.2222222222222222,
              "#7201a8"
             ],
             [
              0.3333333333333333,
              "#9c179e"
             ],
             [
              0.4444444444444444,
              "#bd3786"
             ],
             [
              0.5555555555555556,
              "#d8576b"
             ],
             [
              0.6666666666666666,
              "#ed7953"
             ],
             [
              0.7777777777777778,
              "#fb9f3a"
             ],
             [
              0.8888888888888888,
              "#fdca26"
             ],
             [
              1,
              "#f0f921"
             ]
            ],
            "type": "surface"
           }
          ],
          "table": [
           {
            "cells": {
             "fill": {
              "color": "#EBF0F8"
             },
             "line": {
              "color": "white"
             }
            },
            "header": {
             "fill": {
              "color": "#C8D4E3"
             },
             "line": {
              "color": "white"
             }
            },
            "type": "table"
           }
          ]
         },
         "layout": {
          "annotationdefaults": {
           "arrowcolor": "#2a3f5f",
           "arrowhead": 0,
           "arrowwidth": 1
          },
          "autotypenumbers": "strict",
          "coloraxis": {
           "colorbar": {
            "outlinewidth": 0,
            "ticks": ""
           }
          },
          "colorscale": {
           "diverging": [
            [
             0,
             "#8e0152"
            ],
            [
             0.1,
             "#c51b7d"
            ],
            [
             0.2,
             "#de77ae"
            ],
            [
             0.3,
             "#f1b6da"
            ],
            [
             0.4,
             "#fde0ef"
            ],
            [
             0.5,
             "#f7f7f7"
            ],
            [
             0.6,
             "#e6f5d0"
            ],
            [
             0.7,
             "#b8e186"
            ],
            [
             0.8,
             "#7fbc41"
            ],
            [
             0.9,
             "#4d9221"
            ],
            [
             1,
             "#276419"
            ]
           ],
           "sequential": [
            [
             0,
             "#0d0887"
            ],
            [
             0.1111111111111111,
             "#46039f"
            ],
            [
             0.2222222222222222,
             "#7201a8"
            ],
            [
             0.3333333333333333,
             "#9c179e"
            ],
            [
             0.4444444444444444,
             "#bd3786"
            ],
            [
             0.5555555555555556,
             "#d8576b"
            ],
            [
             0.6666666666666666,
             "#ed7953"
            ],
            [
             0.7777777777777778,
             "#fb9f3a"
            ],
            [
             0.8888888888888888,
             "#fdca26"
            ],
            [
             1,
             "#f0f921"
            ]
           ],
           "sequentialminus": [
            [
             0,
             "#0d0887"
            ],
            [
             0.1111111111111111,
             "#46039f"
            ],
            [
             0.2222222222222222,
             "#7201a8"
            ],
            [
             0.3333333333333333,
             "#9c179e"
            ],
            [
             0.4444444444444444,
             "#bd3786"
            ],
            [
             0.5555555555555556,
             "#d8576b"
            ],
            [
             0.6666666666666666,
             "#ed7953"
            ],
            [
             0.7777777777777778,
             "#fb9f3a"
            ],
            [
             0.8888888888888888,
             "#fdca26"
            ],
            [
             1,
             "#f0f921"
            ]
           ]
          },
          "colorway": [
           "#636efa",
           "#EF553B",
           "#00cc96",
           "#ab63fa",
           "#FFA15A",
           "#19d3f3",
           "#FF6692",
           "#B6E880",
           "#FF97FF",
           "#FECB52"
          ],
          "font": {
           "color": "#2a3f5f"
          },
          "geo": {
           "bgcolor": "white",
           "lakecolor": "white",
           "landcolor": "#E5ECF6",
           "showlakes": true,
           "showland": true,
           "subunitcolor": "white"
          },
          "hoverlabel": {
           "align": "left"
          },
          "hovermode": "closest",
          "mapbox": {
           "style": "light"
          },
          "paper_bgcolor": "white",
          "plot_bgcolor": "#E5ECF6",
          "polar": {
           "angularaxis": {
            "gridcolor": "white",
            "linecolor": "white",
            "ticks": ""
           },
           "bgcolor": "#E5ECF6",
           "radialaxis": {
            "gridcolor": "white",
            "linecolor": "white",
            "ticks": ""
           }
          },
          "scene": {
           "xaxis": {
            "backgroundcolor": "#E5ECF6",
            "gridcolor": "white",
            "gridwidth": 2,
            "linecolor": "white",
            "showbackground": true,
            "ticks": "",
            "zerolinecolor": "white"
           },
           "yaxis": {
            "backgroundcolor": "#E5ECF6",
            "gridcolor": "white",
            "gridwidth": 2,
            "linecolor": "white",
            "showbackground": true,
            "ticks": "",
            "zerolinecolor": "white"
           },
           "zaxis": {
            "backgroundcolor": "#E5ECF6",
            "gridcolor": "white",
            "gridwidth": 2,
            "linecolor": "white",
            "showbackground": true,
            "ticks": "",
            "zerolinecolor": "white"
           }
          },
          "shapedefaults": {
           "line": {
            "color": "#2a3f5f"
           }
          },
          "ternary": {
           "aaxis": {
            "gridcolor": "white",
            "linecolor": "white",
            "ticks": ""
           },
           "baxis": {
            "gridcolor": "white",
            "linecolor": "white",
            "ticks": ""
           },
           "bgcolor": "#E5ECF6",
           "caxis": {
            "gridcolor": "white",
            "linecolor": "white",
            "ticks": ""
           }
          },
          "title": {
           "x": 0.05
          },
          "xaxis": {
           "automargin": true,
           "gridcolor": "white",
           "linecolor": "white",
           "ticks": "",
           "title": {
            "standoff": 15
           },
           "zerolinecolor": "white",
           "zerolinewidth": 2
          },
          "yaxis": {
           "automargin": true,
           "gridcolor": "white",
           "linecolor": "white",
           "ticks": "",
           "title": {
            "standoff": 15
           },
           "zerolinecolor": "white",
           "zerolinewidth": 2
          }
         }
        },
        "xaxis": {
         "anchor": "y",
         "domain": [
          0,
          1
         ],
         "title": {
          "text": "price"
         }
        },
        "yaxis": {
         "anchor": "x",
         "domain": [
          0,
          1
         ],
         "title": {
          "text": "rating"
         }
        }
       }
      }
     },
     "metadata": {},
     "output_type": "display_data"
    }
   ],
   "source": [
    "#Scatter price e rating\n",
    "px.scatter(df_laptops, x='price', y='rating', color='brand')"
   ]
  },
  {
   "cell_type": "markdown",
   "metadata": {},
   "source": [
    "### Treinar modelos clustering hierárquico"
   ]
  },
  {
   "cell_type": "code",
   "execution_count": 16,
   "metadata": {},
   "outputs": [],
   "source": [
    "# Selecionar as colunas para clusterização\n",
    "X = df_laptops.copy()\n",
    "\n",
    "# Remover colunas desnecessárias\n",
    "X.drop(columns=['index', 'model'], axis=1, inplace=True)"
   ]
  },
  {
   "cell_type": "code",
   "execution_count": 17,
   "metadata": {},
   "outputs": [
    {
     "data": {
      "text/html": [
       "<div>\n",
       "<style scoped>\n",
       "    .dataframe tbody tr th:only-of-type {\n",
       "        vertical-align: middle;\n",
       "    }\n",
       "\n",
       "    .dataframe tbody tr th {\n",
       "        vertical-align: top;\n",
       "    }\n",
       "\n",
       "    .dataframe thead th {\n",
       "        text-align: right;\n",
       "    }\n",
       "</style>\n",
       "<table border=\"1\" class=\"dataframe\">\n",
       "  <thead>\n",
       "    <tr style=\"text-align: right;\">\n",
       "      <th></th>\n",
       "      <th>brand</th>\n",
       "      <th>price</th>\n",
       "      <th>rating</th>\n",
       "      <th>processor_brand</th>\n",
       "      <th>processor_tier</th>\n",
       "      <th>num_cores</th>\n",
       "      <th>num_threads</th>\n",
       "      <th>ram_memory</th>\n",
       "      <th>primary_storage_type</th>\n",
       "      <th>primary_storage_capacity</th>\n",
       "      <th>gpu_brand</th>\n",
       "      <th>gpu_type</th>\n",
       "      <th>is_touch_screen</th>\n",
       "      <th>display_size</th>\n",
       "      <th>resolution_width</th>\n",
       "      <th>resolution_height</th>\n",
       "      <th>os</th>\n",
       "      <th>year_of_warranty</th>\n",
       "    </tr>\n",
       "  </thead>\n",
       "  <tbody>\n",
       "    <tr>\n",
       "      <th>0</th>\n",
       "      <td>tecno</td>\n",
       "      <td>287.72</td>\n",
       "      <td>63</td>\n",
       "      <td>intel</td>\n",
       "      <td>core i3</td>\n",
       "      <td>2</td>\n",
       "      <td>4</td>\n",
       "      <td>8</td>\n",
       "      <td>SSD</td>\n",
       "      <td>512</td>\n",
       "      <td>intel</td>\n",
       "      <td>integrated</td>\n",
       "      <td>0</td>\n",
       "      <td>15.6</td>\n",
       "      <td>1920</td>\n",
       "      <td>1080</td>\n",
       "      <td>windows</td>\n",
       "      <td>1</td>\n",
       "    </tr>\n",
       "    <tr>\n",
       "      <th>1</th>\n",
       "      <td>tecno</td>\n",
       "      <td>431.64</td>\n",
       "      <td>67</td>\n",
       "      <td>intel</td>\n",
       "      <td>core i7</td>\n",
       "      <td>4</td>\n",
       "      <td>8</td>\n",
       "      <td>16</td>\n",
       "      <td>SSD</td>\n",
       "      <td>1024</td>\n",
       "      <td>intel</td>\n",
       "      <td>integrated</td>\n",
       "      <td>0</td>\n",
       "      <td>15.6</td>\n",
       "      <td>1920</td>\n",
       "      <td>1080</td>\n",
       "      <td>windows</td>\n",
       "      <td>1</td>\n",
       "    </tr>\n",
       "    <tr>\n",
       "      <th>2</th>\n",
       "      <td>hp</td>\n",
       "      <td>612.86</td>\n",
       "      <td>73</td>\n",
       "      <td>amd</td>\n",
       "      <td>ryzen 5</td>\n",
       "      <td>6</td>\n",
       "      <td>12</td>\n",
       "      <td>8</td>\n",
       "      <td>SSD</td>\n",
       "      <td>512</td>\n",
       "      <td>amd</td>\n",
       "      <td>dedicated</td>\n",
       "      <td>0</td>\n",
       "      <td>15.6</td>\n",
       "      <td>1920</td>\n",
       "      <td>1080</td>\n",
       "      <td>windows</td>\n",
       "      <td>1</td>\n",
       "    </tr>\n",
       "    <tr>\n",
       "      <th>3</th>\n",
       "      <td>acer</td>\n",
       "      <td>479.62</td>\n",
       "      <td>62</td>\n",
       "      <td>intel</td>\n",
       "      <td>core i5</td>\n",
       "      <td>12</td>\n",
       "      <td>16</td>\n",
       "      <td>8</td>\n",
       "      <td>SSD</td>\n",
       "      <td>512</td>\n",
       "      <td>intel</td>\n",
       "      <td>integrated</td>\n",
       "      <td>0</td>\n",
       "      <td>14.0</td>\n",
       "      <td>1920</td>\n",
       "      <td>1080</td>\n",
       "      <td>windows</td>\n",
       "      <td>1</td>\n",
       "    </tr>\n",
       "    <tr>\n",
       "      <th>4</th>\n",
       "      <td>lenovo</td>\n",
       "      <td>342.77</td>\n",
       "      <td>62</td>\n",
       "      <td>amd</td>\n",
       "      <td>ryzen 3</td>\n",
       "      <td>4</td>\n",
       "      <td>8</td>\n",
       "      <td>8</td>\n",
       "      <td>SSD</td>\n",
       "      <td>512</td>\n",
       "      <td>amd</td>\n",
       "      <td>integrated</td>\n",
       "      <td>0</td>\n",
       "      <td>15.6</td>\n",
       "      <td>1920</td>\n",
       "      <td>1080</td>\n",
       "      <td>windows</td>\n",
       "      <td>1</td>\n",
       "    </tr>\n",
       "    <tr>\n",
       "      <th>...</th>\n",
       "      <td>...</td>\n",
       "      <td>...</td>\n",
       "      <td>...</td>\n",
       "      <td>...</td>\n",
       "      <td>...</td>\n",
       "      <td>...</td>\n",
       "      <td>...</td>\n",
       "      <td>...</td>\n",
       "      <td>...</td>\n",
       "      <td>...</td>\n",
       "      <td>...</td>\n",
       "      <td>...</td>\n",
       "      <td>...</td>\n",
       "      <td>...</td>\n",
       "      <td>...</td>\n",
       "      <td>...</td>\n",
       "      <td>...</td>\n",
       "      <td>...</td>\n",
       "    </tr>\n",
       "    <tr>\n",
       "      <th>986</th>\n",
       "      <td>asus</td>\n",
       "      <td>791.44</td>\n",
       "      <td>68</td>\n",
       "      <td>amd</td>\n",
       "      <td>ryzen 5</td>\n",
       "      <td>6</td>\n",
       "      <td>12</td>\n",
       "      <td>16</td>\n",
       "      <td>SSD</td>\n",
       "      <td>512</td>\n",
       "      <td>nvidia</td>\n",
       "      <td>dedicated</td>\n",
       "      <td>0</td>\n",
       "      <td>15.6</td>\n",
       "      <td>1920</td>\n",
       "      <td>1080</td>\n",
       "      <td>windows</td>\n",
       "      <td>1</td>\n",
       "    </tr>\n",
       "    <tr>\n",
       "      <th>987</th>\n",
       "      <td>msi</td>\n",
       "      <td>1103.27</td>\n",
       "      <td>73</td>\n",
       "      <td>intel</td>\n",
       "      <td>core i7</td>\n",
       "      <td>10</td>\n",
       "      <td>16</td>\n",
       "      <td>16</td>\n",
       "      <td>SSD</td>\n",
       "      <td>512</td>\n",
       "      <td>nvidia</td>\n",
       "      <td>dedicated</td>\n",
       "      <td>0</td>\n",
       "      <td>15.6</td>\n",
       "      <td>1920</td>\n",
       "      <td>1080</td>\n",
       "      <td>windows</td>\n",
       "      <td>2</td>\n",
       "    </tr>\n",
       "    <tr>\n",
       "      <th>988</th>\n",
       "      <td>asus</td>\n",
       "      <td>539.58</td>\n",
       "      <td>59</td>\n",
       "      <td>amd</td>\n",
       "      <td>ryzen 5</td>\n",
       "      <td>4</td>\n",
       "      <td>8</td>\n",
       "      <td>8</td>\n",
       "      <td>SSD</td>\n",
       "      <td>512</td>\n",
       "      <td>amd</td>\n",
       "      <td>integrated</td>\n",
       "      <td>0</td>\n",
       "      <td>15.6</td>\n",
       "      <td>1920</td>\n",
       "      <td>1080</td>\n",
       "      <td>windows</td>\n",
       "      <td>1</td>\n",
       "    </tr>\n",
       "    <tr>\n",
       "      <th>989</th>\n",
       "      <td>asus</td>\n",
       "      <td>815.43</td>\n",
       "      <td>68</td>\n",
       "      <td>amd</td>\n",
       "      <td>ryzen 5</td>\n",
       "      <td>6</td>\n",
       "      <td>12</td>\n",
       "      <td>16</td>\n",
       "      <td>SSD</td>\n",
       "      <td>512</td>\n",
       "      <td>amd</td>\n",
       "      <td>integrated</td>\n",
       "      <td>0</td>\n",
       "      <td>14.0</td>\n",
       "      <td>2560</td>\n",
       "      <td>1600</td>\n",
       "      <td>windows</td>\n",
       "      <td>1</td>\n",
       "    </tr>\n",
       "    <tr>\n",
       "      <th>990</th>\n",
       "      <td>hp</td>\n",
       "      <td>251.74</td>\n",
       "      <td>37</td>\n",
       "      <td>intel</td>\n",
       "      <td>celeron</td>\n",
       "      <td>2</td>\n",
       "      <td>2</td>\n",
       "      <td>4</td>\n",
       "      <td>HDD</td>\n",
       "      <td>128</td>\n",
       "      <td>intel</td>\n",
       "      <td>integrated</td>\n",
       "      <td>0</td>\n",
       "      <td>15.6</td>\n",
       "      <td>1366</td>\n",
       "      <td>768</td>\n",
       "      <td>chrome</td>\n",
       "      <td>1</td>\n",
       "    </tr>\n",
       "  </tbody>\n",
       "</table>\n",
       "<p>991 rows × 18 columns</p>\n",
       "</div>"
      ],
      "text/plain": [
       "      brand    price  rating processor_brand processor_tier  num_cores  \\\n",
       "0     tecno   287.72      63           intel        core i3          2   \n",
       "1     tecno   431.64      67           intel        core i7          4   \n",
       "2        hp   612.86      73             amd        ryzen 5          6   \n",
       "3      acer   479.62      62           intel        core i5         12   \n",
       "4    lenovo   342.77      62             amd        ryzen 3          4   \n",
       "..      ...      ...     ...             ...            ...        ...   \n",
       "986    asus   791.44      68             amd        ryzen 5          6   \n",
       "987     msi  1103.27      73           intel        core i7         10   \n",
       "988    asus   539.58      59             amd        ryzen 5          4   \n",
       "989    asus   815.43      68             amd        ryzen 5          6   \n",
       "990      hp   251.74      37           intel        celeron          2   \n",
       "\n",
       "     num_threads  ram_memory primary_storage_type  primary_storage_capacity  \\\n",
       "0              4           8                  SSD                       512   \n",
       "1              8          16                  SSD                      1024   \n",
       "2             12           8                  SSD                       512   \n",
       "3             16           8                  SSD                       512   \n",
       "4              8           8                  SSD                       512   \n",
       "..           ...         ...                  ...                       ...   \n",
       "986           12          16                  SSD                       512   \n",
       "987           16          16                  SSD                       512   \n",
       "988            8           8                  SSD                       512   \n",
       "989           12          16                  SSD                       512   \n",
       "990            2           4                  HDD                       128   \n",
       "\n",
       "    gpu_brand    gpu_type  is_touch_screen  display_size  resolution_width  \\\n",
       "0       intel  integrated                0          15.6              1920   \n",
       "1       intel  integrated                0          15.6              1920   \n",
       "2         amd   dedicated                0          15.6              1920   \n",
       "3       intel  integrated                0          14.0              1920   \n",
       "4         amd  integrated                0          15.6              1920   \n",
       "..        ...         ...              ...           ...               ...   \n",
       "986    nvidia   dedicated                0          15.6              1920   \n",
       "987    nvidia   dedicated                0          15.6              1920   \n",
       "988       amd  integrated                0          15.6              1920   \n",
       "989       amd  integrated                0          14.0              2560   \n",
       "990     intel  integrated                0          15.6              1366   \n",
       "\n",
       "     resolution_height       os  year_of_warranty  \n",
       "0                 1080  windows                 1  \n",
       "1                 1080  windows                 1  \n",
       "2                 1080  windows                 1  \n",
       "3                 1080  windows                 1  \n",
       "4                 1080  windows                 1  \n",
       "..                 ...      ...               ...  \n",
       "986               1080  windows                 1  \n",
       "987               1080  windows                 2  \n",
       "988               1080  windows                 1  \n",
       "989               1600  windows                 1  \n",
       "990                768   chrome                 1  \n",
       "\n",
       "[991 rows x 18 columns]"
      ]
     },
     "execution_count": 17,
     "metadata": {},
     "output_type": "execute_result"
    }
   ],
   "source": [
    "X"
   ]
  },
  {
   "cell_type": "code",
   "execution_count": 18,
   "metadata": {},
   "outputs": [],
   "source": [
    "# Separando numericas e categorias\n",
    "numeric_features = ['price', 'rating', 'num_cores', 'num_threads', 'ram_memory', 'primary_storage_capacity', 'display_size', 'resolution_width', 'resolution_height']\n",
    "categorical_features = ['brand', 'processor_brand', 'gpu_brand', 'gpu_brand', 'os']"
   ]
  },
  {
   "cell_type": "code",
   "execution_count": 19,
   "metadata": {},
   "outputs": [],
   "source": [
    "# aplicar transformações\n",
    "numeric_transformer = StandardScaler()\n",
    "categorical_transformer = OneHotEncoder()"
   ]
  },
  {
   "cell_type": "code",
   "execution_count": 20,
   "metadata": {},
   "outputs": [],
   "source": [
    "preprocessor = ColumnTransformer(\n",
    "  transformers=[\n",
    "    ('num', numeric_transformer, numeric_features),\n",
    "    ('cat', categorical_transformer, categorical_features)\n",
    "  ]\n",
    ")"
   ]
  },
  {
   "cell_type": "code",
   "execution_count": 21,
   "metadata": {},
   "outputs": [],
   "source": [
    "# Transformar os dados\n",
    "X_transformed = preprocessor.fit_transform(X)"
   ]
  },
  {
   "cell_type": "code",
   "execution_count": 22,
   "metadata": {},
   "outputs": [
    {
     "data": {
      "text/plain": [
       "<Compressed Sparse Row sparse matrix of dtype 'float64'\n",
       "\twith 13874 stored elements and shape (991, 56)>"
      ]
     },
     "execution_count": 22,
     "metadata": {},
     "output_type": "execute_result"
    }
   ],
   "source": [
    "X_transformed"
   ]
  },
  {
   "cell_type": "code",
   "execution_count": 23,
   "metadata": {},
   "outputs": [],
   "source": [
    "def hierarchical_aglomerative_objective(trial):\n",
    "  n_clusters = trial.suggest_int('n_clusters', 10, 150)\n",
    "\n",
    "  # Linkage = critério de distância entre dois conjuntos para formar os clusters\n",
    "  # wards = Variância\n",
    "  # average = media\n",
    "  # complete = máxima\n",
    "  # single = minima\n",
    "  linkage = trial.suggest_categorical('linkage', ['ward', 'average', 'complete', 'single'])\n",
    "\n",
    "  hierarchical_model = AgglomerativeClustering(linkage=linkage, n_clusters=n_clusters)\n",
    "\n",
    "  y = hierarchical_model.fit_predict(X_transformed.toarray())\n",
    "\n",
    "  # silhouette score\n",
    "  silhouette_avg = silhouette_score(X_transformed, y)\n",
    "\n",
    "  return silhouette_avg"
   ]
  },
  {
   "cell_type": "code",
   "execution_count": 24,
   "metadata": {},
   "outputs": [
    {
     "name": "stderr",
     "output_type": "stream",
     "text": [
      "[I 2024-08-05 17:30:36,602] A new study created in memory with name: no-name-ba743d1e-cef2-4a79-85ea-4ff685b0615e\n"
     ]
    }
   ],
   "source": [
    "# Criar estudo no optuna\n",
    "search_space_ag = {'n_clusters': range(10, 151), 'linkage': ['ward', 'average', 'complete', 'single']}\n",
    "sampler_ag = optuna.samplers.GridSampler(search_space=search_space_ag)\n",
    "estudo_ag = optuna.create_study(direction='maximize', sampler=sampler_ag)"
   ]
  },
  {
   "cell_type": "code",
   "execution_count": 25,
   "metadata": {},
   "outputs": [
    {
     "name": "stderr",
     "output_type": "stream",
     "text": [
      "[I 2024-08-05 17:30:36,663] Trial 0 finished with value: 0.17175292696425382 and parameters: {'n_clusters': 45, 'linkage': 'complete'}. Best is trial 0 with value: 0.17175292696425382.\n",
      "[I 2024-08-05 17:30:36,712] Trial 1 finished with value: 0.1388225930658535 and parameters: {'n_clusters': 22, 'linkage': 'average'}. Best is trial 0 with value: 0.17175292696425382.\n",
      "[I 2024-08-05 17:30:36,761] Trial 2 finished with value: 0.1948455701908811 and parameters: {'n_clusters': 31, 'linkage': 'ward'}. Best is trial 2 with value: 0.1948455701908811.\n",
      "[I 2024-08-05 17:30:36,808] Trial 3 finished with value: 0.21677204620028326 and parameters: {'n_clusters': 89, 'linkage': 'average'}. Best is trial 3 with value: 0.21677204620028326.\n",
      "[I 2024-08-05 17:30:36,857] Trial 4 finished with value: 0.16623360556626884 and parameters: {'n_clusters': 61, 'linkage': 'average'}. Best is trial 3 with value: 0.21677204620028326.\n",
      "[I 2024-08-05 17:30:36,905] Trial 5 finished with value: 0.18846247076521289 and parameters: {'n_clusters': 56, 'linkage': 'complete'}. Best is trial 3 with value: 0.21677204620028326.\n",
      "[I 2024-08-05 17:30:36,955] Trial 6 finished with value: 0.11311916991549031 and parameters: {'n_clusters': 113, 'linkage': 'single'}. Best is trial 3 with value: 0.21677204620028326.\n",
      "[I 2024-08-05 17:30:37,003] Trial 7 finished with value: 0.19834269442583125 and parameters: {'n_clusters': 37, 'linkage': 'average'}. Best is trial 3 with value: 0.21677204620028326.\n",
      "[I 2024-08-05 17:30:37,051] Trial 8 finished with value: 0.18855759505934233 and parameters: {'n_clusters': 53, 'linkage': 'complete'}. Best is trial 3 with value: 0.21677204620028326.\n",
      "[I 2024-08-05 17:30:37,101] Trial 9 finished with value: 0.17841310072866762 and parameters: {'n_clusters': 43, 'linkage': 'average'}. Best is trial 3 with value: 0.21677204620028326.\n",
      "[I 2024-08-05 17:30:37,152] Trial 10 finished with value: 0.3078569027787535 and parameters: {'n_clusters': 134, 'linkage': 'ward'}. Best is trial 10 with value: 0.3078569027787535.\n",
      "[I 2024-08-05 17:30:37,201] Trial 11 finished with value: 0.21532941744990708 and parameters: {'n_clusters': 108, 'linkage': 'complete'}. Best is trial 10 with value: 0.3078569027787535.\n",
      "[I 2024-08-05 17:30:37,253] Trial 12 finished with value: 0.09873931255445342 and parameters: {'n_clusters': 76, 'linkage': 'single'}. Best is trial 10 with value: 0.3078569027787535.\n",
      "[I 2024-08-05 17:30:37,303] Trial 13 finished with value: 0.20906136616770307 and parameters: {'n_clusters': 119, 'linkage': 'complete'}. Best is trial 10 with value: 0.3078569027787535.\n",
      "[I 2024-08-05 17:30:37,355] Trial 14 finished with value: 0.06948252925338605 and parameters: {'n_clusters': 97, 'linkage': 'single'}. Best is trial 10 with value: 0.3078569027787535.\n",
      "[I 2024-08-05 17:30:37,408] Trial 15 finished with value: 0.22071376328993558 and parameters: {'n_clusters': 137, 'linkage': 'complete'}. Best is trial 10 with value: 0.3078569027787535.\n",
      "[I 2024-08-05 17:30:37,461] Trial 16 finished with value: -0.029715499172552094 and parameters: {'n_clusters': 59, 'linkage': 'single'}. Best is trial 10 with value: 0.3078569027787535.\n",
      "[I 2024-08-05 17:30:37,513] Trial 17 finished with value: 0.09812799225814475 and parameters: {'n_clusters': 88, 'linkage': 'single'}. Best is trial 10 with value: 0.3078569027787535.\n",
      "[I 2024-08-05 17:30:37,564] Trial 18 finished with value: 0.21015716511473484 and parameters: {'n_clusters': 89, 'linkage': 'complete'}. Best is trial 10 with value: 0.3078569027787535.\n",
      "[I 2024-08-05 17:30:37,631] Trial 19 finished with value: 0.23618455461522353 and parameters: {'n_clusters': 66, 'linkage': 'ward'}. Best is trial 10 with value: 0.3078569027787535.\n",
      "[I 2024-08-05 17:30:37,683] Trial 20 finished with value: 0.22970663911858033 and parameters: {'n_clusters': 52, 'linkage': 'ward'}. Best is trial 10 with value: 0.3078569027787535.\n",
      "[I 2024-08-05 17:30:37,736] Trial 21 finished with value: 0.18410829291120023 and parameters: {'n_clusters': 52, 'linkage': 'complete'}. Best is trial 10 with value: 0.3078569027787535.\n",
      "[I 2024-08-05 17:30:37,787] Trial 22 finished with value: 0.21162522514998727 and parameters: {'n_clusters': 113, 'linkage': 'complete'}. Best is trial 10 with value: 0.3078569027787535.\n",
      "[I 2024-08-05 17:30:37,841] Trial 23 finished with value: 0.24813798022630945 and parameters: {'n_clusters': 82, 'linkage': 'ward'}. Best is trial 10 with value: 0.3078569027787535.\n",
      "[I 2024-08-05 17:30:37,896] Trial 24 finished with value: 0.25389473218027375 and parameters: {'n_clusters': 88, 'linkage': 'ward'}. Best is trial 10 with value: 0.3078569027787535.\n",
      "[I 2024-08-05 17:30:37,950] Trial 25 finished with value: 0.2515319595893808 and parameters: {'n_clusters': 81, 'linkage': 'ward'}. Best is trial 10 with value: 0.3078569027787535.\n",
      "[I 2024-08-05 17:30:38,005] Trial 26 finished with value: 0.06961665217386859 and parameters: {'n_clusters': 96, 'linkage': 'single'}. Best is trial 10 with value: 0.3078569027787535.\n",
      "[I 2024-08-05 17:30:38,058] Trial 27 finished with value: 0.21414469470180272 and parameters: {'n_clusters': 125, 'linkage': 'complete'}. Best is trial 10 with value: 0.3078569027787535.\n",
      "[I 2024-08-05 17:30:38,114] Trial 28 finished with value: 0.1805276868316194 and parameters: {'n_clusters': 44, 'linkage': 'average'}. Best is trial 10 with value: 0.3078569027787535.\n",
      "[I 2024-08-05 17:30:38,179] Trial 29 finished with value: 0.09486805665282051 and parameters: {'n_clusters': 25, 'linkage': 'complete'}. Best is trial 10 with value: 0.3078569027787535.\n",
      "[I 2024-08-05 17:30:38,239] Trial 30 finished with value: -0.022812427290572965 and parameters: {'n_clusters': 43, 'linkage': 'single'}. Best is trial 10 with value: 0.3078569027787535.\n",
      "[I 2024-08-05 17:30:38,296] Trial 31 finished with value: 0.10254679612533898 and parameters: {'n_clusters': 145, 'linkage': 'single'}. Best is trial 10 with value: 0.3078569027787535.\n",
      "[I 2024-08-05 17:30:38,351] Trial 32 finished with value: 0.21836350367932553 and parameters: {'n_clusters': 136, 'linkage': 'complete'}. Best is trial 10 with value: 0.3078569027787535.\n",
      "[I 2024-08-05 17:30:38,408] Trial 33 finished with value: 0.14461453464663698 and parameters: {'n_clusters': 20, 'linkage': 'single'}. Best is trial 10 with value: 0.3078569027787535.\n",
      "[I 2024-08-05 17:30:38,461] Trial 34 finished with value: 0.2084516661786912 and parameters: {'n_clusters': 78, 'linkage': 'complete'}. Best is trial 10 with value: 0.3078569027787535.\n",
      "[I 2024-08-05 17:30:38,517] Trial 35 finished with value: 0.2699679278624931 and parameters: {'n_clusters': 101, 'linkage': 'ward'}. Best is trial 10 with value: 0.3078569027787535.\n",
      "[I 2024-08-05 17:30:38,577] Trial 36 finished with value: 0.2167449701056716 and parameters: {'n_clusters': 15, 'linkage': 'single'}. Best is trial 10 with value: 0.3078569027787535.\n",
      "[I 2024-08-05 17:30:38,635] Trial 37 finished with value: -0.0334833925957311 and parameters: {'n_clusters': 60, 'linkage': 'single'}. Best is trial 10 with value: 0.3078569027787535.\n",
      "[I 2024-08-05 17:30:38,694] Trial 38 finished with value: 0.21426827904336473 and parameters: {'n_clusters': 91, 'linkage': 'complete'}. Best is trial 10 with value: 0.3078569027787535.\n",
      "[I 2024-08-05 17:30:38,751] Trial 39 finished with value: 0.24682261566027003 and parameters: {'n_clusters': 79, 'linkage': 'ward'}. Best is trial 10 with value: 0.3078569027787535.\n",
      "[I 2024-08-05 17:30:38,808] Trial 40 finished with value: 0.21058633689780745 and parameters: {'n_clusters': 33, 'linkage': 'average'}. Best is trial 10 with value: 0.3078569027787535.\n",
      "[I 2024-08-05 17:30:38,865] Trial 41 finished with value: 0.14108918570037368 and parameters: {'n_clusters': 26, 'linkage': 'average'}. Best is trial 10 with value: 0.3078569027787535.\n",
      "[I 2024-08-05 17:30:38,925] Trial 42 finished with value: 0.22384131297833518 and parameters: {'n_clusters': 142, 'linkage': 'complete'}. Best is trial 10 with value: 0.3078569027787535.\n",
      "[I 2024-08-05 17:30:38,983] Trial 43 finished with value: 0.14056735012459218 and parameters: {'n_clusters': 24, 'linkage': 'average'}. Best is trial 10 with value: 0.3078569027787535.\n",
      "[I 2024-08-05 17:30:39,041] Trial 44 finished with value: 0.11793944612108119 and parameters: {'n_clusters': 26, 'linkage': 'complete'}. Best is trial 10 with value: 0.3078569027787535.\n",
      "[I 2024-08-05 17:30:39,099] Trial 45 finished with value: 0.19560727778380713 and parameters: {'n_clusters': 73, 'linkage': 'average'}. Best is trial 10 with value: 0.3078569027787535.\n",
      "[I 2024-08-05 17:30:39,157] Trial 46 finished with value: 0.27174158970523565 and parameters: {'n_clusters': 104, 'linkage': 'ward'}. Best is trial 10 with value: 0.3078569027787535.\n",
      "[I 2024-08-05 17:30:39,218] Trial 47 finished with value: 0.11741494656358421 and parameters: {'n_clusters': 135, 'linkage': 'single'}. Best is trial 10 with value: 0.3078569027787535.\n",
      "[I 2024-08-05 17:30:39,282] Trial 48 finished with value: 0.21091049797242145 and parameters: {'n_clusters': 37, 'linkage': 'ward'}. Best is trial 10 with value: 0.3078569027787535.\n",
      "[I 2024-08-05 17:30:39,343] Trial 49 finished with value: 0.28087225433881363 and parameters: {'n_clusters': 112, 'linkage': 'ward'}. Best is trial 10 with value: 0.3078569027787535.\n",
      "[I 2024-08-05 17:30:39,404] Trial 50 finished with value: 0.22466332258659646 and parameters: {'n_clusters': 145, 'linkage': 'complete'}. Best is trial 10 with value: 0.3078569027787535.\n",
      "[I 2024-08-05 17:30:39,466] Trial 51 finished with value: 0.09872489732144184 and parameters: {'n_clusters': 115, 'linkage': 'single'}. Best is trial 10 with value: 0.3078569027787535.\n",
      "[I 2024-08-05 17:30:39,529] Trial 52 finished with value: 0.09886704138385938 and parameters: {'n_clusters': 116, 'linkage': 'single'}. Best is trial 10 with value: 0.3078569027787535.\n",
      "[I 2024-08-05 17:30:39,591] Trial 53 finished with value: 0.09496451420015038 and parameters: {'n_clusters': 119, 'linkage': 'single'}. Best is trial 10 with value: 0.3078569027787535.\n",
      "[I 2024-08-05 17:30:39,652] Trial 54 finished with value: 0.22654190044149303 and parameters: {'n_clusters': 126, 'linkage': 'average'}. Best is trial 10 with value: 0.3078569027787535.\n",
      "[I 2024-08-05 17:30:39,713] Trial 55 finished with value: 0.1938516964123294 and parameters: {'n_clusters': 55, 'linkage': 'average'}. Best is trial 10 with value: 0.3078569027787535.\n",
      "[I 2024-08-05 17:30:39,775] Trial 56 finished with value: 0.21374971409287388 and parameters: {'n_clusters': 83, 'linkage': 'average'}. Best is trial 10 with value: 0.3078569027787535.\n",
      "[I 2024-08-05 17:30:39,837] Trial 57 finished with value: 0.17323240640460164 and parameters: {'n_clusters': 18, 'linkage': 'ward'}. Best is trial 10 with value: 0.3078569027787535.\n",
      "[I 2024-08-05 17:30:39,901] Trial 58 finished with value: 0.17614876108237512 and parameters: {'n_clusters': 18, 'linkage': 'average'}. Best is trial 10 with value: 0.3078569027787535.\n",
      "[I 2024-08-05 17:30:39,965] Trial 59 finished with value: 0.2389298669391004 and parameters: {'n_clusters': 68, 'linkage': 'ward'}. Best is trial 10 with value: 0.3078569027787535.\n",
      "[I 2024-08-05 17:30:40,029] Trial 60 finished with value: 0.2217677130869345 and parameters: {'n_clusters': 47, 'linkage': 'ward'}. Best is trial 10 with value: 0.3078569027787535.\n",
      "[I 2024-08-05 17:30:40,094] Trial 61 finished with value: 0.24075804338935508 and parameters: {'n_clusters': 69, 'linkage': 'ward'}. Best is trial 10 with value: 0.3078569027787535.\n",
      "[I 2024-08-05 17:30:40,161] Trial 62 finished with value: -0.030231283323214696 and parameters: {'n_clusters': 48, 'linkage': 'single'}. Best is trial 10 with value: 0.3078569027787535.\n",
      "[I 2024-08-05 17:30:40,223] Trial 63 finished with value: 0.09091674048957635 and parameters: {'n_clusters': 22, 'linkage': 'complete'}. Best is trial 10 with value: 0.3078569027787535.\n",
      "[I 2024-08-05 17:30:40,293] Trial 64 finished with value: -0.08239087580357114 and parameters: {'n_clusters': 57, 'linkage': 'single'}. Best is trial 10 with value: 0.3078569027787535.\n",
      "[I 2024-08-05 17:30:40,362] Trial 65 finished with value: 0.07839000682596495 and parameters: {'n_clusters': 94, 'linkage': 'single'}. Best is trial 10 with value: 0.3078569027787535.\n",
      "[I 2024-08-05 17:30:40,426] Trial 66 finished with value: 0.10289628524471547 and parameters: {'n_clusters': 142, 'linkage': 'single'}. Best is trial 10 with value: 0.3078569027787535.\n",
      "[I 2024-08-05 17:30:40,490] Trial 67 finished with value: 0.26969226976895827 and parameters: {'n_clusters': 103, 'linkage': 'ward'}. Best is trial 10 with value: 0.3078569027787535.\n",
      "[I 2024-08-05 17:30:40,557] Trial 68 finished with value: 0.31743544608997176 and parameters: {'n_clusters': 141, 'linkage': 'ward'}. Best is trial 68 with value: 0.31743544608997176.\n",
      "[I 2024-08-05 17:30:40,622] Trial 69 finished with value: 0.13936155768306493 and parameters: {'n_clusters': 21, 'linkage': 'average'}. Best is trial 68 with value: 0.31743544608997176.\n",
      "[I 2024-08-05 17:30:40,686] Trial 70 finished with value: 0.19897127754025146 and parameters: {'n_clusters': 68, 'linkage': 'complete'}. Best is trial 68 with value: 0.31743544608997176.\n",
      "[I 2024-08-05 17:30:40,750] Trial 71 finished with value: 0.20072415837959048 and parameters: {'n_clusters': 69, 'linkage': 'complete'}. Best is trial 68 with value: 0.31743544608997176.\n",
      "[I 2024-08-05 17:30:40,820] Trial 72 finished with value: -0.06265078179475872 and parameters: {'n_clusters': 65, 'linkage': 'single'}. Best is trial 68 with value: 0.31743544608997176.\n",
      "[I 2024-08-05 17:30:40,885] Trial 73 finished with value: 0.2158188648056509 and parameters: {'n_clusters': 105, 'linkage': 'complete'}. Best is trial 68 with value: 0.31743544608997176.\n",
      "[I 2024-08-05 17:30:40,951] Trial 74 finished with value: 0.2649050821315838 and parameters: {'n_clusters': 96, 'linkage': 'ward'}. Best is trial 68 with value: 0.31743544608997176.\n",
      "[I 2024-08-05 17:30:41,019] Trial 75 finished with value: 0.09094460052350888 and parameters: {'n_clusters': 80, 'linkage': 'single'}. Best is trial 68 with value: 0.31743544608997176.\n",
      "[I 2024-08-05 17:30:41,086] Trial 76 finished with value: 0.21200407884501063 and parameters: {'n_clusters': 97, 'linkage': 'average'}. Best is trial 68 with value: 0.31743544608997176.\n",
      "[I 2024-08-05 17:30:41,155] Trial 77 finished with value: 0.2566808784895732 and parameters: {'n_clusters': 91, 'linkage': 'ward'}. Best is trial 68 with value: 0.31743544608997176.\n",
      "[I 2024-08-05 17:30:41,225] Trial 78 finished with value: 0.1674314056840754 and parameters: {'n_clusters': 23, 'linkage': 'single'}. Best is trial 68 with value: 0.31743544608997176.\n",
      "[I 2024-08-05 17:30:41,298] Trial 79 finished with value: 0.2968016387301919 and parameters: {'n_clusters': 126, 'linkage': 'ward'}. Best is trial 68 with value: 0.31743544608997176.\n",
      "[I 2024-08-05 17:30:41,370] Trial 80 finished with value: 0.1366320676494199 and parameters: {'n_clusters': 17, 'linkage': 'single'}. Best is trial 68 with value: 0.31743544608997176.\n",
      "[I 2024-08-05 17:30:41,439] Trial 81 finished with value: 0.24979981561536083 and parameters: {'n_clusters': 80, 'linkage': 'ward'}. Best is trial 68 with value: 0.31743544608997176.\n",
      "[I 2024-08-05 17:30:41,507] Trial 82 finished with value: 0.22752713081380457 and parameters: {'n_clusters': 50, 'linkage': 'ward'}. Best is trial 68 with value: 0.31743544608997176.\n",
      "[I 2024-08-05 17:30:41,576] Trial 83 finished with value: 0.2348723841953426 and parameters: {'n_clusters': 56, 'linkage': 'ward'}. Best is trial 68 with value: 0.31743544608997176.\n",
      "[I 2024-08-05 17:30:41,644] Trial 84 finished with value: 0.22812831277133463 and parameters: {'n_clusters': 118, 'linkage': 'average'}. Best is trial 68 with value: 0.31743544608997176.\n",
      "[I 2024-08-05 17:30:41,714] Trial 85 finished with value: 0.27304834397164834 and parameters: {'n_clusters': 14, 'linkage': 'average'}. Best is trial 68 with value: 0.31743544608997176.\n",
      "[I 2024-08-05 17:30:41,782] Trial 86 finished with value: 0.17800986045658004 and parameters: {'n_clusters': 42, 'linkage': 'average'}. Best is trial 68 with value: 0.31743544608997176.\n",
      "[I 2024-08-05 17:30:41,852] Trial 87 finished with value: 0.29963714288261095 and parameters: {'n_clusters': 127, 'linkage': 'ward'}. Best is trial 68 with value: 0.31743544608997176.\n",
      "[I 2024-08-05 17:30:41,922] Trial 88 finished with value: 0.3111008823995036 and parameters: {'n_clusters': 135, 'linkage': 'ward'}. Best is trial 68 with value: 0.31743544608997176.\n",
      "[I 2024-08-05 17:30:41,993] Trial 89 finished with value: 0.276315840336419 and parameters: {'n_clusters': 13, 'linkage': 'average'}. Best is trial 68 with value: 0.31743544608997176.\n",
      "[I 2024-08-05 17:30:42,064] Trial 90 finished with value: 0.21856175015523494 and parameters: {'n_clusters': 133, 'linkage': 'complete'}. Best is trial 68 with value: 0.31743544608997176.\n",
      "[I 2024-08-05 17:30:42,136] Trial 91 finished with value: -0.023831813558482406 and parameters: {'n_clusters': 44, 'linkage': 'single'}. Best is trial 68 with value: 0.31743544608997176.\n",
      "[I 2024-08-05 17:30:42,206] Trial 92 finished with value: 0.231576238313741 and parameters: {'n_clusters': 62, 'linkage': 'ward'}. Best is trial 68 with value: 0.31743544608997176.\n",
      "[I 2024-08-05 17:30:42,281] Trial 93 finished with value: -0.030876749706770495 and parameters: {'n_clusters': 50, 'linkage': 'single'}. Best is trial 68 with value: 0.31743544608997176.\n",
      "[I 2024-08-05 17:30:42,355] Trial 94 finished with value: 0.1145895818258767 and parameters: {'n_clusters': 110, 'linkage': 'single'}. Best is trial 68 with value: 0.31743544608997176.\n",
      "[I 2024-08-05 17:30:42,430] Trial 95 finished with value: 0.2634458206322358 and parameters: {'n_clusters': 95, 'linkage': 'ward'}. Best is trial 68 with value: 0.31743544608997176.\n",
      "[I 2024-08-05 17:30:42,503] Trial 96 finished with value: 0.13316424739894722 and parameters: {'n_clusters': 11, 'linkage': 'complete'}. Best is trial 68 with value: 0.31743544608997176.\n",
      "[I 2024-08-05 17:30:42,575] Trial 97 finished with value: 0.1329541519919237 and parameters: {'n_clusters': 34, 'linkage': 'complete'}. Best is trial 68 with value: 0.31743544608997176.\n",
      "[I 2024-08-05 17:30:42,648] Trial 98 finished with value: 0.22549664646672216 and parameters: {'n_clusters': 149, 'linkage': 'complete'}. Best is trial 68 with value: 0.31743544608997176.\n",
      "[I 2024-08-05 17:30:42,719] Trial 99 finished with value: 0.19875159184415447 and parameters: {'n_clusters': 62, 'linkage': 'complete'}. Best is trial 68 with value: 0.31743544608997176.\n",
      "[I 2024-08-05 17:30:42,794] Trial 100 finished with value: 0.10111812299821565 and parameters: {'n_clusters': 30, 'linkage': 'single'}. Best is trial 68 with value: 0.31743544608997176.\n",
      "[I 2024-08-05 17:30:42,867] Trial 101 finished with value: 0.07320991885101383 and parameters: {'n_clusters': 128, 'linkage': 'single'}. Best is trial 68 with value: 0.31743544608997176.\n",
      "[I 2024-08-05 17:30:42,941] Trial 102 finished with value: 0.22210175733628246 and parameters: {'n_clusters': 44, 'linkage': 'ward'}. Best is trial 68 with value: 0.31743544608997176.\n",
      "[I 2024-08-05 17:30:43,017] Trial 103 finished with value: 0.2957077119772019 and parameters: {'n_clusters': 123, 'linkage': 'ward'}. Best is trial 68 with value: 0.31743544608997176.\n",
      "[I 2024-08-05 17:30:43,090] Trial 104 finished with value: 0.22976164200285482 and parameters: {'n_clusters': 61, 'linkage': 'ward'}. Best is trial 68 with value: 0.31743544608997176.\n",
      "[I 2024-08-05 17:30:43,165] Trial 105 finished with value: 0.23278151670430774 and parameters: {'n_clusters': 129, 'linkage': 'average'}. Best is trial 68 with value: 0.31743544608997176.\n",
      "[I 2024-08-05 17:30:43,240] Trial 106 finished with value: 0.20956416505957742 and parameters: {'n_clusters': 32, 'linkage': 'average'}. Best is trial 68 with value: 0.31743544608997176.\n",
      "[I 2024-08-05 17:30:43,314] Trial 107 finished with value: 0.22559100766335494 and parameters: {'n_clusters': 147, 'linkage': 'complete'}. Best is trial 68 with value: 0.31743544608997176.\n",
      "[I 2024-08-05 17:30:43,390] Trial 108 finished with value: 0.27856625732457635 and parameters: {'n_clusters': 109, 'linkage': 'ward'}. Best is trial 68 with value: 0.31743544608997176.\n",
      "[I 2024-08-05 17:30:43,466] Trial 109 finished with value: 0.07069191317819115 and parameters: {'n_clusters': 127, 'linkage': 'single'}. Best is trial 68 with value: 0.31743544608997176.\n",
      "[I 2024-08-05 17:30:43,545] Trial 110 finished with value: 0.09504569869561634 and parameters: {'n_clusters': 124, 'linkage': 'single'}. Best is trial 68 with value: 0.31743544608997176.\n",
      "[I 2024-08-05 17:30:43,620] Trial 111 finished with value: 0.19922371049457122 and parameters: {'n_clusters': 67, 'linkage': 'complete'}. Best is trial 68 with value: 0.31743544608997176.\n",
      "[I 2024-08-05 17:30:43,695] Trial 112 finished with value: 0.196410318433803 and parameters: {'n_clusters': 67, 'linkage': 'average'}. Best is trial 68 with value: 0.31743544608997176.\n",
      "[I 2024-08-05 17:30:43,774] Trial 113 finished with value: 0.09305661787995148 and parameters: {'n_clusters': 120, 'linkage': 'single'}. Best is trial 68 with value: 0.31743544608997176.\n",
      "[I 2024-08-05 17:30:43,853] Trial 114 finished with value: 0.3147094992631531 and parameters: {'n_clusters': 138, 'linkage': 'ward'}. Best is trial 68 with value: 0.31743544608997176.\n",
      "[I 2024-08-05 17:30:43,930] Trial 115 finished with value: 0.20985258490473468 and parameters: {'n_clusters': 38, 'linkage': 'ward'}. Best is trial 68 with value: 0.31743544608997176.\n",
      "[I 2024-08-05 17:30:44,012] Trial 116 finished with value: 0.31822712545068726 and parameters: {'n_clusters': 144, 'linkage': 'ward'}. Best is trial 116 with value: 0.31822712545068726.\n",
      "[I 2024-08-05 17:30:44,090] Trial 117 finished with value: 0.22630707327180563 and parameters: {'n_clusters': 127, 'linkage': 'average'}. Best is trial 116 with value: 0.31822712545068726.\n",
      "[I 2024-08-05 17:30:44,170] Trial 118 finished with value: 0.2287707838023326 and parameters: {'n_clusters': 51, 'linkage': 'ward'}. Best is trial 116 with value: 0.31822712545068726.\n",
      "[I 2024-08-05 17:30:44,247] Trial 119 finished with value: 0.19496678719138819 and parameters: {'n_clusters': 66, 'linkage': 'average'}. Best is trial 116 with value: 0.31822712545068726.\n",
      "[I 2024-08-05 17:30:44,325] Trial 120 finished with value: 0.22331138847926238 and parameters: {'n_clusters': 120, 'linkage': 'average'}. Best is trial 116 with value: 0.31822712545068726.\n",
      "[I 2024-08-05 17:30:44,406] Trial 121 finished with value: 0.21851579441455476 and parameters: {'n_clusters': 106, 'linkage': 'average'}. Best is trial 116 with value: 0.31822712545068726.\n",
      "[I 2024-08-05 17:30:44,485] Trial 122 finished with value: 0.1956744505471067 and parameters: {'n_clusters': 59, 'linkage': 'complete'}. Best is trial 116 with value: 0.31822712545068726.\n",
      "[I 2024-08-05 17:30:44,573] Trial 123 finished with value: 0.2761771540991409 and parameters: {'n_clusters': 107, 'linkage': 'ward'}. Best is trial 116 with value: 0.31822712545068726.\n",
      "[I 2024-08-05 17:30:44,655] Trial 124 finished with value: 0.2204432489905599 and parameters: {'n_clusters': 131, 'linkage': 'complete'}. Best is trial 116 with value: 0.31822712545068726.\n",
      "[I 2024-08-05 17:30:44,733] Trial 125 finished with value: 0.20220076809690685 and parameters: {'n_clusters': 66, 'linkage': 'complete'}. Best is trial 116 with value: 0.31822712545068726.\n",
      "[I 2024-08-05 17:30:44,813] Trial 126 finished with value: 0.2886543897087569 and parameters: {'n_clusters': 117, 'linkage': 'ward'}. Best is trial 116 with value: 0.31822712545068726.\n",
      "[I 2024-08-05 17:30:44,892] Trial 127 finished with value: 0.20393745954718487 and parameters: {'n_clusters': 35, 'linkage': 'average'}. Best is trial 116 with value: 0.31822712545068726.\n",
      "[I 2024-08-05 17:30:44,976] Trial 128 finished with value: 0.28540695036233754 and parameters: {'n_clusters': 12, 'linkage': 'single'}. Best is trial 116 with value: 0.31822712545068726.\n",
      "[I 2024-08-05 17:30:45,058] Trial 129 finished with value: 0.09085432370969374 and parameters: {'n_clusters': 81, 'linkage': 'single'}. Best is trial 116 with value: 0.31822712545068726.\n",
      "[I 2024-08-05 17:30:45,138] Trial 130 finished with value: 0.2160250602665076 and parameters: {'n_clusters': 91, 'linkage': 'average'}. Best is trial 116 with value: 0.31822712545068726.\n",
      "[I 2024-08-05 17:30:45,218] Trial 131 finished with value: 0.20797952730095992 and parameters: {'n_clusters': 121, 'linkage': 'complete'}. Best is trial 116 with value: 0.31822712545068726.\n",
      "[I 2024-08-05 17:30:45,317] Trial 132 finished with value: 0.23310017296468036 and parameters: {'n_clusters': 63, 'linkage': 'ward'}. Best is trial 116 with value: 0.31822712545068726.\n",
      "[I 2024-08-05 17:30:45,401] Trial 133 finished with value: 0.09899052449072719 and parameters: {'n_clusters': 117, 'linkage': 'single'}. Best is trial 116 with value: 0.31822712545068726.\n",
      "[I 2024-08-05 17:30:45,482] Trial 134 finished with value: 0.21254695351791691 and parameters: {'n_clusters': 106, 'linkage': 'complete'}. Best is trial 116 with value: 0.31822712545068726.\n",
      "[I 2024-08-05 17:30:45,576] Trial 135 finished with value: -0.05911258834084213 and parameters: {'n_clusters': 67, 'linkage': 'single'}. Best is trial 116 with value: 0.31822712545068726.\n",
      "[I 2024-08-05 17:30:45,659] Trial 136 finished with value: 0.20801309391050707 and parameters: {'n_clusters': 123, 'linkage': 'complete'}. Best is trial 116 with value: 0.31822712545068726.\n",
      "[I 2024-08-05 17:30:45,742] Trial 137 finished with value: 0.2676493689407038 and parameters: {'n_clusters': 98, 'linkage': 'ward'}. Best is trial 116 with value: 0.31822712545068726.\n",
      "[I 2024-08-05 17:30:45,828] Trial 138 finished with value: 0.11264429767756334 and parameters: {'n_clusters': 99, 'linkage': 'single'}. Best is trial 116 with value: 0.31822712545068726.\n",
      "[I 2024-08-05 17:30:45,910] Trial 139 finished with value: 0.1967890223976559 and parameters: {'n_clusters': 61, 'linkage': 'complete'}. Best is trial 116 with value: 0.31822712545068726.\n",
      "[I 2024-08-05 17:30:45,992] Trial 140 finished with value: 0.11859816979785294 and parameters: {'n_clusters': 17, 'linkage': 'complete'}. Best is trial 116 with value: 0.31822712545068726.\n",
      "[I 2024-08-05 17:30:46,077] Trial 141 finished with value: 0.21683362500750666 and parameters: {'n_clusters': 41, 'linkage': 'ward'}. Best is trial 116 with value: 0.31822712545068726.\n",
      "[I 2024-08-05 17:30:46,166] Trial 142 finished with value: 0.16680502771062541 and parameters: {'n_clusters': 24, 'linkage': 'single'}. Best is trial 116 with value: 0.31822712545068726.\n",
      "[I 2024-08-05 17:30:46,253] Trial 143 finished with value: -0.04925136313433679 and parameters: {'n_clusters': 71, 'linkage': 'single'}. Best is trial 116 with value: 0.31822712545068726.\n",
      "[I 2024-08-05 17:30:46,341] Trial 144 finished with value: 0.23184491255447437 and parameters: {'n_clusters': 128, 'linkage': 'average'}. Best is trial 116 with value: 0.31822712545068726.\n",
      "[I 2024-08-05 17:30:46,427] Trial 145 finished with value: 0.14042893878949614 and parameters: {'n_clusters': 23, 'linkage': 'average'}. Best is trial 116 with value: 0.31822712545068726.\n",
      "[I 2024-08-05 17:30:46,511] Trial 146 finished with value: 0.18162976043673765 and parameters: {'n_clusters': 50, 'linkage': 'complete'}. Best is trial 116 with value: 0.31822712545068726.\n",
      "[I 2024-08-05 17:30:46,598] Trial 147 finished with value: 0.13191019730472334 and parameters: {'n_clusters': 35, 'linkage': 'complete'}. Best is trial 116 with value: 0.31822712545068726.\n",
      "[I 2024-08-05 17:30:46,688] Trial 148 finished with value: 0.22732873283454208 and parameters: {'n_clusters': 123, 'linkage': 'average'}. Best is trial 116 with value: 0.31822712545068726.\n",
      "[I 2024-08-05 17:30:46,775] Trial 149 finished with value: 0.24661622047773735 and parameters: {'n_clusters': 84, 'linkage': 'ward'}. Best is trial 116 with value: 0.31822712545068726.\n",
      "[I 2024-08-05 17:30:46,864] Trial 150 finished with value: 0.21568802472631102 and parameters: {'n_clusters': 102, 'linkage': 'complete'}. Best is trial 116 with value: 0.31822712545068726.\n",
      "[I 2024-08-05 17:30:46,952] Trial 151 finished with value: 0.10952185145565373 and parameters: {'n_clusters': 149, 'linkage': 'single'}. Best is trial 116 with value: 0.31822712545068726.\n",
      "[I 2024-08-05 17:30:47,041] Trial 152 finished with value: 0.18376738726446137 and parameters: {'n_clusters': 51, 'linkage': 'complete'}. Best is trial 116 with value: 0.31822712545068726.\n",
      "[I 2024-08-05 17:30:47,128] Trial 153 finished with value: 0.22358088256642555 and parameters: {'n_clusters': 119, 'linkage': 'average'}. Best is trial 116 with value: 0.31822712545068726.\n",
      "[I 2024-08-05 17:30:47,218] Trial 154 finished with value: 0.10267047913567233 and parameters: {'n_clusters': 139, 'linkage': 'single'}. Best is trial 116 with value: 0.31822712545068726.\n",
      "[I 2024-08-05 17:30:47,305] Trial 155 finished with value: 0.21790523388995023 and parameters: {'n_clusters': 103, 'linkage': 'average'}. Best is trial 116 with value: 0.31822712545068726.\n",
      "[I 2024-08-05 17:30:47,393] Trial 156 finished with value: 0.23725659034457208 and parameters: {'n_clusters': 141, 'linkage': 'average'}. Best is trial 116 with value: 0.31822712545068726.\n",
      "[I 2024-08-05 17:30:47,480] Trial 157 finished with value: 0.23750709153153413 and parameters: {'n_clusters': 131, 'linkage': 'average'}. Best is trial 116 with value: 0.31822712545068726.\n",
      "[I 2024-08-05 17:30:47,568] Trial 158 finished with value: 0.20219565746843546 and parameters: {'n_clusters': 33, 'linkage': 'ward'}. Best is trial 116 with value: 0.31822712545068726.\n",
      "[I 2024-08-05 17:30:47,662] Trial 159 finished with value: 0.2902840677312066 and parameters: {'n_clusters': 11, 'linkage': 'single'}. Best is trial 116 with value: 0.31822712545068726.\n",
      "[I 2024-08-05 17:30:47,755] Trial 160 finished with value: 0.14697728640378208 and parameters: {'n_clusters': 19, 'linkage': 'single'}. Best is trial 116 with value: 0.31822712545068726.\n",
      "[I 2024-08-05 17:30:47,848] Trial 161 finished with value: -0.02687813332147589 and parameters: {'n_clusters': 46, 'linkage': 'single'}. Best is trial 116 with value: 0.31822712545068726.\n",
      "[I 2024-08-05 17:30:47,936] Trial 162 finished with value: 0.21272860516762745 and parameters: {'n_clusters': 85, 'linkage': 'complete'}. Best is trial 116 with value: 0.31822712545068726.\n",
      "[I 2024-08-05 17:30:48,027] Trial 163 finished with value: 0.10918841888500454 and parameters: {'n_clusters': 103, 'linkage': 'single'}. Best is trial 116 with value: 0.31822712545068726.\n",
      "[I 2024-08-05 17:30:48,120] Trial 164 finished with value: 0.3259482462127918 and parameters: {'n_clusters': 150, 'linkage': 'ward'}. Best is trial 164 with value: 0.3259482462127918.\n",
      "[I 2024-08-05 17:30:48,208] Trial 165 finished with value: 0.2275841910740832 and parameters: {'n_clusters': 150, 'linkage': 'complete'}. Best is trial 164 with value: 0.3259482462127918.\n",
      "[I 2024-08-05 17:30:48,298] Trial 166 finished with value: 0.2681785448641451 and parameters: {'n_clusters': 99, 'linkage': 'ward'}. Best is trial 164 with value: 0.3259482462127918.\n",
      "[I 2024-08-05 17:30:48,390] Trial 167 finished with value: 0.09706250292237234 and parameters: {'n_clusters': 79, 'linkage': 'single'}. Best is trial 164 with value: 0.3259482462127918.\n",
      "[I 2024-08-05 17:30:48,480] Trial 168 finished with value: 0.20985926303968216 and parameters: {'n_clusters': 81, 'linkage': 'complete'}. Best is trial 164 with value: 0.3259482462127918.\n",
      "[I 2024-08-05 17:30:48,571] Trial 169 finished with value: 0.19212855042748433 and parameters: {'n_clusters': 57, 'linkage': 'complete'}. Best is trial 164 with value: 0.3259482462127918.\n",
      "[I 2024-08-05 17:30:48,661] Trial 170 finished with value: 0.11686667142913174 and parameters: {'n_clusters': 16, 'linkage': 'complete'}. Best is trial 164 with value: 0.3259482462127918.\n",
      "[I 2024-08-05 17:30:48,754] Trial 171 finished with value: 0.199185263256836 and parameters: {'n_clusters': 79, 'linkage': 'average'}. Best is trial 164 with value: 0.3259482462127918.\n",
      "[I 2024-08-05 17:30:48,853] Trial 172 finished with value: 0.18836013862306386 and parameters: {'n_clusters': 46, 'linkage': 'average'}. Best is trial 164 with value: 0.3259482462127918.\n",
      "[I 2024-08-05 17:30:48,946] Trial 173 finished with value: 0.10857757906695915 and parameters: {'n_clusters': 147, 'linkage': 'single'}. Best is trial 164 with value: 0.3259482462127918.\n",
      "[I 2024-08-05 17:30:49,040] Trial 174 finished with value: 0.2150857133226854 and parameters: {'n_clusters': 96, 'linkage': 'complete'}. Best is trial 164 with value: 0.3259482462127918.\n",
      "[I 2024-08-05 17:30:49,134] Trial 175 finished with value: 0.27293231304623516 and parameters: {'n_clusters': 15, 'linkage': 'average'}. Best is trial 164 with value: 0.3259482462127918.\n",
      "[I 2024-08-05 17:30:49,228] Trial 176 finished with value: 0.3182748861214548 and parameters: {'n_clusters': 142, 'linkage': 'ward'}. Best is trial 164 with value: 0.3259482462127918.\n",
      "[I 2024-08-05 17:30:49,323] Trial 177 finished with value: 0.11270801235541478 and parameters: {'n_clusters': 108, 'linkage': 'single'}. Best is trial 164 with value: 0.3259482462127918.\n",
      "[I 2024-08-05 17:30:49,415] Trial 178 finished with value: 0.21132162687318923 and parameters: {'n_clusters': 114, 'linkage': 'complete'}. Best is trial 164 with value: 0.3259482462127918.\n",
      "[I 2024-08-05 17:30:49,510] Trial 179 finished with value: 0.16347071921300202 and parameters: {'n_clusters': 43, 'linkage': 'complete'}. Best is trial 164 with value: 0.3259482462127918.\n",
      "[I 2024-08-05 17:30:49,607] Trial 180 finished with value: -0.030621078524748623 and parameters: {'n_clusters': 53, 'linkage': 'single'}. Best is trial 164 with value: 0.3259482462127918.\n",
      "[I 2024-08-05 17:30:49,702] Trial 181 finished with value: 0.23257960938508243 and parameters: {'n_clusters': 55, 'linkage': 'ward'}. Best is trial 164 with value: 0.3259482462127918.\n",
      "[I 2024-08-05 17:30:49,796] Trial 182 finished with value: 0.19626963187014346 and parameters: {'n_clusters': 41, 'linkage': 'average'}. Best is trial 164 with value: 0.3259482462127918.\n",
      "[I 2024-08-05 17:30:49,892] Trial 183 finished with value: 0.0915208471610606 and parameters: {'n_clusters': 126, 'linkage': 'single'}. Best is trial 164 with value: 0.3259482462127918.\n",
      "[I 2024-08-05 17:30:49,990] Trial 184 finished with value: -0.016298366200113407 and parameters: {'n_clusters': 42, 'linkage': 'single'}. Best is trial 164 with value: 0.3259482462127918.\n",
      "[I 2024-08-05 17:30:50,096] Trial 185 finished with value: 0.29669813240890386 and parameters: {'n_clusters': 125, 'linkage': 'ward'}. Best is trial 164 with value: 0.3259482462127918.\n",
      "[I 2024-08-05 17:30:50,191] Trial 186 finished with value: 0.23976767447195255 and parameters: {'n_clusters': 149, 'linkage': 'average'}. Best is trial 164 with value: 0.3259482462127918.\n",
      "[I 2024-08-05 17:30:50,284] Trial 187 finished with value: 0.1697760196296599 and parameters: {'n_clusters': 58, 'linkage': 'average'}. Best is trial 164 with value: 0.3259482462127918.\n",
      "[I 2024-08-05 17:30:50,380] Trial 188 finished with value: 0.23860333303041256 and parameters: {'n_clusters': 134, 'linkage': 'average'}. Best is trial 164 with value: 0.3259482462127918.\n",
      "[I 2024-08-05 17:30:50,475] Trial 189 finished with value: 0.20558162647228506 and parameters: {'n_clusters': 34, 'linkage': 'average'}. Best is trial 164 with value: 0.3259482462127918.\n",
      "[I 2024-08-05 17:30:50,574] Trial 190 finished with value: 0.0981343668730781 and parameters: {'n_clusters': 74, 'linkage': 'single'}. Best is trial 164 with value: 0.3259482462127918.\n",
      "[I 2024-08-05 17:30:50,673] Trial 191 finished with value: 0.08022872535152419 and parameters: {'n_clusters': 85, 'linkage': 'single'}. Best is trial 164 with value: 0.3259482462127918.\n",
      "[I 2024-08-05 17:30:50,767] Trial 192 finished with value: 0.1418041492012991 and parameters: {'n_clusters': 29, 'linkage': 'complete'}. Best is trial 164 with value: 0.3259482462127918.\n",
      "[I 2024-08-05 17:30:50,868] Trial 193 finished with value: 0.2264565480932539 and parameters: {'n_clusters': 49, 'linkage': 'ward'}. Best is trial 164 with value: 0.3259482462127918.\n",
      "[I 2024-08-05 17:30:50,975] Trial 194 finished with value: 0.22453083174979663 and parameters: {'n_clusters': 112, 'linkage': 'average'}. Best is trial 164 with value: 0.3259482462127918.\n",
      "[I 2024-08-05 17:30:51,072] Trial 195 finished with value: 0.25251611386329675 and parameters: {'n_clusters': 87, 'linkage': 'ward'}. Best is trial 164 with value: 0.3259482462127918.\n",
      "[I 2024-08-05 17:30:51,170] Trial 196 finished with value: 0.2200128684770546 and parameters: {'n_clusters': 102, 'linkage': 'average'}. Best is trial 164 with value: 0.3259482462127918.\n",
      "[I 2024-08-05 17:30:51,270] Trial 197 finished with value: 0.10409129775199855 and parameters: {'n_clusters': 141, 'linkage': 'single'}. Best is trial 164 with value: 0.3259482462127918.\n",
      "[I 2024-08-05 17:30:51,372] Trial 198 finished with value: 0.22912596836153518 and parameters: {'n_clusters': 60, 'linkage': 'ward'}. Best is trial 164 with value: 0.3259482462127918.\n",
      "[I 2024-08-05 17:30:51,471] Trial 199 finished with value: 0.17612529867733853 and parameters: {'n_clusters': 57, 'linkage': 'average'}. Best is trial 164 with value: 0.3259482462127918.\n",
      "[I 2024-08-05 17:30:51,571] Trial 200 finished with value: 0.18250456668768203 and parameters: {'n_clusters': 11, 'linkage': 'ward'}. Best is trial 164 with value: 0.3259482462127918.\n",
      "[I 2024-08-05 17:30:51,671] Trial 201 finished with value: 0.19263265098259938 and parameters: {'n_clusters': 76, 'linkage': 'average'}. Best is trial 164 with value: 0.3259482462127918.\n",
      "[I 2024-08-05 17:30:51,790] Trial 202 finished with value: 0.2512227138973177 and parameters: {'n_clusters': 86, 'linkage': 'ward'}. Best is trial 164 with value: 0.3259482462127918.\n",
      "[I 2024-08-05 17:30:51,898] Trial 203 finished with value: 0.2758895729236977 and parameters: {'n_clusters': 11, 'linkage': 'average'}. Best is trial 164 with value: 0.3259482462127918.\n",
      "[I 2024-08-05 17:30:52,001] Trial 204 finished with value: 0.22294518268874425 and parameters: {'n_clusters': 110, 'linkage': 'average'}. Best is trial 164 with value: 0.3259482462127918.\n",
      "[I 2024-08-05 17:30:52,103] Trial 205 finished with value: 0.09551339445868684 and parameters: {'n_clusters': 123, 'linkage': 'single'}. Best is trial 164 with value: 0.3259482462127918.\n",
      "[I 2024-08-05 17:30:52,207] Trial 206 finished with value: -0.08294648062603927 and parameters: {'n_clusters': 58, 'linkage': 'single'}. Best is trial 164 with value: 0.3259482462127918.\n",
      "[I 2024-08-05 17:30:52,311] Trial 207 finished with value: 0.20455579226853687 and parameters: {'n_clusters': 35, 'linkage': 'ward'}. Best is trial 164 with value: 0.3259482462127918.\n",
      "[I 2024-08-05 17:30:52,411] Trial 208 finished with value: 0.234678777591796 and parameters: {'n_clusters': 58, 'linkage': 'ward'}. Best is trial 164 with value: 0.3259482462127918.\n",
      "[I 2024-08-05 17:30:52,514] Trial 209 finished with value: 0.16818915790111086 and parameters: {'n_clusters': 60, 'linkage': 'average'}. Best is trial 164 with value: 0.3259482462127918.\n",
      "[I 2024-08-05 17:30:52,621] Trial 210 finished with value: 0.06321305023050881 and parameters: {'n_clusters': 32, 'linkage': 'single'}. Best is trial 164 with value: 0.3259482462127918.\n",
      "[I 2024-08-05 17:30:52,730] Trial 211 finished with value: 0.23197793207987177 and parameters: {'n_clusters': 130, 'linkage': 'average'}. Best is trial 164 with value: 0.3259482462127918.\n",
      "[I 2024-08-05 17:30:52,850] Trial 212 finished with value: 0.1802034457357055 and parameters: {'n_clusters': 15, 'linkage': 'ward'}. Best is trial 164 with value: 0.3259482462127918.\n",
      "[I 2024-08-05 17:30:52,956] Trial 213 finished with value: 0.06825570122385721 and parameters: {'n_clusters': 95, 'linkage': 'single'}. Best is trial 164 with value: 0.3259482462127918.\n",
      "[I 2024-08-05 17:30:53,066] Trial 214 finished with value: 0.13501126252199244 and parameters: {'n_clusters': 28, 'linkage': 'average'}. Best is trial 164 with value: 0.3259482462127918.\n",
      "[I 2024-08-05 17:30:53,167] Trial 215 finished with value: 0.15877613780085703 and parameters: {'n_clusters': 40, 'linkage': 'complete'}. Best is trial 164 with value: 0.3259482462127918.\n",
      "[I 2024-08-05 17:30:53,271] Trial 216 finished with value: 0.07545776728636963 and parameters: {'n_clusters': 93, 'linkage': 'single'}. Best is trial 164 with value: 0.3259482462127918.\n",
      "[I 2024-08-05 17:30:53,376] Trial 217 finished with value: 0.21654247172115174 and parameters: {'n_clusters': 94, 'linkage': 'complete'}. Best is trial 164 with value: 0.3259482462127918.\n",
      "[I 2024-08-05 17:30:53,478] Trial 218 finished with value: 0.22379086477033383 and parameters: {'n_clusters': 48, 'linkage': 'ward'}. Best is trial 164 with value: 0.3259482462127918.\n",
      "[I 2024-08-05 17:30:53,585] Trial 219 finished with value: 0.07642061509936159 and parameters: {'n_clusters': 92, 'linkage': 'single'}. Best is trial 164 with value: 0.3259482462127918.\n",
      "[I 2024-08-05 17:30:53,691] Trial 220 finished with value: 0.13580958222379588 and parameters: {'n_clusters': 32, 'linkage': 'complete'}. Best is trial 164 with value: 0.3259482462127918.\n",
      "[I 2024-08-05 17:30:53,797] Trial 221 finished with value: 0.31928555206321674 and parameters: {'n_clusters': 145, 'linkage': 'ward'}. Best is trial 164 with value: 0.3259482462127918.\n",
      "[I 2024-08-05 17:30:53,903] Trial 222 finished with value: 0.19665454922777725 and parameters: {'n_clusters': 64, 'linkage': 'average'}. Best is trial 164 with value: 0.3259482462127918.\n",
      "[I 2024-08-05 17:30:54,011] Trial 223 finished with value: 0.20907203810805672 and parameters: {'n_clusters': 36, 'linkage': 'ward'}. Best is trial 164 with value: 0.3259482462127918.\n",
      "[I 2024-08-05 17:30:54,121] Trial 224 finished with value: 0.14104907539596864 and parameters: {'n_clusters': 27, 'linkage': 'average'}. Best is trial 164 with value: 0.3259482462127918.\n",
      "[I 2024-08-05 17:30:54,228] Trial 225 finished with value: 0.243031962820344 and parameters: {'n_clusters': 73, 'linkage': 'ward'}. Best is trial 164 with value: 0.3259482462127918.\n",
      "[I 2024-08-05 17:30:54,339] Trial 226 finished with value: -0.007582569482589042 and parameters: {'n_clusters': 35, 'linkage': 'single'}. Best is trial 164 with value: 0.3259482462127918.\n",
      "[I 2024-08-05 17:30:54,446] Trial 227 finished with value: 0.20864708256990047 and parameters: {'n_clusters': 118, 'linkage': 'complete'}. Best is trial 164 with value: 0.3259482462127918.\n",
      "[I 2024-08-05 17:30:54,553] Trial 228 finished with value: 0.21430457206998513 and parameters: {'n_clusters': 124, 'linkage': 'complete'}. Best is trial 164 with value: 0.3259482462127918.\n",
      "[I 2024-08-05 17:30:54,665] Trial 229 finished with value: -0.015151996902997863 and parameters: {'n_clusters': 38, 'linkage': 'single'}. Best is trial 164 with value: 0.3259482462127918.\n",
      "[I 2024-08-05 17:30:54,775] Trial 230 finished with value: 0.2907546099019134 and parameters: {'n_clusters': 10, 'linkage': 'average'}. Best is trial 164 with value: 0.3259482462127918.\n",
      "[I 2024-08-05 17:30:54,883] Trial 231 finished with value: 0.17260440299568217 and parameters: {'n_clusters': 53, 'linkage': 'average'}. Best is trial 164 with value: 0.3259482462127918.\n",
      "[I 2024-08-05 17:30:55,005] Trial 232 finished with value: 0.2751025553576139 and parameters: {'n_clusters': 106, 'linkage': 'ward'}. Best is trial 164 with value: 0.3259482462127918.\n",
      "[I 2024-08-05 17:30:55,117] Trial 233 finished with value: 0.10286699431471492 and parameters: {'n_clusters': 140, 'linkage': 'single'}. Best is trial 164 with value: 0.3259482462127918.\n",
      "[I 2024-08-05 17:30:55,231] Trial 234 finished with value: 0.09701012391225844 and parameters: {'n_clusters': 19, 'linkage': 'complete'}. Best is trial 164 with value: 0.3259482462127918.\n",
      "[I 2024-08-05 17:30:55,343] Trial 235 finished with value: 0.21873814987173637 and parameters: {'n_clusters': 104, 'linkage': 'average'}. Best is trial 164 with value: 0.3259482462127918.\n",
      "[I 2024-08-05 17:30:55,451] Trial 236 finished with value: 0.2212022862477137 and parameters: {'n_clusters': 129, 'linkage': 'complete'}. Best is trial 164 with value: 0.3259482462127918.\n",
      "[I 2024-08-05 17:30:55,560] Trial 237 finished with value: 0.20999117576803136 and parameters: {'n_clusters': 84, 'linkage': 'average'}. Best is trial 164 with value: 0.3259482462127918.\n",
      "[I 2024-08-05 17:30:55,668] Trial 238 finished with value: 0.21650226222998334 and parameters: {'n_clusters': 82, 'linkage': 'average'}. Best is trial 164 with value: 0.3259482462127918.\n",
      "[I 2024-08-05 17:30:55,781] Trial 239 finished with value: 0.10019424082530776 and parameters: {'n_clusters': 28, 'linkage': 'single'}. Best is trial 164 with value: 0.3259482462127918.\n",
      "[I 2024-08-05 17:30:55,891] Trial 240 finished with value: 0.21620612740220105 and parameters: {'n_clusters': 99, 'linkage': 'complete'}. Best is trial 164 with value: 0.3259482462127918.\n",
      "[I 2024-08-05 17:30:56,004] Trial 241 finished with value: 0.21360291146805263 and parameters: {'n_clusters': 108, 'linkage': 'average'}. Best is trial 164 with value: 0.3259482462127918.\n",
      "[I 2024-08-05 17:30:56,122] Trial 242 finished with value: 0.1427903097744415 and parameters: {'n_clusters': 18, 'linkage': 'single'}. Best is trial 164 with value: 0.3259482462127918.\n",
      "[I 2024-08-05 17:30:56,246] Trial 243 finished with value: 0.2247417945402502 and parameters: {'n_clusters': 113, 'linkage': 'average'}. Best is trial 164 with value: 0.3259482462127918.\n",
      "[I 2024-08-05 17:30:56,361] Trial 244 finished with value: -0.05486346423022238 and parameters: {'n_clusters': 62, 'linkage': 'single'}. Best is trial 164 with value: 0.3259482462127918.\n",
      "[I 2024-08-05 17:30:56,471] Trial 245 finished with value: 0.21557424431767747 and parameters: {'n_clusters': 98, 'linkage': 'complete'}. Best is trial 164 with value: 0.3259482462127918.\n",
      "[I 2024-08-05 17:30:56,582] Trial 246 finished with value: 0.24481442041327722 and parameters: {'n_clusters': 76, 'linkage': 'ward'}. Best is trial 164 with value: 0.3259482462127918.\n",
      "[I 2024-08-05 17:30:56,702] Trial 247 finished with value: 0.1039207836428123 and parameters: {'n_clusters': 31, 'linkage': 'single'}. Best is trial 164 with value: 0.3259482462127918.\n",
      "[I 2024-08-05 17:30:56,828] Trial 248 finished with value: 0.11241444109781788 and parameters: {'n_clusters': 100, 'linkage': 'single'}. Best is trial 164 with value: 0.3259482462127918.\n",
      "[I 2024-08-05 17:30:56,943] Trial 249 finished with value: 0.22475110827177092 and parameters: {'n_clusters': 114, 'linkage': 'average'}. Best is trial 164 with value: 0.3259482462127918.\n",
      "[I 2024-08-05 17:30:57,058] Trial 250 finished with value: 0.14102155661707308 and parameters: {'n_clusters': 13, 'linkage': 'complete'}. Best is trial 164 with value: 0.3259482462127918.\n",
      "[I 2024-08-05 17:30:57,172] Trial 251 finished with value: 0.28306918000557424 and parameters: {'n_clusters': 114, 'linkage': 'ward'}. Best is trial 164 with value: 0.3259482462127918.\n",
      "[I 2024-08-05 17:30:57,307] Trial 252 finished with value: 0.2427179058351896 and parameters: {'n_clusters': 72, 'linkage': 'ward'}. Best is trial 164 with value: 0.3259482462127918.\n",
      "[I 2024-08-05 17:30:57,422] Trial 253 finished with value: 0.3183925300800726 and parameters: {'n_clusters': 143, 'linkage': 'ward'}. Best is trial 164 with value: 0.3259482462127918.\n",
      "[I 2024-08-05 17:30:57,548] Trial 254 finished with value: 0.0994607852775052 and parameters: {'n_clusters': 118, 'linkage': 'single'}. Best is trial 164 with value: 0.3259482462127918.\n",
      "[I 2024-08-05 17:30:57,669] Trial 255 finished with value: 0.31377504571036813 and parameters: {'n_clusters': 10, 'linkage': 'single'}. Best is trial 164 with value: 0.3259482462127918.\n",
      "[I 2024-08-05 17:30:57,784] Trial 256 finished with value: 0.2425399247930985 and parameters: {'n_clusters': 148, 'linkage': 'average'}. Best is trial 164 with value: 0.3259482462127918.\n",
      "[I 2024-08-05 17:30:57,900] Trial 257 finished with value: -0.03399823489656631 and parameters: {'n_clusters': 54, 'linkage': 'single'}. Best is trial 164 with value: 0.3259482462127918.\n",
      "[I 2024-08-05 17:30:58,015] Trial 258 finished with value: 0.1899034010853217 and parameters: {'n_clusters': 78, 'linkage': 'average'}. Best is trial 164 with value: 0.3259482462127918.\n",
      "[I 2024-08-05 17:30:58,133] Trial 259 finished with value: 0.1021382673898484 and parameters: {'n_clusters': 29, 'linkage': 'single'}. Best is trial 164 with value: 0.3259482462127918.\n",
      "[I 2024-08-05 17:30:58,249] Trial 260 finished with value: 0.2066721234227402 and parameters: {'n_clusters': 75, 'linkage': 'complete'}. Best is trial 164 with value: 0.3259482462127918.\n",
      "[I 2024-08-05 17:30:58,369] Trial 261 finished with value: 0.09243493320369989 and parameters: {'n_clusters': 121, 'linkage': 'single'}. Best is trial 164 with value: 0.3259482462127918.\n",
      "[I 2024-08-05 17:30:58,490] Trial 262 finished with value: 0.19645757414456683 and parameters: {'n_clusters': 69, 'linkage': 'average'}. Best is trial 164 with value: 0.3259482462127918.\n",
      "[I 2024-08-05 17:30:58,608] Trial 263 finished with value: 0.3261052760175957 and parameters: {'n_clusters': 149, 'linkage': 'ward'}. Best is trial 263 with value: 0.3261052760175957.\n",
      "[I 2024-08-05 17:30:58,724] Trial 264 finished with value: 0.21005695240581482 and parameters: {'n_clusters': 111, 'linkage': 'complete'}. Best is trial 263 with value: 0.3261052760175957.\n",
      "[I 2024-08-05 17:30:58,867] Trial 265 finished with value: 0.0995062255412075 and parameters: {'n_clusters': 146, 'linkage': 'single'}. Best is trial 263 with value: 0.3261052760175957.\n",
      "[I 2024-08-05 17:30:59,022] Trial 266 finished with value: 0.21983167814339338 and parameters: {'n_clusters': 105, 'linkage': 'average'}. Best is trial 263 with value: 0.3261052760175957.\n",
      "[I 2024-08-05 17:30:59,146] Trial 267 finished with value: 0.23734976291067406 and parameters: {'n_clusters': 138, 'linkage': 'average'}. Best is trial 263 with value: 0.3261052760175957.\n",
      "[I 2024-08-05 17:30:59,264] Trial 268 finished with value: 0.2625440815009822 and parameters: {'n_clusters': 94, 'linkage': 'ward'}. Best is trial 263 with value: 0.3261052760175957.\n",
      "[I 2024-08-05 17:30:59,389] Trial 269 finished with value: 0.15673986218642277 and parameters: {'n_clusters': 30, 'linkage': 'average'}. Best is trial 263 with value: 0.3261052760175957.\n",
      "[I 2024-08-05 17:30:59,516] Trial 270 finished with value: 0.1321529183675348 and parameters: {'n_clusters': 25, 'linkage': 'single'}. Best is trial 263 with value: 0.3261052760175957.\n",
      "[I 2024-08-05 17:30:59,657] Trial 271 finished with value: 0.2075029996310812 and parameters: {'n_clusters': 76, 'linkage': 'complete'}. Best is trial 263 with value: 0.3261052760175957.\n",
      "[I 2024-08-05 17:30:59,787] Trial 272 finished with value: 0.22695387024738226 and parameters: {'n_clusters': 146, 'linkage': 'complete'}. Best is trial 263 with value: 0.3261052760175957.\n",
      "[I 2024-08-05 17:30:59,905] Trial 273 finished with value: 0.20940426596539882 and parameters: {'n_clusters': 120, 'linkage': 'complete'}. Best is trial 263 with value: 0.3261052760175957.\n",
      "[I 2024-08-05 17:31:00,034] Trial 274 finished with value: 0.1720571217725894 and parameters: {'n_clusters': 52, 'linkage': 'average'}. Best is trial 263 with value: 0.3261052760175957.\n",
      "[I 2024-08-05 17:31:00,158] Trial 275 finished with value: 0.30313775733199816 and parameters: {'n_clusters': 130, 'linkage': 'ward'}. Best is trial 263 with value: 0.3261052760175957.\n",
      "[I 2024-08-05 17:31:00,276] Trial 276 finished with value: 0.09424707008883966 and parameters: {'n_clusters': 24, 'linkage': 'complete'}. Best is trial 263 with value: 0.3261052760175957.\n",
      "[I 2024-08-05 17:31:00,399] Trial 277 finished with value: 0.2734813638408023 and parameters: {'n_clusters': 13, 'linkage': 'single'}. Best is trial 263 with value: 0.3261052760175957.\n",
      "[I 2024-08-05 17:31:00,519] Trial 278 finished with value: 0.21203050602589357 and parameters: {'n_clusters': 93, 'linkage': 'average'}. Best is trial 263 with value: 0.3261052760175957.\n",
      "[I 2024-08-05 17:31:00,647] Trial 279 finished with value: 0.29155525121385156 and parameters: {'n_clusters': 120, 'linkage': 'ward'}. Best is trial 263 with value: 0.3261052760175957.\n",
      "[I 2024-08-05 17:31:00,770] Trial 280 finished with value: 0.22844185855186655 and parameters: {'n_clusters': 59, 'linkage': 'ward'}. Best is trial 263 with value: 0.3261052760175957.\n",
      "[I 2024-08-05 17:31:00,892] Trial 281 finished with value: 0.2125009047669211 and parameters: {'n_clusters': 96, 'linkage': 'average'}. Best is trial 263 with value: 0.3261052760175957.\n",
      "[I 2024-08-05 17:31:01,016] Trial 282 finished with value: 0.21092548298212646 and parameters: {'n_clusters': 82, 'linkage': 'complete'}. Best is trial 263 with value: 0.3261052760175957.\n",
      "[I 2024-08-05 17:31:01,139] Trial 283 finished with value: 0.19849389089656638 and parameters: {'n_clusters': 64, 'linkage': 'complete'}. Best is trial 263 with value: 0.3261052760175957.\n",
      "[I 2024-08-05 17:31:01,267] Trial 284 finished with value: 0.09361973624175281 and parameters: {'n_clusters': 122, 'linkage': 'single'}. Best is trial 263 with value: 0.3261052760175957.\n",
      "[I 2024-08-05 17:31:01,392] Trial 285 finished with value: 0.19159499680342088 and parameters: {'n_clusters': 74, 'linkage': 'average'}. Best is trial 263 with value: 0.3261052760175957.\n",
      "[I 2024-08-05 17:31:01,530] Trial 286 finished with value: -0.05931619541648487 and parameters: {'n_clusters': 64, 'linkage': 'single'}. Best is trial 263 with value: 0.3261052760175957.\n",
      "[I 2024-08-05 17:31:01,664] Trial 287 finished with value: 0.1094179173549058 and parameters: {'n_clusters': 148, 'linkage': 'single'}. Best is trial 263 with value: 0.3261052760175957.\n",
      "[I 2024-08-05 17:31:01,794] Trial 288 finished with value: -0.08186772730270318 and parameters: {'n_clusters': 55, 'linkage': 'single'}. Best is trial 263 with value: 0.3261052760175957.\n",
      "[I 2024-08-05 17:31:01,920] Trial 289 finished with value: 0.1315482799330356 and parameters: {'n_clusters': 26, 'linkage': 'single'}. Best is trial 263 with value: 0.3261052760175957.\n",
      "[I 2024-08-05 17:31:02,044] Trial 290 finished with value: 0.18122073762182864 and parameters: {'n_clusters': 49, 'linkage': 'complete'}. Best is trial 263 with value: 0.3261052760175957.\n",
      "[I 2024-08-05 17:31:02,175] Trial 291 finished with value: 0.171646222911104 and parameters: {'n_clusters': 48, 'linkage': 'complete'}. Best is trial 263 with value: 0.3261052760175957.\n",
      "[I 2024-08-05 17:31:02,304] Trial 292 finished with value: 0.17596369566297773 and parameters: {'n_clusters': 10, 'linkage': 'ward'}. Best is trial 263 with value: 0.3261052760175957.\n",
      "[I 2024-08-05 17:31:02,444] Trial 293 finished with value: 0.2128224319150229 and parameters: {'n_clusters': 104, 'linkage': 'complete'}. Best is trial 263 with value: 0.3261052760175957.\n",
      "[I 2024-08-05 17:31:02,628] Trial 294 finished with value: 0.21167667797614162 and parameters: {'n_clusters': 95, 'linkage': 'average'}. Best is trial 263 with value: 0.3261052760175957.\n",
      "[I 2024-08-05 17:31:02,784] Trial 295 finished with value: 0.24062120029899992 and parameters: {'n_clusters': 143, 'linkage': 'average'}. Best is trial 263 with value: 0.3261052760175957.\n",
      "[I 2024-08-05 17:31:02,911] Trial 296 finished with value: 0.2144556377914505 and parameters: {'n_clusters': 127, 'linkage': 'complete'}. Best is trial 263 with value: 0.3261052760175957.\n",
      "[I 2024-08-05 17:31:03,036] Trial 297 finished with value: 0.22454721923989063 and parameters: {'n_clusters': 144, 'linkage': 'complete'}. Best is trial 263 with value: 0.3261052760175957.\n",
      "[I 2024-08-05 17:31:03,175] Trial 298 finished with value: 0.22721667105757282 and parameters: {'n_clusters': 122, 'linkage': 'average'}. Best is trial 263 with value: 0.3261052760175957.\n",
      "[I 2024-08-05 17:31:03,303] Trial 299 finished with value: 0.30091614553556095 and parameters: {'n_clusters': 128, 'linkage': 'ward'}. Best is trial 263 with value: 0.3261052760175957.\n",
      "[I 2024-08-05 17:31:03,430] Trial 300 finished with value: -0.05762097384477836 and parameters: {'n_clusters': 68, 'linkage': 'single'}. Best is trial 263 with value: 0.3261052760175957.\n",
      "[I 2024-08-05 17:31:03,556] Trial 301 finished with value: 0.09558401850736503 and parameters: {'n_clusters': 18, 'linkage': 'complete'}. Best is trial 263 with value: 0.3261052760175957.\n",
      "[I 2024-08-05 17:31:03,690] Trial 302 finished with value: 0.11316951398044589 and parameters: {'n_clusters': 112, 'linkage': 'single'}. Best is trial 263 with value: 0.3261052760175957.\n",
      "[I 2024-08-05 17:31:03,821] Trial 303 finished with value: -0.01464519752048121 and parameters: {'n_clusters': 37, 'linkage': 'single'}. Best is trial 263 with value: 0.3261052760175957.\n",
      "[I 2024-08-05 17:31:03,958] Trial 304 finished with value: 0.16355012423013224 and parameters: {'n_clusters': 42, 'linkage': 'complete'}. Best is trial 263 with value: 0.3261052760175957.\n",
      "[I 2024-08-05 17:31:04,085] Trial 305 finished with value: 0.21011766970753976 and parameters: {'n_clusters': 87, 'linkage': 'average'}. Best is trial 263 with value: 0.3261052760175957.\n",
      "[I 2024-08-05 17:31:04,211] Trial 306 finished with value: 0.19661220274692948 and parameters: {'n_clusters': 40, 'linkage': 'average'}. Best is trial 263 with value: 0.3261052760175957.\n",
      "[I 2024-08-05 17:31:04,337] Trial 307 finished with value: 0.22276555884883717 and parameters: {'n_clusters': 111, 'linkage': 'average'}. Best is trial 263 with value: 0.3261052760175957.\n",
      "[I 2024-08-05 17:31:04,462] Trial 308 finished with value: 0.20961434795483727 and parameters: {'n_clusters': 79, 'linkage': 'complete'}. Best is trial 263 with value: 0.3261052760175957.\n",
      "[I 2024-08-05 17:31:04,590] Trial 309 finished with value: 0.23673626507879297 and parameters: {'n_clusters': 132, 'linkage': 'average'}. Best is trial 263 with value: 0.3261052760175957.\n",
      "[I 2024-08-05 17:31:04,717] Trial 310 finished with value: 0.19493451529550396 and parameters: {'n_clusters': 62, 'linkage': 'average'}. Best is trial 263 with value: 0.3261052760175957.\n",
      "[I 2024-08-05 17:31:04,847] Trial 311 finished with value: 0.08816075246700494 and parameters: {'n_clusters': 98, 'linkage': 'single'}. Best is trial 263 with value: 0.3261052760175957.\n",
      "[I 2024-08-05 17:31:04,976] Trial 312 finished with value: 0.24162526731474968 and parameters: {'n_clusters': 142, 'linkage': 'average'}. Best is trial 263 with value: 0.3261052760175957.\n",
      "[I 2024-08-05 17:31:05,108] Trial 313 finished with value: 0.22856076807028447 and parameters: {'n_clusters': 117, 'linkage': 'average'}. Best is trial 263 with value: 0.3261052760175957.\n",
      "[I 2024-08-05 17:31:05,249] Trial 314 finished with value: 0.20116219682872563 and parameters: {'n_clusters': 65, 'linkage': 'complete'}. Best is trial 263 with value: 0.3261052760175957.\n",
      "[I 2024-08-05 17:31:05,382] Trial 315 finished with value: 0.23903682363553233 and parameters: {'n_clusters': 135, 'linkage': 'average'}. Best is trial 263 with value: 0.3261052760175957.\n",
      "[I 2024-08-05 17:31:05,512] Trial 316 finished with value: 0.19378182539264993 and parameters: {'n_clusters': 26, 'linkage': 'ward'}. Best is trial 263 with value: 0.3261052760175957.\n",
      "[I 2024-08-05 17:31:05,649] Trial 317 finished with value: 0.24774501477736316 and parameters: {'n_clusters': 83, 'linkage': 'ward'}. Best is trial 263 with value: 0.3261052760175957.\n",
      "[I 2024-08-05 17:31:05,811] Trial 318 finished with value: 0.2449844861952434 and parameters: {'n_clusters': 77, 'linkage': 'ward'}. Best is trial 263 with value: 0.3261052760175957.\n",
      "[I 2024-08-05 17:31:05,970] Trial 319 finished with value: 0.10924971430915503 and parameters: {'n_clusters': 14, 'linkage': 'complete'}. Best is trial 263 with value: 0.3261052760175957.\n",
      "[I 2024-08-05 17:31:06,126] Trial 320 finished with value: 0.24490304991511633 and parameters: {'n_clusters': 75, 'linkage': 'ward'}. Best is trial 263 with value: 0.3261052760175957.\n",
      "[I 2024-08-05 17:31:06,269] Trial 321 finished with value: 0.31907173310468256 and parameters: {'n_clusters': 146, 'linkage': 'ward'}. Best is trial 263 with value: 0.3261052760175957.\n",
      "[I 2024-08-05 17:31:06,403] Trial 322 finished with value: 0.21247344944887217 and parameters: {'n_clusters': 107, 'linkage': 'complete'}. Best is trial 263 with value: 0.3261052760175957.\n",
      "[I 2024-08-05 17:31:06,545] Trial 323 finished with value: 0.21044039634430595 and parameters: {'n_clusters': 116, 'linkage': 'complete'}. Best is trial 263 with value: 0.3261052760175957.\n",
      "[I 2024-08-05 17:31:06,684] Trial 324 finished with value: 0.23173099475640482 and parameters: {'n_clusters': 53, 'linkage': 'ward'}. Best is trial 263 with value: 0.3261052760175957.\n",
      "[I 2024-08-05 17:31:06,826] Trial 325 finished with value: 0.1924674539056246 and parameters: {'n_clusters': 25, 'linkage': 'ward'}. Best is trial 263 with value: 0.3261052760175957.\n",
      "[I 2024-08-05 17:31:06,968] Trial 326 finished with value: 0.09311050147926161 and parameters: {'n_clusters': 23, 'linkage': 'complete'}. Best is trial 263 with value: 0.3261052760175957.\n",
      "[I 2024-08-05 17:31:07,107] Trial 327 finished with value: 0.11358239786111961 and parameters: {'n_clusters': 131, 'linkage': 'single'}. Best is trial 263 with value: 0.3261052760175957.\n",
      "[I 2024-08-05 17:31:07,254] Trial 328 finished with value: 0.2094408679472247 and parameters: {'n_clusters': 72, 'linkage': 'complete'}. Best is trial 263 with value: 0.3261052760175957.\n",
      "[I 2024-08-05 17:31:07,392] Trial 329 finished with value: 0.19226163511094885 and parameters: {'n_clusters': 77, 'linkage': 'average'}. Best is trial 263 with value: 0.3261052760175957.\n",
      "[I 2024-08-05 17:31:07,535] Trial 330 finished with value: 0.196809696289389 and parameters: {'n_clusters': 38, 'linkage': 'average'}. Best is trial 263 with value: 0.3261052760175957.\n",
      "[I 2024-08-05 17:31:07,677] Trial 331 finished with value: 0.27398306815032847 and parameters: {'n_clusters': 105, 'linkage': 'ward'}. Best is trial 263 with value: 0.3261052760175957.\n",
      "[I 2024-08-05 17:31:07,817] Trial 332 finished with value: 0.16394220745522375 and parameters: {'n_clusters': 16, 'linkage': 'single'}. Best is trial 263 with value: 0.3261052760175957.\n",
      "[I 2024-08-05 17:31:07,963] Trial 333 finished with value: 0.28628832526954456 and parameters: {'n_clusters': 115, 'linkage': 'ward'}. Best is trial 263 with value: 0.3261052760175957.\n",
      "[I 2024-08-05 17:31:08,147] Trial 334 finished with value: 0.19974087781701558 and parameters: {'n_clusters': 32, 'linkage': 'ward'}. Best is trial 263 with value: 0.3261052760175957.\n",
      "[I 2024-08-05 17:31:08,321] Trial 335 finished with value: 0.28924523962407633 and parameters: {'n_clusters': 118, 'linkage': 'ward'}. Best is trial 263 with value: 0.3261052760175957.\n",
      "[I 2024-08-05 17:31:08,471] Trial 336 finished with value: 0.08006487469505028 and parameters: {'n_clusters': 89, 'linkage': 'single'}. Best is trial 263 with value: 0.3261052760175957.\n",
      "[I 2024-08-05 17:31:08,612] Trial 337 finished with value: 0.2369653584557514 and parameters: {'n_clusters': 139, 'linkage': 'average'}. Best is trial 263 with value: 0.3261052760175957.\n",
      "[I 2024-08-05 17:31:08,752] Trial 338 finished with value: 0.17190647794705974 and parameters: {'n_clusters': 46, 'linkage': 'complete'}. Best is trial 263 with value: 0.3261052760175957.\n",
      "[I 2024-08-05 17:31:08,896] Trial 339 finished with value: 0.16867328111389476 and parameters: {'n_clusters': 22, 'linkage': 'single'}. Best is trial 263 with value: 0.3261052760175957.\n",
      "[I 2024-08-05 17:31:09,039] Trial 340 finished with value: 0.21080337799219084 and parameters: {'n_clusters': 100, 'linkage': 'average'}. Best is trial 263 with value: 0.3261052760175957.\n",
      "[I 2024-08-05 17:31:09,198] Trial 341 finished with value: 0.23415745143283706 and parameters: {'n_clusters': 54, 'linkage': 'ward'}. Best is trial 263 with value: 0.3261052760175957.\n",
      "[I 2024-08-05 17:31:09,364] Trial 342 finished with value: 0.07729077088463492 and parameters: {'n_clusters': 83, 'linkage': 'single'}. Best is trial 263 with value: 0.3261052760175957.\n",
      "[I 2024-08-05 17:31:09,533] Trial 343 finished with value: 0.11132006999568869 and parameters: {'n_clusters': 107, 'linkage': 'single'}. Best is trial 263 with value: 0.3261052760175957.\n",
      "[I 2024-08-05 17:31:09,687] Trial 344 finished with value: 0.18149757154057136 and parameters: {'n_clusters': 20, 'linkage': 'ward'}. Best is trial 263 with value: 0.3261052760175957.\n",
      "[I 2024-08-05 17:31:09,857] Trial 345 finished with value: 0.19730477075913896 and parameters: {'n_clusters': 39, 'linkage': 'average'}. Best is trial 263 with value: 0.3261052760175957.\n",
      "[I 2024-08-05 17:31:10,002] Trial 346 finished with value: -0.03139683938613452 and parameters: {'n_clusters': 51, 'linkage': 'single'}. Best is trial 263 with value: 0.3261052760175957.\n",
      "[I 2024-08-05 17:31:10,143] Trial 347 finished with value: 0.18290177184172876 and parameters: {'n_clusters': 23, 'linkage': 'ward'}. Best is trial 263 with value: 0.3261052760175957.\n",
      "[I 2024-08-05 17:31:10,284] Trial 348 finished with value: 0.20956196528857426 and parameters: {'n_clusters': 86, 'linkage': 'average'}. Best is trial 263 with value: 0.3261052760175957.\n",
      "[I 2024-08-05 17:31:10,424] Trial 349 finished with value: 0.20228190537330165 and parameters: {'n_clusters': 70, 'linkage': 'complete'}. Best is trial 263 with value: 0.3261052760175957.\n",
      "[I 2024-08-05 17:31:10,570] Trial 350 finished with value: 0.30712813838518993 and parameters: {'n_clusters': 133, 'linkage': 'ward'}. Best is trial 263 with value: 0.3261052760175957.\n",
      "[I 2024-08-05 17:31:10,709] Trial 351 finished with value: 0.22344955165307626 and parameters: {'n_clusters': 140, 'linkage': 'complete'}. Best is trial 263 with value: 0.3261052760175957.\n",
      "[I 2024-08-05 17:31:10,850] Trial 352 finished with value: 0.20955732888490491 and parameters: {'n_clusters': 85, 'linkage': 'average'}. Best is trial 263 with value: 0.3261052760175957.\n",
      "[I 2024-08-05 17:31:10,999] Trial 353 finished with value: 0.22756128670940245 and parameters: {'n_clusters': 125, 'linkage': 'average'}. Best is trial 263 with value: 0.3261052760175957.\n",
      "[I 2024-08-05 17:31:11,143] Trial 354 finished with value: 0.2480580562871238 and parameters: {'n_clusters': 85, 'linkage': 'ward'}. Best is trial 263 with value: 0.3261052760175957.\n",
      "[I 2024-08-05 17:31:11,295] Trial 355 finished with value: 0.11148874035347175 and parameters: {'n_clusters': 106, 'linkage': 'single'}. Best is trial 263 with value: 0.3261052760175957.\n",
      "[I 2024-08-05 17:31:11,446] Trial 356 finished with value: 0.2155515143108974 and parameters: {'n_clusters': 93, 'linkage': 'complete'}. Best is trial 263 with value: 0.3261052760175957.\n",
      "[I 2024-08-05 17:31:11,595] Trial 357 finished with value: -0.04502588892445668 and parameters: {'n_clusters': 69, 'linkage': 'single'}. Best is trial 263 with value: 0.3261052760175957.\n",
      "[I 2024-08-05 17:31:11,738] Trial 358 finished with value: 0.1347633742121735 and parameters: {'n_clusters': 29, 'linkage': 'average'}. Best is trial 263 with value: 0.3261052760175957.\n",
      "[I 2024-08-05 17:31:11,884] Trial 359 finished with value: 0.14481017971529606 and parameters: {'n_clusters': 37, 'linkage': 'complete'}. Best is trial 263 with value: 0.3261052760175957.\n",
      "[I 2024-08-05 17:31:12,042] Trial 360 finished with value: 0.22856590527014642 and parameters: {'n_clusters': 116, 'linkage': 'average'}. Best is trial 263 with value: 0.3261052760175957.\n",
      "[I 2024-08-05 17:31:12,216] Trial 361 finished with value: -0.019223092299296696 and parameters: {'n_clusters': 36, 'linkage': 'single'}. Best is trial 263 with value: 0.3261052760175957.\n",
      "[I 2024-08-05 17:31:12,368] Trial 362 finished with value: 0.21481577261945264 and parameters: {'n_clusters': 97, 'linkage': 'complete'}. Best is trial 263 with value: 0.3261052760175957.\n",
      "[I 2024-08-05 17:31:12,520] Trial 363 finished with value: 0.2961941920393505 and parameters: {'n_clusters': 124, 'linkage': 'ward'}. Best is trial 263 with value: 0.3261052760175957.\n",
      "[I 2024-08-05 17:31:12,673] Trial 364 finished with value: 0.2151649536340237 and parameters: {'n_clusters': 95, 'linkage': 'complete'}. Best is trial 263 with value: 0.3261052760175957.\n",
      "[I 2024-08-05 17:31:12,828] Trial 365 finished with value: 0.2102868334588099 and parameters: {'n_clusters': 117, 'linkage': 'complete'}. Best is trial 263 with value: 0.3261052760175957.\n",
      "[I 2024-08-05 17:31:12,970] Trial 366 finished with value: 0.2653319638114333 and parameters: {'n_clusters': 97, 'linkage': 'ward'}. Best is trial 263 with value: 0.3261052760175957.\n",
      "[I 2024-08-05 17:31:13,127] Trial 367 finished with value: 0.04612034835458163 and parameters: {'n_clusters': 33, 'linkage': 'single'}. Best is trial 263 with value: 0.3261052760175957.\n",
      "[I 2024-08-05 17:31:13,268] Trial 368 finished with value: 0.19785263809414347 and parameters: {'n_clusters': 72, 'linkage': 'average'}. Best is trial 263 with value: 0.3261052760175957.\n",
      "[I 2024-08-05 17:31:13,410] Trial 369 finished with value: 0.19231365833681444 and parameters: {'n_clusters': 27, 'linkage': 'ward'}. Best is trial 263 with value: 0.3261052760175957.\n",
      "[I 2024-08-05 17:31:13,568] Trial 370 finished with value: 0.11302402151575348 and parameters: {'n_clusters': 27, 'linkage': 'single'}. Best is trial 263 with value: 0.3261052760175957.\n",
      "[I 2024-08-05 17:31:13,710] Trial 371 finished with value: 0.18178070864608378 and parameters: {'n_clusters': 22, 'linkage': 'ward'}. Best is trial 263 with value: 0.3261052760175957.\n",
      "[I 2024-08-05 17:31:13,862] Trial 372 finished with value: 0.21460641960200463 and parameters: {'n_clusters': 126, 'linkage': 'complete'}. Best is trial 263 with value: 0.3261052760175957.\n",
      "[I 2024-08-05 17:31:14,012] Trial 373 finished with value: 0.21193958833450569 and parameters: {'n_clusters': 83, 'linkage': 'complete'}. Best is trial 263 with value: 0.3261052760175957.\n",
      "[I 2024-08-05 17:31:14,154] Trial 374 finished with value: 0.22658650737792987 and parameters: {'n_clusters': 115, 'linkage': 'average'}. Best is trial 263 with value: 0.3261052760175957.\n",
      "[I 2024-08-05 17:31:14,301] Trial 375 finished with value: 0.11749236795135438 and parameters: {'n_clusters': 28, 'linkage': 'complete'}. Best is trial 263 with value: 0.3261052760175957.\n",
      "[I 2024-08-05 17:31:14,445] Trial 376 finished with value: 0.2295385529262824 and parameters: {'n_clusters': 124, 'linkage': 'average'}. Best is trial 263 with value: 0.3261052760175957.\n",
      "[I 2024-08-05 17:31:14,590] Trial 377 finished with value: 0.2214585089844657 and parameters: {'n_clusters': 139, 'linkage': 'complete'}. Best is trial 263 with value: 0.3261052760175957.\n",
      "[I 2024-08-05 17:31:14,735] Trial 378 finished with value: 0.3128717389341725 and parameters: {'n_clusters': 136, 'linkage': 'ward'}. Best is trial 263 with value: 0.3261052760175957.\n",
      "[I 2024-08-05 17:31:14,887] Trial 379 finished with value: 0.1745333697901088 and parameters: {'n_clusters': 12, 'linkage': 'ward'}. Best is trial 263 with value: 0.3261052760175957.\n",
      "[I 2024-08-05 17:31:15,040] Trial 380 finished with value: 0.11750820004151734 and parameters: {'n_clusters': 27, 'linkage': 'complete'}. Best is trial 263 with value: 0.3261052760175957.\n",
      "[I 2024-08-05 17:31:15,189] Trial 381 finished with value: 0.2324163207366659 and parameters: {'n_clusters': 64, 'linkage': 'ward'}. Best is trial 263 with value: 0.3261052760175957.\n",
      "[I 2024-08-05 17:31:15,343] Trial 382 finished with value: 0.2090785323054822 and parameters: {'n_clusters': 110, 'linkage': 'complete'}. Best is trial 263 with value: 0.3261052760175957.\n",
      "[I 2024-08-05 17:31:15,487] Trial 383 finished with value: 0.21704376022758654 and parameters: {'n_clusters': 88, 'linkage': 'average'}. Best is trial 263 with value: 0.3261052760175957.\n",
      "[I 2024-08-05 17:31:15,632] Trial 384 finished with value: 0.17977686400386164 and parameters: {'n_clusters': 16, 'linkage': 'ward'}. Best is trial 263 with value: 0.3261052760175957.\n",
      "[I 2024-08-05 17:31:15,780] Trial 385 finished with value: 0.08695613044704038 and parameters: {'n_clusters': 86, 'linkage': 'single'}. Best is trial 263 with value: 0.3261052760175957.\n",
      "[I 2024-08-05 17:31:15,927] Trial 386 finished with value: 0.08843464845530669 and parameters: {'n_clusters': 20, 'linkage': 'complete'}. Best is trial 263 with value: 0.3261052760175957.\n",
      "[I 2024-08-05 17:31:16,075] Trial 387 finished with value: 0.215378301496477 and parameters: {'n_clusters': 100, 'linkage': 'complete'}. Best is trial 263 with value: 0.3261052760175957.\n",
      "[I 2024-08-05 17:31:16,222] Trial 388 finished with value: 0.2436127200119154 and parameters: {'n_clusters': 146, 'linkage': 'average'}. Best is trial 263 with value: 0.3261052760175957.\n",
      "[I 2024-08-05 17:31:16,373] Trial 389 finished with value: 0.2617011776721078 and parameters: {'n_clusters': 93, 'linkage': 'ward'}. Best is trial 263 with value: 0.3261052760175957.\n",
      "[I 2024-08-05 17:31:16,521] Trial 390 finished with value: 0.21445532656116695 and parameters: {'n_clusters': 107, 'linkage': 'average'}. Best is trial 263 with value: 0.3261052760175957.\n",
      "[I 2024-08-05 17:31:16,670] Trial 391 finished with value: 0.25330937380016216 and parameters: {'n_clusters': 89, 'linkage': 'ward'}. Best is trial 263 with value: 0.3261052760175957.\n",
      "[I 2024-08-05 17:31:16,818] Trial 392 finished with value: 0.21175390481849468 and parameters: {'n_clusters': 112, 'linkage': 'complete'}. Best is trial 263 with value: 0.3261052760175957.\n",
      "[I 2024-08-05 17:31:16,968] Trial 393 finished with value: 0.08180539314196135 and parameters: {'n_clusters': 130, 'linkage': 'single'}. Best is trial 263 with value: 0.3261052760175957.\n",
      "[I 2024-08-05 17:31:17,126] Trial 394 finished with value: -0.029953397672572456 and parameters: {'n_clusters': 47, 'linkage': 'single'}. Best is trial 263 with value: 0.3261052760175957.\n",
      "[I 2024-08-05 17:31:17,282] Trial 395 finished with value: 0.23676369658582333 and parameters: {'n_clusters': 67, 'linkage': 'ward'}. Best is trial 263 with value: 0.3261052760175957.\n",
      "[I 2024-08-05 17:31:17,442] Trial 396 finished with value: 0.11272540248994514 and parameters: {'n_clusters': 109, 'linkage': 'single'}. Best is trial 263 with value: 0.3261052760175957.\n",
      "[I 2024-08-05 17:31:17,596] Trial 397 finished with value: 0.22470846015130638 and parameters: {'n_clusters': 143, 'linkage': 'complete'}. Best is trial 263 with value: 0.3261052760175957.\n",
      "[I 2024-08-05 17:31:17,744] Trial 398 finished with value: 0.16888341266893106 and parameters: {'n_clusters': 59, 'linkage': 'average'}. Best is trial 263 with value: 0.3261052760175957.\n",
      "[I 2024-08-05 17:31:17,891] Trial 399 finished with value: 0.2407382365978218 and parameters: {'n_clusters': 144, 'linkage': 'average'}. Best is trial 263 with value: 0.3261052760175957.\n",
      "[I 2024-08-05 17:31:18,043] Trial 400 finished with value: 0.22753540402833491 and parameters: {'n_clusters': 121, 'linkage': 'average'}. Best is trial 263 with value: 0.3261052760175957.\n",
      "[I 2024-08-05 17:31:18,215] Trial 401 finished with value: 0.20459536026480765 and parameters: {'n_clusters': 34, 'linkage': 'ward'}. Best is trial 263 with value: 0.3261052760175957.\n",
      "[I 2024-08-05 17:31:18,365] Trial 402 finished with value: 0.2258019704538085 and parameters: {'n_clusters': 148, 'linkage': 'complete'}. Best is trial 263 with value: 0.3261052760175957.\n",
      "[I 2024-08-05 17:31:18,534] Trial 403 finished with value: 0.2213183783665978 and parameters: {'n_clusters': 43, 'linkage': 'ward'}. Best is trial 263 with value: 0.3261052760175957.\n",
      "[I 2024-08-05 17:31:18,698] Trial 404 finished with value: 0.08765312523934317 and parameters: {'n_clusters': 129, 'linkage': 'single'}. Best is trial 263 with value: 0.3261052760175957.\n",
      "[I 2024-08-05 17:31:18,861] Trial 405 finished with value: 0.20399921941899202 and parameters: {'n_clusters': 71, 'linkage': 'complete'}. Best is trial 263 with value: 0.3261052760175957.\n",
      "[I 2024-08-05 17:31:19,026] Trial 406 finished with value: 0.19864533623824351 and parameters: {'n_clusters': 71, 'linkage': 'average'}. Best is trial 263 with value: 0.3261052760175957.\n",
      "[I 2024-08-05 17:31:19,195] Trial 407 finished with value: -0.028615551645696395 and parameters: {'n_clusters': 52, 'linkage': 'single'}. Best is trial 263 with value: 0.3261052760175957.\n",
      "[I 2024-08-05 17:31:19,377] Trial 408 finished with value: 0.0984660908545465 and parameters: {'n_clusters': 78, 'linkage': 'single'}. Best is trial 263 with value: 0.3261052760175957.\n",
      "[I 2024-08-05 17:31:19,550] Trial 409 finished with value: 0.2770905516881381 and parameters: {'n_clusters': 108, 'linkage': 'ward'}. Best is trial 263 with value: 0.3261052760175957.\n",
      "[I 2024-08-05 17:31:19,717] Trial 410 finished with value: 0.09922255033081558 and parameters: {'n_clusters': 77, 'linkage': 'single'}. Best is trial 263 with value: 0.3261052760175957.\n",
      "[I 2024-08-05 17:31:19,876] Trial 411 finished with value: 0.11970119212482995 and parameters: {'n_clusters': 136, 'linkage': 'single'}. Best is trial 263 with value: 0.3261052760175957.\n",
      "[I 2024-08-05 17:31:20,061] Trial 412 finished with value: 0.11180237523736207 and parameters: {'n_clusters': 15, 'linkage': 'complete'}. Best is trial 263 with value: 0.3261052760175957.\n",
      "[I 2024-08-05 17:31:20,227] Trial 413 finished with value: 0.21122392856581873 and parameters: {'n_clusters': 84, 'linkage': 'complete'}. Best is trial 263 with value: 0.3261052760175957.\n",
      "[I 2024-08-05 17:31:20,379] Trial 414 finished with value: 0.19717112272136209 and parameters: {'n_clusters': 63, 'linkage': 'complete'}. Best is trial 263 with value: 0.3261052760175957.\n",
      "[I 2024-08-05 17:31:20,544] Trial 415 finished with value: 0.15477703904489373 and parameters: {'n_clusters': 39, 'linkage': 'complete'}. Best is trial 263 with value: 0.3261052760175957.\n",
      "[I 2024-08-05 17:31:20,701] Trial 416 finished with value: 0.21482269667400883 and parameters: {'n_clusters': 101, 'linkage': 'complete'}. Best is trial 263 with value: 0.3261052760175957.\n",
      "[I 2024-08-05 17:31:20,864] Trial 417 finished with value: 0.0765252662750142 and parameters: {'n_clusters': 82, 'linkage': 'single'}. Best is trial 263 with value: 0.3261052760175957.\n",
      "[I 2024-08-05 17:31:21,024] Trial 418 finished with value: 0.21065196662810093 and parameters: {'n_clusters': 99, 'linkage': 'average'}. Best is trial 263 with value: 0.3261052760175957.\n",
      "[I 2024-08-05 17:31:21,187] Trial 419 finished with value: 0.212694657846139 and parameters: {'n_clusters': 39, 'linkage': 'ward'}. Best is trial 263 with value: 0.3261052760175957.\n",
      "[I 2024-08-05 17:31:21,350] Trial 420 finished with value: 0.13769107436822056 and parameters: {'n_clusters': 12, 'linkage': 'complete'}. Best is trial 263 with value: 0.3261052760175957.\n",
      "[I 2024-08-05 17:31:21,533] Trial 421 finished with value: -0.017268879418578017 and parameters: {'n_clusters': 40, 'linkage': 'single'}. Best is trial 263 with value: 0.3261052760175957.\n",
      "[I 2024-08-05 17:31:21,697] Trial 422 finished with value: 0.10359730293687681 and parameters: {'n_clusters': 138, 'linkage': 'single'}. Best is trial 263 with value: 0.3261052760175957.\n",
      "[I 2024-08-05 17:31:21,858] Trial 423 finished with value: 0.20575354918008157 and parameters: {'n_clusters': 73, 'linkage': 'complete'}. Best is trial 263 with value: 0.3261052760175957.\n",
      "[I 2024-08-05 17:31:22,015] Trial 424 finished with value: 0.08904790614931603 and parameters: {'n_clusters': 21, 'linkage': 'complete'}. Best is trial 263 with value: 0.3261052760175957.\n",
      "[I 2024-08-05 17:31:22,180] Trial 425 finished with value: 0.3167687816334287 and parameters: {'n_clusters': 140, 'linkage': 'ward'}. Best is trial 263 with value: 0.3261052760175957.\n",
      "[I 2024-08-05 17:31:22,339] Trial 426 finished with value: 0.28179458391021744 and parameters: {'n_clusters': 113, 'linkage': 'ward'}. Best is trial 263 with value: 0.3261052760175957.\n",
      "[I 2024-08-05 17:31:22,496] Trial 427 finished with value: 0.17174651491318615 and parameters: {'n_clusters': 44, 'linkage': 'complete'}. Best is trial 263 with value: 0.3261052760175957.\n",
      "[I 2024-08-05 17:31:22,662] Trial 428 finished with value: 0.20039782882476645 and parameters: {'n_clusters': 80, 'linkage': 'average'}. Best is trial 263 with value: 0.3261052760175957.\n",
      "[I 2024-08-05 17:31:22,834] Trial 429 finished with value: 0.30411747440540055 and parameters: {'n_clusters': 131, 'linkage': 'ward'}. Best is trial 263 with value: 0.3261052760175957.\n",
      "[I 2024-08-05 17:31:22,996] Trial 430 finished with value: 0.13935911744910207 and parameters: {'n_clusters': 25, 'linkage': 'average'}. Best is trial 263 with value: 0.3261052760175957.\n",
      "[I 2024-08-05 17:31:23,165] Trial 431 finished with value: 0.3210868161272836 and parameters: {'n_clusters': 147, 'linkage': 'ward'}. Best is trial 263 with value: 0.3261052760175957.\n",
      "[I 2024-08-05 17:31:23,342] Trial 432 finished with value: 0.20813327086045413 and parameters: {'n_clusters': 109, 'linkage': 'complete'}. Best is trial 263 with value: 0.3261052760175957.\n",
      "[I 2024-08-05 17:31:23,504] Trial 433 finished with value: 0.172476175540003 and parameters: {'n_clusters': 47, 'linkage': 'complete'}. Best is trial 263 with value: 0.3261052760175957.\n",
      "[I 2024-08-05 17:31:23,665] Trial 434 finished with value: 0.146887611159318 and parameters: {'n_clusters': 38, 'linkage': 'complete'}. Best is trial 263 with value: 0.3261052760175957.\n",
      "[I 2024-08-05 17:31:23,825] Trial 435 finished with value: 0.24105217330225318 and parameters: {'n_clusters': 70, 'linkage': 'ward'}. Best is trial 263 with value: 0.3261052760175957.\n",
      "[I 2024-08-05 17:31:23,990] Trial 436 finished with value: 0.09362821719417669 and parameters: {'n_clusters': 125, 'linkage': 'single'}. Best is trial 263 with value: 0.3261052760175957.\n",
      "[I 2024-08-05 17:31:24,149] Trial 437 finished with value: 0.13580890636329201 and parameters: {'n_clusters': 31, 'linkage': 'complete'}. Best is trial 263 with value: 0.3261052760175957.\n",
      "[I 2024-08-05 17:31:24,310] Trial 438 finished with value: -0.08230018260165302 and parameters: {'n_clusters': 56, 'linkage': 'single'}. Best is trial 263 with value: 0.3261052760175957.\n",
      "[I 2024-08-05 17:31:24,470] Trial 439 finished with value: 0.24323650034327973 and parameters: {'n_clusters': 147, 'linkage': 'average'}. Best is trial 263 with value: 0.3261052760175957.\n",
      "[I 2024-08-05 17:31:24,633] Trial 440 finished with value: 0.10697380955983918 and parameters: {'n_clusters': 101, 'linkage': 'single'}. Best is trial 263 with value: 0.3261052760175957.\n",
      "[I 2024-08-05 17:31:24,798] Trial 441 finished with value: 0.10103988469434023 and parameters: {'n_clusters': 144, 'linkage': 'single'}. Best is trial 263 with value: 0.3261052760175957.\n",
      "[I 2024-08-05 17:31:24,968] Trial 442 finished with value: 0.26940225739734786 and parameters: {'n_clusters': 102, 'linkage': 'ward'}. Best is trial 263 with value: 0.3261052760175957.\n",
      "[I 2024-08-05 17:31:25,133] Trial 443 finished with value: 0.19795599461486477 and parameters: {'n_clusters': 70, 'linkage': 'average'}. Best is trial 263 with value: 0.3261052760175957.\n",
      "[I 2024-08-05 17:31:25,294] Trial 444 finished with value: 0.19535981670305688 and parameters: {'n_clusters': 63, 'linkage': 'average'}. Best is trial 263 with value: 0.3261052760175957.\n",
      "[I 2024-08-05 17:31:25,454] Trial 445 finished with value: 0.13314806082687083 and parameters: {'n_clusters': 33, 'linkage': 'complete'}. Best is trial 263 with value: 0.3261052760175957.\n",
      "[I 2024-08-05 17:31:25,619] Trial 446 finished with value: 0.11300851780078884 and parameters: {'n_clusters': 104, 'linkage': 'single'}. Best is trial 263 with value: 0.3261052760175957.\n",
      "[I 2024-08-05 17:31:25,783] Trial 447 finished with value: -0.017489832953175355 and parameters: {'n_clusters': 41, 'linkage': 'single'}. Best is trial 263 with value: 0.3261052760175957.\n",
      "[I 2024-08-05 17:31:25,946] Trial 448 finished with value: 0.20600615146316545 and parameters: {'n_clusters': 80, 'linkage': 'complete'}. Best is trial 263 with value: 0.3261052760175957.\n",
      "[I 2024-08-05 17:31:26,113] Trial 449 finished with value: -0.028702826438350572 and parameters: {'n_clusters': 49, 'linkage': 'single'}. Best is trial 263 with value: 0.3261052760175957.\n",
      "[I 2024-08-05 17:31:26,275] Trial 450 finished with value: 0.2103744694780644 and parameters: {'n_clusters': 98, 'linkage': 'average'}. Best is trial 263 with value: 0.3261052760175957.\n",
      "[I 2024-08-05 17:31:26,442] Trial 451 finished with value: 0.17967179363911429 and parameters: {'n_clusters': 50, 'linkage': 'average'}. Best is trial 263 with value: 0.3261052760175957.\n",
      "[I 2024-08-05 17:31:26,608] Trial 452 finished with value: 0.1971315932744419 and parameters: {'n_clusters': 60, 'linkage': 'complete'}. Best is trial 263 with value: 0.3261052760175957.\n",
      "[I 2024-08-05 17:31:26,770] Trial 453 finished with value: 0.25437160835359024 and parameters: {'n_clusters': 90, 'linkage': 'ward'}. Best is trial 263 with value: 0.3261052760175957.\n",
      "[I 2024-08-05 17:31:26,939] Trial 454 finished with value: 0.25874330959923286 and parameters: {'n_clusters': 92, 'linkage': 'ward'}. Best is trial 263 with value: 0.3261052760175957.\n",
      "[I 2024-08-05 17:31:27,104] Trial 455 finished with value: 0.23898293186143377 and parameters: {'n_clusters': 136, 'linkage': 'average'}. Best is trial 263 with value: 0.3261052760175957.\n",
      "[I 2024-08-05 17:31:27,269] Trial 456 finished with value: -0.05594794892393402 and parameters: {'n_clusters': 63, 'linkage': 'single'}. Best is trial 263 with value: 0.3261052760175957.\n",
      "[I 2024-08-05 17:31:27,433] Trial 457 finished with value: 0.19064155104157596 and parameters: {'n_clusters': 55, 'linkage': 'complete'}. Best is trial 263 with value: 0.3261052760175957.\n",
      "[I 2024-08-05 17:31:27,600] Trial 458 finished with value: 0.19275825864120413 and parameters: {'n_clusters': 28, 'linkage': 'ward'}. Best is trial 263 with value: 0.3261052760175957.\n",
      "[I 2024-08-05 17:31:27,772] Trial 459 finished with value: 0.19383497530657662 and parameters: {'n_clusters': 65, 'linkage': 'average'}. Best is trial 263 with value: 0.3261052760175957.\n",
      "[I 2024-08-05 17:31:27,948] Trial 460 finished with value: 0.17722365313350083 and parameters: {'n_clusters': 19, 'linkage': 'ward'}. Best is trial 263 with value: 0.3261052760175957.\n",
      "[I 2024-08-05 17:31:28,117] Trial 461 finished with value: 0.07867252475670201 and parameters: {'n_clusters': 90, 'linkage': 'single'}. Best is trial 263 with value: 0.3261052760175957.\n",
      "[I 2024-08-05 17:31:28,287] Trial 462 finished with value: 0.045879426889373985 and parameters: {'n_clusters': 34, 'linkage': 'single'}. Best is trial 263 with value: 0.3261052760175957.\n",
      "[I 2024-08-05 17:31:28,452] Trial 463 finished with value: 0.2101853795655396 and parameters: {'n_clusters': 88, 'linkage': 'complete'}. Best is trial 263 with value: 0.3261052760175957.\n",
      "[I 2024-08-05 17:31:28,618] Trial 464 finished with value: 0.17176771213401132 and parameters: {'n_clusters': 17, 'linkage': 'ward'}. Best is trial 263 with value: 0.3261052760175957.\n",
      "[I 2024-08-05 17:31:28,788] Trial 465 finished with value: 0.0324624639009268 and parameters: {'n_clusters': 72, 'linkage': 'single'}. Best is trial 263 with value: 0.3261052760175957.\n",
      "[I 2024-08-05 17:31:28,958] Trial 466 finished with value: 0.27959234623285684 and parameters: {'n_clusters': 111, 'linkage': 'ward'}. Best is trial 263 with value: 0.3261052760175957.\n",
      "[I 2024-08-05 17:31:29,129] Trial 467 finished with value: 0.19058065466238042 and parameters: {'n_clusters': 24, 'linkage': 'ward'}. Best is trial 263 with value: 0.3261052760175957.\n",
      "[I 2024-08-05 17:31:29,295] Trial 468 finished with value: 0.23964478216516516 and parameters: {'n_clusters': 150, 'linkage': 'average'}. Best is trial 263 with value: 0.3261052760175957.\n",
      "[I 2024-08-05 17:31:29,464] Trial 469 finished with value: 0.19213454095512672 and parameters: {'n_clusters': 45, 'linkage': 'average'}. Best is trial 263 with value: 0.3261052760175957.\n",
      "[I 2024-08-05 17:31:29,635] Trial 470 finished with value: 0.11670787011617038 and parameters: {'n_clusters': 133, 'linkage': 'single'}. Best is trial 263 with value: 0.3261052760175957.\n",
      "[I 2024-08-05 17:31:29,804] Trial 471 finished with value: 0.19186158710973136 and parameters: {'n_clusters': 75, 'linkage': 'average'}. Best is trial 263 with value: 0.3261052760175957.\n",
      "[I 2024-08-05 17:31:29,975] Trial 472 finished with value: 0.19631360644550783 and parameters: {'n_clusters': 68, 'linkage': 'average'}. Best is trial 263 with value: 0.3261052760175957.\n",
      "[I 2024-08-05 17:31:30,146] Trial 473 finished with value: 0.2867103776112655 and parameters: {'n_clusters': 116, 'linkage': 'ward'}. Best is trial 263 with value: 0.3261052760175957.\n",
      "[I 2024-08-05 17:31:30,314] Trial 474 finished with value: 0.21082591713165763 and parameters: {'n_clusters': 115, 'linkage': 'complete'}. Best is trial 263 with value: 0.3261052760175957.\n",
      "[I 2024-08-05 17:31:30,483] Trial 475 finished with value: 0.22093384647897035 and parameters: {'n_clusters': 130, 'linkage': 'complete'}. Best is trial 263 with value: 0.3261052760175957.\n",
      "[I 2024-08-05 17:31:30,650] Trial 476 finished with value: 0.23778546584941712 and parameters: {'n_clusters': 133, 'linkage': 'average'}. Best is trial 263 with value: 0.3261052760175957.\n",
      "[I 2024-08-05 17:31:30,822] Trial 477 finished with value: -0.045720980381234295 and parameters: {'n_clusters': 70, 'linkage': 'single'}. Best is trial 263 with value: 0.3261052760175957.\n",
      "[I 2024-08-05 17:31:30,993] Trial 478 finished with value: 0.24459678075544594 and parameters: {'n_clusters': 145, 'linkage': 'average'}. Best is trial 263 with value: 0.3261052760175957.\n",
      "[I 2024-08-05 17:31:31,168] Trial 479 finished with value: 0.22097006966787347 and parameters: {'n_clusters': 132, 'linkage': 'complete'}. Best is trial 263 with value: 0.3261052760175957.\n",
      "[I 2024-08-05 17:31:31,340] Trial 480 finished with value: -0.05560009944767034 and parameters: {'n_clusters': 66, 'linkage': 'single'}. Best is trial 263 with value: 0.3261052760175957.\n",
      "[I 2024-08-05 17:31:31,511] Trial 481 finished with value: 0.2723835233887848 and parameters: {'n_clusters': 16, 'linkage': 'average'}. Best is trial 263 with value: 0.3261052760175957.\n",
      "[I 2024-08-05 17:31:31,684] Trial 482 finished with value: 0.1674816762988194 and parameters: {'n_clusters': 21, 'linkage': 'single'}. Best is trial 263 with value: 0.3261052760175957.\n",
      "[I 2024-08-05 17:31:31,859] Trial 483 finished with value: 0.11375007653915184 and parameters: {'n_clusters': 111, 'linkage': 'single'}. Best is trial 263 with value: 0.3261052760175957.\n",
      "[I 2024-08-05 17:31:32,028] Trial 484 finished with value: 0.18575339762309068 and parameters: {'n_clusters': 49, 'linkage': 'average'}. Best is trial 263 with value: 0.3261052760175957.\n",
      "[I 2024-08-05 17:31:32,210] Trial 485 finished with value: 0.32351185480355926 and parameters: {'n_clusters': 148, 'linkage': 'ward'}. Best is trial 263 with value: 0.3261052760175957.\n",
      "[I 2024-08-05 17:31:32,382] Trial 486 finished with value: 0.31556652629944293 and parameters: {'n_clusters': 139, 'linkage': 'ward'}. Best is trial 263 with value: 0.3261052760175957.\n",
      "[I 2024-08-05 17:31:32,556] Trial 487 finished with value: 0.2150923105740436 and parameters: {'n_clusters': 90, 'linkage': 'average'}. Best is trial 263 with value: 0.3261052760175957.\n",
      "[I 2024-08-05 17:31:32,733] Trial 488 finished with value: 0.27599095290350606 and parameters: {'n_clusters': 12, 'linkage': 'average'}. Best is trial 263 with value: 0.3261052760175957.\n",
      "[I 2024-08-05 17:31:32,941] Trial 489 finished with value: 0.20772731283071436 and parameters: {'n_clusters': 77, 'linkage': 'complete'}. Best is trial 263 with value: 0.3261052760175957.\n",
      "[I 2024-08-05 17:31:33,138] Trial 490 finished with value: 0.213633356131862 and parameters: {'n_clusters': 90, 'linkage': 'complete'}. Best is trial 263 with value: 0.3261052760175957.\n",
      "[I 2024-08-05 17:31:33,320] Trial 491 finished with value: 0.143987913010152 and parameters: {'n_clusters': 36, 'linkage': 'complete'}. Best is trial 263 with value: 0.3261052760175957.\n",
      "[I 2024-08-05 17:31:33,494] Trial 492 finished with value: 0.1843741470834294 and parameters: {'n_clusters': 48, 'linkage': 'average'}. Best is trial 263 with value: 0.3261052760175957.\n",
      "[I 2024-08-05 17:31:33,673] Trial 493 finished with value: 0.27401573157695797 and parameters: {'n_clusters': 14, 'linkage': 'single'}. Best is trial 263 with value: 0.3261052760175957.\n",
      "[I 2024-08-05 17:31:33,844] Trial 494 finished with value: 0.2198970638728629 and parameters: {'n_clusters': 134, 'linkage': 'complete'}. Best is trial 263 with value: 0.3261052760175957.\n",
      "[I 2024-08-05 17:31:34,026] Trial 495 finished with value: -0.01722000425438208 and parameters: {'n_clusters': 39, 'linkage': 'single'}. Best is trial 263 with value: 0.3261052760175957.\n",
      "[I 2024-08-05 17:31:34,199] Trial 496 finished with value: 0.21496469698805826 and parameters: {'n_clusters': 92, 'linkage': 'complete'}. Best is trial 263 with value: 0.3261052760175957.\n",
      "[I 2024-08-05 17:31:34,376] Trial 497 finished with value: 0.30519570017422315 and parameters: {'n_clusters': 132, 'linkage': 'ward'}. Best is trial 263 with value: 0.3261052760175957.\n",
      "[I 2024-08-05 17:31:34,551] Trial 498 finished with value: 0.19552022534919578 and parameters: {'n_clusters': 58, 'linkage': 'complete'}. Best is trial 263 with value: 0.3261052760175957.\n",
      "[I 2024-08-05 17:31:34,726] Trial 499 finished with value: 0.20731674183533538 and parameters: {'n_clusters': 122, 'linkage': 'complete'}. Best is trial 263 with value: 0.3261052760175957.\n",
      "[I 2024-08-05 17:31:34,900] Trial 500 finished with value: 0.13302652575761692 and parameters: {'n_clusters': 10, 'linkage': 'complete'}. Best is trial 263 with value: 0.3261052760175957.\n",
      "[I 2024-08-05 17:31:35,077] Trial 501 finished with value: 0.1784788599714254 and parameters: {'n_clusters': 13, 'linkage': 'ward'}. Best is trial 263 with value: 0.3261052760175957.\n",
      "[I 2024-08-05 17:31:35,254] Trial 502 finished with value: 0.19198432313137256 and parameters: {'n_clusters': 29, 'linkage': 'ward'}. Best is trial 263 with value: 0.3261052760175957.\n",
      "[I 2024-08-05 17:31:35,439] Trial 503 finished with value: 0.246001740495076 and parameters: {'n_clusters': 78, 'linkage': 'ward'}. Best is trial 263 with value: 0.3261052760175957.\n",
      "[I 2024-08-05 17:31:35,617] Trial 504 finished with value: 0.2058451080076345 and parameters: {'n_clusters': 36, 'linkage': 'average'}. Best is trial 263 with value: 0.3261052760175957.\n",
      "[I 2024-08-05 17:31:35,796] Trial 505 finished with value: 0.1766851758326939 and parameters: {'n_clusters': 51, 'linkage': 'average'}. Best is trial 263 with value: 0.3261052760175957.\n",
      "[I 2024-08-05 17:31:35,975] Trial 506 finished with value: 0.2911340520606258 and parameters: {'n_clusters': 121, 'linkage': 'ward'}. Best is trial 263 with value: 0.3261052760175957.\n",
      "[I 2024-08-05 17:31:36,151] Trial 507 finished with value: 0.20276905006529372 and parameters: {'n_clusters': 17, 'linkage': 'average'}. Best is trial 263 with value: 0.3261052760175957.\n",
      "[I 2024-08-05 17:31:36,331] Trial 508 finished with value: 0.11742663607429835 and parameters: {'n_clusters': 137, 'linkage': 'single'}. Best is trial 263 with value: 0.3261052760175957.\n",
      "[I 2024-08-05 17:31:36,510] Trial 509 finished with value: 0.22077221453329737 and parameters: {'n_clusters': 138, 'linkage': 'complete'}. Best is trial 263 with value: 0.3261052760175957.\n",
      "[I 2024-08-05 17:31:36,691] Trial 510 finished with value: 0.10772494674989128 and parameters: {'n_clusters': 150, 'linkage': 'single'}. Best is trial 263 with value: 0.3261052760175957.\n",
      "[I 2024-08-05 17:31:36,871] Trial 511 finished with value: 0.03454811129695838 and parameters: {'n_clusters': 73, 'linkage': 'single'}. Best is trial 263 with value: 0.3261052760175957.\n",
      "[I 2024-08-05 17:31:37,051] Trial 512 finished with value: 0.17335836889704498 and parameters: {'n_clusters': 54, 'linkage': 'average'}. Best is trial 263 with value: 0.3261052760175957.\n",
      "[I 2024-08-05 17:31:37,230] Trial 513 finished with value: 0.31349125353298213 and parameters: {'n_clusters': 137, 'linkage': 'ward'}. Best is trial 263 with value: 0.3261052760175957.\n",
      "[I 2024-08-05 17:31:37,414] Trial 514 finished with value: 0.19347643074348053 and parameters: {'n_clusters': 56, 'linkage': 'average'}. Best is trial 263 with value: 0.3261052760175957.\n",
      "[I 2024-08-05 17:31:37,596] Trial 515 finished with value: 0.1929875175329715 and parameters: {'n_clusters': 30, 'linkage': 'ward'}. Best is trial 263 with value: 0.3261052760175957.\n",
      "[I 2024-08-05 17:31:37,775] Trial 516 finished with value: 0.23786985259003807 and parameters: {'n_clusters': 137, 'linkage': 'average'}. Best is trial 263 with value: 0.3261052760175957.\n",
      "[I 2024-08-05 17:31:37,952] Trial 517 finished with value: 0.2220741232353211 and parameters: {'n_clusters': 46, 'linkage': 'ward'}. Best is trial 263 with value: 0.3261052760175957.\n",
      "[I 2024-08-05 17:31:38,132] Trial 518 finished with value: 0.16132625339991716 and parameters: {'n_clusters': 41, 'linkage': 'complete'}. Best is trial 263 with value: 0.3261052760175957.\n",
      "[I 2024-08-05 17:31:38,314] Trial 519 finished with value: 0.23384112711828609 and parameters: {'n_clusters': 65, 'linkage': 'ward'}. Best is trial 263 with value: 0.3261052760175957.\n",
      "[I 2024-08-05 17:31:38,499] Trial 520 finished with value: 0.15562429423366614 and parameters: {'n_clusters': 31, 'linkage': 'average'}. Best is trial 263 with value: 0.3261052760175957.\n",
      "[I 2024-08-05 17:31:38,679] Trial 521 finished with value: 0.22169911216962418 and parameters: {'n_clusters': 128, 'linkage': 'complete'}. Best is trial 263 with value: 0.3261052760175957.\n",
      "[I 2024-08-05 17:31:38,869] Trial 522 finished with value: 0.13624737044528848 and parameters: {'n_clusters': 30, 'linkage': 'complete'}. Best is trial 263 with value: 0.3261052760175957.\n",
      "[I 2024-08-05 17:31:39,054] Trial 523 finished with value: 0.29134065171055756 and parameters: {'n_clusters': 119, 'linkage': 'ward'}. Best is trial 263 with value: 0.3261052760175957.\n",
      "[I 2024-08-05 17:31:39,242] Trial 524 finished with value: 0.21770550056610097 and parameters: {'n_clusters': 135, 'linkage': 'complete'}. Best is trial 263 with value: 0.3261052760175957.\n",
      "[I 2024-08-05 17:31:39,437] Trial 525 finished with value: 0.18440157281259084 and parameters: {'n_clusters': 21, 'linkage': 'ward'}. Best is trial 263 with value: 0.3261052760175957.\n",
      "[I 2024-08-05 17:31:39,640] Trial 526 finished with value: 0.09667285194630924 and parameters: {'n_clusters': 75, 'linkage': 'single'}. Best is trial 263 with value: 0.3261052760175957.\n",
      "[I 2024-08-05 17:31:39,827] Trial 527 finished with value: 0.16324427703578898 and parameters: {'n_clusters': 20, 'linkage': 'average'}. Best is trial 263 with value: 0.3261052760175957.\n",
      "[I 2024-08-05 17:31:40,037] Trial 528 finished with value: 0.11270124459477877 and parameters: {'n_clusters': 102, 'linkage': 'single'}. Best is trial 263 with value: 0.3261052760175957.\n",
      "[I 2024-08-05 17:31:40,225] Trial 529 finished with value: 0.2676772180812111 and parameters: {'n_clusters': 100, 'linkage': 'ward'}. Best is trial 263 with value: 0.3261052760175957.\n",
      "[I 2024-08-05 17:31:40,418] Trial 530 finished with value: 0.29241451042273214 and parameters: {'n_clusters': 122, 'linkage': 'ward'}. Best is trial 263 with value: 0.3261052760175957.\n",
      "[I 2024-08-05 17:31:40,610] Trial 531 finished with value: 0.07858319638802301 and parameters: {'n_clusters': 84, 'linkage': 'single'}. Best is trial 263 with value: 0.3261052760175957.\n",
      "[I 2024-08-05 17:31:40,800] Trial 532 finished with value: 0.17534455775534977 and parameters: {'n_clusters': 19, 'linkage': 'average'}. Best is trial 263 with value: 0.3261052760175957.\n",
      "[I 2024-08-05 17:31:40,989] Trial 533 finished with value: 0.1113490671771923 and parameters: {'n_clusters': 114, 'linkage': 'single'}. Best is trial 263 with value: 0.3261052760175957.\n",
      "[I 2024-08-05 17:31:41,178] Trial 534 finished with value: 0.08172339480596201 and parameters: {'n_clusters': 91, 'linkage': 'single'}. Best is trial 263 with value: 0.3261052760175957.\n",
      "[I 2024-08-05 17:31:41,365] Trial 535 finished with value: 0.21958205868680675 and parameters: {'n_clusters': 101, 'linkage': 'average'}. Best is trial 263 with value: 0.3261052760175957.\n",
      "[I 2024-08-05 17:31:41,555] Trial 536 finished with value: 0.1782029326065779 and parameters: {'n_clusters': 14, 'linkage': 'ward'}. Best is trial 263 with value: 0.3261052760175957.\n",
      "[I 2024-08-05 17:31:41,754] Trial 537 finished with value: 0.18925752405407675 and parameters: {'n_clusters': 54, 'linkage': 'complete'}. Best is trial 263 with value: 0.3261052760175957.\n",
      "[I 2024-08-05 17:31:41,945] Trial 538 finished with value: 0.278572669375644 and parameters: {'n_clusters': 110, 'linkage': 'ward'}. Best is trial 263 with value: 0.3261052760175957.\n",
      "[I 2024-08-05 17:31:42,144] Trial 539 finished with value: -0.027058404366164475 and parameters: {'n_clusters': 45, 'linkage': 'single'}. Best is trial 263 with value: 0.3261052760175957.\n",
      "[I 2024-08-05 17:31:42,335] Trial 540 finished with value: 0.1857911503186434 and parameters: {'n_clusters': 47, 'linkage': 'average'}. Best is trial 263 with value: 0.3261052760175957.\n",
      "[I 2024-08-05 17:31:42,522] Trial 541 finished with value: 0.21070824431372953 and parameters: {'n_clusters': 86, 'linkage': 'complete'}. Best is trial 263 with value: 0.3261052760175957.\n",
      "[I 2024-08-05 17:31:42,712] Trial 542 finished with value: 0.24120657627445297 and parameters: {'n_clusters': 71, 'linkage': 'ward'}. Best is trial 263 with value: 0.3261052760175957.\n",
      "[I 2024-08-05 17:31:42,901] Trial 543 finished with value: 0.22317912178646385 and parameters: {'n_clusters': 109, 'linkage': 'average'}. Best is trial 263 with value: 0.3261052760175957.\n",
      "[I 2024-08-05 17:31:43,091] Trial 544 finished with value: 0.22512511840432245 and parameters: {'n_clusters': 45, 'linkage': 'ward'}. Best is trial 263 with value: 0.3261052760175957.\n",
      "[I 2024-08-05 17:31:43,280] Trial 545 finished with value: 0.24321303846474768 and parameters: {'n_clusters': 74, 'linkage': 'ward'}. Best is trial 263 with value: 0.3261052760175957.\n",
      "[I 2024-08-05 17:31:43,466] Trial 546 finished with value: 0.2148139266334292 and parameters: {'n_clusters': 92, 'linkage': 'average'}. Best is trial 263 with value: 0.3261052760175957.\n",
      "[I 2024-08-05 17:31:43,656] Trial 547 finished with value: 0.30057357465877493 and parameters: {'n_clusters': 129, 'linkage': 'ward'}. Best is trial 263 with value: 0.3261052760175957.\n",
      "[I 2024-08-05 17:31:43,855] Trial 548 finished with value: 0.2234762300236026 and parameters: {'n_clusters': 141, 'linkage': 'complete'}. Best is trial 263 with value: 0.3261052760175957.\n",
      "[I 2024-08-05 17:31:44,056] Trial 549 finished with value: 0.2156250910111651 and parameters: {'n_clusters': 103, 'linkage': 'complete'}. Best is trial 263 with value: 0.3261052760175957.\n",
      "[I 2024-08-05 17:31:44,246] Trial 550 finished with value: 0.21512820570075725 and parameters: {'n_clusters': 40, 'linkage': 'ward'}. Best is trial 263 with value: 0.3261052760175957.\n",
      "[I 2024-08-05 17:31:44,437] Trial 551 finished with value: -0.033760721272237754 and parameters: {'n_clusters': 61, 'linkage': 'single'}. Best is trial 263 with value: 0.3261052760175957.\n",
      "[I 2024-08-05 17:31:44,628] Trial 552 finished with value: 0.11732260729663171 and parameters: {'n_clusters': 134, 'linkage': 'single'}. Best is trial 263 with value: 0.3261052760175957.\n",
      "[I 2024-08-05 17:31:44,820] Trial 553 finished with value: 0.10191331765702658 and parameters: {'n_clusters': 143, 'linkage': 'single'}. Best is trial 263 with value: 0.3261052760175957.\n",
      "[I 2024-08-05 17:31:45,014] Trial 554 finished with value: 0.11170528311952561 and parameters: {'n_clusters': 105, 'linkage': 'single'}. Best is trial 263 with value: 0.3261052760175957.\n",
      "[I 2024-08-05 17:31:45,200] Trial 555 finished with value: 0.21479353631699555 and parameters: {'n_clusters': 81, 'linkage': 'average'}. Best is trial 263 with value: 0.3261052760175957.\n",
      "[I 2024-08-05 17:31:45,391] Trial 556 finished with value: 0.20545499387940042 and parameters: {'n_clusters': 74, 'linkage': 'complete'}. Best is trial 263 with value: 0.3261052760175957.\n",
      "[I 2024-08-05 17:31:45,580] Trial 557 finished with value: 0.23698570066153574 and parameters: {'n_clusters': 140, 'linkage': 'average'}. Best is trial 263 with value: 0.3261052760175957.\n",
      "[I 2024-08-05 17:31:45,772] Trial 558 finished with value: 0.21107982549497548 and parameters: {'n_clusters': 87, 'linkage': 'complete'}. Best is trial 263 with value: 0.3261052760175957.\n",
      "[I 2024-08-05 17:31:45,969] Trial 559 finished with value: 0.23469680363025267 and parameters: {'n_clusters': 57, 'linkage': 'ward'}. Best is trial 263 with value: 0.3261052760175957.\n",
      "[I 2024-08-05 17:31:46,163] Trial 560 finished with value: 0.09786667641922671 and parameters: {'n_clusters': 87, 'linkage': 'single'}. Best is trial 263 with value: 0.3261052760175957.\n",
      "[I 2024-08-05 17:31:46,357] Trial 561 finished with value: 0.11745463346160169 and parameters: {'n_clusters': 132, 'linkage': 'single'}. Best is trial 263 with value: 0.3261052760175957.\n",
      "[I 2024-08-05 17:31:46,548] Trial 562 finished with value: 0.21223228279860976 and parameters: {'n_clusters': 94, 'linkage': 'average'}. Best is trial 263 with value: 0.3261052760175957.\n",
      "[I 2024-08-05 17:31:46,745] Trial 563 finished with value: 0.21824421536507485 and parameters: {'n_clusters': 42, 'linkage': 'ward'}. Best is trial 263 with value: 0.3261052760175957.\n"
     ]
    }
   ],
   "source": [
    "estudo_ag.optimize(hierarchical_aglomerative_objective, n_trials=600)"
   ]
  },
  {
   "cell_type": "code",
   "execution_count": 26,
   "metadata": {},
   "outputs": [
    {
     "name": "stdout",
     "output_type": "stream",
     "text": [
      "Clusters = 149\n",
      "Linkage = ward\n"
     ]
    }
   ],
   "source": [
    "best_param_ag = estudo_ag.best_params\n",
    "print(f'Clusters = {best_param_ag['n_clusters']}')\n",
    "print(f'Linkage = {best_param_ag['linkage']}')"
   ]
  },
  {
   "cell_type": "code",
   "execution_count": 27,
   "metadata": {},
   "outputs": [
    {
     "data": {
      "text/plain": [
       "{'n_clusters': 149, 'linkage': 'ward'}"
      ]
     },
     "execution_count": 27,
     "metadata": {},
     "output_type": "execute_result"
    }
   ],
   "source": [
    "best_param_ag"
   ]
  },
  {
   "cell_type": "code",
   "execution_count": 28,
   "metadata": {},
   "outputs": [],
   "source": [
    "def hierarchical_divisive_objective(trial):\n",
    "  n_clusters = trial.suggest_int('n_clusters', 10, 150)\n",
    "\n",
    "  hierarchical_model = BisectingKMeans(n_clusters=n_clusters)\n",
    "\n",
    "  y = hierarchical_model.fit_predict(X_transformed.toarray())\n",
    "\n",
    "  # silhouette score\n",
    "  silhouette_avg = silhouette_score(X_transformed, y)\n",
    "\n",
    "  return silhouette_avg"
   ]
  },
  {
   "cell_type": "code",
   "execution_count": 29,
   "metadata": {},
   "outputs": [
    {
     "name": "stderr",
     "output_type": "stream",
     "text": [
      "[I 2024-08-05 17:31:46,780] A new study created in memory with name: no-name-d894965c-de2f-47a9-8826-81b7ea4a4952\n"
     ]
    }
   ],
   "source": [
    "# Criar estudo no optuna\n",
    "search_space_dv = {'n_clusters': range(10, 151)}\n",
    "sampler_dv = optuna.samplers.GridSampler(search_space=search_space_dv)\n",
    "estudo_dv = optuna.create_study(direction='maximize', sampler=sampler_dv)"
   ]
  },
  {
   "cell_type": "code",
   "execution_count": 30,
   "metadata": {},
   "outputs": [
    {
     "name": "stderr",
     "output_type": "stream",
     "text": [
      "[I 2024-08-05 17:31:47,592] Trial 0 finished with value: 0.21207551417767134 and parameters: {'n_clusters': 146}. Best is trial 0 with value: 0.21207551417767134.\n",
      "[I 2024-08-05 17:31:47,866] Trial 1 finished with value: 0.15277931044706933 and parameters: {'n_clusters': 50}. Best is trial 0 with value: 0.21207551417767134.\n",
      "[I 2024-08-05 17:31:47,982] Trial 2 finished with value: 0.1564762198366638 and parameters: {'n_clusters': 15}. Best is trial 0 with value: 0.21207551417767134.\n",
      "[I 2024-08-05 17:31:48,386] Trial 3 finished with value: 0.18068255749206372 and parameters: {'n_clusters': 83}. Best is trial 0 with value: 0.21207551417767134.\n",
      "[I 2024-08-05 17:31:48,777] Trial 4 finished with value: 0.1734583581561441 and parameters: {'n_clusters': 81}. Best is trial 0 with value: 0.21207551417767134.\n",
      "[I 2024-08-05 17:31:49,147] Trial 5 finished with value: 0.16236498638317626 and parameters: {'n_clusters': 74}. Best is trial 0 with value: 0.21207551417767134.\n",
      "[I 2024-08-05 17:31:49,805] Trial 6 finished with value: 0.21403042944058778 and parameters: {'n_clusters': 141}. Best is trial 6 with value: 0.21403042944058778.\n",
      "[I 2024-08-05 17:31:50,122] Trial 7 finished with value: 0.1529160761786729 and parameters: {'n_clusters': 48}. Best is trial 6 with value: 0.21403042944058778.\n",
      "[I 2024-08-05 17:31:50,914] Trial 8 finished with value: 0.21384618268482283 and parameters: {'n_clusters': 144}. Best is trial 6 with value: 0.21403042944058778.\n",
      "[I 2024-08-05 17:31:51,358] Trial 9 finished with value: 0.15349818944205826 and parameters: {'n_clusters': 62}. Best is trial 6 with value: 0.21403042944058778.\n",
      "[I 2024-08-05 17:31:52,010] Trial 10 finished with value: 0.20231707061931153 and parameters: {'n_clusters': 121}. Best is trial 6 with value: 0.21403042944058778.\n",
      "[I 2024-08-05 17:31:52,477] Trial 11 finished with value: 0.17190290228760216 and parameters: {'n_clusters': 91}. Best is trial 6 with value: 0.21403042944058778.\n",
      "[I 2024-08-05 17:31:53,200] Trial 12 finished with value: 0.203040653368664 and parameters: {'n_clusters': 145}. Best is trial 6 with value: 0.21403042944058778.\n",
      "[I 2024-08-05 17:31:53,714] Trial 13 finished with value: 0.17352660854360022 and parameters: {'n_clusters': 100}. Best is trial 6 with value: 0.21403042944058778.\n",
      "[I 2024-08-05 17:31:54,433] Trial 14 finished with value: 0.20296120906630075 and parameters: {'n_clusters': 147}. Best is trial 6 with value: 0.21403042944058778.\n",
      "[I 2024-08-05 17:31:54,995] Trial 15 finished with value: 0.18001124388269776 and parameters: {'n_clusters': 115}. Best is trial 6 with value: 0.21403042944058778.\n",
      "[I 2024-08-05 17:31:55,608] Trial 16 finished with value: 0.1960878426095221 and parameters: {'n_clusters': 127}. Best is trial 6 with value: 0.21403042944058778.\n",
      "[I 2024-08-05 17:31:56,146] Trial 17 finished with value: 0.18335234644656337 and parameters: {'n_clusters': 110}. Best is trial 6 with value: 0.21403042944058778.\n",
      "[I 2024-08-05 17:31:56,306] Trial 18 finished with value: 0.13831046164115104 and parameters: {'n_clusters': 23}. Best is trial 6 with value: 0.21403042944058778.\n",
      "[I 2024-08-05 17:31:56,470] Trial 19 finished with value: 0.14839314078550228 and parameters: {'n_clusters': 25}. Best is trial 6 with value: 0.21403042944058778.\n",
      "[I 2024-08-05 17:31:56,606] Trial 20 finished with value: 0.15823974373011684 and parameters: {'n_clusters': 16}. Best is trial 6 with value: 0.21403042944058778.\n",
      "[I 2024-08-05 17:31:57,210] Trial 21 finished with value: 0.16704288580220142 and parameters: {'n_clusters': 111}. Best is trial 6 with value: 0.21403042944058778.\n",
      "[I 2024-08-05 17:31:57,857] Trial 22 finished with value: 0.20198161672968984 and parameters: {'n_clusters': 132}. Best is trial 6 with value: 0.21403042944058778.\n",
      "[I 2024-08-05 17:31:58,157] Trial 23 finished with value: 0.1548442995066032 and parameters: {'n_clusters': 54}. Best is trial 6 with value: 0.21403042944058778.\n",
      "[I 2024-08-05 17:31:58,572] Trial 24 finished with value: 0.1810682751438542 and parameters: {'n_clusters': 78}. Best is trial 6 with value: 0.21403042944058778.\n",
      "[I 2024-08-05 17:31:59,090] Trial 25 finished with value: 0.1819551958674836 and parameters: {'n_clusters': 99}. Best is trial 6 with value: 0.21403042944058778.\n",
      "[I 2024-08-05 17:31:59,769] Trial 26 finished with value: 0.1974290028602587 and parameters: {'n_clusters': 138}. Best is trial 6 with value: 0.21403042944058778.\n",
      "[I 2024-08-05 17:32:00,242] Trial 27 finished with value: 0.17062254638092428 and parameters: {'n_clusters': 94}. Best is trial 6 with value: 0.21403042944058778.\n",
      "[I 2024-08-05 17:32:00,928] Trial 28 finished with value: 0.21320123232564328 and parameters: {'n_clusters': 139}. Best is trial 6 with value: 0.21403042944058778.\n",
      "[I 2024-08-05 17:32:01,576] Trial 29 finished with value: 0.2103646698553225 and parameters: {'n_clusters': 130}. Best is trial 6 with value: 0.21403042944058778.\n",
      "[I 2024-08-05 17:32:02,201] Trial 30 finished with value: 0.20251066121976777 and parameters: {'n_clusters': 122}. Best is trial 6 with value: 0.21403042944058778.\n",
      "[I 2024-08-05 17:32:02,534] Trial 31 finished with value: 0.15482385996453688 and parameters: {'n_clusters': 60}. Best is trial 6 with value: 0.21403042944058778.\n",
      "[I 2024-08-05 17:32:02,714] Trial 32 finished with value: 0.15421345525733812 and parameters: {'n_clusters': 28}. Best is trial 6 with value: 0.21403042944058778.\n",
      "[I 2024-08-05 17:32:02,857] Trial 33 finished with value: 0.1169379834650826 and parameters: {'n_clusters': 21}. Best is trial 6 with value: 0.21403042944058778.\n",
      "[I 2024-08-05 17:32:03,064] Trial 34 finished with value: 0.1372928326639046 and parameters: {'n_clusters': 33}. Best is trial 6 with value: 0.21403042944058778.\n",
      "[I 2024-08-05 17:32:03,229] Trial 35 finished with value: 0.1434268418078601 and parameters: {'n_clusters': 26}. Best is trial 6 with value: 0.21403042944058778.\n",
      "[I 2024-08-05 17:32:03,363] Trial 36 finished with value: 0.15301056666092577 and parameters: {'n_clusters': 19}. Best is trial 6 with value: 0.21403042944058778.\n",
      "[I 2024-08-05 17:32:03,812] Trial 37 finished with value: 0.1683814788124305 and parameters: {'n_clusters': 88}. Best is trial 6 with value: 0.21403042944058778.\n",
      "[I 2024-08-05 17:32:04,057] Trial 38 finished with value: 0.1361618792820369 and parameters: {'n_clusters': 43}. Best is trial 6 with value: 0.21403042944058778.\n",
      "[I 2024-08-05 17:32:04,306] Trial 39 finished with value: 0.15404204511036193 and parameters: {'n_clusters': 41}. Best is trial 6 with value: 0.21403042944058778.\n",
      "[I 2024-08-05 17:32:04,665] Trial 40 finished with value: 0.16267336510731076 and parameters: {'n_clusters': 68}. Best is trial 6 with value: 0.21403042944058778.\n",
      "[I 2024-08-05 17:32:05,240] Trial 41 finished with value: 0.19169005494816288 and parameters: {'n_clusters': 113}. Best is trial 6 with value: 0.21403042944058778.\n",
      "[I 2024-08-05 17:32:05,759] Trial 42 finished with value: 0.18013851459632488 and parameters: {'n_clusters': 104}. Best is trial 6 with value: 0.21403042944058778.\n",
      "[I 2024-08-05 17:32:05,950] Trial 43 finished with value: 0.146986201076971 and parameters: {'n_clusters': 31}. Best is trial 6 with value: 0.21403042944058778.\n",
      "[I 2024-08-05 17:32:06,159] Trial 44 finished with value: 0.13915006234605337 and parameters: {'n_clusters': 34}. Best is trial 6 with value: 0.21403042944058778.\n",
      "[I 2024-08-05 17:32:06,686] Trial 45 finished with value: 0.18519864009871342 and parameters: {'n_clusters': 103}. Best is trial 6 with value: 0.21403042944058778.\n",
      "[I 2024-08-05 17:32:07,124] Trial 46 finished with value: 0.18172840668188897 and parameters: {'n_clusters': 86}. Best is trial 6 with value: 0.21403042944058778.\n",
      "[I 2024-08-05 17:32:07,832] Trial 47 finished with value: 0.20428970783400605 and parameters: {'n_clusters': 142}. Best is trial 6 with value: 0.21403042944058778.\n",
      "[I 2024-08-05 17:32:08,117] Trial 48 finished with value: 0.15110716187578105 and parameters: {'n_clusters': 52}. Best is trial 6 with value: 0.21403042944058778.\n",
      "[I 2024-08-05 17:32:08,321] Trial 49 finished with value: 0.15387322854838215 and parameters: {'n_clusters': 32}. Best is trial 6 with value: 0.21403042944058778.\n",
      "[I 2024-08-05 17:32:08,486] Trial 50 finished with value: 0.13411306254951116 and parameters: {'n_clusters': 24}. Best is trial 6 with value: 0.21403042944058778.\n",
      "[I 2024-08-05 17:32:08,923] Trial 51 finished with value: 0.17860516117393685 and parameters: {'n_clusters': 85}. Best is trial 6 with value: 0.21403042944058778.\n",
      "[I 2024-08-05 17:32:09,364] Trial 52 finished with value: 0.17132187670137586 and parameters: {'n_clusters': 84}. Best is trial 6 with value: 0.21403042944058778.\n",
      "[I 2024-08-05 17:32:09,943] Trial 53 finished with value: 0.19759678698551278 and parameters: {'n_clusters': 116}. Best is trial 6 with value: 0.21403042944058778.\n",
      "[I 2024-08-05 17:32:10,188] Trial 54 finished with value: 0.1489701850113033 and parameters: {'n_clusters': 38}. Best is trial 6 with value: 0.21403042944058778.\n",
      "[I 2024-08-05 17:32:10,706] Trial 55 finished with value: 0.1761568499681044 and parameters: {'n_clusters': 102}. Best is trial 6 with value: 0.21403042944058778.\n",
      "[I 2024-08-05 17:32:11,299] Trial 56 finished with value: 0.1945971429875663 and parameters: {'n_clusters': 118}. Best is trial 6 with value: 0.21403042944058778.\n",
      "[I 2024-08-05 17:32:11,800] Trial 57 finished with value: 0.1782285782510445 and parameters: {'n_clusters': 96}. Best is trial 6 with value: 0.21403042944058778.\n",
      "[I 2024-08-05 17:32:12,332] Trial 58 finished with value: 0.18140050851856188 and parameters: {'n_clusters': 105}. Best is trial 6 with value: 0.21403042944058778.\n",
      "[I 2024-08-05 17:32:12,495] Trial 59 finished with value: 0.13235276070825158 and parameters: {'n_clusters': 18}. Best is trial 6 with value: 0.21403042944058778.\n",
      "[I 2024-08-05 17:32:12,609] Trial 60 finished with value: 0.14765118768338756 and parameters: {'n_clusters': 10}. Best is trial 6 with value: 0.21403042944058778.\n",
      "[I 2024-08-05 17:32:13,047] Trial 61 finished with value: 0.19392715675836444 and parameters: {'n_clusters': 82}. Best is trial 6 with value: 0.21403042944058778.\n",
      "[I 2024-08-05 17:32:13,332] Trial 62 finished with value: 0.14956956379679817 and parameters: {'n_clusters': 39}. Best is trial 6 with value: 0.21403042944058778.\n",
      "[I 2024-08-05 17:32:14,009] Trial 63 finished with value: 0.2129437464320422 and parameters: {'n_clusters': 136}. Best is trial 6 with value: 0.21403042944058778.\n",
      "[I 2024-08-05 17:32:14,416] Trial 64 finished with value: 0.16686528689079158 and parameters: {'n_clusters': 75}. Best is trial 6 with value: 0.21403042944058778.\n",
      "[I 2024-08-05 17:32:15,051] Trial 65 finished with value: 0.20407630857279713 and parameters: {'n_clusters': 126}. Best is trial 6 with value: 0.21403042944058778.\n",
      "[I 2024-08-05 17:32:15,366] Trial 66 finished with value: 0.16797991356262434 and parameters: {'n_clusters': 57}. Best is trial 6 with value: 0.21403042944058778.\n",
      "[I 2024-08-05 17:32:16,006] Trial 67 finished with value: 0.19753617562477244 and parameters: {'n_clusters': 129}. Best is trial 6 with value: 0.21403042944058778.\n",
      "[I 2024-08-05 17:32:16,321] Trial 68 finished with value: 0.15608708023669124 and parameters: {'n_clusters': 59}. Best is trial 6 with value: 0.21403042944058778.\n",
      "[I 2024-08-05 17:32:16,792] Trial 69 finished with value: 0.1713765011232886 and parameters: {'n_clusters': 89}. Best is trial 6 with value: 0.21403042944058778.\n",
      "[I 2024-08-05 17:32:17,292] Trial 70 finished with value: 0.1719825503736705 and parameters: {'n_clusters': 97}. Best is trial 6 with value: 0.21403042944058778.\n",
      "[I 2024-08-05 17:32:17,772] Trial 71 finished with value: 0.1782487534721852 and parameters: {'n_clusters': 90}. Best is trial 6 with value: 0.21403042944058778.\n",
      "[I 2024-08-05 17:32:18,435] Trial 72 finished with value: 0.21040691544726328 and parameters: {'n_clusters': 135}. Best is trial 6 with value: 0.21403042944058778.\n",
      "[I 2024-08-05 17:32:19,006] Trial 73 finished with value: 0.17537566924680859 and parameters: {'n_clusters': 114}. Best is trial 6 with value: 0.21403042944058778.\n",
      "[I 2024-08-05 17:32:19,512] Trial 74 finished with value: 0.18382345816705728 and parameters: {'n_clusters': 101}. Best is trial 6 with value: 0.21403042944058778.\n",
      "[I 2024-08-05 17:32:19,865] Trial 75 finished with value: 0.16879094486552318 and parameters: {'n_clusters': 61}. Best is trial 6 with value: 0.21403042944058778.\n",
      "[I 2024-08-05 17:32:20,553] Trial 76 finished with value: 0.2223424166125211 and parameters: {'n_clusters': 137}. Best is trial 76 with value: 0.2223424166125211.\n",
      "[I 2024-08-05 17:32:21,207] Trial 77 finished with value: 0.20498598873798682 and parameters: {'n_clusters': 131}. Best is trial 76 with value: 0.2223424166125211.\n",
      "[I 2024-08-05 17:32:21,471] Trial 78 finished with value: 0.1518220262125898 and parameters: {'n_clusters': 42}. Best is trial 76 with value: 0.2223424166125211.\n",
      "[I 2024-08-05 17:32:21,701] Trial 79 finished with value: 0.15611654155667545 and parameters: {'n_clusters': 37}. Best is trial 76 with value: 0.2223424166125211.\n",
      "[I 2024-08-05 17:32:22,191] Trial 80 finished with value: 0.19505278961705655 and parameters: {'n_clusters': 93}. Best is trial 76 with value: 0.2223424166125211.\n",
      "[I 2024-08-05 17:32:22,346] Trial 81 finished with value: 0.139024229836427 and parameters: {'n_clusters': 20}. Best is trial 76 with value: 0.2223424166125211.\n",
      "[I 2024-08-05 17:32:22,758] Trial 82 finished with value: 0.15536949012132548 and parameters: {'n_clusters': 77}. Best is trial 76 with value: 0.2223424166125211.\n",
      "[I 2024-08-05 17:32:23,455] Trial 83 finished with value: 0.19584753402052546 and parameters: {'n_clusters': 140}. Best is trial 76 with value: 0.2223424166125211.\n",
      "[I 2024-08-05 17:32:24,104] Trial 84 finished with value: 0.20173810920716662 and parameters: {'n_clusters': 133}. Best is trial 76 with value: 0.2223424166125211.\n",
      "[I 2024-08-05 17:32:24,835] Trial 85 finished with value: 0.20861533096345117 and parameters: {'n_clusters': 150}. Best is trial 76 with value: 0.2223424166125211.\n",
      "[I 2024-08-05 17:32:25,282] Trial 86 finished with value: 0.1712530723274585 and parameters: {'n_clusters': 87}. Best is trial 76 with value: 0.2223424166125211.\n",
      "[I 2024-08-05 17:32:25,692] Trial 87 finished with value: 0.17022524179040768 and parameters: {'n_clusters': 80}. Best is trial 76 with value: 0.2223424166125211.\n",
      "[I 2024-08-05 17:32:25,933] Trial 88 finished with value: 0.1476551454583676 and parameters: {'n_clusters': 40}. Best is trial 76 with value: 0.2223424166125211.\n",
      "[I 2024-08-05 17:32:26,304] Trial 89 finished with value: 0.16920721440578151 and parameters: {'n_clusters': 70}. Best is trial 76 with value: 0.2223424166125211.\n",
      "[I 2024-08-05 17:32:26,608] Trial 90 finished with value: 0.16685207934936908 and parameters: {'n_clusters': 55}. Best is trial 76 with value: 0.2223424166125211.\n",
      "[I 2024-08-05 17:32:27,363] Trial 91 finished with value: 0.21650188704706036 and parameters: {'n_clusters': 149}. Best is trial 76 with value: 0.2223424166125211.\n",
      "[I 2024-08-05 17:32:27,549] Trial 92 finished with value: 0.13560165873087962 and parameters: {'n_clusters': 29}. Best is trial 76 with value: 0.2223424166125211.\n",
      "[I 2024-08-05 17:32:27,827] Trial 93 finished with value: 0.15934357024101048 and parameters: {'n_clusters': 47}. Best is trial 76 with value: 0.2223424166125211.\n",
      "[I 2024-08-05 17:32:28,100] Trial 94 finished with value: 0.1611253759351038 and parameters: {'n_clusters': 44}. Best is trial 76 with value: 0.2223424166125211.\n",
      "[I 2024-08-05 17:32:28,333] Trial 95 finished with value: 0.1598930663400857 and parameters: {'n_clusters': 36}. Best is trial 76 with value: 0.2223424166125211.\n",
      "[I 2024-08-05 17:32:28,882] Trial 96 finished with value: 0.18972628632128355 and parameters: {'n_clusters': 106}. Best is trial 76 with value: 0.2223424166125211.\n",
      "[I 2024-08-05 17:32:29,025] Trial 97 finished with value: 0.10743637458462599 and parameters: {'n_clusters': 14}. Best is trial 76 with value: 0.2223424166125211.\n",
      "[I 2024-08-05 17:32:29,337] Trial 98 finished with value: 0.15888405665742883 and parameters: {'n_clusters': 56}. Best is trial 76 with value: 0.2223424166125211.\n",
      "[I 2024-08-05 17:32:29,507] Trial 99 finished with value: 0.13473036487807646 and parameters: {'n_clusters': 22}. Best is trial 76 with value: 0.2223424166125211.\n",
      "[I 2024-08-05 17:32:30,059] Trial 100 finished with value: 0.17964110706394315 and parameters: {'n_clusters': 108}. Best is trial 76 with value: 0.2223424166125211.\n",
      "[I 2024-08-05 17:32:30,605] Trial 101 finished with value: 0.19663842578695612 and parameters: {'n_clusters': 109}. Best is trial 76 with value: 0.2223424166125211.\n",
      "[I 2024-08-05 17:32:31,174] Trial 102 finished with value: 0.19110347965095403 and parameters: {'n_clusters': 112}. Best is trial 76 with value: 0.2223424166125211.\n",
      "[I 2024-08-05 17:32:31,552] Trial 103 finished with value: 0.15507431375450217 and parameters: {'n_clusters': 71}. Best is trial 76 with value: 0.2223424166125211.\n",
      "[I 2024-08-05 17:32:32,221] Trial 104 finished with value: 0.1871037072177315 and parameters: {'n_clusters': 134}. Best is trial 76 with value: 0.2223424166125211.\n",
      "[I 2024-08-05 17:32:32,583] Trial 105 finished with value: 0.17931530934197867 and parameters: {'n_clusters': 67}. Best is trial 76 with value: 0.2223424166125211.\n",
      "[I 2024-08-05 17:32:32,767] Trial 106 finished with value: 0.14129248464624058 and parameters: {'n_clusters': 27}. Best is trial 76 with value: 0.2223424166125211.\n",
      "[I 2024-08-05 17:32:33,173] Trial 107 finished with value: 0.16643302081771325 and parameters: {'n_clusters': 69}. Best is trial 76 with value: 0.2223424166125211.\n",
      "[I 2024-08-05 17:32:33,557] Trial 108 finished with value: 0.18085385063487755 and parameters: {'n_clusters': 72}. Best is trial 76 with value: 0.2223424166125211.\n",
      "[I 2024-08-05 17:32:34,281] Trial 109 finished with value: 0.21471883159724292 and parameters: {'n_clusters': 148}. Best is trial 76 with value: 0.2223424166125211.\n",
      "[I 2024-08-05 17:32:34,870] Trial 110 finished with value: 0.20553911868426158 and parameters: {'n_clusters': 119}. Best is trial 76 with value: 0.2223424166125211.\n",
      "[I 2024-08-05 17:32:35,419] Trial 111 finished with value: 0.1882781126798389 and parameters: {'n_clusters': 107}. Best is trial 76 with value: 0.2223424166125211.\n",
      "[I 2024-08-05 17:32:35,635] Trial 112 finished with value: 0.12850975205787263 and parameters: {'n_clusters': 30}. Best is trial 76 with value: 0.2223424166125211.\n",
      "[I 2024-08-05 17:32:35,941] Trial 113 finished with value: 0.1808412275242149 and parameters: {'n_clusters': 51}. Best is trial 76 with value: 0.2223424166125211.\n",
      "[I 2024-08-05 17:32:36,064] Trial 114 finished with value: 0.12481602332125497 and parameters: {'n_clusters': 12}. Best is trial 76 with value: 0.2223424166125211.\n",
      "[I 2024-08-05 17:32:36,694] Trial 115 finished with value: 0.1983639056741574 and parameters: {'n_clusters': 125}. Best is trial 76 with value: 0.2223424166125211.\n",
      "[I 2024-08-05 17:32:37,062] Trial 116 finished with value: 0.16269256648676592 and parameters: {'n_clusters': 65}. Best is trial 76 with value: 0.2223424166125211.\n",
      "[I 2024-08-05 17:32:37,691] Trial 117 finished with value: 0.19891870869756284 and parameters: {'n_clusters': 124}. Best is trial 76 with value: 0.2223424166125211.\n",
      "[I 2024-08-05 17:32:38,183] Trial 118 finished with value: 0.17109255877735505 and parameters: {'n_clusters': 92}. Best is trial 76 with value: 0.2223424166125211.\n",
      "[I 2024-08-05 17:32:38,346] Trial 119 finished with value: 0.1399731269164822 and parameters: {'n_clusters': 17}. Best is trial 76 with value: 0.2223424166125211.\n",
      "[I 2024-08-05 17:32:38,961] Trial 120 finished with value: 0.17934021072989317 and parameters: {'n_clusters': 123}. Best is trial 76 with value: 0.2223424166125211.\n",
      "[I 2024-08-05 17:32:39,311] Trial 121 finished with value: 0.15417782488330262 and parameters: {'n_clusters': 63}. Best is trial 76 with value: 0.2223424166125211.\n",
      "[I 2024-08-05 17:32:39,653] Trial 122 finished with value: 0.15453402649152012 and parameters: {'n_clusters': 58}. Best is trial 76 with value: 0.2223424166125211.\n",
      "[I 2024-08-05 17:32:39,950] Trial 123 finished with value: 0.15401472455655246 and parameters: {'n_clusters': 49}. Best is trial 76 with value: 0.2223424166125211.\n",
      "[I 2024-08-05 17:32:40,188] Trial 124 finished with value: 0.15645417559874122 and parameters: {'n_clusters': 35}. Best is trial 76 with value: 0.2223424166125211.\n",
      "[I 2024-08-05 17:32:40,786] Trial 125 finished with value: 0.19158909266551247 and parameters: {'n_clusters': 117}. Best is trial 76 with value: 0.2223424166125211.\n",
      "[I 2024-08-05 17:32:41,184] Trial 126 finished with value: 0.15662507429567654 and parameters: {'n_clusters': 73}. Best is trial 76 with value: 0.2223424166125211.\n",
      "[I 2024-08-05 17:32:41,312] Trial 127 finished with value: 0.13803785423979745 and parameters: {'n_clusters': 13}. Best is trial 76 with value: 0.2223424166125211.\n",
      "[I 2024-08-05 17:32:41,691] Trial 128 finished with value: 0.16407270387109973 and parameters: {'n_clusters': 64}. Best is trial 76 with value: 0.2223424166125211.\n",
      "[I 2024-08-05 17:32:42,222] Trial 129 finished with value: 0.17024514912243532 and parameters: {'n_clusters': 95}. Best is trial 76 with value: 0.2223424166125211.\n",
      "[I 2024-08-05 17:32:42,864] Trial 130 finished with value: 0.21460443595763198 and parameters: {'n_clusters': 128}. Best is trial 76 with value: 0.2223424166125211.\n",
      "[I 2024-08-05 17:32:43,233] Trial 131 finished with value: 0.1561430944893544 and parameters: {'n_clusters': 66}. Best is trial 76 with value: 0.2223424166125211.\n",
      "[I 2024-08-05 17:32:43,960] Trial 132 finished with value: 0.22517263862882794 and parameters: {'n_clusters': 143}. Best is trial 132 with value: 0.22517263862882794.\n",
      "[I 2024-08-05 17:32:44,091] Trial 133 finished with value: 0.15564313056591494 and parameters: {'n_clusters': 11}. Best is trial 132 with value: 0.22517263862882794.\n",
      "[I 2024-08-05 17:32:44,404] Trial 134 finished with value: 0.16722855800446826 and parameters: {'n_clusters': 53}. Best is trial 132 with value: 0.22517263862882794.\n",
      "[I 2024-08-05 17:32:45,030] Trial 135 finished with value: 0.18446563552455536 and parameters: {'n_clusters': 120}. Best is trial 132 with value: 0.22517263862882794.\n",
      "[I 2024-08-05 17:32:45,563] Trial 136 finished with value: 0.17738262147799566 and parameters: {'n_clusters': 98}. Best is trial 132 with value: 0.22517263862882794.\n",
      "[I 2024-08-05 17:32:46,000] Trial 137 finished with value: 0.1777211673996834 and parameters: {'n_clusters': 79}. Best is trial 132 with value: 0.22517263862882794.\n",
      "[I 2024-08-05 17:32:46,281] Trial 138 finished with value: 0.14718320526713385 and parameters: {'n_clusters': 45}. Best is trial 132 with value: 0.22517263862882794.\n",
      "[I 2024-08-05 17:32:46,583] Trial 139 finished with value: 0.15770549888836943 and parameters: {'n_clusters': 46}. Best is trial 132 with value: 0.22517263862882794.\n",
      "[I 2024-08-05 17:32:46,997] Trial 140 finished with value: 0.16256235558638898 and parameters: {'n_clusters': 76}. Best is trial 132 with value: 0.22517263862882794.\n"
     ]
    }
   ],
   "source": [
    "estudo_dv.optimize(hierarchical_divisive_objective, n_trials=600)"
   ]
  },
  {
   "cell_type": "code",
   "execution_count": 31,
   "metadata": {},
   "outputs": [
    {
     "name": "stdout",
     "output_type": "stream",
     "text": [
      "Clusters = 143\n"
     ]
    }
   ],
   "source": [
    "best_param_dv = estudo_dv.best_params\n",
    "print(f'Clusters = {best_param_dv['n_clusters']}')"
   ]
  },
  {
   "cell_type": "code",
   "execution_count": 32,
   "metadata": {},
   "outputs": [],
   "source": [
    "# Criar modelo com melhor parametros\n",
    "best_model = AgglomerativeClustering(\n",
    "  n_clusters=best_param_ag['n_clusters'],\n",
    "  linkage=best_param_ag['linkage']\n",
    ")"
   ]
  },
  {
   "cell_type": "code",
   "execution_count": 33,
   "metadata": {},
   "outputs": [
    {
     "data": {
      "text/html": [
       "<style>#sk-container-id-1 {\n",
       "  /* Definition of color scheme common for light and dark mode */\n",
       "  --sklearn-color-text: black;\n",
       "  --sklearn-color-line: gray;\n",
       "  /* Definition of color scheme for unfitted estimators */\n",
       "  --sklearn-color-unfitted-level-0: #fff5e6;\n",
       "  --sklearn-color-unfitted-level-1: #f6e4d2;\n",
       "  --sklearn-color-unfitted-level-2: #ffe0b3;\n",
       "  --sklearn-color-unfitted-level-3: chocolate;\n",
       "  /* Definition of color scheme for fitted estimators */\n",
       "  --sklearn-color-fitted-level-0: #f0f8ff;\n",
       "  --sklearn-color-fitted-level-1: #d4ebff;\n",
       "  --sklearn-color-fitted-level-2: #b3dbfd;\n",
       "  --sklearn-color-fitted-level-3: cornflowerblue;\n",
       "\n",
       "  /* Specific color for light theme */\n",
       "  --sklearn-color-text-on-default-background: var(--sg-text-color, var(--theme-code-foreground, var(--jp-content-font-color1, black)));\n",
       "  --sklearn-color-background: var(--sg-background-color, var(--theme-background, var(--jp-layout-color0, white)));\n",
       "  --sklearn-color-border-box: var(--sg-text-color, var(--theme-code-foreground, var(--jp-content-font-color1, black)));\n",
       "  --sklearn-color-icon: #696969;\n",
       "\n",
       "  @media (prefers-color-scheme: dark) {\n",
       "    /* Redefinition of color scheme for dark theme */\n",
       "    --sklearn-color-text-on-default-background: var(--sg-text-color, var(--theme-code-foreground, var(--jp-content-font-color1, white)));\n",
       "    --sklearn-color-background: var(--sg-background-color, var(--theme-background, var(--jp-layout-color0, #111)));\n",
       "    --sklearn-color-border-box: var(--sg-text-color, var(--theme-code-foreground, var(--jp-content-font-color1, white)));\n",
       "    --sklearn-color-icon: #878787;\n",
       "  }\n",
       "}\n",
       "\n",
       "#sk-container-id-1 {\n",
       "  color: var(--sklearn-color-text);\n",
       "}\n",
       "\n",
       "#sk-container-id-1 pre {\n",
       "  padding: 0;\n",
       "}\n",
       "\n",
       "#sk-container-id-1 input.sk-hidden--visually {\n",
       "  border: 0;\n",
       "  clip: rect(1px 1px 1px 1px);\n",
       "  clip: rect(1px, 1px, 1px, 1px);\n",
       "  height: 1px;\n",
       "  margin: -1px;\n",
       "  overflow: hidden;\n",
       "  padding: 0;\n",
       "  position: absolute;\n",
       "  width: 1px;\n",
       "}\n",
       "\n",
       "#sk-container-id-1 div.sk-dashed-wrapped {\n",
       "  border: 1px dashed var(--sklearn-color-line);\n",
       "  margin: 0 0.4em 0.5em 0.4em;\n",
       "  box-sizing: border-box;\n",
       "  padding-bottom: 0.4em;\n",
       "  background-color: var(--sklearn-color-background);\n",
       "}\n",
       "\n",
       "#sk-container-id-1 div.sk-container {\n",
       "  /* jupyter's `normalize.less` sets `[hidden] { display: none; }`\n",
       "     but bootstrap.min.css set `[hidden] { display: none !important; }`\n",
       "     so we also need the `!important` here to be able to override the\n",
       "     default hidden behavior on the sphinx rendered scikit-learn.org.\n",
       "     See: https://github.com/scikit-learn/scikit-learn/issues/21755 */\n",
       "  display: inline-block !important;\n",
       "  position: relative;\n",
       "}\n",
       "\n",
       "#sk-container-id-1 div.sk-text-repr-fallback {\n",
       "  display: none;\n",
       "}\n",
       "\n",
       "div.sk-parallel-item,\n",
       "div.sk-serial,\n",
       "div.sk-item {\n",
       "  /* draw centered vertical line to link estimators */\n",
       "  background-image: linear-gradient(var(--sklearn-color-text-on-default-background), var(--sklearn-color-text-on-default-background));\n",
       "  background-size: 2px 100%;\n",
       "  background-repeat: no-repeat;\n",
       "  background-position: center center;\n",
       "}\n",
       "\n",
       "/* Parallel-specific style estimator block */\n",
       "\n",
       "#sk-container-id-1 div.sk-parallel-item::after {\n",
       "  content: \"\";\n",
       "  width: 100%;\n",
       "  border-bottom: 2px solid var(--sklearn-color-text-on-default-background);\n",
       "  flex-grow: 1;\n",
       "}\n",
       "\n",
       "#sk-container-id-1 div.sk-parallel {\n",
       "  display: flex;\n",
       "  align-items: stretch;\n",
       "  justify-content: center;\n",
       "  background-color: var(--sklearn-color-background);\n",
       "  position: relative;\n",
       "}\n",
       "\n",
       "#sk-container-id-1 div.sk-parallel-item {\n",
       "  display: flex;\n",
       "  flex-direction: column;\n",
       "}\n",
       "\n",
       "#sk-container-id-1 div.sk-parallel-item:first-child::after {\n",
       "  align-self: flex-end;\n",
       "  width: 50%;\n",
       "}\n",
       "\n",
       "#sk-container-id-1 div.sk-parallel-item:last-child::after {\n",
       "  align-self: flex-start;\n",
       "  width: 50%;\n",
       "}\n",
       "\n",
       "#sk-container-id-1 div.sk-parallel-item:only-child::after {\n",
       "  width: 0;\n",
       "}\n",
       "\n",
       "/* Serial-specific style estimator block */\n",
       "\n",
       "#sk-container-id-1 div.sk-serial {\n",
       "  display: flex;\n",
       "  flex-direction: column;\n",
       "  align-items: center;\n",
       "  background-color: var(--sklearn-color-background);\n",
       "  padding-right: 1em;\n",
       "  padding-left: 1em;\n",
       "}\n",
       "\n",
       "\n",
       "/* Toggleable style: style used for estimator/Pipeline/ColumnTransformer box that is\n",
       "clickable and can be expanded/collapsed.\n",
       "- Pipeline and ColumnTransformer use this feature and define the default style\n",
       "- Estimators will overwrite some part of the style using the `sk-estimator` class\n",
       "*/\n",
       "\n",
       "/* Pipeline and ColumnTransformer style (default) */\n",
       "\n",
       "#sk-container-id-1 div.sk-toggleable {\n",
       "  /* Default theme specific background. It is overwritten whether we have a\n",
       "  specific estimator or a Pipeline/ColumnTransformer */\n",
       "  background-color: var(--sklearn-color-background);\n",
       "}\n",
       "\n",
       "/* Toggleable label */\n",
       "#sk-container-id-1 label.sk-toggleable__label {\n",
       "  cursor: pointer;\n",
       "  display: block;\n",
       "  width: 100%;\n",
       "  margin-bottom: 0;\n",
       "  padding: 0.5em;\n",
       "  box-sizing: border-box;\n",
       "  text-align: center;\n",
       "}\n",
       "\n",
       "#sk-container-id-1 label.sk-toggleable__label-arrow:before {\n",
       "  /* Arrow on the left of the label */\n",
       "  content: \"▸\";\n",
       "  float: left;\n",
       "  margin-right: 0.25em;\n",
       "  color: var(--sklearn-color-icon);\n",
       "}\n",
       "\n",
       "#sk-container-id-1 label.sk-toggleable__label-arrow:hover:before {\n",
       "  color: var(--sklearn-color-text);\n",
       "}\n",
       "\n",
       "/* Toggleable content - dropdown */\n",
       "\n",
       "#sk-container-id-1 div.sk-toggleable__content {\n",
       "  max-height: 0;\n",
       "  max-width: 0;\n",
       "  overflow: hidden;\n",
       "  text-align: left;\n",
       "  /* unfitted */\n",
       "  background-color: var(--sklearn-color-unfitted-level-0);\n",
       "}\n",
       "\n",
       "#sk-container-id-1 div.sk-toggleable__content.fitted {\n",
       "  /* fitted */\n",
       "  background-color: var(--sklearn-color-fitted-level-0);\n",
       "}\n",
       "\n",
       "#sk-container-id-1 div.sk-toggleable__content pre {\n",
       "  margin: 0.2em;\n",
       "  border-radius: 0.25em;\n",
       "  color: var(--sklearn-color-text);\n",
       "  /* unfitted */\n",
       "  background-color: var(--sklearn-color-unfitted-level-0);\n",
       "}\n",
       "\n",
       "#sk-container-id-1 div.sk-toggleable__content.fitted pre {\n",
       "  /* unfitted */\n",
       "  background-color: var(--sklearn-color-fitted-level-0);\n",
       "}\n",
       "\n",
       "#sk-container-id-1 input.sk-toggleable__control:checked~div.sk-toggleable__content {\n",
       "  /* Expand drop-down */\n",
       "  max-height: 200px;\n",
       "  max-width: 100%;\n",
       "  overflow: auto;\n",
       "}\n",
       "\n",
       "#sk-container-id-1 input.sk-toggleable__control:checked~label.sk-toggleable__label-arrow:before {\n",
       "  content: \"▾\";\n",
       "}\n",
       "\n",
       "/* Pipeline/ColumnTransformer-specific style */\n",
       "\n",
       "#sk-container-id-1 div.sk-label input.sk-toggleable__control:checked~label.sk-toggleable__label {\n",
       "  color: var(--sklearn-color-text);\n",
       "  background-color: var(--sklearn-color-unfitted-level-2);\n",
       "}\n",
       "\n",
       "#sk-container-id-1 div.sk-label.fitted input.sk-toggleable__control:checked~label.sk-toggleable__label {\n",
       "  background-color: var(--sklearn-color-fitted-level-2);\n",
       "}\n",
       "\n",
       "/* Estimator-specific style */\n",
       "\n",
       "/* Colorize estimator box */\n",
       "#sk-container-id-1 div.sk-estimator input.sk-toggleable__control:checked~label.sk-toggleable__label {\n",
       "  /* unfitted */\n",
       "  background-color: var(--sklearn-color-unfitted-level-2);\n",
       "}\n",
       "\n",
       "#sk-container-id-1 div.sk-estimator.fitted input.sk-toggleable__control:checked~label.sk-toggleable__label {\n",
       "  /* fitted */\n",
       "  background-color: var(--sklearn-color-fitted-level-2);\n",
       "}\n",
       "\n",
       "#sk-container-id-1 div.sk-label label.sk-toggleable__label,\n",
       "#sk-container-id-1 div.sk-label label {\n",
       "  /* The background is the default theme color */\n",
       "  color: var(--sklearn-color-text-on-default-background);\n",
       "}\n",
       "\n",
       "/* On hover, darken the color of the background */\n",
       "#sk-container-id-1 div.sk-label:hover label.sk-toggleable__label {\n",
       "  color: var(--sklearn-color-text);\n",
       "  background-color: var(--sklearn-color-unfitted-level-2);\n",
       "}\n",
       "\n",
       "/* Label box, darken color on hover, fitted */\n",
       "#sk-container-id-1 div.sk-label.fitted:hover label.sk-toggleable__label.fitted {\n",
       "  color: var(--sklearn-color-text);\n",
       "  background-color: var(--sklearn-color-fitted-level-2);\n",
       "}\n",
       "\n",
       "/* Estimator label */\n",
       "\n",
       "#sk-container-id-1 div.sk-label label {\n",
       "  font-family: monospace;\n",
       "  font-weight: bold;\n",
       "  display: inline-block;\n",
       "  line-height: 1.2em;\n",
       "}\n",
       "\n",
       "#sk-container-id-1 div.sk-label-container {\n",
       "  text-align: center;\n",
       "}\n",
       "\n",
       "/* Estimator-specific */\n",
       "#sk-container-id-1 div.sk-estimator {\n",
       "  font-family: monospace;\n",
       "  border: 1px dotted var(--sklearn-color-border-box);\n",
       "  border-radius: 0.25em;\n",
       "  box-sizing: border-box;\n",
       "  margin-bottom: 0.5em;\n",
       "  /* unfitted */\n",
       "  background-color: var(--sklearn-color-unfitted-level-0);\n",
       "}\n",
       "\n",
       "#sk-container-id-1 div.sk-estimator.fitted {\n",
       "  /* fitted */\n",
       "  background-color: var(--sklearn-color-fitted-level-0);\n",
       "}\n",
       "\n",
       "/* on hover */\n",
       "#sk-container-id-1 div.sk-estimator:hover {\n",
       "  /* unfitted */\n",
       "  background-color: var(--sklearn-color-unfitted-level-2);\n",
       "}\n",
       "\n",
       "#sk-container-id-1 div.sk-estimator.fitted:hover {\n",
       "  /* fitted */\n",
       "  background-color: var(--sklearn-color-fitted-level-2);\n",
       "}\n",
       "\n",
       "/* Specification for estimator info (e.g. \"i\" and \"?\") */\n",
       "\n",
       "/* Common style for \"i\" and \"?\" */\n",
       "\n",
       ".sk-estimator-doc-link,\n",
       "a:link.sk-estimator-doc-link,\n",
       "a:visited.sk-estimator-doc-link {\n",
       "  float: right;\n",
       "  font-size: smaller;\n",
       "  line-height: 1em;\n",
       "  font-family: monospace;\n",
       "  background-color: var(--sklearn-color-background);\n",
       "  border-radius: 1em;\n",
       "  height: 1em;\n",
       "  width: 1em;\n",
       "  text-decoration: none !important;\n",
       "  margin-left: 1ex;\n",
       "  /* unfitted */\n",
       "  border: var(--sklearn-color-unfitted-level-1) 1pt solid;\n",
       "  color: var(--sklearn-color-unfitted-level-1);\n",
       "}\n",
       "\n",
       ".sk-estimator-doc-link.fitted,\n",
       "a:link.sk-estimator-doc-link.fitted,\n",
       "a:visited.sk-estimator-doc-link.fitted {\n",
       "  /* fitted */\n",
       "  border: var(--sklearn-color-fitted-level-1) 1pt solid;\n",
       "  color: var(--sklearn-color-fitted-level-1);\n",
       "}\n",
       "\n",
       "/* On hover */\n",
       "div.sk-estimator:hover .sk-estimator-doc-link:hover,\n",
       ".sk-estimator-doc-link:hover,\n",
       "div.sk-label-container:hover .sk-estimator-doc-link:hover,\n",
       ".sk-estimator-doc-link:hover {\n",
       "  /* unfitted */\n",
       "  background-color: var(--sklearn-color-unfitted-level-3);\n",
       "  color: var(--sklearn-color-background);\n",
       "  text-decoration: none;\n",
       "}\n",
       "\n",
       "div.sk-estimator.fitted:hover .sk-estimator-doc-link.fitted:hover,\n",
       ".sk-estimator-doc-link.fitted:hover,\n",
       "div.sk-label-container:hover .sk-estimator-doc-link.fitted:hover,\n",
       ".sk-estimator-doc-link.fitted:hover {\n",
       "  /* fitted */\n",
       "  background-color: var(--sklearn-color-fitted-level-3);\n",
       "  color: var(--sklearn-color-background);\n",
       "  text-decoration: none;\n",
       "}\n",
       "\n",
       "/* Span, style for the box shown on hovering the info icon */\n",
       ".sk-estimator-doc-link span {\n",
       "  display: none;\n",
       "  z-index: 9999;\n",
       "  position: relative;\n",
       "  font-weight: normal;\n",
       "  right: .2ex;\n",
       "  padding: .5ex;\n",
       "  margin: .5ex;\n",
       "  width: min-content;\n",
       "  min-width: 20ex;\n",
       "  max-width: 50ex;\n",
       "  color: var(--sklearn-color-text);\n",
       "  box-shadow: 2pt 2pt 4pt #999;\n",
       "  /* unfitted */\n",
       "  background: var(--sklearn-color-unfitted-level-0);\n",
       "  border: .5pt solid var(--sklearn-color-unfitted-level-3);\n",
       "}\n",
       "\n",
       ".sk-estimator-doc-link.fitted span {\n",
       "  /* fitted */\n",
       "  background: var(--sklearn-color-fitted-level-0);\n",
       "  border: var(--sklearn-color-fitted-level-3);\n",
       "}\n",
       "\n",
       ".sk-estimator-doc-link:hover span {\n",
       "  display: block;\n",
       "}\n",
       "\n",
       "/* \"?\"-specific style due to the `<a>` HTML tag */\n",
       "\n",
       "#sk-container-id-1 a.estimator_doc_link {\n",
       "  float: right;\n",
       "  font-size: 1rem;\n",
       "  line-height: 1em;\n",
       "  font-family: monospace;\n",
       "  background-color: var(--sklearn-color-background);\n",
       "  border-radius: 1rem;\n",
       "  height: 1rem;\n",
       "  width: 1rem;\n",
       "  text-decoration: none;\n",
       "  /* unfitted */\n",
       "  color: var(--sklearn-color-unfitted-level-1);\n",
       "  border: var(--sklearn-color-unfitted-level-1) 1pt solid;\n",
       "}\n",
       "\n",
       "#sk-container-id-1 a.estimator_doc_link.fitted {\n",
       "  /* fitted */\n",
       "  border: var(--sklearn-color-fitted-level-1) 1pt solid;\n",
       "  color: var(--sklearn-color-fitted-level-1);\n",
       "}\n",
       "\n",
       "/* On hover */\n",
       "#sk-container-id-1 a.estimator_doc_link:hover {\n",
       "  /* unfitted */\n",
       "  background-color: var(--sklearn-color-unfitted-level-3);\n",
       "  color: var(--sklearn-color-background);\n",
       "  text-decoration: none;\n",
       "}\n",
       "\n",
       "#sk-container-id-1 a.estimator_doc_link.fitted:hover {\n",
       "  /* fitted */\n",
       "  background-color: var(--sklearn-color-fitted-level-3);\n",
       "}\n",
       "</style><div id=\"sk-container-id-1\" class=\"sk-top-container\"><div class=\"sk-text-repr-fallback\"><pre>AgglomerativeClustering(n_clusters=149)</pre><b>In a Jupyter environment, please rerun this cell to show the HTML representation or trust the notebook. <br />On GitHub, the HTML representation is unable to render, please try loading this page with nbviewer.org.</b></div><div class=\"sk-container\" hidden><div class=\"sk-item\"><div class=\"sk-estimator fitted sk-toggleable\"><input class=\"sk-toggleable__control sk-hidden--visually\" id=\"sk-estimator-id-1\" type=\"checkbox\" checked><label for=\"sk-estimator-id-1\" class=\"sk-toggleable__label fitted sk-toggleable__label-arrow fitted\">&nbsp;&nbsp;AgglomerativeClustering<a class=\"sk-estimator-doc-link fitted\" rel=\"noreferrer\" target=\"_blank\" href=\"https://scikit-learn.org/1.5/modules/generated/sklearn.cluster.AgglomerativeClustering.html\">?<span>Documentation for AgglomerativeClustering</span></a><span class=\"sk-estimator-doc-link fitted\">i<span>Fitted</span></span></label><div class=\"sk-toggleable__content fitted\"><pre>AgglomerativeClustering(n_clusters=149)</pre></div> </div></div></div></div>"
      ],
      "text/plain": [
       "AgglomerativeClustering(n_clusters=149)"
      ]
     },
     "execution_count": 33,
     "metadata": {},
     "output_type": "execute_result"
    }
   ],
   "source": [
    "# Treinar modelo\n",
    "best_model.fit(X_transformed.toarray())"
   ]
  },
  {
   "cell_type": "code",
   "execution_count": 34,
   "metadata": {},
   "outputs": [],
   "source": [
    "# Verificar silhouette score\n",
    "best_score = silhouette_score(X_transformed, best_model.labels_)"
   ]
  },
  {
   "cell_type": "code",
   "execution_count": 35,
   "metadata": {},
   "outputs": [
    {
     "data": {
      "text/plain": [
       "np.float64(0.3261052760175957)"
      ]
     },
     "execution_count": 35,
     "metadata": {},
     "output_type": "execute_result"
    }
   ],
   "source": [
    "best_score"
   ]
  },
  {
   "cell_type": "code",
   "execution_count": 36,
   "metadata": {},
   "outputs": [],
   "source": [
    "# Criar coluna com cluster escolhido no df original\n",
    "df_laptops['cluster'] = best_model.labels_"
   ]
  },
  {
   "cell_type": "markdown",
   "metadata": {},
   "source": [
    "### Visualizar resultados"
   ]
  },
  {
   "cell_type": "code",
   "execution_count": 37,
   "metadata": {},
   "outputs": [
    {
     "data": {
      "application/vnd.plotly.v1+json": {
       "config": {
        "plotlyServerURL": "https://plot.ly"
       },
       "data": [
        {
         "mode": "markers",
         "name": "Objective Value",
         "type": "scatter",
         "x": [
          0,
          1,
          2,
          3,
          4,
          5,
          6,
          7,
          8,
          9,
          10,
          11,
          12,
          13,
          14,
          15,
          16,
          17,
          18,
          19,
          20,
          21,
          22,
          23,
          24,
          25,
          26,
          27,
          28,
          29,
          30,
          31,
          32,
          33,
          34,
          35,
          36,
          37,
          38,
          39,
          40,
          41,
          42,
          43,
          44,
          45,
          46,
          47,
          48,
          49,
          50,
          51,
          52,
          53,
          54,
          55,
          56,
          57,
          58,
          59,
          60,
          61,
          62,
          63,
          64,
          65,
          66,
          67,
          68,
          69,
          70,
          71,
          72,
          73,
          74,
          75,
          76,
          77,
          78,
          79,
          80,
          81,
          82,
          83,
          84,
          85,
          86,
          87,
          88,
          89,
          90,
          91,
          92,
          93,
          94,
          95,
          96,
          97,
          98,
          99,
          100,
          101,
          102,
          103,
          104,
          105,
          106,
          107,
          108,
          109,
          110,
          111,
          112,
          113,
          114,
          115,
          116,
          117,
          118,
          119,
          120,
          121,
          122,
          123,
          124,
          125,
          126,
          127,
          128,
          129,
          130,
          131,
          132,
          133,
          134,
          135,
          136,
          137,
          138,
          139,
          140,
          141,
          142,
          143,
          144,
          145,
          146,
          147,
          148,
          149,
          150,
          151,
          152,
          153,
          154,
          155,
          156,
          157,
          158,
          159,
          160,
          161,
          162,
          163,
          164,
          165,
          166,
          167,
          168,
          169,
          170,
          171,
          172,
          173,
          174,
          175,
          176,
          177,
          178,
          179,
          180,
          181,
          182,
          183,
          184,
          185,
          186,
          187,
          188,
          189,
          190,
          191,
          192,
          193,
          194,
          195,
          196,
          197,
          198,
          199,
          200,
          201,
          202,
          203,
          204,
          205,
          206,
          207,
          208,
          209,
          210,
          211,
          212,
          213,
          214,
          215,
          216,
          217,
          218,
          219,
          220,
          221,
          222,
          223,
          224,
          225,
          226,
          227,
          228,
          229,
          230,
          231,
          232,
          233,
          234,
          235,
          236,
          237,
          238,
          239,
          240,
          241,
          242,
          243,
          244,
          245,
          246,
          247,
          248,
          249,
          250,
          251,
          252,
          253,
          254,
          255,
          256,
          257,
          258,
          259,
          260,
          261,
          262,
          263,
          264,
          265,
          266,
          267,
          268,
          269,
          270,
          271,
          272,
          273,
          274,
          275,
          276,
          277,
          278,
          279,
          280,
          281,
          282,
          283,
          284,
          285,
          286,
          287,
          288,
          289,
          290,
          291,
          292,
          293,
          294,
          295,
          296,
          297,
          298,
          299,
          300,
          301,
          302,
          303,
          304,
          305,
          306,
          307,
          308,
          309,
          310,
          311,
          312,
          313,
          314,
          315,
          316,
          317,
          318,
          319,
          320,
          321,
          322,
          323,
          324,
          325,
          326,
          327,
          328,
          329,
          330,
          331,
          332,
          333,
          334,
          335,
          336,
          337,
          338,
          339,
          340,
          341,
          342,
          343,
          344,
          345,
          346,
          347,
          348,
          349,
          350,
          351,
          352,
          353,
          354,
          355,
          356,
          357,
          358,
          359,
          360,
          361,
          362,
          363,
          364,
          365,
          366,
          367,
          368,
          369,
          370,
          371,
          372,
          373,
          374,
          375,
          376,
          377,
          378,
          379,
          380,
          381,
          382,
          383,
          384,
          385,
          386,
          387,
          388,
          389,
          390,
          391,
          392,
          393,
          394,
          395,
          396,
          397,
          398,
          399,
          400,
          401,
          402,
          403,
          404,
          405,
          406,
          407,
          408,
          409,
          410,
          411,
          412,
          413,
          414,
          415,
          416,
          417,
          418,
          419,
          420,
          421,
          422,
          423,
          424,
          425,
          426,
          427,
          428,
          429,
          430,
          431,
          432,
          433,
          434,
          435,
          436,
          437,
          438,
          439,
          440,
          441,
          442,
          443,
          444,
          445,
          446,
          447,
          448,
          449,
          450,
          451,
          452,
          453,
          454,
          455,
          456,
          457,
          458,
          459,
          460,
          461,
          462,
          463,
          464,
          465,
          466,
          467,
          468,
          469,
          470,
          471,
          472,
          473,
          474,
          475,
          476,
          477,
          478,
          479,
          480,
          481,
          482,
          483,
          484,
          485,
          486,
          487,
          488,
          489,
          490,
          491,
          492,
          493,
          494,
          495,
          496,
          497,
          498,
          499,
          500,
          501,
          502,
          503,
          504,
          505,
          506,
          507,
          508,
          509,
          510,
          511,
          512,
          513,
          514,
          515,
          516,
          517,
          518,
          519,
          520,
          521,
          522,
          523,
          524,
          525,
          526,
          527,
          528,
          529,
          530,
          531,
          532,
          533,
          534,
          535,
          536,
          537,
          538,
          539,
          540,
          541,
          542,
          543,
          544,
          545,
          546,
          547,
          548,
          549,
          550,
          551,
          552,
          553,
          554,
          555,
          556,
          557,
          558,
          559,
          560,
          561,
          562,
          563
         ],
         "y": [
          0.17175292696425382,
          0.1388225930658535,
          0.1948455701908811,
          0.21677204620028326,
          0.16623360556626884,
          0.18846247076521289,
          0.11311916991549031,
          0.19834269442583125,
          0.18855759505934233,
          0.17841310072866762,
          0.3078569027787535,
          0.21532941744990708,
          0.09873931255445342,
          0.20906136616770307,
          0.06948252925338605,
          0.22071376328993558,
          -0.029715499172552094,
          0.09812799225814475,
          0.21015716511473484,
          0.23618455461522353,
          0.22970663911858033,
          0.18410829291120023,
          0.21162522514998727,
          0.24813798022630945,
          0.25389473218027375,
          0.2515319595893808,
          0.06961665217386859,
          0.21414469470180272,
          0.1805276868316194,
          0.09486805665282051,
          -0.022812427290572965,
          0.10254679612533898,
          0.21836350367932553,
          0.14461453464663698,
          0.2084516661786912,
          0.2699679278624931,
          0.2167449701056716,
          -0.0334833925957311,
          0.21426827904336473,
          0.24682261566027003,
          0.21058633689780745,
          0.14108918570037368,
          0.22384131297833518,
          0.14056735012459218,
          0.11793944612108119,
          0.19560727778380713,
          0.27174158970523565,
          0.11741494656358421,
          0.21091049797242145,
          0.28087225433881363,
          0.22466332258659646,
          0.09872489732144184,
          0.09886704138385938,
          0.09496451420015038,
          0.22654190044149303,
          0.1938516964123294,
          0.21374971409287388,
          0.17323240640460164,
          0.17614876108237512,
          0.2389298669391004,
          0.2217677130869345,
          0.24075804338935508,
          -0.030231283323214696,
          0.09091674048957635,
          -0.08239087580357114,
          0.07839000682596495,
          0.10289628524471547,
          0.26969226976895827,
          0.31743544608997176,
          0.13936155768306493,
          0.19897127754025146,
          0.20072415837959048,
          -0.06265078179475872,
          0.2158188648056509,
          0.2649050821315838,
          0.09094460052350888,
          0.21200407884501063,
          0.2566808784895732,
          0.1674314056840754,
          0.2968016387301919,
          0.1366320676494199,
          0.24979981561536083,
          0.22752713081380457,
          0.2348723841953426,
          0.22812831277133463,
          0.27304834397164834,
          0.17800986045658004,
          0.29963714288261095,
          0.3111008823995036,
          0.276315840336419,
          0.21856175015523494,
          -0.023831813558482406,
          0.231576238313741,
          -0.030876749706770495,
          0.1145895818258767,
          0.2634458206322358,
          0.13316424739894722,
          0.1329541519919237,
          0.22549664646672216,
          0.19875159184415447,
          0.10111812299821565,
          0.07320991885101383,
          0.22210175733628246,
          0.2957077119772019,
          0.22976164200285482,
          0.23278151670430774,
          0.20956416505957742,
          0.22559100766335494,
          0.27856625732457635,
          0.07069191317819115,
          0.09504569869561634,
          0.19922371049457122,
          0.196410318433803,
          0.09305661787995148,
          0.3147094992631531,
          0.20985258490473468,
          0.31822712545068726,
          0.22630707327180563,
          0.2287707838023326,
          0.19496678719138819,
          0.22331138847926238,
          0.21851579441455476,
          0.1956744505471067,
          0.2761771540991409,
          0.2204432489905599,
          0.20220076809690685,
          0.2886543897087569,
          0.20393745954718487,
          0.28540695036233754,
          0.09085432370969374,
          0.2160250602665076,
          0.20797952730095992,
          0.23310017296468036,
          0.09899052449072719,
          0.21254695351791691,
          -0.05911258834084213,
          0.20801309391050707,
          0.2676493689407038,
          0.11264429767756334,
          0.1967890223976559,
          0.11859816979785294,
          0.21683362500750666,
          0.16680502771062541,
          -0.04925136313433679,
          0.23184491255447437,
          0.14042893878949614,
          0.18162976043673765,
          0.13191019730472334,
          0.22732873283454208,
          0.24661622047773735,
          0.21568802472631102,
          0.10952185145565373,
          0.18376738726446137,
          0.22358088256642555,
          0.10267047913567233,
          0.21790523388995023,
          0.23725659034457208,
          0.23750709153153413,
          0.20219565746843546,
          0.2902840677312066,
          0.14697728640378208,
          -0.02687813332147589,
          0.21272860516762745,
          0.10918841888500454,
          0.3259482462127918,
          0.2275841910740832,
          0.2681785448641451,
          0.09706250292237234,
          0.20985926303968216,
          0.19212855042748433,
          0.11686667142913174,
          0.199185263256836,
          0.18836013862306386,
          0.10857757906695915,
          0.2150857133226854,
          0.27293231304623516,
          0.3182748861214548,
          0.11270801235541478,
          0.21132162687318923,
          0.16347071921300202,
          -0.030621078524748623,
          0.23257960938508243,
          0.19626963187014346,
          0.0915208471610606,
          -0.016298366200113407,
          0.29669813240890386,
          0.23976767447195255,
          0.1697760196296599,
          0.23860333303041256,
          0.20558162647228506,
          0.0981343668730781,
          0.08022872535152419,
          0.1418041492012991,
          0.2264565480932539,
          0.22453083174979663,
          0.25251611386329675,
          0.2200128684770546,
          0.10409129775199855,
          0.22912596836153518,
          0.17612529867733853,
          0.18250456668768203,
          0.19263265098259938,
          0.2512227138973177,
          0.2758895729236977,
          0.22294518268874425,
          0.09551339445868684,
          -0.08294648062603927,
          0.20455579226853687,
          0.234678777591796,
          0.16818915790111086,
          0.06321305023050881,
          0.23197793207987177,
          0.1802034457357055,
          0.06825570122385721,
          0.13501126252199244,
          0.15877613780085703,
          0.07545776728636963,
          0.21654247172115174,
          0.22379086477033383,
          0.07642061509936159,
          0.13580958222379588,
          0.31928555206321674,
          0.19665454922777725,
          0.20907203810805672,
          0.14104907539596864,
          0.243031962820344,
          -0.007582569482589042,
          0.20864708256990047,
          0.21430457206998513,
          -0.015151996902997863,
          0.2907546099019134,
          0.17260440299568217,
          0.2751025553576139,
          0.10286699431471492,
          0.09701012391225844,
          0.21873814987173637,
          0.2212022862477137,
          0.20999117576803136,
          0.21650226222998334,
          0.10019424082530776,
          0.21620612740220105,
          0.21360291146805263,
          0.1427903097744415,
          0.2247417945402502,
          -0.05486346423022238,
          0.21557424431767747,
          0.24481442041327722,
          0.1039207836428123,
          0.11241444109781788,
          0.22475110827177092,
          0.14102155661707308,
          0.28306918000557424,
          0.2427179058351896,
          0.3183925300800726,
          0.0994607852775052,
          0.31377504571036813,
          0.2425399247930985,
          -0.03399823489656631,
          0.1899034010853217,
          0.1021382673898484,
          0.2066721234227402,
          0.09243493320369989,
          0.19645757414456683,
          0.3261052760175957,
          0.21005695240581482,
          0.0995062255412075,
          0.21983167814339338,
          0.23734976291067406,
          0.2625440815009822,
          0.15673986218642277,
          0.1321529183675348,
          0.2075029996310812,
          0.22695387024738226,
          0.20940426596539882,
          0.1720571217725894,
          0.30313775733199816,
          0.09424707008883966,
          0.2734813638408023,
          0.21203050602589357,
          0.29155525121385156,
          0.22844185855186655,
          0.2125009047669211,
          0.21092548298212646,
          0.19849389089656638,
          0.09361973624175281,
          0.19159499680342088,
          -0.05931619541648487,
          0.1094179173549058,
          -0.08186772730270318,
          0.1315482799330356,
          0.18122073762182864,
          0.171646222911104,
          0.17596369566297773,
          0.2128224319150229,
          0.21167667797614162,
          0.24062120029899992,
          0.2144556377914505,
          0.22454721923989063,
          0.22721667105757282,
          0.30091614553556095,
          -0.05762097384477836,
          0.09558401850736503,
          0.11316951398044589,
          -0.01464519752048121,
          0.16355012423013224,
          0.21011766970753976,
          0.19661220274692948,
          0.22276555884883717,
          0.20961434795483727,
          0.23673626507879297,
          0.19493451529550396,
          0.08816075246700494,
          0.24162526731474968,
          0.22856076807028447,
          0.20116219682872563,
          0.23903682363553233,
          0.19378182539264993,
          0.24774501477736316,
          0.2449844861952434,
          0.10924971430915503,
          0.24490304991511633,
          0.31907173310468256,
          0.21247344944887217,
          0.21044039634430595,
          0.23173099475640482,
          0.1924674539056246,
          0.09311050147926161,
          0.11358239786111961,
          0.2094408679472247,
          0.19226163511094885,
          0.196809696289389,
          0.27398306815032847,
          0.16394220745522375,
          0.28628832526954456,
          0.19974087781701558,
          0.28924523962407633,
          0.08006487469505028,
          0.2369653584557514,
          0.17190647794705974,
          0.16867328111389476,
          0.21080337799219084,
          0.23415745143283706,
          0.07729077088463492,
          0.11132006999568869,
          0.18149757154057136,
          0.19730477075913896,
          -0.03139683938613452,
          0.18290177184172876,
          0.20956196528857426,
          0.20228190537330165,
          0.30712813838518993,
          0.22344955165307626,
          0.20955732888490491,
          0.22756128670940245,
          0.2480580562871238,
          0.11148874035347175,
          0.2155515143108974,
          -0.04502588892445668,
          0.1347633742121735,
          0.14481017971529606,
          0.22856590527014642,
          -0.019223092299296696,
          0.21481577261945264,
          0.2961941920393505,
          0.2151649536340237,
          0.2102868334588099,
          0.2653319638114333,
          0.04612034835458163,
          0.19785263809414347,
          0.19231365833681444,
          0.11302402151575348,
          0.18178070864608378,
          0.21460641960200463,
          0.21193958833450569,
          0.22658650737792987,
          0.11749236795135438,
          0.2295385529262824,
          0.2214585089844657,
          0.3128717389341725,
          0.1745333697901088,
          0.11750820004151734,
          0.2324163207366659,
          0.2090785323054822,
          0.21704376022758654,
          0.17977686400386164,
          0.08695613044704038,
          0.08843464845530669,
          0.215378301496477,
          0.2436127200119154,
          0.2617011776721078,
          0.21445532656116695,
          0.25330937380016216,
          0.21175390481849468,
          0.08180539314196135,
          -0.029953397672572456,
          0.23676369658582333,
          0.11272540248994514,
          0.22470846015130638,
          0.16888341266893106,
          0.2407382365978218,
          0.22753540402833491,
          0.20459536026480765,
          0.2258019704538085,
          0.2213183783665978,
          0.08765312523934317,
          0.20399921941899202,
          0.19864533623824351,
          -0.028615551645696395,
          0.0984660908545465,
          0.2770905516881381,
          0.09922255033081558,
          0.11970119212482995,
          0.11180237523736207,
          0.21122392856581873,
          0.19717112272136209,
          0.15477703904489373,
          0.21482269667400883,
          0.0765252662750142,
          0.21065196662810093,
          0.212694657846139,
          0.13769107436822056,
          -0.017268879418578017,
          0.10359730293687681,
          0.20575354918008157,
          0.08904790614931603,
          0.3167687816334287,
          0.28179458391021744,
          0.17174651491318615,
          0.20039782882476645,
          0.30411747440540055,
          0.13935911744910207,
          0.3210868161272836,
          0.20813327086045413,
          0.172476175540003,
          0.146887611159318,
          0.24105217330225318,
          0.09362821719417669,
          0.13580890636329201,
          -0.08230018260165302,
          0.24323650034327973,
          0.10697380955983918,
          0.10103988469434023,
          0.26940225739734786,
          0.19795599461486477,
          0.19535981670305688,
          0.13314806082687083,
          0.11300851780078884,
          -0.017489832953175355,
          0.20600615146316545,
          -0.028702826438350572,
          0.2103744694780644,
          0.17967179363911429,
          0.1971315932744419,
          0.25437160835359024,
          0.25874330959923286,
          0.23898293186143377,
          -0.05594794892393402,
          0.19064155104157596,
          0.19275825864120413,
          0.19383497530657662,
          0.17722365313350083,
          0.07867252475670201,
          0.045879426889373985,
          0.2101853795655396,
          0.17176771213401132,
          0.0324624639009268,
          0.27959234623285684,
          0.19058065466238042,
          0.23964478216516516,
          0.19213454095512672,
          0.11670787011617038,
          0.19186158710973136,
          0.19631360644550783,
          0.2867103776112655,
          0.21082591713165763,
          0.22093384647897035,
          0.23778546584941712,
          -0.045720980381234295,
          0.24459678075544594,
          0.22097006966787347,
          -0.05560009944767034,
          0.2723835233887848,
          0.1674816762988194,
          0.11375007653915184,
          0.18575339762309068,
          0.32351185480355926,
          0.31556652629944293,
          0.2150923105740436,
          0.27599095290350606,
          0.20772731283071436,
          0.213633356131862,
          0.143987913010152,
          0.1843741470834294,
          0.27401573157695797,
          0.2198970638728629,
          -0.01722000425438208,
          0.21496469698805826,
          0.30519570017422315,
          0.19552022534919578,
          0.20731674183533538,
          0.13302652575761692,
          0.1784788599714254,
          0.19198432313137256,
          0.246001740495076,
          0.2058451080076345,
          0.1766851758326939,
          0.2911340520606258,
          0.20276905006529372,
          0.11742663607429835,
          0.22077221453329737,
          0.10772494674989128,
          0.03454811129695838,
          0.17335836889704498,
          0.31349125353298213,
          0.19347643074348053,
          0.1929875175329715,
          0.23786985259003807,
          0.2220741232353211,
          0.16132625339991716,
          0.23384112711828609,
          0.15562429423366614,
          0.22169911216962418,
          0.13624737044528848,
          0.29134065171055756,
          0.21770550056610097,
          0.18440157281259084,
          0.09667285194630924,
          0.16324427703578898,
          0.11270124459477877,
          0.2676772180812111,
          0.29241451042273214,
          0.07858319638802301,
          0.17534455775534977,
          0.1113490671771923,
          0.08172339480596201,
          0.21958205868680675,
          0.1782029326065779,
          0.18925752405407675,
          0.278572669375644,
          -0.027058404366164475,
          0.1857911503186434,
          0.21070824431372953,
          0.24120657627445297,
          0.22317912178646385,
          0.22512511840432245,
          0.24321303846474768,
          0.2148139266334292,
          0.30057357465877493,
          0.2234762300236026,
          0.2156250910111651,
          0.21512820570075725,
          -0.033760721272237754,
          0.11732260729663171,
          0.10191331765702658,
          0.11170528311952561,
          0.21479353631699555,
          0.20545499387940042,
          0.23698570066153574,
          0.21107982549497548,
          0.23469680363025267,
          0.09786667641922671,
          0.11745463346160169,
          0.21223228279860976,
          0.21824421536507485
         ]
        },
        {
         "mode": "lines",
         "name": "Best Value",
         "type": "scatter",
         "x": [
          0,
          1,
          2,
          3,
          4,
          5,
          6,
          7,
          8,
          9,
          10,
          11,
          12,
          13,
          14,
          15,
          16,
          17,
          18,
          19,
          20,
          21,
          22,
          23,
          24,
          25,
          26,
          27,
          28,
          29,
          30,
          31,
          32,
          33,
          34,
          35,
          36,
          37,
          38,
          39,
          40,
          41,
          42,
          43,
          44,
          45,
          46,
          47,
          48,
          49,
          50,
          51,
          52,
          53,
          54,
          55,
          56,
          57,
          58,
          59,
          60,
          61,
          62,
          63,
          64,
          65,
          66,
          67,
          68,
          69,
          70,
          71,
          72,
          73,
          74,
          75,
          76,
          77,
          78,
          79,
          80,
          81,
          82,
          83,
          84,
          85,
          86,
          87,
          88,
          89,
          90,
          91,
          92,
          93,
          94,
          95,
          96,
          97,
          98,
          99,
          100,
          101,
          102,
          103,
          104,
          105,
          106,
          107,
          108,
          109,
          110,
          111,
          112,
          113,
          114,
          115,
          116,
          117,
          118,
          119,
          120,
          121,
          122,
          123,
          124,
          125,
          126,
          127,
          128,
          129,
          130,
          131,
          132,
          133,
          134,
          135,
          136,
          137,
          138,
          139,
          140,
          141,
          142,
          143,
          144,
          145,
          146,
          147,
          148,
          149,
          150,
          151,
          152,
          153,
          154,
          155,
          156,
          157,
          158,
          159,
          160,
          161,
          162,
          163,
          164,
          165,
          166,
          167,
          168,
          169,
          170,
          171,
          172,
          173,
          174,
          175,
          176,
          177,
          178,
          179,
          180,
          181,
          182,
          183,
          184,
          185,
          186,
          187,
          188,
          189,
          190,
          191,
          192,
          193,
          194,
          195,
          196,
          197,
          198,
          199,
          200,
          201,
          202,
          203,
          204,
          205,
          206,
          207,
          208,
          209,
          210,
          211,
          212,
          213,
          214,
          215,
          216,
          217,
          218,
          219,
          220,
          221,
          222,
          223,
          224,
          225,
          226,
          227,
          228,
          229,
          230,
          231,
          232,
          233,
          234,
          235,
          236,
          237,
          238,
          239,
          240,
          241,
          242,
          243,
          244,
          245,
          246,
          247,
          248,
          249,
          250,
          251,
          252,
          253,
          254,
          255,
          256,
          257,
          258,
          259,
          260,
          261,
          262,
          263,
          264,
          265,
          266,
          267,
          268,
          269,
          270,
          271,
          272,
          273,
          274,
          275,
          276,
          277,
          278,
          279,
          280,
          281,
          282,
          283,
          284,
          285,
          286,
          287,
          288,
          289,
          290,
          291,
          292,
          293,
          294,
          295,
          296,
          297,
          298,
          299,
          300,
          301,
          302,
          303,
          304,
          305,
          306,
          307,
          308,
          309,
          310,
          311,
          312,
          313,
          314,
          315,
          316,
          317,
          318,
          319,
          320,
          321,
          322,
          323,
          324,
          325,
          326,
          327,
          328,
          329,
          330,
          331,
          332,
          333,
          334,
          335,
          336,
          337,
          338,
          339,
          340,
          341,
          342,
          343,
          344,
          345,
          346,
          347,
          348,
          349,
          350,
          351,
          352,
          353,
          354,
          355,
          356,
          357,
          358,
          359,
          360,
          361,
          362,
          363,
          364,
          365,
          366,
          367,
          368,
          369,
          370,
          371,
          372,
          373,
          374,
          375,
          376,
          377,
          378,
          379,
          380,
          381,
          382,
          383,
          384,
          385,
          386,
          387,
          388,
          389,
          390,
          391,
          392,
          393,
          394,
          395,
          396,
          397,
          398,
          399,
          400,
          401,
          402,
          403,
          404,
          405,
          406,
          407,
          408,
          409,
          410,
          411,
          412,
          413,
          414,
          415,
          416,
          417,
          418,
          419,
          420,
          421,
          422,
          423,
          424,
          425,
          426,
          427,
          428,
          429,
          430,
          431,
          432,
          433,
          434,
          435,
          436,
          437,
          438,
          439,
          440,
          441,
          442,
          443,
          444,
          445,
          446,
          447,
          448,
          449,
          450,
          451,
          452,
          453,
          454,
          455,
          456,
          457,
          458,
          459,
          460,
          461,
          462,
          463,
          464,
          465,
          466,
          467,
          468,
          469,
          470,
          471,
          472,
          473,
          474,
          475,
          476,
          477,
          478,
          479,
          480,
          481,
          482,
          483,
          484,
          485,
          486,
          487,
          488,
          489,
          490,
          491,
          492,
          493,
          494,
          495,
          496,
          497,
          498,
          499,
          500,
          501,
          502,
          503,
          504,
          505,
          506,
          507,
          508,
          509,
          510,
          511,
          512,
          513,
          514,
          515,
          516,
          517,
          518,
          519,
          520,
          521,
          522,
          523,
          524,
          525,
          526,
          527,
          528,
          529,
          530,
          531,
          532,
          533,
          534,
          535,
          536,
          537,
          538,
          539,
          540,
          541,
          542,
          543,
          544,
          545,
          546,
          547,
          548,
          549,
          550,
          551,
          552,
          553,
          554,
          555,
          556,
          557,
          558,
          559,
          560,
          561,
          562,
          563
         ],
         "y": [
          0.17175292696425382,
          0.17175292696425382,
          0.1948455701908811,
          0.21677204620028326,
          0.21677204620028326,
          0.21677204620028326,
          0.21677204620028326,
          0.21677204620028326,
          0.21677204620028326,
          0.21677204620028326,
          0.3078569027787535,
          0.3078569027787535,
          0.3078569027787535,
          0.3078569027787535,
          0.3078569027787535,
          0.3078569027787535,
          0.3078569027787535,
          0.3078569027787535,
          0.3078569027787535,
          0.3078569027787535,
          0.3078569027787535,
          0.3078569027787535,
          0.3078569027787535,
          0.3078569027787535,
          0.3078569027787535,
          0.3078569027787535,
          0.3078569027787535,
          0.3078569027787535,
          0.3078569027787535,
          0.3078569027787535,
          0.3078569027787535,
          0.3078569027787535,
          0.3078569027787535,
          0.3078569027787535,
          0.3078569027787535,
          0.3078569027787535,
          0.3078569027787535,
          0.3078569027787535,
          0.3078569027787535,
          0.3078569027787535,
          0.3078569027787535,
          0.3078569027787535,
          0.3078569027787535,
          0.3078569027787535,
          0.3078569027787535,
          0.3078569027787535,
          0.3078569027787535,
          0.3078569027787535,
          0.3078569027787535,
          0.3078569027787535,
          0.3078569027787535,
          0.3078569027787535,
          0.3078569027787535,
          0.3078569027787535,
          0.3078569027787535,
          0.3078569027787535,
          0.3078569027787535,
          0.3078569027787535,
          0.3078569027787535,
          0.3078569027787535,
          0.3078569027787535,
          0.3078569027787535,
          0.3078569027787535,
          0.3078569027787535,
          0.3078569027787535,
          0.3078569027787535,
          0.3078569027787535,
          0.3078569027787535,
          0.31743544608997176,
          0.31743544608997176,
          0.31743544608997176,
          0.31743544608997176,
          0.31743544608997176,
          0.31743544608997176,
          0.31743544608997176,
          0.31743544608997176,
          0.31743544608997176,
          0.31743544608997176,
          0.31743544608997176,
          0.31743544608997176,
          0.31743544608997176,
          0.31743544608997176,
          0.31743544608997176,
          0.31743544608997176,
          0.31743544608997176,
          0.31743544608997176,
          0.31743544608997176,
          0.31743544608997176,
          0.31743544608997176,
          0.31743544608997176,
          0.31743544608997176,
          0.31743544608997176,
          0.31743544608997176,
          0.31743544608997176,
          0.31743544608997176,
          0.31743544608997176,
          0.31743544608997176,
          0.31743544608997176,
          0.31743544608997176,
          0.31743544608997176,
          0.31743544608997176,
          0.31743544608997176,
          0.31743544608997176,
          0.31743544608997176,
          0.31743544608997176,
          0.31743544608997176,
          0.31743544608997176,
          0.31743544608997176,
          0.31743544608997176,
          0.31743544608997176,
          0.31743544608997176,
          0.31743544608997176,
          0.31743544608997176,
          0.31743544608997176,
          0.31743544608997176,
          0.31743544608997176,
          0.31822712545068726,
          0.31822712545068726,
          0.31822712545068726,
          0.31822712545068726,
          0.31822712545068726,
          0.31822712545068726,
          0.31822712545068726,
          0.31822712545068726,
          0.31822712545068726,
          0.31822712545068726,
          0.31822712545068726,
          0.31822712545068726,
          0.31822712545068726,
          0.31822712545068726,
          0.31822712545068726,
          0.31822712545068726,
          0.31822712545068726,
          0.31822712545068726,
          0.31822712545068726,
          0.31822712545068726,
          0.31822712545068726,
          0.31822712545068726,
          0.31822712545068726,
          0.31822712545068726,
          0.31822712545068726,
          0.31822712545068726,
          0.31822712545068726,
          0.31822712545068726,
          0.31822712545068726,
          0.31822712545068726,
          0.31822712545068726,
          0.31822712545068726,
          0.31822712545068726,
          0.31822712545068726,
          0.31822712545068726,
          0.31822712545068726,
          0.31822712545068726,
          0.31822712545068726,
          0.31822712545068726,
          0.31822712545068726,
          0.31822712545068726,
          0.31822712545068726,
          0.31822712545068726,
          0.31822712545068726,
          0.31822712545068726,
          0.31822712545068726,
          0.31822712545068726,
          0.31822712545068726,
          0.3259482462127918,
          0.3259482462127918,
          0.3259482462127918,
          0.3259482462127918,
          0.3259482462127918,
          0.3259482462127918,
          0.3259482462127918,
          0.3259482462127918,
          0.3259482462127918,
          0.3259482462127918,
          0.3259482462127918,
          0.3259482462127918,
          0.3259482462127918,
          0.3259482462127918,
          0.3259482462127918,
          0.3259482462127918,
          0.3259482462127918,
          0.3259482462127918,
          0.3259482462127918,
          0.3259482462127918,
          0.3259482462127918,
          0.3259482462127918,
          0.3259482462127918,
          0.3259482462127918,
          0.3259482462127918,
          0.3259482462127918,
          0.3259482462127918,
          0.3259482462127918,
          0.3259482462127918,
          0.3259482462127918,
          0.3259482462127918,
          0.3259482462127918,
          0.3259482462127918,
          0.3259482462127918,
          0.3259482462127918,
          0.3259482462127918,
          0.3259482462127918,
          0.3259482462127918,
          0.3259482462127918,
          0.3259482462127918,
          0.3259482462127918,
          0.3259482462127918,
          0.3259482462127918,
          0.3259482462127918,
          0.3259482462127918,
          0.3259482462127918,
          0.3259482462127918,
          0.3259482462127918,
          0.3259482462127918,
          0.3259482462127918,
          0.3259482462127918,
          0.3259482462127918,
          0.3259482462127918,
          0.3259482462127918,
          0.3259482462127918,
          0.3259482462127918,
          0.3259482462127918,
          0.3259482462127918,
          0.3259482462127918,
          0.3259482462127918,
          0.3259482462127918,
          0.3259482462127918,
          0.3259482462127918,
          0.3259482462127918,
          0.3259482462127918,
          0.3259482462127918,
          0.3259482462127918,
          0.3259482462127918,
          0.3259482462127918,
          0.3259482462127918,
          0.3259482462127918,
          0.3259482462127918,
          0.3259482462127918,
          0.3259482462127918,
          0.3259482462127918,
          0.3259482462127918,
          0.3259482462127918,
          0.3259482462127918,
          0.3259482462127918,
          0.3259482462127918,
          0.3259482462127918,
          0.3259482462127918,
          0.3259482462127918,
          0.3259482462127918,
          0.3259482462127918,
          0.3259482462127918,
          0.3259482462127918,
          0.3259482462127918,
          0.3259482462127918,
          0.3259482462127918,
          0.3259482462127918,
          0.3259482462127918,
          0.3259482462127918,
          0.3259482462127918,
          0.3259482462127918,
          0.3259482462127918,
          0.3259482462127918,
          0.3259482462127918,
          0.3259482462127918,
          0.3261052760175957,
          0.3261052760175957,
          0.3261052760175957,
          0.3261052760175957,
          0.3261052760175957,
          0.3261052760175957,
          0.3261052760175957,
          0.3261052760175957,
          0.3261052760175957,
          0.3261052760175957,
          0.3261052760175957,
          0.3261052760175957,
          0.3261052760175957,
          0.3261052760175957,
          0.3261052760175957,
          0.3261052760175957,
          0.3261052760175957,
          0.3261052760175957,
          0.3261052760175957,
          0.3261052760175957,
          0.3261052760175957,
          0.3261052760175957,
          0.3261052760175957,
          0.3261052760175957,
          0.3261052760175957,
          0.3261052760175957,
          0.3261052760175957,
          0.3261052760175957,
          0.3261052760175957,
          0.3261052760175957,
          0.3261052760175957,
          0.3261052760175957,
          0.3261052760175957,
          0.3261052760175957,
          0.3261052760175957,
          0.3261052760175957,
          0.3261052760175957,
          0.3261052760175957,
          0.3261052760175957,
          0.3261052760175957,
          0.3261052760175957,
          0.3261052760175957,
          0.3261052760175957,
          0.3261052760175957,
          0.3261052760175957,
          0.3261052760175957,
          0.3261052760175957,
          0.3261052760175957,
          0.3261052760175957,
          0.3261052760175957,
          0.3261052760175957,
          0.3261052760175957,
          0.3261052760175957,
          0.3261052760175957,
          0.3261052760175957,
          0.3261052760175957,
          0.3261052760175957,
          0.3261052760175957,
          0.3261052760175957,
          0.3261052760175957,
          0.3261052760175957,
          0.3261052760175957,
          0.3261052760175957,
          0.3261052760175957,
          0.3261052760175957,
          0.3261052760175957,
          0.3261052760175957,
          0.3261052760175957,
          0.3261052760175957,
          0.3261052760175957,
          0.3261052760175957,
          0.3261052760175957,
          0.3261052760175957,
          0.3261052760175957,
          0.3261052760175957,
          0.3261052760175957,
          0.3261052760175957,
          0.3261052760175957,
          0.3261052760175957,
          0.3261052760175957,
          0.3261052760175957,
          0.3261052760175957,
          0.3261052760175957,
          0.3261052760175957,
          0.3261052760175957,
          0.3261052760175957,
          0.3261052760175957,
          0.3261052760175957,
          0.3261052760175957,
          0.3261052760175957,
          0.3261052760175957,
          0.3261052760175957,
          0.3261052760175957,
          0.3261052760175957,
          0.3261052760175957,
          0.3261052760175957,
          0.3261052760175957,
          0.3261052760175957,
          0.3261052760175957,
          0.3261052760175957,
          0.3261052760175957,
          0.3261052760175957,
          0.3261052760175957,
          0.3261052760175957,
          0.3261052760175957,
          0.3261052760175957,
          0.3261052760175957,
          0.3261052760175957,
          0.3261052760175957,
          0.3261052760175957,
          0.3261052760175957,
          0.3261052760175957,
          0.3261052760175957,
          0.3261052760175957,
          0.3261052760175957,
          0.3261052760175957,
          0.3261052760175957,
          0.3261052760175957,
          0.3261052760175957,
          0.3261052760175957,
          0.3261052760175957,
          0.3261052760175957,
          0.3261052760175957,
          0.3261052760175957,
          0.3261052760175957,
          0.3261052760175957,
          0.3261052760175957,
          0.3261052760175957,
          0.3261052760175957,
          0.3261052760175957,
          0.3261052760175957,
          0.3261052760175957,
          0.3261052760175957,
          0.3261052760175957,
          0.3261052760175957,
          0.3261052760175957,
          0.3261052760175957,
          0.3261052760175957,
          0.3261052760175957,
          0.3261052760175957,
          0.3261052760175957,
          0.3261052760175957,
          0.3261052760175957,
          0.3261052760175957,
          0.3261052760175957,
          0.3261052760175957,
          0.3261052760175957,
          0.3261052760175957,
          0.3261052760175957,
          0.3261052760175957,
          0.3261052760175957,
          0.3261052760175957,
          0.3261052760175957,
          0.3261052760175957,
          0.3261052760175957,
          0.3261052760175957,
          0.3261052760175957,
          0.3261052760175957,
          0.3261052760175957,
          0.3261052760175957,
          0.3261052760175957,
          0.3261052760175957,
          0.3261052760175957,
          0.3261052760175957,
          0.3261052760175957,
          0.3261052760175957,
          0.3261052760175957,
          0.3261052760175957,
          0.3261052760175957,
          0.3261052760175957,
          0.3261052760175957,
          0.3261052760175957,
          0.3261052760175957,
          0.3261052760175957,
          0.3261052760175957,
          0.3261052760175957,
          0.3261052760175957,
          0.3261052760175957,
          0.3261052760175957,
          0.3261052760175957,
          0.3261052760175957,
          0.3261052760175957,
          0.3261052760175957,
          0.3261052760175957,
          0.3261052760175957,
          0.3261052760175957,
          0.3261052760175957,
          0.3261052760175957,
          0.3261052760175957,
          0.3261052760175957,
          0.3261052760175957,
          0.3261052760175957,
          0.3261052760175957,
          0.3261052760175957,
          0.3261052760175957,
          0.3261052760175957,
          0.3261052760175957,
          0.3261052760175957,
          0.3261052760175957,
          0.3261052760175957,
          0.3261052760175957,
          0.3261052760175957,
          0.3261052760175957,
          0.3261052760175957,
          0.3261052760175957,
          0.3261052760175957,
          0.3261052760175957,
          0.3261052760175957,
          0.3261052760175957,
          0.3261052760175957,
          0.3261052760175957,
          0.3261052760175957,
          0.3261052760175957,
          0.3261052760175957,
          0.3261052760175957,
          0.3261052760175957,
          0.3261052760175957,
          0.3261052760175957,
          0.3261052760175957,
          0.3261052760175957,
          0.3261052760175957,
          0.3261052760175957,
          0.3261052760175957,
          0.3261052760175957,
          0.3261052760175957,
          0.3261052760175957,
          0.3261052760175957,
          0.3261052760175957,
          0.3261052760175957,
          0.3261052760175957,
          0.3261052760175957,
          0.3261052760175957,
          0.3261052760175957,
          0.3261052760175957,
          0.3261052760175957,
          0.3261052760175957,
          0.3261052760175957,
          0.3261052760175957,
          0.3261052760175957,
          0.3261052760175957,
          0.3261052760175957,
          0.3261052760175957,
          0.3261052760175957,
          0.3261052760175957,
          0.3261052760175957,
          0.3261052760175957,
          0.3261052760175957,
          0.3261052760175957,
          0.3261052760175957,
          0.3261052760175957,
          0.3261052760175957,
          0.3261052760175957,
          0.3261052760175957,
          0.3261052760175957,
          0.3261052760175957,
          0.3261052760175957,
          0.3261052760175957,
          0.3261052760175957,
          0.3261052760175957,
          0.3261052760175957,
          0.3261052760175957,
          0.3261052760175957,
          0.3261052760175957,
          0.3261052760175957,
          0.3261052760175957,
          0.3261052760175957,
          0.3261052760175957,
          0.3261052760175957,
          0.3261052760175957,
          0.3261052760175957,
          0.3261052760175957,
          0.3261052760175957,
          0.3261052760175957,
          0.3261052760175957,
          0.3261052760175957,
          0.3261052760175957,
          0.3261052760175957,
          0.3261052760175957,
          0.3261052760175957,
          0.3261052760175957,
          0.3261052760175957,
          0.3261052760175957,
          0.3261052760175957,
          0.3261052760175957,
          0.3261052760175957,
          0.3261052760175957,
          0.3261052760175957,
          0.3261052760175957,
          0.3261052760175957,
          0.3261052760175957,
          0.3261052760175957,
          0.3261052760175957,
          0.3261052760175957,
          0.3261052760175957,
          0.3261052760175957,
          0.3261052760175957,
          0.3261052760175957,
          0.3261052760175957,
          0.3261052760175957,
          0.3261052760175957,
          0.3261052760175957
         ]
        },
        {
         "marker": {
          "color": "#cccccc"
         },
         "mode": "markers",
         "name": "Infeasible Trial",
         "showlegend": false,
         "type": "scatter",
         "x": [],
         "y": []
        }
       ],
       "layout": {
        "template": {
         "data": {
          "bar": [
           {
            "error_x": {
             "color": "#2a3f5f"
            },
            "error_y": {
             "color": "#2a3f5f"
            },
            "marker": {
             "line": {
              "color": "#E5ECF6",
              "width": 0.5
             },
             "pattern": {
              "fillmode": "overlay",
              "size": 10,
              "solidity": 0.2
             }
            },
            "type": "bar"
           }
          ],
          "barpolar": [
           {
            "marker": {
             "line": {
              "color": "#E5ECF6",
              "width": 0.5
             },
             "pattern": {
              "fillmode": "overlay",
              "size": 10,
              "solidity": 0.2
             }
            },
            "type": "barpolar"
           }
          ],
          "carpet": [
           {
            "aaxis": {
             "endlinecolor": "#2a3f5f",
             "gridcolor": "white",
             "linecolor": "white",
             "minorgridcolor": "white",
             "startlinecolor": "#2a3f5f"
            },
            "baxis": {
             "endlinecolor": "#2a3f5f",
             "gridcolor": "white",
             "linecolor": "white",
             "minorgridcolor": "white",
             "startlinecolor": "#2a3f5f"
            },
            "type": "carpet"
           }
          ],
          "choropleth": [
           {
            "colorbar": {
             "outlinewidth": 0,
             "ticks": ""
            },
            "type": "choropleth"
           }
          ],
          "contour": [
           {
            "colorbar": {
             "outlinewidth": 0,
             "ticks": ""
            },
            "colorscale": [
             [
              0,
              "#0d0887"
             ],
             [
              0.1111111111111111,
              "#46039f"
             ],
             [
              0.2222222222222222,
              "#7201a8"
             ],
             [
              0.3333333333333333,
              "#9c179e"
             ],
             [
              0.4444444444444444,
              "#bd3786"
             ],
             [
              0.5555555555555556,
              "#d8576b"
             ],
             [
              0.6666666666666666,
              "#ed7953"
             ],
             [
              0.7777777777777778,
              "#fb9f3a"
             ],
             [
              0.8888888888888888,
              "#fdca26"
             ],
             [
              1,
              "#f0f921"
             ]
            ],
            "type": "contour"
           }
          ],
          "contourcarpet": [
           {
            "colorbar": {
             "outlinewidth": 0,
             "ticks": ""
            },
            "type": "contourcarpet"
           }
          ],
          "heatmap": [
           {
            "colorbar": {
             "outlinewidth": 0,
             "ticks": ""
            },
            "colorscale": [
             [
              0,
              "#0d0887"
             ],
             [
              0.1111111111111111,
              "#46039f"
             ],
             [
              0.2222222222222222,
              "#7201a8"
             ],
             [
              0.3333333333333333,
              "#9c179e"
             ],
             [
              0.4444444444444444,
              "#bd3786"
             ],
             [
              0.5555555555555556,
              "#d8576b"
             ],
             [
              0.6666666666666666,
              "#ed7953"
             ],
             [
              0.7777777777777778,
              "#fb9f3a"
             ],
             [
              0.8888888888888888,
              "#fdca26"
             ],
             [
              1,
              "#f0f921"
             ]
            ],
            "type": "heatmap"
           }
          ],
          "heatmapgl": [
           {
            "colorbar": {
             "outlinewidth": 0,
             "ticks": ""
            },
            "colorscale": [
             [
              0,
              "#0d0887"
             ],
             [
              0.1111111111111111,
              "#46039f"
             ],
             [
              0.2222222222222222,
              "#7201a8"
             ],
             [
              0.3333333333333333,
              "#9c179e"
             ],
             [
              0.4444444444444444,
              "#bd3786"
             ],
             [
              0.5555555555555556,
              "#d8576b"
             ],
             [
              0.6666666666666666,
              "#ed7953"
             ],
             [
              0.7777777777777778,
              "#fb9f3a"
             ],
             [
              0.8888888888888888,
              "#fdca26"
             ],
             [
              1,
              "#f0f921"
             ]
            ],
            "type": "heatmapgl"
           }
          ],
          "histogram": [
           {
            "marker": {
             "pattern": {
              "fillmode": "overlay",
              "size": 10,
              "solidity": 0.2
             }
            },
            "type": "histogram"
           }
          ],
          "histogram2d": [
           {
            "colorbar": {
             "outlinewidth": 0,
             "ticks": ""
            },
            "colorscale": [
             [
              0,
              "#0d0887"
             ],
             [
              0.1111111111111111,
              "#46039f"
             ],
             [
              0.2222222222222222,
              "#7201a8"
             ],
             [
              0.3333333333333333,
              "#9c179e"
             ],
             [
              0.4444444444444444,
              "#bd3786"
             ],
             [
              0.5555555555555556,
              "#d8576b"
             ],
             [
              0.6666666666666666,
              "#ed7953"
             ],
             [
              0.7777777777777778,
              "#fb9f3a"
             ],
             [
              0.8888888888888888,
              "#fdca26"
             ],
             [
              1,
              "#f0f921"
             ]
            ],
            "type": "histogram2d"
           }
          ],
          "histogram2dcontour": [
           {
            "colorbar": {
             "outlinewidth": 0,
             "ticks": ""
            },
            "colorscale": [
             [
              0,
              "#0d0887"
             ],
             [
              0.1111111111111111,
              "#46039f"
             ],
             [
              0.2222222222222222,
              "#7201a8"
             ],
             [
              0.3333333333333333,
              "#9c179e"
             ],
             [
              0.4444444444444444,
              "#bd3786"
             ],
             [
              0.5555555555555556,
              "#d8576b"
             ],
             [
              0.6666666666666666,
              "#ed7953"
             ],
             [
              0.7777777777777778,
              "#fb9f3a"
             ],
             [
              0.8888888888888888,
              "#fdca26"
             ],
             [
              1,
              "#f0f921"
             ]
            ],
            "type": "histogram2dcontour"
           }
          ],
          "mesh3d": [
           {
            "colorbar": {
             "outlinewidth": 0,
             "ticks": ""
            },
            "type": "mesh3d"
           }
          ],
          "parcoords": [
           {
            "line": {
             "colorbar": {
              "outlinewidth": 0,
              "ticks": ""
             }
            },
            "type": "parcoords"
           }
          ],
          "pie": [
           {
            "automargin": true,
            "type": "pie"
           }
          ],
          "scatter": [
           {
            "fillpattern": {
             "fillmode": "overlay",
             "size": 10,
             "solidity": 0.2
            },
            "type": "scatter"
           }
          ],
          "scatter3d": [
           {
            "line": {
             "colorbar": {
              "outlinewidth": 0,
              "ticks": ""
             }
            },
            "marker": {
             "colorbar": {
              "outlinewidth": 0,
              "ticks": ""
             }
            },
            "type": "scatter3d"
           }
          ],
          "scattercarpet": [
           {
            "marker": {
             "colorbar": {
              "outlinewidth": 0,
              "ticks": ""
             }
            },
            "type": "scattercarpet"
           }
          ],
          "scattergeo": [
           {
            "marker": {
             "colorbar": {
              "outlinewidth": 0,
              "ticks": ""
             }
            },
            "type": "scattergeo"
           }
          ],
          "scattergl": [
           {
            "marker": {
             "colorbar": {
              "outlinewidth": 0,
              "ticks": ""
             }
            },
            "type": "scattergl"
           }
          ],
          "scattermapbox": [
           {
            "marker": {
             "colorbar": {
              "outlinewidth": 0,
              "ticks": ""
             }
            },
            "type": "scattermapbox"
           }
          ],
          "scatterpolar": [
           {
            "marker": {
             "colorbar": {
              "outlinewidth": 0,
              "ticks": ""
             }
            },
            "type": "scatterpolar"
           }
          ],
          "scatterpolargl": [
           {
            "marker": {
             "colorbar": {
              "outlinewidth": 0,
              "ticks": ""
             }
            },
            "type": "scatterpolargl"
           }
          ],
          "scatterternary": [
           {
            "marker": {
             "colorbar": {
              "outlinewidth": 0,
              "ticks": ""
             }
            },
            "type": "scatterternary"
           }
          ],
          "surface": [
           {
            "colorbar": {
             "outlinewidth": 0,
             "ticks": ""
            },
            "colorscale": [
             [
              0,
              "#0d0887"
             ],
             [
              0.1111111111111111,
              "#46039f"
             ],
             [
              0.2222222222222222,
              "#7201a8"
             ],
             [
              0.3333333333333333,
              "#9c179e"
             ],
             [
              0.4444444444444444,
              "#bd3786"
             ],
             [
              0.5555555555555556,
              "#d8576b"
             ],
             [
              0.6666666666666666,
              "#ed7953"
             ],
             [
              0.7777777777777778,
              "#fb9f3a"
             ],
             [
              0.8888888888888888,
              "#fdca26"
             ],
             [
              1,
              "#f0f921"
             ]
            ],
            "type": "surface"
           }
          ],
          "table": [
           {
            "cells": {
             "fill": {
              "color": "#EBF0F8"
             },
             "line": {
              "color": "white"
             }
            },
            "header": {
             "fill": {
              "color": "#C8D4E3"
             },
             "line": {
              "color": "white"
             }
            },
            "type": "table"
           }
          ]
         },
         "layout": {
          "annotationdefaults": {
           "arrowcolor": "#2a3f5f",
           "arrowhead": 0,
           "arrowwidth": 1
          },
          "autotypenumbers": "strict",
          "coloraxis": {
           "colorbar": {
            "outlinewidth": 0,
            "ticks": ""
           }
          },
          "colorscale": {
           "diverging": [
            [
             0,
             "#8e0152"
            ],
            [
             0.1,
             "#c51b7d"
            ],
            [
             0.2,
             "#de77ae"
            ],
            [
             0.3,
             "#f1b6da"
            ],
            [
             0.4,
             "#fde0ef"
            ],
            [
             0.5,
             "#f7f7f7"
            ],
            [
             0.6,
             "#e6f5d0"
            ],
            [
             0.7,
             "#b8e186"
            ],
            [
             0.8,
             "#7fbc41"
            ],
            [
             0.9,
             "#4d9221"
            ],
            [
             1,
             "#276419"
            ]
           ],
           "sequential": [
            [
             0,
             "#0d0887"
            ],
            [
             0.1111111111111111,
             "#46039f"
            ],
            [
             0.2222222222222222,
             "#7201a8"
            ],
            [
             0.3333333333333333,
             "#9c179e"
            ],
            [
             0.4444444444444444,
             "#bd3786"
            ],
            [
             0.5555555555555556,
             "#d8576b"
            ],
            [
             0.6666666666666666,
             "#ed7953"
            ],
            [
             0.7777777777777778,
             "#fb9f3a"
            ],
            [
             0.8888888888888888,
             "#fdca26"
            ],
            [
             1,
             "#f0f921"
            ]
           ],
           "sequentialminus": [
            [
             0,
             "#0d0887"
            ],
            [
             0.1111111111111111,
             "#46039f"
            ],
            [
             0.2222222222222222,
             "#7201a8"
            ],
            [
             0.3333333333333333,
             "#9c179e"
            ],
            [
             0.4444444444444444,
             "#bd3786"
            ],
            [
             0.5555555555555556,
             "#d8576b"
            ],
            [
             0.6666666666666666,
             "#ed7953"
            ],
            [
             0.7777777777777778,
             "#fb9f3a"
            ],
            [
             0.8888888888888888,
             "#fdca26"
            ],
            [
             1,
             "#f0f921"
            ]
           ]
          },
          "colorway": [
           "#636efa",
           "#EF553B",
           "#00cc96",
           "#ab63fa",
           "#FFA15A",
           "#19d3f3",
           "#FF6692",
           "#B6E880",
           "#FF97FF",
           "#FECB52"
          ],
          "font": {
           "color": "#2a3f5f"
          },
          "geo": {
           "bgcolor": "white",
           "lakecolor": "white",
           "landcolor": "#E5ECF6",
           "showlakes": true,
           "showland": true,
           "subunitcolor": "white"
          },
          "hoverlabel": {
           "align": "left"
          },
          "hovermode": "closest",
          "mapbox": {
           "style": "light"
          },
          "paper_bgcolor": "white",
          "plot_bgcolor": "#E5ECF6",
          "polar": {
           "angularaxis": {
            "gridcolor": "white",
            "linecolor": "white",
            "ticks": ""
           },
           "bgcolor": "#E5ECF6",
           "radialaxis": {
            "gridcolor": "white",
            "linecolor": "white",
            "ticks": ""
           }
          },
          "scene": {
           "xaxis": {
            "backgroundcolor": "#E5ECF6",
            "gridcolor": "white",
            "gridwidth": 2,
            "linecolor": "white",
            "showbackground": true,
            "ticks": "",
            "zerolinecolor": "white"
           },
           "yaxis": {
            "backgroundcolor": "#E5ECF6",
            "gridcolor": "white",
            "gridwidth": 2,
            "linecolor": "white",
            "showbackground": true,
            "ticks": "",
            "zerolinecolor": "white"
           },
           "zaxis": {
            "backgroundcolor": "#E5ECF6",
            "gridcolor": "white",
            "gridwidth": 2,
            "linecolor": "white",
            "showbackground": true,
            "ticks": "",
            "zerolinecolor": "white"
           }
          },
          "shapedefaults": {
           "line": {
            "color": "#2a3f5f"
           }
          },
          "ternary": {
           "aaxis": {
            "gridcolor": "white",
            "linecolor": "white",
            "ticks": ""
           },
           "baxis": {
            "gridcolor": "white",
            "linecolor": "white",
            "ticks": ""
           },
           "bgcolor": "#E5ECF6",
           "caxis": {
            "gridcolor": "white",
            "linecolor": "white",
            "ticks": ""
           }
          },
          "title": {
           "x": 0.05
          },
          "xaxis": {
           "automargin": true,
           "gridcolor": "white",
           "linecolor": "white",
           "ticks": "",
           "title": {
            "standoff": 15
           },
           "zerolinecolor": "white",
           "zerolinewidth": 2
          },
          "yaxis": {
           "automargin": true,
           "gridcolor": "white",
           "linecolor": "white",
           "ticks": "",
           "title": {
            "standoff": 15
           },
           "zerolinecolor": "white",
           "zerolinewidth": 2
          }
         }
        },
        "title": {
         "text": "Optimization History Plot"
        },
        "xaxis": {
         "title": {
          "text": "Trial"
         }
        },
        "yaxis": {
         "title": {
          "text": "Objective Value"
         }
        }
       }
      }
     },
     "metadata": {},
     "output_type": "display_data"
    }
   ],
   "source": [
    "# mostrar chart com trials do optuna\n",
    "fig = optuna.visualization.plot_optimization_history(estudo_ag)\n",
    "fig.show()"
   ]
  },
  {
   "cell_type": "code",
   "execution_count": 40,
   "metadata": {},
   "outputs": [],
   "source": [
    "# Mostrar o dendograma\n",
    "modelo_de = linkage(X_transformed.toarray(), method=best_param_ag['linkage'], optimal_ordering=True)"
   ]
  },
  {
   "cell_type": "code",
   "execution_count": 51,
   "metadata": {},
   "outputs": [
    {
     "data": {
      "text/plain": [
       "Text(0, 0.5, 'Distância')"
      ]
     },
     "execution_count": 51,
     "metadata": {},
     "output_type": "execute_result"
    },
    {
     "data": {
      "image/png": "[encoded data removed]",
      "text/plain": [
       "<Figure size 2000x1200 with 1 Axes>"
      ]
     },
     "metadata": {},
     "output_type": "display_data"
    }
   ],
   "source": [
    "plt.figure(figsize=(20,12))\n",
    "dendrogram(modelo_de, truncate_mode='lastp', p=32, leaf_rotation=90, leaf_font_size=10)\n",
    "plt.title('Dendrograma Clustering Hierarquivo Aglomerativo')\n",
    "plt.xlabel('Tamanho do Cluster ou Objeto de dado')\n",
    "plt.ylabel('Distância')"
   ]
  },
  {
   "cell_type": "code",
   "execution_count": 52,
   "metadata": {},
   "outputs": [
    {
     "data": {
      "text/plain": [
       "6"
      ]
     },
     "execution_count": 52,
     "metadata": {},
     "output_type": "execute_result"
    }
   ],
   "source": [
    "clusters_de_scipy = cut_tree(modelo_de, height=32)\n",
    "len(np.unique(clusters_de_scipy))"
   ]
  },
  {
   "cell_type": "code",
   "execution_count": 58,
   "metadata": {},
   "outputs": [
    {
     "data": {
      "application/vnd.plotly.v1+json": {
       "config": {
        "plotlyServerURL": "https://plot.ly"
       },
       "data": [
        {
         "hovertemplate": "brand=%{x}<br>price=%{y}<br>cluster=%{marker.color}<extra></extra>",
         "legendgroup": "",
         "marker": {
          "color": [
           36,
           47,
           69,
           23,
           26,
           115,
           2,
           44,
           97,
           84,
           92,
           57,
           7,
           11,
           2,
           24,
           88,
           43,
           18,
           5,
           33,
           26,
           143,
           15,
           46,
           34,
           12,
           56,
           42,
           20,
           15,
           88,
           148,
           1,
           115,
           74,
           25,
           2,
           42,
           6,
           130,
           39,
           111,
           12,
           39,
           74,
           56,
           14,
           7,
           48,
           46,
           58,
           18,
           61,
           111,
           56,
           19,
           90,
           10,
           31,
           122,
           52,
           45,
           30,
           6,
           39,
           39,
           37,
           46,
           10,
           83,
           15,
           34,
           44,
           61,
           13,
           31,
           50,
           80,
           43,
           45,
           134,
           41,
           26,
           43,
           26,
           61,
           7,
           80,
           67,
           16,
           1,
           31,
           31,
           122,
           41,
           6,
           47,
           86,
           61,
           64,
           134,
           69,
           44,
           114,
           2,
           73,
           55,
           58,
           84,
           55,
           34,
           121,
           129,
           118,
           69,
           99,
           30,
           30,
           71,
           63,
           63,
           146,
           68,
           67,
           36,
           121,
           130,
           94,
           148,
           11,
           45,
           46,
           115,
           31,
           69,
           128,
           26,
           41,
           105,
           29,
           103,
           103,
           126,
           37,
           19,
           92,
           44,
           111,
           93,
           1,
           2,
           8,
           80,
           58,
           29,
           97,
           2,
           25,
           58,
           10,
           104,
           108,
           44,
           110,
           13,
           33,
           34,
           102,
           4,
           80,
           69,
           105,
           6,
           43,
           67,
           23,
           5,
           5,
           20,
           23,
           25,
           44,
           20,
           12,
           127,
           114,
           114,
           114,
           65,
           39,
           24,
           83,
           13,
           6,
           132,
           43,
           56,
           45,
           111,
           88,
           62,
           6,
           6,
           44,
           31,
           42,
           23,
           7,
           27,
           45,
           61,
           56,
           37,
           56,
           58,
           88,
           56,
           69,
           31,
           11,
           34,
           79,
           77,
           81,
           81,
           3,
           15,
           2,
           7,
           97,
           42,
           6,
           90,
           25,
           3,
           7,
           63,
           125,
           52,
           49,
           94,
           9,
           100,
           41,
           69,
           17,
           17,
           68,
           20,
           48,
           32,
           11,
           73,
           11,
           15,
           88,
           46,
           18,
           46,
           69,
           39,
           97,
           9,
           9,
           136,
           96,
           9,
           8,
           59,
           61,
           42,
           8,
           36,
           122,
           115,
           115,
           15,
           50,
           134,
           106,
           57,
           48,
           5,
           141,
           100,
           28,
           138,
           56,
           110,
           100,
           22,
           81,
           69,
           88,
           0,
           27,
           135,
           91,
           26,
           144,
           0,
           20,
           88,
           62,
           111,
           53,
           10,
           10,
           27,
           92,
           91,
           96,
           66,
           68,
           47,
           22,
           58,
           45,
           32,
           32,
           116,
           119,
           119,
           124,
           4,
           104,
           32,
           122,
           104,
           4,
           66,
           37,
           13,
           12,
           135,
           97,
           47,
           91,
           39,
           14,
           113,
           23,
           77,
           53,
           70,
           12,
           108,
           19,
           43,
           125,
           100,
           131,
           137,
           26,
           39,
           41,
           26,
           6,
           148,
           78,
           104,
           124,
           116,
           86,
           120,
           92,
           104,
           53,
           14,
           32,
           58,
           83,
           34,
           129,
           80,
           134,
           32,
           64,
           24,
           60,
           30,
           59,
           90,
           10,
           51,
           19,
           104,
           148,
           50,
           90,
           15,
           4,
           51,
           26,
           53,
           97,
           51,
           8,
           14,
           8,
           51,
           95,
           26,
           82,
           51,
           41,
           11,
           65,
           47,
           34,
           26,
           148,
           25,
           35,
           92,
           45,
           87,
           87,
           26,
           104,
           104,
           41,
           92,
           33,
           88,
           15,
           2,
           100,
           146,
           15,
           88,
           62,
           16,
           43,
           135,
           41,
           125,
           90,
           36,
           25,
           93,
           2,
           148,
           2,
           87,
           125,
           113,
           56,
           99,
           10,
           95,
           122,
           69,
           148,
           9,
           114,
           0,
           124,
           63,
           95,
           67,
           68,
           71,
           9,
           77,
           2,
           31,
           25,
           71,
           36,
           51,
           2,
           108,
           108,
           125,
           78,
           25,
           88,
           43,
           41,
           93,
           34,
           129,
           3,
           6,
           4,
           4,
           4,
           94,
           78,
           4,
           121,
           88,
           6,
           0,
           51,
           9,
           125,
           26,
           73,
           27,
           6,
           6,
           6,
           7,
           41,
           7,
           107,
           107,
           94,
           86,
           100,
           145,
           92,
           10,
           6,
           61,
           112,
           63,
           30,
           148,
           16,
           86,
           10,
           5,
           28,
           127,
           36,
           51,
           23,
           2,
           141,
           92,
           127,
           51,
           38,
           62,
           38,
           62,
           133,
           53,
           18,
           10,
           53,
           51,
           3,
           20,
           7,
           89,
           19,
           89,
           44,
           7,
           7,
           89,
           30,
           39,
           36,
           14,
           30,
           69,
           28,
           94,
           125,
           13,
           73,
           39,
           6,
           86,
           81,
           86,
           19,
           111,
           92,
           51,
           46,
           114,
           9,
           114,
           36,
           122,
           31,
           14,
           122,
           3,
           122,
           18,
           66,
           30,
           129,
           1,
           40,
           136,
           38,
           99,
           38,
           94,
           70,
           23,
           127,
           147,
           17,
           14,
           12,
           58,
           3,
           79,
           75,
           93,
           125,
           6,
           6,
           125,
           2,
           26,
           86,
           19,
           57,
           109,
           18,
           125,
           129,
           35,
           86,
           43,
           9,
           39,
           2,
           71,
           39,
           101,
           11,
           3,
           50,
           76,
           35,
           57,
           34,
           31,
           116,
           33,
           133,
           10,
           132,
           0,
           104,
           7,
           26,
           80,
           44,
           31,
           6,
           70,
           31,
           48,
           41,
           42,
           42,
           111,
           111,
           111,
           42,
           100,
           17,
           15,
           141,
           13,
           133,
           122,
           125,
           146,
           146,
           9,
           58,
           104,
           12,
           62,
           42,
           100,
           28,
           17,
           25,
           6,
           101,
           96,
           20,
           67,
           104,
           36,
           114,
           96,
           100,
           7,
           137,
           92,
           62,
           0,
           91,
           68,
           62,
           1,
           26,
           28,
           68,
           18,
           61,
           144,
           12,
           18,
           12,
           45,
           44,
           15,
           12,
           18,
           139,
           74,
           0,
           44,
           21,
           85,
           91,
           9,
           11,
           13,
           12,
           10,
           66,
           17,
           116,
           62,
           26,
           79,
           0,
           111,
           26,
           86,
           123,
           49,
           46,
           34,
           26,
           45,
           41,
           0,
           146,
           26,
           0,
           52,
           2,
           44,
           70,
           15,
           33,
           19,
           54,
           96,
           96,
           65,
           92,
           45,
           96,
           96,
           53,
           66,
           18,
           2,
           53,
           48,
           42,
           111,
           1,
           137,
           28,
           18,
           107,
           121,
           20,
           107,
           71,
           61,
           64,
           74,
           68,
           42,
           68,
           81,
           74,
           74,
           121,
           45,
           23,
           88,
           32,
           9,
           94,
           117,
           8,
           30,
           72,
           12,
           3,
           8,
           2,
           43,
           86,
           72,
           101,
           12,
           131,
           146,
           123,
           3,
           31,
           6,
           39,
           59,
           140,
           72,
           19,
           134,
           42,
           20,
           44,
           17,
           63,
           134,
           52,
           20,
           3,
           54,
           79,
           19,
           55,
           19,
           123,
           9,
           42,
           20,
           2,
           134,
           104,
           122,
           56,
           21,
           97,
           21,
           50,
           73,
           59,
           97,
           59,
           97,
           134,
           61,
           93,
           110,
           65,
           71,
           92,
           94,
           140,
           45,
           73,
           48,
           129,
           8,
           20,
           56,
           13,
           13,
           55,
           30,
           45,
           97,
           13,
           31,
           45,
           39,
           9,
           61,
           71,
           94,
           8,
           60,
           28,
           15,
           7,
           20,
           18,
           54,
           18,
           54,
           79,
           25,
           60,
           19,
           20,
           31,
           31,
           29,
           31,
           28,
           28,
           13,
           31,
           13,
           13,
           31,
           31,
           94,
           62,
           9,
           94,
           124,
           48,
           66,
           139,
           15,
           11,
           49,
           40,
           66,
           73,
           129,
           68,
           28,
           81,
           14,
           137,
           144,
           26,
           26,
           108,
           11,
           69,
           1,
           96,
           1,
           36,
           73,
           41,
           27,
           74,
           142,
           73,
           78,
           3,
           106,
           137,
           118,
           98,
           35,
           137,
           63,
           27,
           54,
           100,
           17,
           25,
           48,
           106,
           34,
           0,
           23,
           112,
           20,
           1,
           100,
           86,
           52,
           112,
           61,
           88,
           23,
           14,
           23,
           0,
           40,
           48,
           20,
           64,
           77,
           11,
           61,
           86,
           7,
           1,
           118,
           35
          ],
          "coloraxis": "coloraxis",
          "symbol": "circle"
         },
         "mode": "markers",
         "name": "",
         "orientation": "v",
         "showlegend": false,
         "type": "scatter",
         "x": [
          "tecno",
          "tecno",
          "hp",
          "acer",
          "lenovo",
          "apple",
          "infinix",
          "asus",
          "hp",
          "infinix",
          "dell",
          "samsung",
          "msi",
          "asus",
          "lenovo",
          "hp",
          "lenovo",
          "asus",
          "hp",
          "wings",
          "hp",
          "lenovo",
          "apple",
          "asus",
          "asus",
          "acer",
          "hp",
          "ultimus",
          "hp",
          "msi",
          "samsung",
          "samsung",
          "lenovo",
          "asus",
          "apple",
          "dell",
          "acer",
          "acer",
          "hp",
          "asus",
          "asus",
          "hp",
          "hp",
          "hp",
          "hp",
          "dell",
          "msi",
          "asus",
          "msi",
          "dell",
          "infinix",
          "acer",
          "hp",
          "hp",
          "hp",
          "infinix",
          "hp",
          "asus",
          "dell",
          "asus",
          "lenovo",
          "dell",
          "asus",
          "asus",
          "asus",
          "hp",
          "hp",
          "apple",
          "infinix",
          "hp",
          "primebook",
          "dell",
          "acer",
          "hp",
          "hp",
          "asus",
          "asus",
          "iball",
          "ultimus",
          "dell",
          "asus",
          "hp",
          "lenovo",
          "lenovo",
          "hp",
          "lenovo",
          "hp",
          "msi",
          "ultimus",
          "lenovo",
          "msi",
          "msi",
          "asus",
          "asus",
          "lenovo",
          "lenovo",
          "asus",
          "infinix",
          "asus",
          "hp",
          "lenovo",
          "hp",
          "hp",
          "asus",
          "lenovo",
          "msi",
          "acer",
          "asus",
          "acer",
          "infinix",
          "asus",
          "acer",
          "asus",
          "acer",
          "asus",
          "hp",
          "asus",
          "acer",
          "acer",
          "hp",
          "hp",
          "hp",
          "lenovo",
          "acer",
          "lenovo",
          "hp",
          "dell",
          "asus",
          "asus",
          "lenovo",
          "asus",
          "acer",
          "asus",
          "apple",
          "asus",
          "hp",
          "hp",
          "lenovo",
          "lenovo",
          "dell",
          "hp",
          "apple",
          "apple",
          "apple",
          "apple",
          "lenovo",
          "dell",
          "hp",
          "hp",
          "dell",
          "acer",
          "asus",
          "lenovo",
          "ultimus",
          "zebronics",
          "hp",
          "hp",
          "zebronics",
          "zebronics",
          "zebronics",
          "hp",
          "lenovo",
          "asus",
          "hp",
          "chuwi",
          "acer",
          "hp",
          "gigabyte",
          "asus",
          "asus",
          "lenovo",
          "hp",
          "acer",
          "asus",
          "hp",
          "lenovo",
          "msi",
          "wings",
          "wings",
          "msi",
          "infinix",
          "hp",
          "msi",
          "msi",
          "hp",
          "lenovo",
          "lenovo",
          "lenovo",
          "lenovo",
          "hp",
          "hp",
          "hp",
          "jio",
          "asus",
          "asus",
          "hp",
          "dell",
          "chuwi",
          "msi",
          "hp",
          "infinix",
          "dell",
          "asus",
          "asus",
          "asus",
          "asus",
          "hp",
          "msi",
          "msi",
          "lenovo",
          "msi",
          "asus",
          "asus",
          "apple",
          "infinix",
          "acer",
          "dell",
          "acer",
          "hp",
          "asus",
          "asus",
          "acer",
          "acer",
          "asus",
          "asus",
          "asus",
          "asus",
          "asus",
          "hp",
          "msi",
          "hp",
          "hp",
          "asus",
          "asus",
          "hp",
          "acer",
          "msi",
          "hp",
          "asus",
          "asus",
          "asus",
          "asus",
          "honor",
          "lenovo",
          "lenovo",
          "hp",
          "dell",
          "msi",
          "acer",
          "msi",
          "hp",
          "acer",
          "asus",
          "asus",
          "asus",
          "samsung",
          "samsung",
          "infinix",
          "hp",
          "asus",
          "hp",
          "hp",
          "hp",
          "hp",
          "hp",
          "hp",
          "dell",
          "asus",
          "lenovo",
          "msi",
          "hp",
          "hp",
          "asus",
          "hp",
          "lenovo",
          "apple",
          "apple",
          "samsung",
          "lenovo",
          "hp",
          "hp",
          "samsung",
          "hp",
          "realme",
          "dell",
          "avita",
          "hp",
          "dell",
          "chuwi",
          "chuwi",
          "avita",
          "lenovo",
          "dell",
          "hp",
          "lenovo",
          "lenovo",
          "hp",
          "hp",
          "lenovo",
          "lenovo",
          "lenovo",
          "lenovo",
          "msi",
          "lenovo",
          "dell",
          "hp",
          "dell",
          "lenovo",
          "lenovo",
          "hp",
          "dell",
          "lenovo",
          "dell",
          "lenovo",
          "acer",
          "acer",
          "lenovo",
          "avita",
          "acer",
          "acer",
          "acer",
          "avita",
          "apple",
          "apple",
          "lenovo",
          "asus",
          "lenovo",
          "acer",
          "lenovo",
          "lenovo",
          "asus",
          "avita",
          "apple",
          "hp",
          "hp",
          "hp",
          "hp",
          "acer",
          "lenovo",
          "hp",
          "lenovo",
          "microsoft",
          "acer",
          "acer",
          "dell",
          "lenovo",
          "hp",
          "asus",
          "msi",
          "dell",
          "lenovo",
          "asus",
          "asus",
          "lenovo",
          "lenovo",
          "hp",
          "lenovo",
          "lenovo",
          "asus",
          "lenovo",
          "hp",
          "lenovo",
          "lenovo",
          "asus",
          "asus",
          "acer",
          "dell",
          "lenovo",
          "dell",
          "hp",
          "zebronics",
          "zebronics",
          "primebook",
          "acer",
          "acer",
          "ultimus",
          "hp",
          "zebronics",
          "hp",
          "hp",
          "hp",
          "hp",
          "hp",
          "asus",
          "lenovo",
          "lenovo",
          "lenovo",
          "lenovo",
          "lenovo",
          "asus",
          "asus",
          "asus",
          "asus",
          "lenovo",
          "lenovo",
          "dell",
          "hp",
          "lenovo",
          "lenovo",
          "lenovo",
          "lenovo",
          "lenovo",
          "lenovo",
          "lenovo",
          "msi",
          "lenovo",
          "lenovo",
          "msi",
          "hp",
          "acer",
          "acer",
          "lenovo",
          "lenovo",
          "asus",
          "acer",
          "dell",
          "hp",
          "asus",
          "asus",
          "lenovo",
          "lenovo",
          "lenovo",
          "lenovo",
          "dell",
          "lenovo",
          "dell",
          "dell",
          "acer",
          "lenovo",
          "lenovo",
          "dell",
          "lenovo",
          "dell",
          "msi",
          "asus",
          "hp",
          "lenovo",
          "lenovo",
          "asus",
          "lenovo",
          "hp",
          "dell",
          "lenovo",
          "lenovo",
          "acer",
          "lenovo",
          "lenovo",
          "microsoft",
          "ultimus",
          "lenovo",
          "dell",
          "lenovo",
          "lenovo",
          "hp",
          "lenovo",
          "hp",
          "lenovo",
          "lenovo",
          "lenovo",
          "hp",
          "lenovo",
          "lenovo",
          "acer",
          "asus",
          "fujitsu",
          "asus",
          "asus",
          "asus",
          "hp",
          "hp",
          "lenovo",
          "lenovo",
          "lenovo",
          "asus",
          "asus",
          "lenovo",
          "hp",
          "lenovo",
          "lenovo",
          "asus",
          "lenovo",
          "dell",
          "acer",
          "acer",
          "asus",
          "asus",
          "asus",
          "asus",
          "asus",
          "asus",
          "hp",
          "asus",
          "gigabyte",
          "lenovo",
          "asus",
          "lenovo",
          "lenovo",
          "fujitsu",
          "lenovo",
          "lenovo",
          "lenovo",
          "lenovo",
          "asus",
          "asus",
          "asus",
          "msi",
          "lenovo",
          "msi",
          "acer",
          "acer",
          "asus",
          "asus",
          "asus",
          "hp",
          "dell",
          "dell",
          "asus",
          "hp",
          "fujitsu",
          "hp",
          "hp",
          "lenovo",
          "dell",
          "asus",
          "lenovo",
          "wings",
          "acer",
          "lenovo",
          "lenovo",
          "lenovo",
          "infinix",
          "lenovo",
          "dell",
          "dell",
          "lenovo",
          "lenovo",
          "dell",
          "dell",
          "dell",
          "dell",
          "dell",
          "dell",
          "hp",
          "dell",
          "dell",
          "lenovo",
          "asus",
          "msi",
          "msi",
          "msi",
          "msi",
          "msi",
          "msi",
          "msi",
          "msi",
          "msi",
          "hp",
          "hp",
          "lenovo",
          "hp",
          "hp",
          "hp",
          "asus",
          "asus",
          "lenovo",
          "hp",
          "lenovo",
          "hp",
          "asus",
          "asus",
          "acer",
          "asus",
          "msi",
          "hp",
          "dell",
          "lenovo",
          "asus",
          "lenovo",
          "hp",
          "lenovo",
          "hp",
          "lenovo",
          "asus",
          "msi",
          "lenovo",
          "hp",
          "lenovo",
          "hp",
          "asus",
          "hp",
          "acer",
          "acer",
          "lenovo",
          "hp",
          "dell",
          "dell",
          "dell",
          "asus",
          "dell",
          "msi",
          "lenovo",
          "dell",
          "dell",
          "dell",
          "dell",
          "msi",
          "msi",
          "msi",
          "dell",
          "hp",
          "lenovo",
          "asus",
          "asus",
          "lenovo",
          "hp",
          "lenovo",
          "asus",
          "asus",
          "lg",
          "dell",
          "acer",
          "lenovo",
          "acer",
          "hp",
          "asus",
          "hp",
          "fujitsu",
          "hp",
          "acer",
          "hp",
          "hp",
          "asus",
          "lg",
          "hp",
          "lenovo",
          "lg",
          "hp",
          "lg",
          "acer",
          "asus",
          "walker",
          "hp",
          "dell",
          "dell",
          "hp",
          "lenovo",
          "lenovo",
          "msi",
          "lenovo",
          "lenovo",
          "msi",
          "asus",
          "asus",
          "lenovo",
          "asus",
          "lenovo",
          "lenovo",
          "hp",
          "hp",
          "hp",
          "hp",
          "hp",
          "hp",
          "hp",
          "hp",
          "asus",
          "dell",
          "hp",
          "dell",
          "lenovo",
          "lenovo",
          "lenovo",
          "lenovo",
          "hp",
          "acer",
          "lenovo",
          "hp",
          "dell",
          "hp",
          "hp",
          "hp",
          "hp",
          "hp",
          "asus",
          "asus",
          "dell",
          "asus",
          "lenovo",
          "lenovo",
          "lenovo",
          "lenovo",
          "dell",
          "hp",
          "msi",
          "lenovo",
          "dell",
          "dell",
          "lenovo",
          "lenovo",
          "acer",
          "dell",
          "acer",
          "lenovo",
          "hp",
          "acer",
          "msi",
          "msi",
          "dell",
          "msi",
          "msi",
          "msi",
          "acer",
          "msi",
          "asus",
          "msi",
          "msi",
          "hp",
          "dell",
          "msi",
          "msi",
          "dell",
          "dell",
          "lenovo",
          "lenovo",
          "lg",
          "lg",
          "hp",
          "lenovo",
          "axl",
          "msi",
          "axl",
          "dell",
          "lenovo",
          "asus",
          "lenovo",
          "hp",
          "lenovo",
          "asus",
          "dell",
          "asus",
          "asus",
          "acer",
          "lenovo",
          "lenovo",
          "lenovo",
          "lenovo",
          "lenovo",
          "lenovo",
          "lenovo",
          "dell",
          "lenovo",
          "hp",
          "lenovo",
          "dell",
          "hp",
          "dell",
          "dell",
          "dell",
          "dell",
          "hp",
          "dell",
          "infinix",
          "dell",
          "dell",
          "dell",
          "asus",
          "hp",
          "asus",
          "dell",
          "hp",
          "hp",
          "hp",
          "asus",
          "lenovo",
          "hp",
          "hp",
          "acer",
          "msi",
          "msi",
          "acer",
          "hp",
          "hp",
          "asus",
          "dell",
          "acer",
          "hp",
          "dell",
          "dell",
          "dell",
          "dell",
          "dell",
          "acer",
          "acer",
          "acer",
          "acer",
          "hp",
          "asus",
          "msi",
          "asus",
          "asus",
          "asus",
          "asus",
          "asus",
          "asus",
          "lenovo",
          "asus",
          "asus",
          "asus",
          "asus",
          "asus",
          "asus",
          "lenovo",
          "asus",
          "asus",
          "asus",
          "asus",
          "hp",
          "acer",
          "asus",
          "dell",
          "dell",
          "hp",
          "hp",
          "msi",
          "msi",
          "acer",
          "hp",
          "hp",
          "asus",
          "msi",
          "asus",
          "msi",
          "asus",
          "acer",
          "asus",
          "asus",
          "asus",
          "hp",
          "hp",
          "msi",
          "asus",
          "hp",
          "lenovo",
          "lenovo",
          "acer",
          "dell",
          "hp",
          "dell",
          "acer",
          "hp",
          "acer",
          "hp",
          "acer",
          "hp",
          "hp",
          "hp",
          "hp",
          "realme",
          "hp",
          "asus",
          "dell",
          "asus",
          "asus",
          "dell",
          "asus",
          "dell",
          "acer",
          "acer",
          "msi",
          "asus",
          "asus",
          "asus",
          "asus",
          "hp",
          "msi",
          "hp",
          "asus",
          "asus",
          "msi",
          "hp",
          "asus",
          "hp",
          "hp",
          "asus",
          "hp",
          "msi",
          "asus",
          "asus",
          "msi",
          "msi",
          "acer",
          "acer",
          "acer",
          "msi",
          "lenovo",
          "asus",
          "msi",
          "msi",
          "msi",
          "asus",
          "asus",
          "hp",
          "asus",
          "asus",
          "asus",
          "asus",
          "asus",
          "asus",
          "asus",
          "asus",
          "asus",
          "asus",
          "dell",
          "asus",
          "asus",
          "asus",
          "asus",
          "lenovo",
          "hp",
          "dell",
          "msi",
          "hp",
          "hp",
          "lenovo",
          "honor",
          "acer",
          "acer",
          "acer",
          "acer",
          "acer",
          "lenovo",
          "lenovo",
          "lenovo",
          "lenovo",
          "asus",
          "fujitsu",
          "hp",
          "msi",
          "dell",
          "acer",
          "lenovo",
          "msi",
          "lenovo",
          "lenovo",
          "dell",
          "lenovo",
          "asus",
          "hp",
          "lenovo",
          "hp",
          "lenovo",
          "asus",
          "hp",
          "hp",
          "lenovo",
          "hp",
          "lenovo",
          "asus",
          "asus",
          "asus",
          "lenovo",
          "msi",
          "hp",
          "acer",
          "msi",
          "msi",
          "msi",
          "msi",
          "acer",
          "asus",
          "asus",
          "lg",
          "msi",
          "acer",
          "msi",
          "msi",
          "asus",
          "msi",
          "msi",
          "hp",
          "asus",
          "msi",
          "asus",
          "asus",
          "asus",
          "acer",
          "asus",
          "msi",
          "asus",
          "asus",
          "hp"
         ],
         "xaxis": "x",
         "y": [
          287.72,
          431.64,
          612.86,
          479.62,
          342.77,
          851.41,
          419.65,
          599.55,
          443.64,
          719.48,
          419.65,
          779.45,
          635.53,
          688.3,
          569.57,
          1846.86,
          599.55,
          911.38,
          665.51,
          335.7,
          231.46,
          335.7,
          4796.16,
          479.62,
          335.7,
          935.36,
          947.36,
          239.75,
          863.51,
          800.92,
          539.58,
          575.56,
          575.56,
          563.57,
          1235.2,
          818.42,
          563.57,
          419.65,
          647.52,
          767.46,
          1362.1,
          1065.01,
          642.49,
          1403.11,
          849.25,
          974.94,
          431.16,
          3238.1,
          839.42,
          475.53,
          359.68,
          395.66,
          1002.53,
          653.52,
          509.71,
          335.7,
          1774.9,
          888.53,
          1037.31,
          731.48,
          683.5,
          869.4,
          431.64,
          1307.16,
          695.5,
          839.53,
          863.4,
          1439.09,
          323.7,
          934.27,
          179.78,
          599.67,
          683.5,
          695.5,
          599.66,
          869.4,
          835.81,
          117.54,
          191.77,
          1007.32,
          563.57,
          731.48,
          539.58,
          419.65,
          803.44,
          293.12,
          623.54,
          659.52,
          143.8,
          587.56,
          899.38,
          599.55,
          647.52,
          979.73,
          766.25,
          444.24,
          1139.25,
          431.64,
          875.4,
          671.51,
          1139.25,
          621.26,
          596.97,
          647.52,
          959.35,
          503.6,
          455.63,
          1031.31,
          473.73,
          695.5,
          815.43,
          1139.25,
          902.5,
          575.56,
          803.44,
          524.11,
          1858.86,
          1439.09,
          1259.19,
          418.45,
          389.67,
          520.51,
          491.61,
          371.68,
          491.61,
          372.87,
          827.42,
          1156.03,
          527.59,
          547.51,
          635.53,
          467.62,
          401.66,
          1319.15,
          875.4,
          485.72,
          2426.74,
          431.64,
          539.58,
          1780.9,
          1989.7,
          3476.88,
          4196.49,
          2997.15,
          2397.48,
          1834.87,
          455.63,
          731.48,
          611.65,
          791.44,
          395.66,
          575.56,
          1585.41,
          179.78,
          407.66,
          1989.7,
          476.14,
          395.66,
          635.53,
          359.68,
          824.07,
          740.14,
          1103.27,
          731.48,
          395.66,
          875.4,
          287.83,
          863.4,
          1019.32,
          215.76,
          309.31,
          383.78,
          2158.69,
          875.4,
          1112.99,
          587.56,
          659.52,
          479.62,
          299.71,
          743.47,
          467.62,
          875.51,
          635.53,
          755.46,
          1044.5,
          846.61,
          803.44,
          1379.12,
          1199.22,
          419.65,
          773.57,
          2116.82,
          176.31,
          899.38,
          1259.19,
          1139.25,
          929.37,
          299.71,
          479.62,
          671.51,
          587.56,
          470.62,
          1080.12,
          1029.03,
          695.5,
          731.48,
          875.76,
          647.52,
          683.5,
          395.54,
          443.64,
          719.48,
          383.67,
          1738.92,
          311.71,
          383.67,
          687.22,
          359.68,
          599.55,
          677.63,
          683.5,
          731.48,
          683.5,
          1439.09,
          2158.69,
          2278.62,
          1457.07,
          573.64,
          629.53,
          815.43,
          482.01,
          743.47,
          1079.29,
          667.9,
          1073.29,
          1439.09,
          785.45,
          419.65,
          839.42,
          947.36,
          1268.17,
          515.6,
          659.52,
          263.73,
          400.58,
          611.54,
          611.54,
          527.59,
          335.7,
          1271.18,
          563.57,
          563.57,
          647.52,
          582.63,
          851.41,
          839.42,
          911.38,
          299.71,
          851.41,
          370.48,
          623.54,
          695.5,
          581.08,
          959.35,
          767.46,
          231.46,
          839.53,
          750.79,
          1199.22,
          1007.32,
          718.06,
          683.61,
          1738.92,
          487.04,
          779.45,
          1595,
          1642.97,
          659.52,
          299.71,
          767.46,
          299.71,
          1403.11,
          500.72,
          443.64,
          626.04,
          256.54,
          1084.97,
          1055.3,
          263.73,
          419.65,
          395.17,
          1799.01,
          2500.5,
          953.08,
          683.5,
          659.52,
          689.62,
          654.83,
          755.57,
          437.64,
          551.58,
          563.57,
          795.76,
          755.46,
          440.53,
          622.47,
          718.28,
          887.39,
          743.47,
          807.01,
          419.65,
          898.3,
          1823,
          383.67,
          359.68,
          557.69,
          2626.43,
          390.38,
          599.55,
          539.69,
          515.7,
          232.92,
          2277.54,
          2877.21,
          1477.47,
          393.68,
          827.42,
          563.57,
          1294.22,
          622.39,
          362.19,
          251.85,
          2037.68,
          1862.56,
          1342.58,
          918.68,
          491.61,
          557.57,
          563.57,
          1192.98,
          4306.77,
          959.35,
          683.5,
          477.34,
          1067.29,
          661.92,
          1355.13,
          1037.43,
          2398.56,
          1265.18,
          743.47,
          570.29,
          779.45,
          593.66,
          443.64,
          1091.39,
          414.85,
          389.67,
          1188.68,
          668.03,
          430.56,
          841.82,
          1105.67,
          335.7,
          959.11,
          287.72,
          617.5,
          623.54,
          683.5,
          4107.74,
          479.62,
          395.66,
          155.79,
          767.57,
          791.44,
          197.77,
          637.93,
          611.54,
          1110.47,
          3112.27,
          3514.05,
          1990.89,
          2020.89,
          1031.31,
          1019.32,
          961.75,
          1309.56,
          649.92,
          649.92,
          179.78,
          800.18,
          647.52,
          251.74,
          937.76,
          479.62,
          743.47,
          467.62,
          1117.66,
          1969.19,
          3585.9,
          1669.36,
          841.82,
          1240.06,
          479.62,
          5396.91,
          1079.41,
          419.65,
          959.35,
          347.69,
          599.55,
          739.99,
          395.66,
          599.55,
          1039.7,
          305.71,
          815.89,
          1079.39,
          832.79,
          887.39,
          479.62,
          764.12,
          599.55,
          395.66,
          675.71,
          362.08,
          682.18,
          683.5,
          479.62,
          359.68,
          563.57,
          611.54,
          659.52,
          467.62,
          2357.66,
          1199.22,
          899.49,
          509.71,
          815.43,
          1033.7,
          439.56,
          1367.23,
          791.44,
          587.56,
          599.55,
          419.65,
          1043.31,
          791.44,
          1169.24,
          274.8,
          2230.65,
          1193.1,
          1547.03,
          1367.13,
          623.54,
          623.54,
          1087.67,
          839.42,
          575.56,
          1201.62,
          480.93,
          1648.97,
          647.52,
          515.6,
          338.09,
          887.39,
          881.07,
          539.58,
          724.15,
          910.18,
          335.7,
          443.76,
          1057.7,
          755.46,
          887.39,
          839.42,
          796.23,
          731.58,
          863.4,
          741.9,
          1187.23,
          443.64,
          719.48,
          683.5,
          635.53,
          1091.28,
          1379.12,
          203.77,
          308.84,
          227.75,
          535.37,
          533.59,
          275.74,
          1079.29,
          745.87,
          1180.97,
          707.49,
          721.88,
          887.39,
          769.86,
          503.6,
          539.58,
          545.58,
          911.38,
          911.38,
          1131.8,
          755.46,
          569.57,
          1139.25,
          443.64,
          503.6,
          490.84,
          858.73,
          407.66,
          2194.67,
          449.63,
          1031.31,
          695.5,
          696.46,
          1319.15,
          383.67,
          1834.87,
          705.81,
          2677.82,
          719.48,
          767.46,
          323.7,
          497.61,
          841.82,
          440.04,
          805.84,
          539.58,
          563.57,
          550.14,
          459.93,
          1009.72,
          1043.31,
          1187.23,
          395.66,
          1049.3,
          575.56,
          929.37,
          496.92,
          898.9,
          1046.9,
          725.48,
          935.36,
          1079.29,
          1163.24,
          1259.19,
          1798.89,
          1798.89,
          1379.12,
          671.51,
          707.49,
          671.51,
          2398.56,
          1432.01,
          1199.33,
          449.75,
          2870.01,
          1590.31,
          611.65,
          450.81,
          443.64,
          707.49,
          1259.74,
          527.59,
          1220.93,
          1139.25,
          839.42,
          1918.82,
          875.4,
          1439.09,
          677.51,
          447.13,
          833.47,
          393.26,
          1175.23,
          936.68,
          1097.28,
          441.24,
          1061.74,
          719.48,
          3597.9,
          1199.22,
          1762.91,
          1319.15,
          1475.31,
          311.71,
          1678.95,
          809.54,
          431.64,
          2700.79,
          275.73,
          1013.32,
          3088.18,
          1151.25,
          472.42,
          730.4,
          983.34,
          1078.07,
          5450.88,
          814.23,
          3885.74,
          2266.63,
          443.64,
          1912.07,
          1079.29,
          5408.9,
          524.53,
          899.38,
          779.45,
          1067.41,
          779.45,
          520.51,
          486.81,
          839.54,
          1702.93,
          1187.33,
          3597.9,
          1559.02,
          791.44,
          905.49,
          311.71,
          918.69,
          1520.76,
          1199.22,
          1598.35,
          503.6,
          395.66,
          1444.59,
          1559.02,
          939.07,
          2759.2,
          290.12,
          1828.98,
          611.54,
          1414.01,
          863.4,
          767.46,
          191.77,
          287.83,
          785.57,
          887.39,
          1175.34,
          635.53,
          755.46,
          887.39,
          394.57,
          299.71,
          575.56,
          887.39,
          1199.22,
          635.53,
          743.47,
          831.68,
          539.58,
          1158.44,
          1055.3,
          1039.71,
          1051.7,
          946.16,
          1007.32,
          467.62,
          611.54,
          671.51,
          471.22,
          1292.44,
          719.48,
          875.4,
          680.03,
          791.44,
          647.52,
          935.71,
          369.28,
          688.3,
          1387.71,
          501.42,
          1319.15,
          539.58,
          575.56,
          635.53,
          1391.11,
          1002.64,
          1678.95,
          1055.3,
          707.49,
          599.55,
          725.48,
          425.65,
          863.4,
          1085.28,
          539.58,
          1343.14,
          545.7,
          491.61,
          523.99,
          599.66,
          793.95,
          359.56,
          671.51,
          353.69,
          401.66,
          644.03,
          515.6,
          695.5,
          659.52,
          575.56,
          1259.19,
          899.38,
          1139.25,
          491.61,
          611.54,
          575.44,
          1139.25,
          1019.32,
          467.62,
          955.75,
          731.48,
          623.54,
          3352.03,
          2422.55,
          803.56,
          1499.17,
          1076.99,
          1810.99,
          1574.92,
          905.49,
          215.76,
          635.53,
          179.78,
          490.41,
          491.61,
          839.42,
          563.57,
          780.77,
          457.8,
          779.45,
          2464.52,
          1142.97,
          420.76,
          659.52,
          335.7,
          886.31,
          419.65,
          419.65,
          562.49,
          359.68,
          557.57,
          1138.17,
          624.87,
          701.6,
          898.17,
          743.47,
          344.81,
          1894.84,
          1996.78,
          1193.22,
          959.71,
          338.29,
          515.6,
          467.62,
          1067.17,
          863.4,
          887.39,
          335.7,
          887.39,
          593.55,
          743.47,
          550.48,
          821.42,
          759.35,
          587.56,
          377.67,
          467.62,
          779.45,
          394.46,
          1103.27,
          1055.3,
          347.8,
          353.69,
          743.47,
          923.37,
          1790.49,
          479.62,
          905.9,
          515.72,
          2254.64,
          1319.15,
          1559.02,
          976.29,
          599.55,
          698.84,
          677.51,
          670.43,
          1104.23,
          479.62,
          3358.03,
          1256.3,
          1521.84,
          2398.56,
          1583.01,
          1605.8,
          1858.86,
          634.45,
          1731.92,
          1139.25,
          3130.16,
          1798.89,
          1618.99,
          724.15,
          633.18,
          2517.29,
          1858.86,
          839.42,
          1018.84,
          839.42,
          1719.85,
          1360.06,
          2704.39,
          2650.42,
          808.35,
          779.45,
          923.37,
          875.4,
          707.49,
          395.66,
          737.47,
          1271.18,
          1043.31,
          1336.53,
          2998.23,
          918.92,
          1715.04,
          1127.37,
          1937.09,
          2398.56,
          1415.22,
          954.55,
          767.46,
          431.64,
          635.53,
          757.86,
          971.46,
          479.62,
          4659.31,
          480.93,
          4419.44,
          441.36,
          557.57,
          1259.29,
          571.49,
          1379.12,
          563.57,
          725.48,
          599.55,
          786.65,
          515.6,
          851.53,
          370.92,
          575.56,
          555.15,
          1499.05,
          623.54,
          707.49,
          461.63,
          539.63,
          1067.29,
          1163.24,
          383.67,
          1583.13,
          1391.11,
          1079.29,
          1319.15,
          983.34,
          630.73,
          1094.28,
          755.46,
          839.42,
          773.57,
          862.78,
          623.54,
          407.64,
          477.22,
          1439.09,
          3130.16,
          467.5,
          671.51,
          781.85,
          875.4,
          827.42,
          2399.76,
          934.17,
          2638.43,
          1478.44,
          851.41,
          2590.45,
          2062.74,
          839.42,
          749.59,
          825.15,
          1724.94,
          1031.31,
          551.58,
          719.48,
          1259.19,
          820.23,
          1175.23,
          1115.27,
          779.45,
          899.38,
          527.59,
          539.58,
          767.46,
          470.64,
          1559.02,
          707.49,
          266.72,
          449.63,
          670.43,
          743.47,
          1749.82,
          1661.22,
          263.73,
          527.59,
          551.58,
          395.66,
          384.87,
          2218.77,
          2998.23,
          263.73,
          551.58,
          401.66,
          430.44,
          953.47,
          677.55,
          517.99,
          527.59,
          1434.41,
          335.7,
          437.64,
          587.56,
          551.58,
          791.55,
          1055.3,
          407.66,
          609.08,
          695.5,
          1754.29,
          394.46,
          521.71,
          742.39,
          474.35,
          251.74,
          371.68,
          323.81,
          386.19,
          2998.23,
          539.34,
          547.98,
          719.48,
          503.6,
          371.78,
          917.48,
          455.63,
          569.57,
          1115.27,
          995.33,
          359.68,
          386.07,
          827.42,
          1421.2,
          1048.11,
          827.53,
          606.76,
          731.48,
          3358.03,
          647.52,
          491.61,
          1858.96,
          659.52,
          1439.09,
          935.36,
          803.44,
          719.48,
          905.5,
          791.44,
          1103.27,
          539.58,
          815.43,
          251.74
         ],
         "yaxis": "y"
        }
       ],
       "layout": {
        "coloraxis": {
         "colorbar": {
          "title": {
           "text": "cluster"
          }
         },
         "colorscale": [
          [
           0,
           "#0d0887"
          ],
          [
           0.1111111111111111,
           "#46039f"
          ],
          [
           0.2222222222222222,
           "#7201a8"
          ],
          [
           0.3333333333333333,
           "#9c179e"
          ],
          [
           0.4444444444444444,
           "#bd3786"
          ],
          [
           0.5555555555555556,
           "#d8576b"
          ],
          [
           0.6666666666666666,
           "#ed7953"
          ],
          [
           0.7777777777777778,
           "#fb9f3a"
          ],
          [
           0.8888888888888888,
           "#fdca26"
          ],
          [
           1,
           "#f0f921"
          ]
         ]
        },
        "legend": {
         "tracegroupgap": 0
        },
        "margin": {
         "t": 60
        },
        "template": {
         "data": {
          "bar": [
           {
            "error_x": {
             "color": "#2a3f5f"
            },
            "error_y": {
             "color": "#2a3f5f"
            },
            "marker": {
             "line": {
              "color": "#E5ECF6",
              "width": 0.5
             },
             "pattern": {
              "fillmode": "overlay",
              "size": 10,
              "solidity": 0.2
             }
            },
            "type": "bar"
           }
          ],
          "barpolar": [
           {
            "marker": {
             "line": {
              "color": "#E5ECF6",
              "width": 0.5
             },
             "pattern": {
              "fillmode": "overlay",
              "size": 10,
              "solidity": 0.2
             }
            },
            "type": "barpolar"
           }
          ],
          "carpet": [
           {
            "aaxis": {
             "endlinecolor": "#2a3f5f",
             "gridcolor": "white",
             "linecolor": "white",
             "minorgridcolor": "white",
             "startlinecolor": "#2a3f5f"
            },
            "baxis": {
             "endlinecolor": "#2a3f5f",
             "gridcolor": "white",
             "linecolor": "white",
             "minorgridcolor": "white",
             "startlinecolor": "#2a3f5f"
            },
            "type": "carpet"
           }
          ],
          "choropleth": [
           {
            "colorbar": {
             "outlinewidth": 0,
             "ticks": ""
            },
            "type": "choropleth"
           }
          ],
          "contour": [
           {
            "colorbar": {
             "outlinewidth": 0,
             "ticks": ""
            },
            "colorscale": [
             [
              0,
              "#0d0887"
             ],
             [
              0.1111111111111111,
              "#46039f"
             ],
             [
              0.2222222222222222,
              "#7201a8"
             ],
             [
              0.3333333333333333,
              "#9c179e"
             ],
             [
              0.4444444444444444,
              "#bd3786"
             ],
             [
              0.5555555555555556,
              "#d8576b"
             ],
             [
              0.6666666666666666,
              "#ed7953"
             ],
             [
              0.7777777777777778,
              "#fb9f3a"
             ],
             [
              0.8888888888888888,
              "#fdca26"
             ],
             [
              1,
              "#f0f921"
             ]
            ],
            "type": "contour"
           }
          ],
          "contourcarpet": [
           {
            "colorbar": {
             "outlinewidth": 0,
             "ticks": ""
            },
            "type": "contourcarpet"
           }
          ],
          "heatmap": [
           {
            "colorbar": {
             "outlinewidth": 0,
             "ticks": ""
            },
            "colorscale": [
             [
              0,
              "#0d0887"
             ],
             [
              0.1111111111111111,
              "#46039f"
             ],
             [
              0.2222222222222222,
              "#7201a8"
             ],
             [
              0.3333333333333333,
              "#9c179e"
             ],
             [
              0.4444444444444444,
              "#bd3786"
             ],
             [
              0.5555555555555556,
              "#d8576b"
             ],
             [
              0.6666666666666666,
              "#ed7953"
             ],
             [
              0.7777777777777778,
              "#fb9f3a"
             ],
             [
              0.8888888888888888,
              "#fdca26"
             ],
             [
              1,
              "#f0f921"
             ]
            ],
            "type": "heatmap"
           }
          ],
          "heatmapgl": [
           {
            "colorbar": {
             "outlinewidth": 0,
             "ticks": ""
            },
            "colorscale": [
             [
              0,
              "#0d0887"
             ],
             [
              0.1111111111111111,
              "#46039f"
             ],
             [
              0.2222222222222222,
              "#7201a8"
             ],
             [
              0.3333333333333333,
              "#9c179e"
             ],
             [
              0.4444444444444444,
              "#bd3786"
             ],
             [
              0.5555555555555556,
              "#d8576b"
             ],
             [
              0.6666666666666666,
              "#ed7953"
             ],
             [
              0.7777777777777778,
              "#fb9f3a"
             ],
             [
              0.8888888888888888,
              "#fdca26"
             ],
             [
              1,
              "#f0f921"
             ]
            ],
            "type": "heatmapgl"
           }
          ],
          "histogram": [
           {
            "marker": {
             "pattern": {
              "fillmode": "overlay",
              "size": 10,
              "solidity": 0.2
             }
            },
            "type": "histogram"
           }
          ],
          "histogram2d": [
           {
            "colorbar": {
             "outlinewidth": 0,
             "ticks": ""
            },
            "colorscale": [
             [
              0,
              "#0d0887"
             ],
             [
              0.1111111111111111,
              "#46039f"
             ],
             [
              0.2222222222222222,
              "#7201a8"
             ],
             [
              0.3333333333333333,
              "#9c179e"
             ],
             [
              0.4444444444444444,
              "#bd3786"
             ],
             [
              0.5555555555555556,
              "#d8576b"
             ],
             [
              0.6666666666666666,
              "#ed7953"
             ],
             [
              0.7777777777777778,
              "#fb9f3a"
             ],
             [
              0.8888888888888888,
              "#fdca26"
             ],
             [
              1,
              "#f0f921"
             ]
            ],
            "type": "histogram2d"
           }
          ],
          "histogram2dcontour": [
           {
            "colorbar": {
             "outlinewidth": 0,
             "ticks": ""
            },
            "colorscale": [
             [
              0,
              "#0d0887"
             ],
             [
              0.1111111111111111,
              "#46039f"
             ],
             [
              0.2222222222222222,
              "#7201a8"
             ],
             [
              0.3333333333333333,
              "#9c179e"
             ],
             [
              0.4444444444444444,
              "#bd3786"
             ],
             [
              0.5555555555555556,
              "#d8576b"
             ],
             [
              0.6666666666666666,
              "#ed7953"
             ],
             [
              0.7777777777777778,
              "#fb9f3a"
             ],
             [
              0.8888888888888888,
              "#fdca26"
             ],
             [
              1,
              "#f0f921"
             ]
            ],
            "type": "histogram2dcontour"
           }
          ],
          "mesh3d": [
           {
            "colorbar": {
             "outlinewidth": 0,
             "ticks": ""
            },
            "type": "mesh3d"
           }
          ],
          "parcoords": [
           {
            "line": {
             "colorbar": {
              "outlinewidth": 0,
              "ticks": ""
             }
            },
            "type": "parcoords"
           }
          ],
          "pie": [
           {
            "automargin": true,
            "type": "pie"
           }
          ],
          "scatter": [
           {
            "fillpattern": {
             "fillmode": "overlay",
             "size": 10,
             "solidity": 0.2
            },
            "type": "scatter"
           }
          ],
          "scatter3d": [
           {
            "line": {
             "colorbar": {
              "outlinewidth": 0,
              "ticks": ""
             }
            },
            "marker": {
             "colorbar": {
              "outlinewidth": 0,
              "ticks": ""
             }
            },
            "type": "scatter3d"
           }
          ],
          "scattercarpet": [
           {
            "marker": {
             "colorbar": {
              "outlinewidth": 0,
              "ticks": ""
             }
            },
            "type": "scattercarpet"
           }
          ],
          "scattergeo": [
           {
            "marker": {
             "colorbar": {
              "outlinewidth": 0,
              "ticks": ""
             }
            },
            "type": "scattergeo"
           }
          ],
          "scattergl": [
           {
            "marker": {
             "colorbar": {
              "outlinewidth": 0,
              "ticks": ""
             }
            },
            "type": "scattergl"
           }
          ],
          "scattermapbox": [
           {
            "marker": {
             "colorbar": {
              "outlinewidth": 0,
              "ticks": ""
             }
            },
            "type": "scattermapbox"
           }
          ],
          "scatterpolar": [
           {
            "marker": {
             "colorbar": {
              "outlinewidth": 0,
              "ticks": ""
             }
            },
            "type": "scatterpolar"
           }
          ],
          "scatterpolargl": [
           {
            "marker": {
             "colorbar": {
              "outlinewidth": 0,
              "ticks": ""
             }
            },
            "type": "scatterpolargl"
           }
          ],
          "scatterternary": [
           {
            "marker": {
             "colorbar": {
              "outlinewidth": 0,
              "ticks": ""
             }
            },
            "type": "scatterternary"
           }
          ],
          "surface": [
           {
            "colorbar": {
             "outlinewidth": 0,
             "ticks": ""
            },
            "colorscale": [
             [
              0,
              "#0d0887"
             ],
             [
              0.1111111111111111,
              "#46039f"
             ],
             [
              0.2222222222222222,
              "#7201a8"
             ],
             [
              0.3333333333333333,
              "#9c179e"
             ],
             [
              0.4444444444444444,
              "#bd3786"
             ],
             [
              0.5555555555555556,
              "#d8576b"
             ],
             [
              0.6666666666666666,
              "#ed7953"
             ],
             [
              0.7777777777777778,
              "#fb9f3a"
             ],
             [
              0.8888888888888888,
              "#fdca26"
             ],
             [
              1,
              "#f0f921"
             ]
            ],
            "type": "surface"
           }
          ],
          "table": [
           {
            "cells": {
             "fill": {
              "color": "#EBF0F8"
             },
             "line": {
              "color": "white"
             }
            },
            "header": {
             "fill": {
              "color": "#C8D4E3"
             },
             "line": {
              "color": "white"
             }
            },
            "type": "table"
           }
          ]
         },
         "layout": {
          "annotationdefaults": {
           "arrowcolor": "#2a3f5f",
           "arrowhead": 0,
           "arrowwidth": 1
          },
          "autotypenumbers": "strict",
          "coloraxis": {
           "colorbar": {
            "outlinewidth": 0,
            "ticks": ""
           }
          },
          "colorscale": {
           "diverging": [
            [
             0,
             "#8e0152"
            ],
            [
             0.1,
             "#c51b7d"
            ],
            [
             0.2,
             "#de77ae"
            ],
            [
             0.3,
             "#f1b6da"
            ],
            [
             0.4,
             "#fde0ef"
            ],
            [
             0.5,
             "#f7f7f7"
            ],
            [
             0.6,
             "#e6f5d0"
            ],
            [
             0.7,
             "#b8e186"
            ],
            [
             0.8,
             "#7fbc41"
            ],
            [
             0.9,
             "#4d9221"
            ],
            [
             1,
             "#276419"
            ]
           ],
           "sequential": [
            [
             0,
             "#0d0887"
            ],
            [
             0.1111111111111111,
             "#46039f"
            ],
            [
             0.2222222222222222,
             "#7201a8"
            ],
            [
             0.3333333333333333,
             "#9c179e"
            ],
            [
             0.4444444444444444,
             "#bd3786"
            ],
            [
             0.5555555555555556,
             "#d8576b"
            ],
            [
             0.6666666666666666,
             "#ed7953"
            ],
            [
             0.7777777777777778,
             "#fb9f3a"
            ],
            [
             0.8888888888888888,
             "#fdca26"
            ],
            [
             1,
             "#f0f921"
            ]
           ],
           "sequentialminus": [
            [
             0,
             "#0d0887"
            ],
            [
             0.1111111111111111,
             "#46039f"
            ],
            [
             0.2222222222222222,
             "#7201a8"
            ],
            [
             0.3333333333333333,
             "#9c179e"
            ],
            [
             0.4444444444444444,
             "#bd3786"
            ],
            [
             0.5555555555555556,
             "#d8576b"
            ],
            [
             0.6666666666666666,
             "#ed7953"
            ],
            [
             0.7777777777777778,
             "#fb9f3a"
            ],
            [
             0.8888888888888888,
             "#fdca26"
            ],
            [
             1,
             "#f0f921"
            ]
           ]
          },
          "colorway": [
           "#636efa",
           "#EF553B",
           "#00cc96",
           "#ab63fa",
           "#FFA15A",
           "#19d3f3",
           "#FF6692",
           "#B6E880",
           "#FF97FF",
           "#FECB52"
          ],
          "font": {
           "color": "#2a3f5f"
          },
          "geo": {
           "bgcolor": "white",
           "lakecolor": "white",
           "landcolor": "#E5ECF6",
           "showlakes": true,
           "showland": true,
           "subunitcolor": "white"
          },
          "hoverlabel": {
           "align": "left"
          },
          "hovermode": "closest",
          "mapbox": {
           "style": "light"
          },
          "paper_bgcolor": "white",
          "plot_bgcolor": "#E5ECF6",
          "polar": {
           "angularaxis": {
            "gridcolor": "white",
            "linecolor": "white",
            "ticks": ""
           },
           "bgcolor": "#E5ECF6",
           "radialaxis": {
            "gridcolor": "white",
            "linecolor": "white",
            "ticks": ""
           }
          },
          "scene": {
           "xaxis": {
            "backgroundcolor": "#E5ECF6",
            "gridcolor": "white",
            "gridwidth": 2,
            "linecolor": "white",
            "showbackground": true,
            "ticks": "",
            "zerolinecolor": "white"
           },
           "yaxis": {
            "backgroundcolor": "#E5ECF6",
            "gridcolor": "white",
            "gridwidth": 2,
            "linecolor": "white",
            "showbackground": true,
            "ticks": "",
            "zerolinecolor": "white"
           },
           "zaxis": {
            "backgroundcolor": "#E5ECF6",
            "gridcolor": "white",
            "gridwidth": 2,
            "linecolor": "white",
            "showbackground": true,
            "ticks": "",
            "zerolinecolor": "white"
           }
          },
          "shapedefaults": {
           "line": {
            "color": "#2a3f5f"
           }
          },
          "ternary": {
           "aaxis": {
            "gridcolor": "white",
            "linecolor": "white",
            "ticks": ""
           },
           "baxis": {
            "gridcolor": "white",
            "linecolor": "white",
            "ticks": ""
           },
           "bgcolor": "#E5ECF6",
           "caxis": {
            "gridcolor": "white",
            "linecolor": "white",
            "ticks": ""
           }
          },
          "title": {
           "x": 0.05
          },
          "xaxis": {
           "automargin": true,
           "gridcolor": "white",
           "linecolor": "white",
           "ticks": "",
           "title": {
            "standoff": 15
           },
           "zerolinecolor": "white",
           "zerolinewidth": 2
          },
          "yaxis": {
           "automargin": true,
           "gridcolor": "white",
           "linecolor": "white",
           "ticks": "",
           "title": {
            "standoff": 15
           },
           "zerolinecolor": "white",
           "zerolinewidth": 2
          }
         }
        },
        "xaxis": {
         "anchor": "y",
         "domain": [
          0,
          1
         ],
         "title": {
          "text": "brand"
         }
        },
        "yaxis": {
         "anchor": "x",
         "domain": [
          0,
          1
         ],
         "title": {
          "text": "price"
         }
        }
       }
      }
     },
     "metadata": {},
     "output_type": "display_data"
    }
   ],
   "source": [
    "# Cruzamento entre brand e price apresentando os clusters\n",
    "px.scatter(df_laptops, x='brand', y='price', color='cluster')"
   ]
  },
  {
   "cell_type": "code",
   "execution_count": 59,
   "metadata": {},
   "outputs": [
    {
     "data": {
      "application/vnd.plotly.v1+json": {
       "config": {
        "plotlyServerURL": "https://plot.ly"
       },
       "data": [
        {
         "hovertemplate": "brand=tecno<br>cluster=%{x}<br>price=%{y}<extra></extra>",
         "legendgroup": "tecno",
         "marker": {
          "color": "#636efa",
          "symbol": "circle"
         },
         "mode": "markers",
         "name": "tecno",
         "orientation": "v",
         "showlegend": true,
         "type": "scatter",
         "x": [
          36,
          47
         ],
         "xaxis": "x",
         "y": [
          287.72,
          431.64
         ],
         "yaxis": "y"
        },
        {
         "hovertemplate": "brand=hp<br>cluster=%{x}<br>price=%{y}<extra></extra>",
         "legendgroup": "hp",
         "marker": {
          "color": "#EF553B",
          "symbol": "circle"
         },
         "mode": "markers",
         "name": "hp",
         "orientation": "v",
         "showlegend": true,
         "type": "scatter",
         "x": [
          69,
          97,
          24,
          18,
          33,
          12,
          42,
          42,
          39,
          111,
          12,
          39,
          18,
          61,
          111,
          19,
          39,
          39,
          10,
          44,
          61,
          134,
          43,
          61,
          61,
          134,
          69,
          69,
          71,
          63,
          63,
          36,
          69,
          128,
          29,
          44,
          111,
          29,
          97,
          10,
          44,
          33,
          69,
          43,
          25,
          12,
          65,
          39,
          24,
          132,
          111,
          42,
          69,
          2,
          97,
          42,
          25,
          63,
          69,
          48,
          18,
          69,
          39,
          97,
          9,
          9,
          136,
          61,
          42,
          36,
          134,
          106,
          48,
          28,
          69,
          27,
          135,
          111,
          27,
          13,
          12,
          135,
          97,
          39,
          12,
          39,
          78,
          14,
          134,
          64,
          24,
          60,
          30,
          59,
          97,
          65,
          45,
          135,
          25,
          69,
          9,
          63,
          25,
          71,
          78,
          78,
          145,
          61,
          63,
          30,
          18,
          30,
          39,
          14,
          30,
          69,
          13,
          39,
          111,
          9,
          36,
          3,
          18,
          30,
          136,
          93,
          2,
          35,
          43,
          39,
          71,
          39,
          3,
          35,
          33,
          132,
          42,
          42,
          111,
          111,
          111,
          42,
          100,
          17,
          13,
          9,
          12,
          42,
          100,
          28,
          17,
          25,
          100,
          28,
          139,
          12,
          111,
          44,
          33,
          65,
          18,
          48,
          42,
          111,
          28,
          18,
          71,
          61,
          42,
          9,
          39,
          134,
          42,
          63,
          134,
          9,
          42,
          134,
          97,
          73,
          97,
          97,
          134,
          61,
          93,
          65,
          30,
          97,
          39,
          61,
          71,
          8,
          29,
          139,
          49,
          40,
          69,
          78,
          106,
          98,
          35,
          63,
          106,
          40,
          35
         ],
         "xaxis": "x",
         "y": [
          612.86,
          443.64,
          1846.86,
          665.51,
          231.46,
          947.36,
          863.51,
          647.52,
          1065.01,
          642.49,
          1403.11,
          849.25,
          1002.53,
          653.52,
          509.71,
          1774.9,
          839.53,
          863.4,
          934.27,
          695.5,
          599.66,
          731.48,
          803.44,
          623.54,
          671.51,
          621.26,
          596.97,
          524.11,
          418.45,
          389.67,
          520.51,
          372.87,
          485.72,
          2426.74,
          1989.7,
          731.48,
          611.65,
          1989.7,
          476.14,
          824.07,
          731.48,
          287.83,
          383.78,
          1112.99,
          875.51,
          1044.5,
          419.65,
          773.57,
          2116.82,
          1139.25,
          671.51,
          875.76,
          599.55,
          629.53,
          482.01,
          743.47,
          1073.29,
          419.65,
          611.54,
          563.57,
          851.41,
          623.54,
          695.5,
          581.08,
          959.35,
          767.46,
          231.46,
          718.06,
          683.61,
          487.04,
          767.46,
          299.71,
          500.72,
          1084.97,
          953.08,
          689.62,
          654.83,
          622.47,
          807.01,
          1862.56,
          1342.58,
          918.68,
          491.61,
          1192.98,
          1355.13,
          1091.39,
          430.56,
          4107.74,
          637.93,
          1110.47,
          3112.27,
          3514.05,
          1990.89,
          2020.89,
          467.62,
          347.69,
          1079.39,
          899.49,
          1367.23,
          623.54,
          1087.67,
          480.93,
          910.18,
          335.7,
          731.58,
          533.59,
          2194.67,
          696.46,
          383.67,
          1834.87,
          898.9,
          1432.01,
          1199.33,
          2870.01,
          1590.31,
          611.65,
          1259.74,
          1220.93,
          677.51,
          936.68,
          441.24,
          1762.91,
          1475.31,
          1678.95,
          275.73,
          524.53,
          520.51,
          311.71,
          1520.76,
          1598.35,
          395.66,
          1444.59,
          2759.2,
          611.54,
          287.83,
          1175.34,
          1158.44,
          1055.3,
          1039.71,
          1051.7,
          946.16,
          1007.32,
          467.62,
          611.54,
          1292.44,
          935.71,
          1387.71,
          1319.15,
          539.58,
          575.56,
          635.53,
          1391.11,
          539.58,
          644.03,
          467.62,
          1574.92,
          780.77,
          701.6,
          344.81,
          338.29,
          887.39,
          550.48,
          821.42,
          759.35,
          467.62,
          779.45,
          353.69,
          743.47,
          905.9,
          1104.23,
          839.42,
          808.35,
          779.45,
          395.66,
          737.47,
          1415.22,
          954.55,
          635.53,
          480.93,
          557.57,
          571.49,
          563.57,
          725.48,
          599.55,
          786.65,
          851.53,
          1319.15,
          630.73,
          773.57,
          623.54,
          407.64,
          1439.09,
          1724.94,
          449.63,
          1749.82,
          1661.22,
          517.99,
          695.5,
          394.46,
          474.35,
          251.74,
          323.81,
          371.78,
          1858.96,
          251.74
         ],
         "yaxis": "y"
        },
        {
         "hovertemplate": "brand=acer<br>cluster=%{x}<br>price=%{y}<extra></extra>",
         "legendgroup": "acer",
         "marker": {
          "color": "#00cc96",
          "symbol": "circle"
         },
         "mode": "markers",
         "name": "acer",
         "orientation": "v",
         "showlegend": true,
         "type": "scatter",
         "x": [
          23,
          34,
          25,
          2,
          58,
          34,
          73,
          58,
          34,
          129,
          30,
          30,
          68,
          45,
          1,
          13,
          105,
          58,
          56,
          34,
          79,
          3,
          68,
          32,
          68,
          47,
          45,
          32,
          32,
          32,
          47,
          23,
          77,
          120,
          34,
          129,
          47,
          34,
          35,
          2,
          2,
          68,
          34,
          129,
          107,
          107,
          28,
          81,
          129,
          1,
          18,
          129,
          2,
          34,
          58,
          68,
          1,
          68,
          45,
          34,
          107,
          107,
          68,
          45,
          23,
          88,
          32,
          59,
          17,
          19,
          56,
          50,
          59,
          59,
          129,
          8,
          18,
          54,
          18,
          129,
          68,
          28,
          81,
          14,
          1,
          34,
          1,
          61,
          61
         ],
         "xaxis": "x",
         "y": [
          479.62,
          935.36,
          563.57,
          419.65,
          395.66,
          683.5,
          455.63,
          473.73,
          1139.25,
          575.56,
          1439.09,
          1259.19,
          371.68,
          467.62,
          395.66,
          875.4,
          2158.69,
          383.67,
          359.68,
          731.48,
          683.5,
          1439.09,
          335.7,
          563.57,
          359.68,
          557.69,
          599.55,
          539.69,
          515.7,
          563.57,
          557.57,
          683.5,
          477.34,
          287.72,
          767.57,
          791.44,
          599.55,
          739.99,
          305.71,
          479.62,
          419.65,
          515.6,
          683.5,
          635.53,
          443.64,
          503.6,
          497.61,
          1918.82,
          809.54,
          431.64,
          1559.02,
          905.49,
          503.6,
          863.4,
          369.28,
          359.56,
          353.69,
          515.6,
          491.61,
          659.52,
          394.46,
          347.8,
          479.62,
          599.55,
          698.84,
          677.51,
          670.43,
          1719.85,
          707.49,
          1715.04,
          479.62,
          441.36,
          1259.29,
          1379.12,
          539.63,
          1067.29,
          827.42,
          2399.76,
          934.17,
          551.58,
          395.66,
          384.87,
          2218.77,
          2998.23,
          335.7,
          917.48,
          359.68,
          827.53,
          905.5
         ],
         "yaxis": "y"
        },
        {
         "hovertemplate": "brand=lenovo<br>cluster=%{x}<br>price=%{y}<extra></extra>",
         "legendgroup": "lenovo",
         "marker": {
          "color": "#ab63fa",
          "symbol": "circle"
         },
         "mode": "markers",
         "name": "lenovo",
         "orientation": "v",
         "showlegend": true,
         "type": "scatter",
         "x": [
          26,
          2,
          88,
          26,
          148,
          122,
          41,
          26,
          26,
          67,
          122,
          41,
          64,
          114,
          146,
          67,
          148,
          26,
          41,
          19,
          8,
          104,
          80,
          67,
          127,
          114,
          114,
          114,
          27,
          100,
          41,
          8,
          122,
          50,
          22,
          88,
          0,
          91,
          26,
          144,
          0,
          88,
          10,
          10,
          91,
          66,
          22,
          124,
          104,
          122,
          104,
          91,
          14,
          70,
          125,
          137,
          26,
          41,
          26,
          148,
          104,
          124,
          104,
          10,
          51,
          19,
          104,
          148,
          51,
          26,
          51,
          8,
          14,
          8,
          51,
          95,
          26,
          51,
          41,
          26,
          148,
          26,
          104,
          104,
          41,
          33,
          100,
          146,
          88,
          41,
          125,
          36,
          2,
          148,
          87,
          125,
          99,
          95,
          122,
          148,
          114,
          0,
          124,
          95,
          67,
          36,
          51,
          2,
          125,
          25,
          88,
          41,
          88,
          0,
          51,
          125,
          26,
          73,
          27,
          41,
          148,
          10,
          127,
          36,
          51,
          2,
          127,
          51,
          51,
          36,
          125,
          73,
          51,
          114,
          114,
          122,
          122,
          122,
          40,
          127,
          125,
          125,
          26,
          125,
          50,
          0,
          104,
          26,
          80,
          70,
          48,
          41,
          122,
          125,
          146,
          146,
          104,
          67,
          104,
          36,
          114,
          137,
          0,
          91,
          26,
          91,
          9,
          10,
          26,
          0,
          26,
          26,
          45,
          41,
          0,
          146,
          26,
          0,
          2,
          70,
          137,
          2,
          146,
          104,
          122,
          79,
          66,
          66,
          137,
          144,
          26,
          26,
          36,
          41,
          27,
          142,
          3,
          137,
          137,
          27,
          25
         ],
         "xaxis": "x",
         "y": [
          342.77,
          569.57,
          599.55,
          335.7,
          575.56,
          683.5,
          539.58,
          419.65,
          293.12,
          587.56,
          766.25,
          444.24,
          1139.25,
          959.35,
          491.61,
          491.61,
          547.51,
          431.64,
          539.58,
          1834.87,
          1585.41,
          740.14,
          309.31,
          587.56,
          846.61,
          803.44,
          1379.12,
          1199.22,
          395.54,
          263.73,
          400.58,
          1199.22,
          779.45,
          299.71,
          1799.01,
          683.5,
          659.52,
          755.57,
          437.64,
          551.58,
          563.57,
          755.46,
          887.39,
          743.47,
          898.3,
          383.67,
          2626.43,
          1477.47,
          827.42,
          1294.22,
          622.39,
          563.57,
          4306.77,
          661.92,
          743.47,
          593.66,
          443.64,
          414.85,
          389.67,
          668.03,
          841.82,
          1105.67,
          623.54,
          1019.32,
          961.75,
          1309.56,
          649.92,
          649.92,
          937.76,
          479.62,
          1117.66,
          1969.19,
          3585.9,
          1669.36,
          841.82,
          1240.06,
          479.62,
          1079.41,
          419.65,
          395.66,
          599.55,
          479.62,
          764.12,
          599.55,
          395.66,
          362.08,
          359.68,
          563.57,
          659.52,
          509.71,
          815.43,
          439.56,
          587.56,
          599.55,
          1043.31,
          791.44,
          2230.65,
          1547.03,
          1367.13,
          623.54,
          839.42,
          575.56,
          1201.62,
          1648.97,
          647.52,
          443.76,
          1057.7,
          755.46,
          796.23,
          863.4,
          741.9,
          443.64,
          745.87,
          707.49,
          721.88,
          769.86,
          503.6,
          539.58,
          545.58,
          569.57,
          705.81,
          767.46,
          841.82,
          440.04,
          805.84,
          563.57,
          1009.72,
          1043.31,
          935.36,
          449.75,
          707.49,
          527.59,
          833.47,
          1175.23,
          1097.28,
          1061.74,
          1199.22,
          1319.15,
          2700.79,
          1078.07,
          899.38,
          779.45,
          486.81,
          791.44,
          290.12,
          635.53,
          755.46,
          394.57,
          299.71,
          635.53,
          831.68,
          539.58,
          875.4,
          680.03,
          791.44,
          647.52,
          688.3,
          599.55,
          725.48,
          425.65,
          863.4,
          545.7,
          599.66,
          793.95,
          401.66,
          803.56,
          1499.17,
          905.49,
          491.61,
          563.57,
          457.8,
          335.7,
          886.31,
          419.65,
          419.65,
          562.49,
          359.68,
          557.57,
          624.87,
          898.17,
          377.67,
          634.45,
          633.18,
          757.86,
          971.46,
          1478.44,
          266.72,
          263.73,
          263.73,
          551.58,
          401.66,
          430.44,
          437.64,
          551.58,
          791.55,
          407.66,
          1754.29,
          521.71,
          371.68,
          386.19,
          719.48
         ],
         "yaxis": "y"
        },
        {
         "hovertemplate": "brand=apple<br>cluster=%{x}<br>price=%{y}<extra></extra>",
         "legendgroup": "apple",
         "marker": {
          "color": "#FFA15A",
          "symbol": "circle"
         },
         "mode": "markers",
         "name": "apple",
         "orientation": "v",
         "showlegend": true,
         "type": "scatter",
         "x": [
          115,
          143,
          115,
          37,
          115,
          103,
          103,
          126,
          37,
          37,
          115,
          115,
          119,
          119,
          37
         ],
         "xaxis": "x",
         "y": [
          851.41,
          4796.16,
          1235.2,
          1439.09,
          1319.15,
          3476.88,
          4196.49,
          2997.15,
          2397.48,
          1738.92,
          1595,
          1642.97,
          2277.54,
          2877.21,
          2037.68
         ],
         "yaxis": "y"
        },
        {
         "hovertemplate": "brand=infinix<br>cluster=%{x}<br>price=%{y}<extra></extra>",
         "legendgroup": "infinix",
         "marker": {
          "color": "#19d3f3",
          "symbol": "circle"
         },
         "mode": "markers",
         "name": "infinix",
         "orientation": "v",
         "showlegend": true,
         "type": "scatter",
         "x": [
          2,
          84,
          46,
          56,
          46,
          47,
          84,
          23,
          88,
          56,
          46,
          23,
          45
         ],
         "xaxis": "x",
         "y": [
          419.65,
          719.48,
          359.68,
          335.7,
          323.7,
          431.64,
          695.5,
          467.62,
          587.56,
          311.71,
          299.71,
          539.58,
          467.62
         ],
         "yaxis": "y"
        },
        {
         "hovertemplate": "brand=asus<br>cluster=%{x}<br>price=%{y}<extra></extra>",
         "legendgroup": "asus",
         "marker": {
          "color": "#FF6692",
          "symbol": "circle"
         },
         "mode": "markers",
         "name": "asus",
         "orientation": "v",
         "showlegend": true,
         "type": "scatter",
         "x": [
          44,
          11,
          43,
          15,
          46,
          1,
          6,
          130,
          14,
          90,
          31,
          45,
          30,
          6,
          13,
          31,
          45,
          31,
          31,
          6,
          86,
          44,
          55,
          55,
          121,
          118,
          99,
          130,
          94,
          11,
          46,
          31,
          2,
          108,
          102,
          4,
          6,
          13,
          6,
          6,
          6,
          44,
          31,
          61,
          56,
          31,
          11,
          77,
          81,
          81,
          3,
          15,
          6,
          90,
          125,
          52,
          49,
          94,
          11,
          73,
          11,
          46,
          9,
          8,
          4,
          4,
          108,
          100,
          131,
          6,
          116,
          86,
          90,
          50,
          90,
          15,
          4,
          25,
          87,
          87,
          43,
          90,
          71,
          77,
          2,
          31,
          108,
          108,
          43,
          3,
          6,
          4,
          4,
          4,
          94,
          4,
          6,
          6,
          6,
          6,
          94,
          86,
          100,
          6,
          86,
          3,
          28,
          94,
          6,
          86,
          86,
          46,
          31,
          66,
          94,
          6,
          6,
          86,
          19,
          86,
          101,
          31,
          31,
          6,
          31,
          15,
          6,
          101,
          20,
          15,
          79,
          86,
          49,
          46,
          66,
          2,
          1,
          64,
          94,
          8,
          30,
          72,
          12,
          3,
          8,
          43,
          86,
          72,
          101,
          12,
          131,
          123,
          3,
          31,
          6,
          140,
          52,
          3,
          79,
          55,
          19,
          123,
          2,
          71,
          94,
          140,
          73,
          56,
          13,
          13,
          55,
          13,
          31,
          9,
          94,
          28,
          15,
          25,
          31,
          31,
          31,
          28,
          28,
          13,
          31,
          13,
          13,
          31,
          31,
          94,
          9,
          94,
          124,
          48,
          108,
          73,
          118,
          54,
          100,
          17,
          100,
          86,
          14,
          48,
          64,
          77,
          11,
          86,
          1,
          118
         ],
         "xaxis": "x",
         "y": [
          599.55,
          688.3,
          911.38,
          479.62,
          335.7,
          563.57,
          767.46,
          1362.1,
          3238.1,
          888.53,
          731.48,
          431.64,
          1307.16,
          695.5,
          869.4,
          835.81,
          563.57,
          647.52,
          979.73,
          1139.25,
          875.4,
          647.52,
          1031.31,
          815.43,
          902.5,
          803.44,
          1858.86,
          1156.03,
          527.59,
          635.53,
          401.66,
          875.4,
          575.56,
          1103.27,
          1019.32,
          215.76,
          875.4,
          899.38,
          1259.19,
          1080.12,
          1029.03,
          695.5,
          731.48,
          719.48,
          383.67,
          677.63,
          683.5,
          1439.09,
          2158.69,
          2278.62,
          1457.07,
          573.64,
          1079.29,
          667.9,
          839.42,
          947.36,
          1268.17,
          515.6,
          647.52,
          582.63,
          851.41,
          370.48,
          750.79,
          1738.92,
          393.68,
          362.19,
          1037.43,
          570.29,
          779.45,
          1188.68,
          335.7,
          959.11,
          1031.31,
          179.78,
          800.18,
          647.52,
          251.74,
          1039.7,
          832.79,
          887.39,
          1199.22,
          1033.7,
          338.09,
          881.07,
          539.58,
          724.15,
          887.39,
          839.42,
          1187.23,
          1091.28,
          1379.12,
          203.77,
          308.84,
          227.75,
          535.37,
          275.74,
          1180.97,
          911.38,
          911.38,
          1131.8,
          490.84,
          858.73,
          407.66,
          695.5,
          719.48,
          1079.29,
          450.81,
          443.64,
          1139.25,
          839.42,
          875.4,
          393.26,
          719.48,
          311.71,
          472.42,
          779.45,
          1067.41,
          839.54,
          1702.93,
          918.69,
          1559.02,
          767.46,
          887.39,
          1199.22,
          743.47,
          671.51,
          1002.64,
          1678.95,
          707.49,
          575.44,
          839.42,
          779.45,
          1142.97,
          420.76,
          335.7,
          593.55,
          587.56,
          923.37,
          479.62,
          1256.3,
          1521.84,
          2398.56,
          1583.01,
          1605.8,
          1858.86,
          1731.92,
          1139.25,
          3130.16,
          1798.89,
          1618.99,
          724.15,
          2517.29,
          1858.86,
          839.42,
          1018.84,
          1360.06,
          1271.18,
          1336.53,
          918.92,
          1127.37,
          1937.09,
          2398.56,
          431.64,
          370.92,
          555.15,
          1499.05,
          707.49,
          383.67,
          1583.13,
          1391.11,
          1079.29,
          1094.28,
          755.46,
          862.78,
          477.22,
          467.5,
          671.51,
          851.41,
          749.59,
          825.15,
          1031.31,
          551.58,
          719.48,
          1259.19,
          820.23,
          1175.23,
          1115.27,
          779.45,
          899.38,
          527.59,
          767.46,
          470.64,
          1559.02,
          707.49,
          953.47,
          609.08,
          742.39,
          2998.23,
          539.34,
          547.98,
          386.07,
          827.42,
          3358.03,
          659.52,
          935.36,
          803.44,
          719.48,
          791.44,
          539.58,
          815.43
         ],
         "yaxis": "y"
        },
        {
         "hovertemplate": "brand=dell<br>cluster=%{x}<br>price=%{y}<extra></extra>",
         "legendgroup": "dell",
         "marker": {
          "color": "#B6E880",
          "symbol": "circle"
         },
         "mode": "markers",
         "name": "dell",
         "orientation": "v",
         "showlegend": true,
         "type": "scatter",
         "x": [
          92,
          74,
          74,
          48,
          10,
          52,
          15,
          43,
          121,
          105,
          92,
          93,
          43,
          62,
          88,
          17,
          96,
          141,
          138,
          81,
          62,
          53,
          92,
          96,
          53,
          43,
          92,
          53,
          53,
          92,
          92,
          88,
          15,
          15,
          62,
          93,
          10,
          93,
          92,
          10,
          16,
          141,
          92,
          38,
          62,
          38,
          62,
          133,
          53,
          10,
          53,
          92,
          38,
          99,
          38,
          70,
          147,
          17,
          14,
          12,
          75,
          109,
          133,
          10,
          141,
          133,
          62,
          96,
          96,
          92,
          62,
          62,
          144,
          74,
          21,
          85,
          62,
          123,
          52,
          15,
          19,
          54,
          96,
          96,
          92,
          96,
          96,
          53,
          53,
          74,
          68,
          81,
          74,
          74,
          121,
          72,
          19,
          21,
          21,
          92,
          45,
          48,
          62,
          15,
          96,
          74
         ],
         "xaxis": "x",
         "y": [
          419.65,
          818.42,
          974.94,
          475.53,
          1037.31,
          869.4,
          599.67,
          1007.32,
          827.42,
          1780.9,
          455.63,
          791.44,
          929.37,
          470.62,
          687.22,
          611.54,
          839.53,
          626.04,
          1055.3,
          2500.5,
          440.53,
          718.28,
          419.65,
          1823,
          1067.29,
          1265.18,
          617.5,
          683.5,
          743.47,
          815.89,
          675.71,
          682.18,
          683.5,
          611.54,
          467.62,
          791.44,
          1193.1,
          719.48,
          449.63,
          1031.31,
          2677.82,
          550.14,
          459.93,
          1187.23,
          395.66,
          1049.3,
          575.56,
          929.37,
          496.92,
          1046.9,
          725.48,
          447.13,
          1013.32,
          3088.18,
          1151.25,
          730.4,
          5450.88,
          814.23,
          3885.74,
          2266.63,
          5408.9,
          3597.9,
          785.57,
          887.39,
          471.22,
          719.48,
          501.42,
          1055.3,
          1085.28,
          491.61,
          523.99,
          671.51,
          575.56,
          955.75,
          3352.03,
          2422.55,
          490.41,
          2464.52,
          1138.17,
          743.47,
          1894.84,
          1996.78,
          1193.22,
          959.71,
          515.6,
          1067.17,
          863.4,
          887.39,
          743.47,
          1790.49,
          515.72,
          2254.64,
          1319.15,
          1559.02,
          976.29,
          2704.39,
          2650.42,
          4659.31,
          4419.44,
          575.56,
          623.54,
          461.63,
          539.58,
          670.43,
          1434.41,
          1055.3
         ],
         "yaxis": "y"
        },
        {
         "hovertemplate": "brand=samsung<br>cluster=%{x}<br>price=%{y}<extra></extra>",
         "legendgroup": "samsung",
         "marker": {
          "color": "#FF97FF",
          "symbol": "circle"
         },
         "mode": "markers",
         "name": "samsung",
         "orientation": "v",
         "showlegend": true,
         "type": "scatter",
         "x": [
          57,
          15,
          88,
          15,
          88,
          15,
          57
         ],
         "xaxis": "x",
         "y": [
          779.45,
          539.58,
          575.56,
          839.42,
          911.38,
          659.52,
          1403.11
         ],
         "yaxis": "y"
        },
        {
         "hovertemplate": "brand=msi<br>cluster=%{x}<br>price=%{y}<extra></extra>",
         "legendgroup": "msi",
         "marker": {
          "color": "#FECB52",
          "symbol": "circle"
         },
         "mode": "markers",
         "name": "msi",
         "orientation": "v",
         "showlegend": true,
         "type": "scatter",
         "x": [
          7,
          20,
          56,
          7,
          7,
          16,
          1,
          2,
          23,
          20,
          44,
          20,
          45,
          23,
          7,
          45,
          7,
          7,
          17,
          20,
          59,
          20,
          19,
          82,
          11,
          16,
          7,
          7,
          20,
          7,
          89,
          19,
          89,
          44,
          7,
          7,
          89,
          19,
          14,
          23,
          58,
          3,
          79,
          7,
          44,
          7,
          18,
          61,
          12,
          18,
          12,
          44,
          12,
          18,
          0,
          44,
          17,
          121,
          20,
          117,
          20,
          44,
          20,
          54,
          20,
          20,
          45,
          45,
          60,
          7,
          20,
          54,
          60,
          19,
          20,
          11,
          1,
          73,
          48,
          0,
          23,
          112,
          20,
          112,
          88,
          23,
          23,
          0,
          20,
          7
         ],
         "xaxis": "x",
         "y": [
          635.53,
          800.92,
          431.16,
          839.42,
          659.52,
          899.38,
          599.55,
          503.6,
          659.52,
          743.47,
          635.53,
          755.46,
          479.62,
          647.52,
          683.5,
          443.64,
          815.43,
          785.45,
          527.59,
          1271.18,
          1007.32,
          795.76,
          2398.56,
          5396.91,
          959.35,
          2357.66,
          755.46,
          1139.25,
          1163.24,
          1259.19,
          1798.89,
          1798.89,
          1379.12,
          671.51,
          707.49,
          671.51,
          2398.56,
          1439.09,
          3597.9,
          983.34,
          443.64,
          1912.07,
          1079.29,
          887.39,
          575.56,
          1343.14,
          695.5,
          659.52,
          1259.19,
          899.38,
          1139.25,
          611.54,
          1139.25,
          1019.32,
          731.48,
          623.54,
          635.53,
          1103.27,
          1055.3,
          3358.03,
          923.37,
          875.4,
          1043.31,
          2998.23,
          767.46,
          1163.24,
          983.34,
          839.42,
          3130.16,
          781.85,
          875.4,
          2638.43,
          2590.45,
          2062.74,
          839.42,
          743.47,
          527.59,
          587.56,
          503.6,
          455.63,
          569.57,
          1115.27,
          995.33,
          1048.11,
          606.76,
          731.48,
          647.52,
          491.61,
          1439.09,
          1103.27
         ],
         "yaxis": "y"
        },
        {
         "hovertemplate": "brand=wings<br>cluster=%{x}<br>price=%{y}<extra></extra>",
         "legendgroup": "wings",
         "marker": {
          "color": "#636efa",
          "symbol": "circle"
         },
         "mode": "markers",
         "name": "wings",
         "orientation": "v",
         "showlegend": true,
         "type": "scatter",
         "x": [
          5,
          5,
          5,
          5
         ],
         "xaxis": "x",
         "y": [
          335.7,
          479.62,
          299.71,
          323.7
         ],
         "yaxis": "y"
        },
        {
         "hovertemplate": "brand=ultimus<br>cluster=%{x}<br>price=%{y}<extra></extra>",
         "legendgroup": "ultimus",
         "marker": {
          "color": "#EF553B",
          "symbol": "circle"
         },
         "mode": "markers",
         "name": "ultimus",
         "orientation": "v",
         "showlegend": true,
         "type": "scatter",
         "x": [
          56,
          80,
          80,
          80,
          80,
          56
         ],
         "xaxis": "x",
         "y": [
          239.75,
          191.77,
          143.8,
          179.78,
          197.77,
          274.8
         ],
         "yaxis": "y"
        },
        {
         "hovertemplate": "brand=primebook<br>cluster=%{x}<br>price=%{y}<extra></extra>",
         "legendgroup": "primebook",
         "marker": {
          "color": "#00cc96",
          "symbol": "circle"
         },
         "mode": "markers",
         "name": "primebook",
         "orientation": "v",
         "showlegend": true,
         "type": "scatter",
         "x": [
          83,
          83
         ],
         "xaxis": "x",
         "y": [
          179.78,
          155.79
         ],
         "yaxis": "y"
        },
        {
         "hovertemplate": "brand=iball<br>cluster=%{x}<br>price=%{y}<extra></extra>",
         "legendgroup": "iball",
         "marker": {
          "color": "#ab63fa",
          "symbol": "circle"
         },
         "mode": "markers",
         "name": "iball",
         "orientation": "v",
         "showlegend": true,
         "type": "scatter",
         "x": [
          50
         ],
         "xaxis": "x",
         "y": [
          117.54
         ],
         "yaxis": "y"
        },
        {
         "hovertemplate": "brand=zebronics<br>cluster=%{x}<br>price=%{y}<extra></extra>",
         "legendgroup": "zebronics",
         "marker": {
          "color": "#FFA15A",
          "symbol": "circle"
         },
         "mode": "markers",
         "name": "zebronics",
         "orientation": "v",
         "showlegend": true,
         "type": "scatter",
         "x": [
          58,
          2,
          25,
          58,
          32,
          58,
          32
         ],
         "xaxis": "x",
         "y": [
          407.66,
          395.66,
          635.53,
          359.68,
          479.62,
          395.66,
          611.54
         ],
         "yaxis": "y"
        },
        {
         "hovertemplate": "brand=chuwi<br>cluster=%{x}<br>price=%{y}<extra></extra>",
         "legendgroup": "chuwi",
         "marker": {
          "color": "#19d3f3",
          "symbol": "circle"
         },
         "mode": "markers",
         "name": "chuwi",
         "orientation": "v",
         "showlegend": true,
         "type": "scatter",
         "x": [
          110,
          56,
          56,
          110
         ],
         "xaxis": "x",
         "y": [
          395.66,
          299.71,
          263.73,
          419.65
         ],
         "yaxis": "y"
        },
        {
         "hovertemplate": "brand=gigabyte<br>cluster=%{x}<br>price=%{y}<extra></extra>",
         "legendgroup": "gigabyte",
         "marker": {
          "color": "#FF6692",
          "symbol": "circle"
         },
         "mode": "markers",
         "name": "gigabyte",
         "orientation": "v",
         "showlegend": true,
         "type": "scatter",
         "x": [
          34,
          121
         ],
         "xaxis": "x",
         "y": [
          863.4,
          1079.29
         ],
         "yaxis": "y"
        },
        {
         "hovertemplate": "brand=jio<br>cluster=%{x}<br>price=%{y}<extra></extra>",
         "legendgroup": "jio",
         "marker": {
          "color": "#B6E880",
          "symbol": "circle"
         },
         "mode": "markers",
         "name": "jio",
         "orientation": "v",
         "showlegend": true,
         "type": "scatter",
         "x": [
          83
         ],
         "xaxis": "x",
         "y": [
          176.31
         ],
         "yaxis": "y"
        },
        {
         "hovertemplate": "brand=honor<br>cluster=%{x}<br>price=%{y}<extra></extra>",
         "legendgroup": "honor",
         "marker": {
          "color": "#FF97FF",
          "symbol": "circle"
         },
         "mode": "markers",
         "name": "honor",
         "orientation": "v",
         "showlegend": true,
         "type": "scatter",
         "x": [
          9,
          73
         ],
         "xaxis": "x",
         "y": [
          659.52,
          527.59
         ],
         "yaxis": "y"
        },
        {
         "hovertemplate": "brand=realme<br>cluster=%{x}<br>price=%{y}<extra></extra>",
         "legendgroup": "realme",
         "marker": {
          "color": "#FECB52",
          "symbol": "circle"
         },
         "mode": "markers",
         "name": "realme",
         "orientation": "v",
         "showlegend": true,
         "type": "scatter",
         "x": [
          5,
          110
         ],
         "xaxis": "x",
         "y": [
          443.64,
          515.6
         ],
         "yaxis": "y"
        },
        {
         "hovertemplate": "brand=avita<br>cluster=%{x}<br>price=%{y}<extra></extra>",
         "legendgroup": "avita",
         "marker": {
          "color": "#636efa",
          "symbol": "circle"
         },
         "mode": "markers",
         "name": "avita",
         "orientation": "v",
         "showlegend": true,
         "type": "scatter",
         "x": [
          100,
          100,
          58,
          116,
          66
         ],
         "xaxis": "x",
         "y": [
          256.54,
          395.17,
          390.38,
          232.92,
          251.85
         ],
         "yaxis": "y"
        },
        {
         "hovertemplate": "brand=microsoft<br>cluster=%{x}<br>price=%{y}<extra></extra>",
         "legendgroup": "microsoft",
         "marker": {
          "color": "#EF553B",
          "symbol": "circle"
         },
         "mode": "markers",
         "name": "microsoft",
         "orientation": "v",
         "showlegend": true,
         "type": "scatter",
         "x": [
          113,
          113
         ],
         "xaxis": "x",
         "y": [
          959.35,
          1169.24
         ],
         "yaxis": "y"
        },
        {
         "hovertemplate": "brand=fujitsu<br>cluster=%{x}<br>price=%{y}<extra></extra>",
         "legendgroup": "fujitsu",
         "marker": {
          "color": "#00cc96",
          "symbol": "circle"
         },
         "mode": "markers",
         "name": "fujitsu",
         "orientation": "v",
         "showlegend": true,
         "type": "scatter",
         "x": [
          9,
          9,
          112,
          9,
          11
         ],
         "xaxis": "x",
         "y": [
          887.39,
          887.39,
          1319.15,
          1199.22,
          677.55
         ],
         "yaxis": "y"
        },
        {
         "hovertemplate": "brand=lg<br>cluster=%{x}<br>price=%{y}<extra></extra>",
         "legendgroup": "lg",
         "marker": {
          "color": "#ab63fa",
          "symbol": "circle"
         },
         "mode": "markers",
         "name": "lg",
         "orientation": "v",
         "showlegend": true,
         "type": "scatter",
         "x": [
          57,
          11,
          76,
          57,
          11,
          13,
          52
         ],
         "xaxis": "x",
         "y": [
          1187.33,
          939.07,
          1828.98,
          1414.01,
          1076.99,
          1810.99,
          1421.2
         ],
         "yaxis": "y"
        },
        {
         "hovertemplate": "brand=walker<br>cluster=%{x}<br>price=%{y}<extra></extra>",
         "legendgroup": "walker",
         "marker": {
          "color": "#FFA15A",
          "symbol": "circle"
         },
         "mode": "markers",
         "name": "walker",
         "orientation": "v",
         "showlegend": true,
         "type": "scatter",
         "x": [
          116
         ],
         "xaxis": "x",
         "y": [
          191.77
         ],
         "yaxis": "y"
        },
        {
         "hovertemplate": "brand=axl<br>cluster=%{x}<br>price=%{y}<extra></extra>",
         "legendgroup": "axl",
         "marker": {
          "color": "#19d3f3",
          "symbol": "circle"
         },
         "mode": "markers",
         "name": "axl",
         "orientation": "v",
         "showlegend": true,
         "type": "scatter",
         "x": [
          66,
          116
         ],
         "xaxis": "x",
         "y": [
          215.76,
          179.78
         ],
         "yaxis": "y"
        }
       ],
       "layout": {
        "legend": {
         "title": {
          "text": "brand"
         },
         "tracegroupgap": 0
        },
        "margin": {
         "t": 60
        },
        "template": {
         "data": {
          "bar": [
           {
            "error_x": {
             "color": "#2a3f5f"
            },
            "error_y": {
             "color": "#2a3f5f"
            },
            "marker": {
             "line": {
              "color": "#E5ECF6",
              "width": 0.5
             },
             "pattern": {
              "fillmode": "overlay",
              "size": 10,
              "solidity": 0.2
             }
            },
            "type": "bar"
           }
          ],
          "barpolar": [
           {
            "marker": {
             "line": {
              "color": "#E5ECF6",
              "width": 0.5
             },
             "pattern": {
              "fillmode": "overlay",
              "size": 10,
              "solidity": 0.2
             }
            },
            "type": "barpolar"
           }
          ],
          "carpet": [
           {
            "aaxis": {
             "endlinecolor": "#2a3f5f",
             "gridcolor": "white",
             "linecolor": "white",
             "minorgridcolor": "white",
             "startlinecolor": "#2a3f5f"
            },
            "baxis": {
             "endlinecolor": "#2a3f5f",
             "gridcolor": "white",
             "linecolor": "white",
             "minorgridcolor": "white",
             "startlinecolor": "#2a3f5f"
            },
            "type": "carpet"
           }
          ],
          "choropleth": [
           {
            "colorbar": {
             "outlinewidth": 0,
             "ticks": ""
            },
            "type": "choropleth"
           }
          ],
          "contour": [
           {
            "colorbar": {
             "outlinewidth": 0,
             "ticks": ""
            },
            "colorscale": [
             [
              0,
              "#0d0887"
             ],
             [
              0.1111111111111111,
              "#46039f"
             ],
             [
              0.2222222222222222,
              "#7201a8"
             ],
             [
              0.3333333333333333,
              "#9c179e"
             ],
             [
              0.4444444444444444,
              "#bd3786"
             ],
             [
              0.5555555555555556,
              "#d8576b"
             ],
             [
              0.6666666666666666,
              "#ed7953"
             ],
             [
              0.7777777777777778,
              "#fb9f3a"
             ],
             [
              0.8888888888888888,
              "#fdca26"
             ],
             [
              1,
              "#f0f921"
             ]
            ],
            "type": "contour"
           }
          ],
          "contourcarpet": [
           {
            "colorbar": {
             "outlinewidth": 0,
             "ticks": ""
            },
            "type": "contourcarpet"
           }
          ],
          "heatmap": [
           {
            "colorbar": {
             "outlinewidth": 0,
             "ticks": ""
            },
            "colorscale": [
             [
              0,
              "#0d0887"
             ],
             [
              0.1111111111111111,
              "#46039f"
             ],
             [
              0.2222222222222222,
              "#7201a8"
             ],
             [
              0.3333333333333333,
              "#9c179e"
             ],
             [
              0.4444444444444444,
              "#bd3786"
             ],
             [
              0.5555555555555556,
              "#d8576b"
             ],
             [
              0.6666666666666666,
              "#ed7953"
             ],
             [
              0.7777777777777778,
              "#fb9f3a"
             ],
             [
              0.8888888888888888,
              "#fdca26"
             ],
             [
              1,
              "#f0f921"
             ]
            ],
            "type": "heatmap"
           }
          ],
          "heatmapgl": [
           {
            "colorbar": {
             "outlinewidth": 0,
             "ticks": ""
            },
            "colorscale": [
             [
              0,
              "#0d0887"
             ],
             [
              0.1111111111111111,
              "#46039f"
             ],
             [
              0.2222222222222222,
              "#7201a8"
             ],
             [
              0.3333333333333333,
              "#9c179e"
             ],
             [
              0.4444444444444444,
              "#bd3786"
             ],
             [
              0.5555555555555556,
              "#d8576b"
             ],
             [
              0.6666666666666666,
              "#ed7953"
             ],
             [
              0.7777777777777778,
              "#fb9f3a"
             ],
             [
              0.8888888888888888,
              "#fdca26"
             ],
             [
              1,
              "#f0f921"
             ]
            ],
            "type": "heatmapgl"
           }
          ],
          "histogram": [
           {
            "marker": {
             "pattern": {
              "fillmode": "overlay",
              "size": 10,
              "solidity": 0.2
             }
            },
            "type": "histogram"
           }
          ],
          "histogram2d": [
           {
            "colorbar": {
             "outlinewidth": 0,
             "ticks": ""
            },
            "colorscale": [
             [
              0,
              "#0d0887"
             ],
             [
              0.1111111111111111,
              "#46039f"
             ],
             [
              0.2222222222222222,
              "#7201a8"
             ],
             [
              0.3333333333333333,
              "#9c179e"
             ],
             [
              0.4444444444444444,
              "#bd3786"
             ],
             [
              0.5555555555555556,
              "#d8576b"
             ],
             [
              0.6666666666666666,
              "#ed7953"
             ],
             [
              0.7777777777777778,
              "#fb9f3a"
             ],
             [
              0.8888888888888888,
              "#fdca26"
             ],
             [
              1,
              "#f0f921"
             ]
            ],
            "type": "histogram2d"
           }
          ],
          "histogram2dcontour": [
           {
            "colorbar": {
             "outlinewidth": 0,
             "ticks": ""
            },
            "colorscale": [
             [
              0,
              "#0d0887"
             ],
             [
              0.1111111111111111,
              "#46039f"
             ],
             [
              0.2222222222222222,
              "#7201a8"
             ],
             [
              0.3333333333333333,
              "#9c179e"
             ],
             [
              0.4444444444444444,
              "#bd3786"
             ],
             [
              0.5555555555555556,
              "#d8576b"
             ],
             [
              0.6666666666666666,
              "#ed7953"
             ],
             [
              0.7777777777777778,
              "#fb9f3a"
             ],
             [
              0.8888888888888888,
              "#fdca26"
             ],
             [
              1,
              "#f0f921"
             ]
            ],
            "type": "histogram2dcontour"
           }
          ],
          "mesh3d": [
           {
            "colorbar": {
             "outlinewidth": 0,
             "ticks": ""
            },
            "type": "mesh3d"
           }
          ],
          "parcoords": [
           {
            "line": {
             "colorbar": {
              "outlinewidth": 0,
              "ticks": ""
             }
            },
            "type": "parcoords"
           }
          ],
          "pie": [
           {
            "automargin": true,
            "type": "pie"
           }
          ],
          "scatter": [
           {
            "fillpattern": {
             "fillmode": "overlay",
             "size": 10,
             "solidity": 0.2
            },
            "type": "scatter"
           }
          ],
          "scatter3d": [
           {
            "line": {
             "colorbar": {
              "outlinewidth": 0,
              "ticks": ""
             }
            },
            "marker": {
             "colorbar": {
              "outlinewidth": 0,
              "ticks": ""
             }
            },
            "type": "scatter3d"
           }
          ],
          "scattercarpet": [
           {
            "marker": {
             "colorbar": {
              "outlinewidth": 0,
              "ticks": ""
             }
            },
            "type": "scattercarpet"
           }
          ],
          "scattergeo": [
           {
            "marker": {
             "colorbar": {
              "outlinewidth": 0,
              "ticks": ""
             }
            },
            "type": "scattergeo"
           }
          ],
          "scattergl": [
           {
            "marker": {
             "colorbar": {
              "outlinewidth": 0,
              "ticks": ""
             }
            },
            "type": "scattergl"
           }
          ],
          "scattermapbox": [
           {
            "marker": {
             "colorbar": {
              "outlinewidth": 0,
              "ticks": ""
             }
            },
            "type": "scattermapbox"
           }
          ],
          "scatterpolar": [
           {
            "marker": {
             "colorbar": {
              "outlinewidth": 0,
              "ticks": ""
             }
            },
            "type": "scatterpolar"
           }
          ],
          "scatterpolargl": [
           {
            "marker": {
             "colorbar": {
              "outlinewidth": 0,
              "ticks": ""
             }
            },
            "type": "scatterpolargl"
           }
          ],
          "scatterternary": [
           {
            "marker": {
             "colorbar": {
              "outlinewidth": 0,
              "ticks": ""
             }
            },
            "type": "scatterternary"
           }
          ],
          "surface": [
           {
            "colorbar": {
             "outlinewidth": 0,
             "ticks": ""
            },
            "colorscale": [
             [
              0,
              "#0d0887"
             ],
             [
              0.1111111111111111,
              "#46039f"
             ],
             [
              0.2222222222222222,
              "#7201a8"
             ],
             [
              0.3333333333333333,
              "#9c179e"
             ],
             [
              0.4444444444444444,
              "#bd3786"
             ],
             [
              0.5555555555555556,
              "#d8576b"
             ],
             [
              0.6666666666666666,
              "#ed7953"
             ],
             [
              0.7777777777777778,
              "#fb9f3a"
             ],
             [
              0.8888888888888888,
              "#fdca26"
             ],
             [
              1,
              "#f0f921"
             ]
            ],
            "type": "surface"
           }
          ],
          "table": [
           {
            "cells": {
             "fill": {
              "color": "#EBF0F8"
             },
             "line": {
              "color": "white"
             }
            },
            "header": {
             "fill": {
              "color": "#C8D4E3"
             },
             "line": {
              "color": "white"
             }
            },
            "type": "table"
           }
          ]
         },
         "layout": {
          "annotationdefaults": {
           "arrowcolor": "#2a3f5f",
           "arrowhead": 0,
           "arrowwidth": 1
          },
          "autotypenumbers": "strict",
          "coloraxis": {
           "colorbar": {
            "outlinewidth": 0,
            "ticks": ""
           }
          },
          "colorscale": {
           "diverging": [
            [
             0,
             "#8e0152"
            ],
            [
             0.1,
             "#c51b7d"
            ],
            [
             0.2,
             "#de77ae"
            ],
            [
             0.3,
             "#f1b6da"
            ],
            [
             0.4,
             "#fde0ef"
            ],
            [
             0.5,
             "#f7f7f7"
            ],
            [
             0.6,
             "#e6f5d0"
            ],
            [
             0.7,
             "#b8e186"
            ],
            [
             0.8,
             "#7fbc41"
            ],
            [
             0.9,
             "#4d9221"
            ],
            [
             1,
             "#276419"
            ]
           ],
           "sequential": [
            [
             0,
             "#0d0887"
            ],
            [
             0.1111111111111111,
             "#46039f"
            ],
            [
             0.2222222222222222,
             "#7201a8"
            ],
            [
             0.3333333333333333,
             "#9c179e"
            ],
            [
             0.4444444444444444,
             "#bd3786"
            ],
            [
             0.5555555555555556,
             "#d8576b"
            ],
            [
             0.6666666666666666,
             "#ed7953"
            ],
            [
             0.7777777777777778,
             "#fb9f3a"
            ],
            [
             0.8888888888888888,
             "#fdca26"
            ],
            [
             1,
             "#f0f921"
            ]
           ],
           "sequentialminus": [
            [
             0,
             "#0d0887"
            ],
            [
             0.1111111111111111,
             "#46039f"
            ],
            [
             0.2222222222222222,
             "#7201a8"
            ],
            [
             0.3333333333333333,
             "#9c179e"
            ],
            [
             0.4444444444444444,
             "#bd3786"
            ],
            [
             0.5555555555555556,
             "#d8576b"
            ],
            [
             0.6666666666666666,
             "#ed7953"
            ],
            [
             0.7777777777777778,
             "#fb9f3a"
            ],
            [
             0.8888888888888888,
             "#fdca26"
            ],
            [
             1,
             "#f0f921"
            ]
           ]
          },
          "colorway": [
           "#636efa",
           "#EF553B",
           "#00cc96",
           "#ab63fa",
           "#FFA15A",
           "#19d3f3",
           "#FF6692",
           "#B6E880",
           "#FF97FF",
           "#FECB52"
          ],
          "font": {
           "color": "#2a3f5f"
          },
          "geo": {
           "bgcolor": "white",
           "lakecolor": "white",
           "landcolor": "#E5ECF6",
           "showlakes": true,
           "showland": true,
           "subunitcolor": "white"
          },
          "hoverlabel": {
           "align": "left"
          },
          "hovermode": "closest",
          "mapbox": {
           "style": "light"
          },
          "paper_bgcolor": "white",
          "plot_bgcolor": "#E5ECF6",
          "polar": {
           "angularaxis": {
            "gridcolor": "white",
            "linecolor": "white",
            "ticks": ""
           },
           "bgcolor": "#E5ECF6",
           "radialaxis": {
            "gridcolor": "white",
            "linecolor": "white",
            "ticks": ""
           }
          },
          "scene": {
           "xaxis": {
            "backgroundcolor": "#E5ECF6",
            "gridcolor": "white",
            "gridwidth": 2,
            "linecolor": "white",
            "showbackground": true,
            "ticks": "",
            "zerolinecolor": "white"
           },
           "yaxis": {
            "backgroundcolor": "#E5ECF6",
            "gridcolor": "white",
            "gridwidth": 2,
            "linecolor": "white",
            "showbackground": true,
            "ticks": "",
            "zerolinecolor": "white"
           },
           "zaxis": {
            "backgroundcolor": "#E5ECF6",
            "gridcolor": "white",
            "gridwidth": 2,
            "linecolor": "white",
            "showbackground": true,
            "ticks": "",
            "zerolinecolor": "white"
           }
          },
          "shapedefaults": {
           "line": {
            "color": "#2a3f5f"
           }
          },
          "ternary": {
           "aaxis": {
            "gridcolor": "white",
            "linecolor": "white",
            "ticks": ""
           },
           "baxis": {
            "gridcolor": "white",
            "linecolor": "white",
            "ticks": ""
           },
           "bgcolor": "#E5ECF6",
           "caxis": {
            "gridcolor": "white",
            "linecolor": "white",
            "ticks": ""
           }
          },
          "title": {
           "x": 0.05
          },
          "xaxis": {
           "automargin": true,
           "gridcolor": "white",
           "linecolor": "white",
           "ticks": "",
           "title": {
            "standoff": 15
           },
           "zerolinecolor": "white",
           "zerolinewidth": 2
          },
          "yaxis": {
           "automargin": true,
           "gridcolor": "white",
           "linecolor": "white",
           "ticks": "",
           "title": {
            "standoff": 15
           },
           "zerolinecolor": "white",
           "zerolinewidth": 2
          }
         }
        },
        "xaxis": {
         "anchor": "y",
         "domain": [
          0,
          1
         ],
         "title": {
          "text": "cluster"
         }
        },
        "yaxis": {
         "anchor": "x",
         "domain": [
          0,
          1
         ],
         "title": {
          "text": "price"
         }
        }
       }
      }
     },
     "metadata": {},
     "output_type": "display_data"
    }
   ],
   "source": [
    "# Cruzamento entre brand e price apresentando os clusters\n",
    "px.scatter(df_laptops, x='cluster', y='price', color='brand')"
   ]
  },
  {
   "cell_type": "code",
   "execution_count": 61,
   "metadata": {},
   "outputs": [
    {
     "data": {
      "application/vnd.plotly.v1+json": {
       "config": {
        "plotlyServerURL": "https://plot.ly"
       },
       "data": [
        {
         "hovertemplate": "brand=%{x}<br>rating=%{y}<br>cluster=%{marker.color}<extra></extra>",
         "legendgroup": "",
         "marker": {
          "color": [
           36,
           47,
           69,
           23,
           26,
           115,
           2,
           44,
           97,
           84,
           92,
           57,
           7,
           11,
           2,
           24,
           88,
           43,
           18,
           5,
           33,
           26,
           143,
           15,
           46,
           34,
           12,
           56,
           42,
           20,
           15,
           88,
           148,
           1,
           115,
           74,
           25,
           2,
           42,
           6,
           130,
           39,
           111,
           12,
           39,
           74,
           56,
           14,
           7,
           48,
           46,
           58,
           18,
           61,
           111,
           56,
           19,
           90,
           10,
           31,
           122,
           52,
           45,
           30,
           6,
           39,
           39,
           37,
           46,
           10,
           83,
           15,
           34,
           44,
           61,
           13,
           31,
           50,
           80,
           43,
           45,
           134,
           41,
           26,
           43,
           26,
           61,
           7,
           80,
           67,
           16,
           1,
           31,
           31,
           122,
           41,
           6,
           47,
           86,
           61,
           64,
           134,
           69,
           44,
           114,
           2,
           73,
           55,
           58,
           84,
           55,
           34,
           121,
           129,
           118,
           69,
           99,
           30,
           30,
           71,
           63,
           63,
           146,
           68,
           67,
           36,
           121,
           130,
           94,
           148,
           11,
           45,
           46,
           115,
           31,
           69,
           128,
           26,
           41,
           105,
           29,
           103,
           103,
           126,
           37,
           19,
           92,
           44,
           111,
           93,
           1,
           2,
           8,
           80,
           58,
           29,
           97,
           2,
           25,
           58,
           10,
           104,
           108,
           44,
           110,
           13,
           33,
           34,
           102,
           4,
           80,
           69,
           105,
           6,
           43,
           67,
           23,
           5,
           5,
           20,
           23,
           25,
           44,
           20,
           12,
           127,
           114,
           114,
           114,
           65,
           39,
           24,
           83,
           13,
           6,
           132,
           43,
           56,
           45,
           111,
           88,
           62,
           6,
           6,
           44,
           31,
           42,
           23,
           7,
           27,
           45,
           61,
           56,
           37,
           56,
           58,
           88,
           56,
           69,
           31,
           11,
           34,
           79,
           77,
           81,
           81,
           3,
           15,
           2,
           7,
           97,
           42,
           6,
           90,
           25,
           3,
           7,
           63,
           125,
           52,
           49,
           94,
           9,
           100,
           41,
           69,
           17,
           17,
           68,
           20,
           48,
           32,
           11,
           73,
           11,
           15,
           88,
           46,
           18,
           46,
           69,
           39,
           97,
           9,
           9,
           136,
           96,
           9,
           8,
           59,
           61,
           42,
           8,
           36,
           122,
           115,
           115,
           15,
           50,
           134,
           106,
           57,
           48,
           5,
           141,
           100,
           28,
           138,
           56,
           110,
           100,
           22,
           81,
           69,
           88,
           0,
           27,
           135,
           91,
           26,
           144,
           0,
           20,
           88,
           62,
           111,
           53,
           10,
           10,
           27,
           92,
           91,
           96,
           66,
           68,
           47,
           22,
           58,
           45,
           32,
           32,
           116,
           119,
           119,
           124,
           4,
           104,
           32,
           122,
           104,
           4,
           66,
           37,
           13,
           12,
           135,
           97,
           47,
           91,
           39,
           14,
           113,
           23,
           77,
           53,
           70,
           12,
           108,
           19,
           43,
           125,
           100,
           131,
           137,
           26,
           39,
           41,
           26,
           6,
           148,
           78,
           104,
           124,
           116,
           86,
           120,
           92,
           104,
           53,
           14,
           32,
           58,
           83,
           34,
           129,
           80,
           134,
           32,
           64,
           24,
           60,
           30,
           59,
           90,
           10,
           51,
           19,
           104,
           148,
           50,
           90,
           15,
           4,
           51,
           26,
           53,
           97,
           51,
           8,
           14,
           8,
           51,
           95,
           26,
           82,
           51,
           41,
           11,
           65,
           47,
           34,
           26,
           148,
           25,
           35,
           92,
           45,
           87,
           87,
           26,
           104,
           104,
           41,
           92,
           33,
           88,
           15,
           2,
           100,
           146,
           15,
           88,
           62,
           16,
           43,
           135,
           41,
           125,
           90,
           36,
           25,
           93,
           2,
           148,
           2,
           87,
           125,
           113,
           56,
           99,
           10,
           95,
           122,
           69,
           148,
           9,
           114,
           0,
           124,
           63,
           95,
           67,
           68,
           71,
           9,
           77,
           2,
           31,
           25,
           71,
           36,
           51,
           2,
           108,
           108,
           125,
           78,
           25,
           88,
           43,
           41,
           93,
           34,
           129,
           3,
           6,
           4,
           4,
           4,
           94,
           78,
           4,
           121,
           88,
           6,
           0,
           51,
           9,
           125,
           26,
           73,
           27,
           6,
           6,
           6,
           7,
           41,
           7,
           107,
           107,
           94,
           86,
           100,
           145,
           92,
           10,
           6,
           61,
           112,
           63,
           30,
           148,
           16,
           86,
           10,
           5,
           28,
           127,
           36,
           51,
           23,
           2,
           141,
           92,
           127,
           51,
           38,
           62,
           38,
           62,
           133,
           53,
           18,
           10,
           53,
           51,
           3,
           20,
           7,
           89,
           19,
           89,
           44,
           7,
           7,
           89,
           30,
           39,
           36,
           14,
           30,
           69,
           28,
           94,
           125,
           13,
           73,
           39,
           6,
           86,
           81,
           86,
           19,
           111,
           92,
           51,
           46,
           114,
           9,
           114,
           36,
           122,
           31,
           14,
           122,
           3,
           122,
           18,
           66,
           30,
           129,
           1,
           40,
           136,
           38,
           99,
           38,
           94,
           70,
           23,
           127,
           147,
           17,
           14,
           12,
           58,
           3,
           79,
           75,
           93,
           125,
           6,
           6,
           125,
           2,
           26,
           86,
           19,
           57,
           109,
           18,
           125,
           129,
           35,
           86,
           43,
           9,
           39,
           2,
           71,
           39,
           101,
           11,
           3,
           50,
           76,
           35,
           57,
           34,
           31,
           116,
           33,
           133,
           10,
           132,
           0,
           104,
           7,
           26,
           80,
           44,
           31,
           6,
           70,
           31,
           48,
           41,
           42,
           42,
           111,
           111,
           111,
           42,
           100,
           17,
           15,
           141,
           13,
           133,
           122,
           125,
           146,
           146,
           9,
           58,
           104,
           12,
           62,
           42,
           100,
           28,
           17,
           25,
           6,
           101,
           96,
           20,
           67,
           104,
           36,
           114,
           96,
           100,
           7,
           137,
           92,
           62,
           0,
           91,
           68,
           62,
           1,
           26,
           28,
           68,
           18,
           61,
           144,
           12,
           18,
           12,
           45,
           44,
           15,
           12,
           18,
           139,
           74,
           0,
           44,
           21,
           85,
           91,
           9,
           11,
           13,
           12,
           10,
           66,
           17,
           116,
           62,
           26,
           79,
           0,
           111,
           26,
           86,
           123,
           49,
           46,
           34,
           26,
           45,
           41,
           0,
           146,
           26,
           0,
           52,
           2,
           44,
           70,
           15,
           33,
           19,
           54,
           96,
           96,
           65,
           92,
           45,
           96,
           96,
           53,
           66,
           18,
           2,
           53,
           48,
           42,
           111,
           1,
           137,
           28,
           18,
           107,
           121,
           20,
           107,
           71,
           61,
           64,
           74,
           68,
           42,
           68,
           81,
           74,
           74,
           121,
           45,
           23,
           88,
           32,
           9,
           94,
           117,
           8,
           30,
           72,
           12,
           3,
           8,
           2,
           43,
           86,
           72,
           101,
           12,
           131,
           146,
           123,
           3,
           31,
           6,
           39,
           59,
           140,
           72,
           19,
           134,
           42,
           20,
           44,
           17,
           63,
           134,
           52,
           20,
           3,
           54,
           79,
           19,
           55,
           19,
           123,
           9,
           42,
           20,
           2,
           134,
           104,
           122,
           56,
           21,
           97,
           21,
           50,
           73,
           59,
           97,
           59,
           97,
           134,
           61,
           93,
           110,
           65,
           71,
           92,
           94,
           140,
           45,
           73,
           48,
           129,
           8,
           20,
           56,
           13,
           13,
           55,
           30,
           45,
           97,
           13,
           31,
           45,
           39,
           9,
           61,
           71,
           94,
           8,
           60,
           28,
           15,
           7,
           20,
           18,
           54,
           18,
           54,
           79,
           25,
           60,
           19,
           20,
           31,
           31,
           29,
           31,
           28,
           28,
           13,
           31,
           13,
           13,
           31,
           31,
           94,
           62,
           9,
           94,
           124,
           48,
           66,
           139,
           15,
           11,
           49,
           40,
           66,
           73,
           129,
           68,
           28,
           81,
           14,
           137,
           144,
           26,
           26,
           108,
           11,
           69,
           1,
           96,
           1,
           36,
           73,
           41,
           27,
           74,
           142,
           73,
           78,
           3,
           106,
           137,
           118,
           98,
           35,
           137,
           63,
           27,
           54,
           100,
           17,
           25,
           48,
           106,
           34,
           0,
           23,
           112,
           20,
           1,
           100,
           86,
           52,
           112,
           61,
           88,
           23,
           14,
           23,
           0,
           40,
           48,
           20,
           64,
           77,
           11,
           61,
           86,
           7,
           1,
           118,
           35
          ],
          "coloraxis": "coloraxis",
          "symbol": "circle"
         },
         "mode": "markers",
         "name": "",
         "orientation": "v",
         "showlegend": false,
         "type": "scatter",
         "x": [
          "tecno",
          "tecno",
          "hp",
          "acer",
          "lenovo",
          "apple",
          "infinix",
          "asus",
          "hp",
          "infinix",
          "dell",
          "samsung",
          "msi",
          "asus",
          "lenovo",
          "hp",
          "lenovo",
          "asus",
          "hp",
          "wings",
          "hp",
          "lenovo",
          "apple",
          "asus",
          "asus",
          "acer",
          "hp",
          "ultimus",
          "hp",
          "msi",
          "samsung",
          "samsung",
          "lenovo",
          "asus",
          "apple",
          "dell",
          "acer",
          "acer",
          "hp",
          "asus",
          "asus",
          "hp",
          "hp",
          "hp",
          "hp",
          "dell",
          "msi",
          "asus",
          "msi",
          "dell",
          "infinix",
          "acer",
          "hp",
          "hp",
          "hp",
          "infinix",
          "hp",
          "asus",
          "dell",
          "asus",
          "lenovo",
          "dell",
          "asus",
          "asus",
          "asus",
          "hp",
          "hp",
          "apple",
          "infinix",
          "hp",
          "primebook",
          "dell",
          "acer",
          "hp",
          "hp",
          "asus",
          "asus",
          "iball",
          "ultimus",
          "dell",
          "asus",
          "hp",
          "lenovo",
          "lenovo",
          "hp",
          "lenovo",
          "hp",
          "msi",
          "ultimus",
          "lenovo",
          "msi",
          "msi",
          "asus",
          "asus",
          "lenovo",
          "lenovo",
          "asus",
          "infinix",
          "asus",
          "hp",
          "lenovo",
          "hp",
          "hp",
          "asus",
          "lenovo",
          "msi",
          "acer",
          "asus",
          "acer",
          "infinix",
          "asus",
          "acer",
          "asus",
          "acer",
          "asus",
          "hp",
          "asus",
          "acer",
          "acer",
          "hp",
          "hp",
          "hp",
          "lenovo",
          "acer",
          "lenovo",
          "hp",
          "dell",
          "asus",
          "asus",
          "lenovo",
          "asus",
          "acer",
          "asus",
          "apple",
          "asus",
          "hp",
          "hp",
          "lenovo",
          "lenovo",
          "dell",
          "hp",
          "apple",
          "apple",
          "apple",
          "apple",
          "lenovo",
          "dell",
          "hp",
          "hp",
          "dell",
          "acer",
          "asus",
          "lenovo",
          "ultimus",
          "zebronics",
          "hp",
          "hp",
          "zebronics",
          "zebronics",
          "zebronics",
          "hp",
          "lenovo",
          "asus",
          "hp",
          "chuwi",
          "acer",
          "hp",
          "gigabyte",
          "asus",
          "asus",
          "lenovo",
          "hp",
          "acer",
          "asus",
          "hp",
          "lenovo",
          "msi",
          "wings",
          "wings",
          "msi",
          "infinix",
          "hp",
          "msi",
          "msi",
          "hp",
          "lenovo",
          "lenovo",
          "lenovo",
          "lenovo",
          "hp",
          "hp",
          "hp",
          "jio",
          "asus",
          "asus",
          "hp",
          "dell",
          "chuwi",
          "msi",
          "hp",
          "infinix",
          "dell",
          "asus",
          "asus",
          "asus",
          "asus",
          "hp",
          "msi",
          "msi",
          "lenovo",
          "msi",
          "asus",
          "asus",
          "apple",
          "infinix",
          "acer",
          "dell",
          "acer",
          "hp",
          "asus",
          "asus",
          "acer",
          "acer",
          "asus",
          "asus",
          "asus",
          "asus",
          "asus",
          "hp",
          "msi",
          "hp",
          "hp",
          "asus",
          "asus",
          "hp",
          "acer",
          "msi",
          "hp",
          "asus",
          "asus",
          "asus",
          "asus",
          "honor",
          "lenovo",
          "lenovo",
          "hp",
          "dell",
          "msi",
          "acer",
          "msi",
          "hp",
          "acer",
          "asus",
          "asus",
          "asus",
          "samsung",
          "samsung",
          "infinix",
          "hp",
          "asus",
          "hp",
          "hp",
          "hp",
          "hp",
          "hp",
          "hp",
          "dell",
          "asus",
          "lenovo",
          "msi",
          "hp",
          "hp",
          "asus",
          "hp",
          "lenovo",
          "apple",
          "apple",
          "samsung",
          "lenovo",
          "hp",
          "hp",
          "samsung",
          "hp",
          "realme",
          "dell",
          "avita",
          "hp",
          "dell",
          "chuwi",
          "chuwi",
          "avita",
          "lenovo",
          "dell",
          "hp",
          "lenovo",
          "lenovo",
          "hp",
          "hp",
          "lenovo",
          "lenovo",
          "lenovo",
          "lenovo",
          "msi",
          "lenovo",
          "dell",
          "hp",
          "dell",
          "lenovo",
          "lenovo",
          "hp",
          "dell",
          "lenovo",
          "dell",
          "lenovo",
          "acer",
          "acer",
          "lenovo",
          "avita",
          "acer",
          "acer",
          "acer",
          "avita",
          "apple",
          "apple",
          "lenovo",
          "asus",
          "lenovo",
          "acer",
          "lenovo",
          "lenovo",
          "asus",
          "avita",
          "apple",
          "hp",
          "hp",
          "hp",
          "hp",
          "acer",
          "lenovo",
          "hp",
          "lenovo",
          "microsoft",
          "acer",
          "acer",
          "dell",
          "lenovo",
          "hp",
          "asus",
          "msi",
          "dell",
          "lenovo",
          "asus",
          "asus",
          "lenovo",
          "lenovo",
          "hp",
          "lenovo",
          "lenovo",
          "asus",
          "lenovo",
          "hp",
          "lenovo",
          "lenovo",
          "asus",
          "asus",
          "acer",
          "dell",
          "lenovo",
          "dell",
          "hp",
          "zebronics",
          "zebronics",
          "primebook",
          "acer",
          "acer",
          "ultimus",
          "hp",
          "zebronics",
          "hp",
          "hp",
          "hp",
          "hp",
          "hp",
          "asus",
          "lenovo",
          "lenovo",
          "lenovo",
          "lenovo",
          "lenovo",
          "asus",
          "asus",
          "asus",
          "asus",
          "lenovo",
          "lenovo",
          "dell",
          "hp",
          "lenovo",
          "lenovo",
          "lenovo",
          "lenovo",
          "lenovo",
          "lenovo",
          "lenovo",
          "msi",
          "lenovo",
          "lenovo",
          "msi",
          "hp",
          "acer",
          "acer",
          "lenovo",
          "lenovo",
          "asus",
          "acer",
          "dell",
          "hp",
          "asus",
          "asus",
          "lenovo",
          "lenovo",
          "lenovo",
          "lenovo",
          "dell",
          "lenovo",
          "dell",
          "dell",
          "acer",
          "lenovo",
          "lenovo",
          "dell",
          "lenovo",
          "dell",
          "msi",
          "asus",
          "hp",
          "lenovo",
          "lenovo",
          "asus",
          "lenovo",
          "hp",
          "dell",
          "lenovo",
          "lenovo",
          "acer",
          "lenovo",
          "lenovo",
          "microsoft",
          "ultimus",
          "lenovo",
          "dell",
          "lenovo",
          "lenovo",
          "hp",
          "lenovo",
          "hp",
          "lenovo",
          "lenovo",
          "lenovo",
          "hp",
          "lenovo",
          "lenovo",
          "acer",
          "asus",
          "fujitsu",
          "asus",
          "asus",
          "asus",
          "hp",
          "hp",
          "lenovo",
          "lenovo",
          "lenovo",
          "asus",
          "asus",
          "lenovo",
          "hp",
          "lenovo",
          "lenovo",
          "asus",
          "lenovo",
          "dell",
          "acer",
          "acer",
          "asus",
          "asus",
          "asus",
          "asus",
          "asus",
          "asus",
          "hp",
          "asus",
          "gigabyte",
          "lenovo",
          "asus",
          "lenovo",
          "lenovo",
          "fujitsu",
          "lenovo",
          "lenovo",
          "lenovo",
          "lenovo",
          "asus",
          "asus",
          "asus",
          "msi",
          "lenovo",
          "msi",
          "acer",
          "acer",
          "asus",
          "asus",
          "asus",
          "hp",
          "dell",
          "dell",
          "asus",
          "hp",
          "fujitsu",
          "hp",
          "hp",
          "lenovo",
          "dell",
          "asus",
          "lenovo",
          "wings",
          "acer",
          "lenovo",
          "lenovo",
          "lenovo",
          "infinix",
          "lenovo",
          "dell",
          "dell",
          "lenovo",
          "lenovo",
          "dell",
          "dell",
          "dell",
          "dell",
          "dell",
          "dell",
          "hp",
          "dell",
          "dell",
          "lenovo",
          "asus",
          "msi",
          "msi",
          "msi",
          "msi",
          "msi",
          "msi",
          "msi",
          "msi",
          "msi",
          "hp",
          "hp",
          "lenovo",
          "hp",
          "hp",
          "hp",
          "asus",
          "asus",
          "lenovo",
          "hp",
          "lenovo",
          "hp",
          "asus",
          "asus",
          "acer",
          "asus",
          "msi",
          "hp",
          "dell",
          "lenovo",
          "asus",
          "lenovo",
          "hp",
          "lenovo",
          "hp",
          "lenovo",
          "asus",
          "msi",
          "lenovo",
          "hp",
          "lenovo",
          "hp",
          "asus",
          "hp",
          "acer",
          "acer",
          "lenovo",
          "hp",
          "dell",
          "dell",
          "dell",
          "asus",
          "dell",
          "msi",
          "lenovo",
          "dell",
          "dell",
          "dell",
          "dell",
          "msi",
          "msi",
          "msi",
          "dell",
          "hp",
          "lenovo",
          "asus",
          "asus",
          "lenovo",
          "hp",
          "lenovo",
          "asus",
          "asus",
          "lg",
          "dell",
          "acer",
          "lenovo",
          "acer",
          "hp",
          "asus",
          "hp",
          "fujitsu",
          "hp",
          "acer",
          "hp",
          "hp",
          "asus",
          "lg",
          "hp",
          "lenovo",
          "lg",
          "hp",
          "lg",
          "acer",
          "asus",
          "walker",
          "hp",
          "dell",
          "dell",
          "hp",
          "lenovo",
          "lenovo",
          "msi",
          "lenovo",
          "lenovo",
          "msi",
          "asus",
          "asus",
          "lenovo",
          "asus",
          "lenovo",
          "lenovo",
          "hp",
          "hp",
          "hp",
          "hp",
          "hp",
          "hp",
          "hp",
          "hp",
          "asus",
          "dell",
          "hp",
          "dell",
          "lenovo",
          "lenovo",
          "lenovo",
          "lenovo",
          "hp",
          "acer",
          "lenovo",
          "hp",
          "dell",
          "hp",
          "hp",
          "hp",
          "hp",
          "hp",
          "asus",
          "asus",
          "dell",
          "asus",
          "lenovo",
          "lenovo",
          "lenovo",
          "lenovo",
          "dell",
          "hp",
          "msi",
          "lenovo",
          "dell",
          "dell",
          "lenovo",
          "lenovo",
          "acer",
          "dell",
          "acer",
          "lenovo",
          "hp",
          "acer",
          "msi",
          "msi",
          "dell",
          "msi",
          "msi",
          "msi",
          "acer",
          "msi",
          "asus",
          "msi",
          "msi",
          "hp",
          "dell",
          "msi",
          "msi",
          "dell",
          "dell",
          "lenovo",
          "lenovo",
          "lg",
          "lg",
          "hp",
          "lenovo",
          "axl",
          "msi",
          "axl",
          "dell",
          "lenovo",
          "asus",
          "lenovo",
          "hp",
          "lenovo",
          "asus",
          "dell",
          "asus",
          "asus",
          "acer",
          "lenovo",
          "lenovo",
          "lenovo",
          "lenovo",
          "lenovo",
          "lenovo",
          "lenovo",
          "dell",
          "lenovo",
          "hp",
          "lenovo",
          "dell",
          "hp",
          "dell",
          "dell",
          "dell",
          "dell",
          "hp",
          "dell",
          "infinix",
          "dell",
          "dell",
          "dell",
          "asus",
          "hp",
          "asus",
          "dell",
          "hp",
          "hp",
          "hp",
          "asus",
          "lenovo",
          "hp",
          "hp",
          "acer",
          "msi",
          "msi",
          "acer",
          "hp",
          "hp",
          "asus",
          "dell",
          "acer",
          "hp",
          "dell",
          "dell",
          "dell",
          "dell",
          "dell",
          "acer",
          "acer",
          "acer",
          "acer",
          "hp",
          "asus",
          "msi",
          "asus",
          "asus",
          "asus",
          "asus",
          "asus",
          "asus",
          "lenovo",
          "asus",
          "asus",
          "asus",
          "asus",
          "asus",
          "asus",
          "lenovo",
          "asus",
          "asus",
          "asus",
          "asus",
          "hp",
          "acer",
          "asus",
          "dell",
          "dell",
          "hp",
          "hp",
          "msi",
          "msi",
          "acer",
          "hp",
          "hp",
          "asus",
          "msi",
          "asus",
          "msi",
          "asus",
          "acer",
          "asus",
          "asus",
          "asus",
          "hp",
          "hp",
          "msi",
          "asus",
          "hp",
          "lenovo",
          "lenovo",
          "acer",
          "dell",
          "hp",
          "dell",
          "acer",
          "hp",
          "acer",
          "hp",
          "acer",
          "hp",
          "hp",
          "hp",
          "hp",
          "realme",
          "hp",
          "asus",
          "dell",
          "asus",
          "asus",
          "dell",
          "asus",
          "dell",
          "acer",
          "acer",
          "msi",
          "asus",
          "asus",
          "asus",
          "asus",
          "hp",
          "msi",
          "hp",
          "asus",
          "asus",
          "msi",
          "hp",
          "asus",
          "hp",
          "hp",
          "asus",
          "hp",
          "msi",
          "asus",
          "asus",
          "msi",
          "msi",
          "acer",
          "acer",
          "acer",
          "msi",
          "lenovo",
          "asus",
          "msi",
          "msi",
          "msi",
          "asus",
          "asus",
          "hp",
          "asus",
          "asus",
          "asus",
          "asus",
          "asus",
          "asus",
          "asus",
          "asus",
          "asus",
          "asus",
          "dell",
          "asus",
          "asus",
          "asus",
          "asus",
          "lenovo",
          "hp",
          "dell",
          "msi",
          "hp",
          "hp",
          "lenovo",
          "honor",
          "acer",
          "acer",
          "acer",
          "acer",
          "acer",
          "lenovo",
          "lenovo",
          "lenovo",
          "lenovo",
          "asus",
          "fujitsu",
          "hp",
          "msi",
          "dell",
          "acer",
          "lenovo",
          "msi",
          "lenovo",
          "lenovo",
          "dell",
          "lenovo",
          "asus",
          "hp",
          "lenovo",
          "hp",
          "lenovo",
          "asus",
          "hp",
          "hp",
          "lenovo",
          "hp",
          "lenovo",
          "asus",
          "asus",
          "asus",
          "lenovo",
          "msi",
          "hp",
          "acer",
          "msi",
          "msi",
          "msi",
          "msi",
          "acer",
          "asus",
          "asus",
          "lg",
          "msi",
          "acer",
          "msi",
          "msi",
          "asus",
          "msi",
          "msi",
          "hp",
          "asus",
          "msi",
          "asus",
          "asus",
          "asus",
          "acer",
          "asus",
          "msi",
          "asus",
          "asus",
          "hp"
         ],
         "xaxis": "x",
         "y": [
          63,
          67,
          73,
          62,
          62,
          45,
          56,
          70,
          60,
          71,
          60,
          68,
          71,
          71,
          66,
          85,
          59,
          76,
          71,
          56,
          49,
          59,
          65,
          57,
          57,
          63,
          77,
          54,
          66,
          76,
          59,
          62,
          71,
          65,
          48,
          66,
          64,
          60,
          62,
          72,
          77,
          71,
          71,
          80,
          71,
          71,
          58,
          83,
          70,
          66,
          54,
          58,
          76,
          70,
          63,
          50,
          80,
          75,
          66,
          67,
          69,
          70,
          64,
          78,
          72,
          72,
          65,
          53,
          53,
          70,
          26,
          60,
          71,
          70,
          70,
          62,
          64,
          41,
          46,
          72,
          57,
          54,
          51,
          66,
          72,
          47,
          70,
          65,
          41,
          70,
          75,
          65,
          63,
          71,
          63,
          59,
          70,
          60,
          70,
          67,
          80,
          57,
          62,
          66,
          70,
          63,
          60,
          75,
          62,
          63,
          72,
          72,
          72,
          67,
          64,
          62,
          88,
          75,
          70,
          58,
          54,
          52,
          66,
          49,
          64,
          60,
          74,
          79,
          60,
          67,
          65,
          64,
          56,
          43,
          70,
          60,
          82,
          60,
          64,
          78,
          76,
          63,
          64,
          58,
          56,
          77,
          59,
          64,
          58,
          53,
          54,
          62,
          83,
          45,
          65,
          76,
          59,
          63,
          72,
          56,
          67,
          60,
          71,
          66,
          50,
          64,
          49,
          67,
          69,
          35,
          50,
          56,
          78,
          71,
          76,
          64,
          60,
          58,
          49,
          73,
          56,
          63,
          65,
          73,
          76,
          62,
          69,
          63,
          67,
          63,
          75,
          85,
          24,
          65,
          76,
          70,
          73,
          50,
          62,
          63,
          57,
          63,
          77,
          76,
          70,
          66,
          66,
          65,
          72,
          53,
          62,
          60,
          59,
          56,
          57,
          57,
          62,
          59,
          65,
          64,
          58,
          70,
          67,
          80,
          77,
          79,
          78,
          64,
          65,
          73,
          59,
          57,
          67,
          64,
          69,
          75,
          69,
          54,
          70,
          65,
          71,
          59,
          66,
          53,
          53,
          67,
          68,
          62,
          49,
          79,
          68,
          67,
          65,
          60,
          65,
          56,
          60,
          52,
          69,
          50,
          67,
          73,
          62,
          71,
          64,
          39,
          62,
          73,
          78,
          78,
          71,
          54,
          85,
          58,
          74,
          45,
          45,
          59,
          49,
          62,
          52,
          68,
          64,
          52,
          56,
          56,
          56,
          67,
          50,
          54,
          50,
          64,
          80,
          64,
          57,
          58,
          51,
          58,
          62,
          50,
          58,
          62,
          69,
          66,
          53,
          62,
          58,
          57,
          60,
          52,
          49,
          63,
          59,
          51,
          47,
          64,
          64,
          51,
          64,
          64,
          62,
          41,
          53,
          58,
          67,
          37,
          66,
          63,
          75,
          65,
          44,
          43,
          51,
          70,
          78,
          69,
          57,
          63,
          57,
          77,
          86,
          58,
          56,
          62,
          64,
          70,
          76,
          67,
          80,
          75,
          69,
          58,
          65,
          54,
          53,
          72,
          57,
          56,
          69,
          69,
          60,
          67,
          75,
          45,
          63,
          38,
          58,
          63,
          57,
          88,
          66,
          60,
          31,
          65,
          62,
          47,
          62,
          72,
          70,
          85,
          88,
          79,
          78,
          70,
          58,
          57,
          63,
          65,
          69,
          38,
          66,
          51,
          38,
          64,
          56,
          53,
          57,
          58,
          84,
          85,
          78,
          58,
          77,
          57,
          89,
          65,
          57,
          70,
          47,
          67,
          65,
          57,
          67,
          73,
          38,
          53,
          70,
          58,
          62,
          58,
          60,
          62,
          51,
          57,
          46,
          57,
          56,
          58,
          51,
          63,
          57,
          64,
          56,
          83,
          70,
          64,
          43,
          69,
          71,
          58,
          75,
          57,
          59,
          65,
          62,
          71,
          63,
          60,
          52,
          89,
          62,
          83,
          79,
          67,
          67,
          70,
          66,
          56,
          65,
          57,
          83,
          69,
          50,
          43,
          67,
          67,
          59,
          60,
          59,
          51,
          52,
          58,
          60,
          64,
          63,
          62,
          58,
          58,
          58,
          73,
          53,
          53,
          72,
          70,
          64,
          72,
          37,
          41,
          37,
          57,
          62,
          37,
          73,
          63,
          72,
          58,
          59,
          65,
          69,
          58,
          60,
          56,
          65,
          66,
          70,
          71,
          65,
          76,
          63,
          60,
          57,
          62,
          56,
          78,
          58,
          57,
          69,
          63,
          76,
          51,
          70,
          64,
          78,
          63,
          60,
          51,
          45,
          60,
          60,
          62,
          57,
          65,
          56,
          58,
          64,
          62,
          63,
          58,
          62,
          54,
          59,
          57,
          71,
          60,
          63,
          60,
          76,
          76,
          77,
          79,
          76,
          77,
          69,
          71,
          70,
          83,
          72,
          71,
          59,
          86,
          75,
          67,
          59,
          57,
          64,
          67,
          58,
          72,
          72,
          66,
          79,
          72,
          73,
          70,
          58,
          60,
          54,
          72,
          67,
          71,
          60,
          73,
          64,
          89,
          73,
          77,
          75,
          73,
          45,
          77,
          65,
          58,
          73,
          44,
          60,
          85,
          63,
          57,
          65,
          63,
          63,
          83,
          65,
          85,
          80,
          58,
          77,
          71,
          83,
          56,
          69,
          72,
          75,
          72,
          57,
          57,
          70,
          82,
          67,
          89,
          80,
          69,
          59,
          44,
          72,
          69,
          73,
          69,
          64,
          46,
          67,
          71,
          72,
          80,
          38,
          78,
          38,
          69,
          70,
          65,
          37,
          52,
          60,
          63,
          73,
          62,
          65,
          65,
          59,
          50,
          67,
          60,
          75,
          70,
          64,
          62,
          58,
          66,
          66,
          66,
          70,
          66,
          72,
          57,
          60,
          60,
          60,
          71,
          56,
          69,
          64,
          67,
          66,
          69,
          59,
          67,
          71,
          53,
          69,
          58,
          53,
          60,
          70,
          72,
          83,
          56,
          71,
          64,
          67,
          59,
          70,
          67,
          58,
          78,
          57,
          58,
          52,
          62,
          62,
          50,
          60,
          57,
          57,
          62,
          50,
          67,
          65,
          60,
          78,
          69,
          77,
          60,
          66,
          59,
          77,
          75,
          63,
          70,
          63,
          70,
          88,
          82,
          63,
          75,
          75,
          72,
          72,
          62,
          38,
          65,
          37,
          54,
          57,
          69,
          57,
          66,
          59,
          64,
          72,
          66,
          53,
          69,
          54,
          64,
          53,
          54,
          56,
          59,
          57,
          71,
          66,
          71,
          64,
          56,
          49,
          78,
          82,
          59,
          58,
          50,
          57,
          58,
          56,
          52,
          57,
          45,
          67,
          58,
          56,
          63,
          65,
          67,
          63,
          50,
          47,
          66,
          56,
          75,
          75,
          53,
          50,
          64,
          64,
          76,
          51,
          66,
          52,
          79,
          73,
          75,
          69,
          50,
          59,
          52,
          50,
          71,
          54,
          85,
          71,
          73,
          89,
          84,
          75,
          83,
          67,
          73,
          77,
          89,
          76,
          80,
          67,
          58,
          73,
          82,
          66,
          72,
          65,
          70,
          75,
          78,
          83,
          57,
          59,
          69,
          71,
          62,
          58,
          57,
          66,
          73,
          76,
          86,
          66,
          78,
          70,
          84,
          71,
          75,
          66,
          71,
          56,
          57,
          67,
          71,
          58,
          82,
          54,
          83,
          47,
          54,
          65,
          51,
          66,
          51,
          54,
          67,
          56,
          62,
          67,
          45,
          63,
          56,
          78,
          63,
          60,
          59,
          64,
          65,
          77,
          59,
          73,
          73,
          70,
          71,
          65,
          60,
          75,
          59,
          70,
          75,
          64,
          67,
          56,
          52,
          77,
          89,
          48,
          59,
          65,
          71,
          73,
          74,
          72,
          84,
          78,
          63,
          87,
          80,
          70,
          56,
          62,
          75,
          60,
          57,
          56,
          71,
          64,
          64,
          70,
          62,
          60,
          53,
          62,
          58,
          51,
          74,
          62,
          47,
          64,
          59,
          72,
          79,
          72,
          43,
          59,
          59,
          50,
          44,
          71,
          77,
          45,
          58,
          56,
          56,
          67,
          70,
          58,
          53,
          68,
          52,
          60,
          54,
          66,
          55,
          72,
          52,
          59,
          59,
          75,
          52,
          54,
          67,
          43,
          37,
          50,
          59,
          48,
          89,
          58,
          59,
          64,
          60,
          47,
          71,
          58,
          59,
          72,
          74,
          54,
          53,
          72,
          72,
          67,
          71,
          59,
          61,
          83,
          58,
          56,
          73,
          68,
          76,
          68,
          65,
          64,
          67,
          68,
          73,
          59,
          68,
          37
         ],
         "yaxis": "y"
        }
       ],
       "layout": {
        "coloraxis": {
         "colorbar": {
          "title": {
           "text": "cluster"
          }
         },
         "colorscale": [
          [
           0,
           "#0d0887"
          ],
          [
           0.1111111111111111,
           "#46039f"
          ],
          [
           0.2222222222222222,
           "#7201a8"
          ],
          [
           0.3333333333333333,
           "#9c179e"
          ],
          [
           0.4444444444444444,
           "#bd3786"
          ],
          [
           0.5555555555555556,
           "#d8576b"
          ],
          [
           0.6666666666666666,
           "#ed7953"
          ],
          [
           0.7777777777777778,
           "#fb9f3a"
          ],
          [
           0.8888888888888888,
           "#fdca26"
          ],
          [
           1,
           "#f0f921"
          ]
         ]
        },
        "legend": {
         "tracegroupgap": 0
        },
        "margin": {
         "t": 60
        },
        "template": {
         "data": {
          "bar": [
           {
            "error_x": {
             "color": "#2a3f5f"
            },
            "error_y": {
             "color": "#2a3f5f"
            },
            "marker": {
             "line": {
              "color": "#E5ECF6",
              "width": 0.5
             },
             "pattern": {
              "fillmode": "overlay",
              "size": 10,
              "solidity": 0.2
             }
            },
            "type": "bar"
           }
          ],
          "barpolar": [
           {
            "marker": {
             "line": {
              "color": "#E5ECF6",
              "width": 0.5
             },
             "pattern": {
              "fillmode": "overlay",
              "size": 10,
              "solidity": 0.2
             }
            },
            "type": "barpolar"
           }
          ],
          "carpet": [
           {
            "aaxis": {
             "endlinecolor": "#2a3f5f",
             "gridcolor": "white",
             "linecolor": "white",
             "minorgridcolor": "white",
             "startlinecolor": "#2a3f5f"
            },
            "baxis": {
             "endlinecolor": "#2a3f5f",
             "gridcolor": "white",
             "linecolor": "white",
             "minorgridcolor": "white",
             "startlinecolor": "#2a3f5f"
            },
            "type": "carpet"
           }
          ],
          "choropleth": [
           {
            "colorbar": {
             "outlinewidth": 0,
             "ticks": ""
            },
            "type": "choropleth"
           }
          ],
          "contour": [
           {
            "colorbar": {
             "outlinewidth": 0,
             "ticks": ""
            },
            "colorscale": [
             [
              0,
              "#0d0887"
             ],
             [
              0.1111111111111111,
              "#46039f"
             ],
             [
              0.2222222222222222,
              "#7201a8"
             ],
             [
              0.3333333333333333,
              "#9c179e"
             ],
             [
              0.4444444444444444,
              "#bd3786"
             ],
             [
              0.5555555555555556,
              "#d8576b"
             ],
             [
              0.6666666666666666,
              "#ed7953"
             ],
             [
              0.7777777777777778,
              "#fb9f3a"
             ],
             [
              0.8888888888888888,
              "#fdca26"
             ],
             [
              1,
              "#f0f921"
             ]
            ],
            "type": "contour"
           }
          ],
          "contourcarpet": [
           {
            "colorbar": {
             "outlinewidth": 0,
             "ticks": ""
            },
            "type": "contourcarpet"
           }
          ],
          "heatmap": [
           {
            "colorbar": {
             "outlinewidth": 0,
             "ticks": ""
            },
            "colorscale": [
             [
              0,
              "#0d0887"
             ],
             [
              0.1111111111111111,
              "#46039f"
             ],
             [
              0.2222222222222222,
              "#7201a8"
             ],
             [
              0.3333333333333333,
              "#9c179e"
             ],
             [
              0.4444444444444444,
              "#bd3786"
             ],
             [
              0.5555555555555556,
              "#d8576b"
             ],
             [
              0.6666666666666666,
              "#ed7953"
             ],
             [
              0.7777777777777778,
              "#fb9f3a"
             ],
             [
              0.8888888888888888,
              "#fdca26"
             ],
             [
              1,
              "#f0f921"
             ]
            ],
            "type": "heatmap"
           }
          ],
          "heatmapgl": [
           {
            "colorbar": {
             "outlinewidth": 0,
             "ticks": ""
            },
            "colorscale": [
             [
              0,
              "#0d0887"
             ],
             [
              0.1111111111111111,
              "#46039f"
             ],
             [
              0.2222222222222222,
              "#7201a8"
             ],
             [
              0.3333333333333333,
              "#9c179e"
             ],
             [
              0.4444444444444444,
              "#bd3786"
             ],
             [
              0.5555555555555556,
              "#d8576b"
             ],
             [
              0.6666666666666666,
              "#ed7953"
             ],
             [
              0.7777777777777778,
              "#fb9f3a"
             ],
             [
              0.8888888888888888,
              "#fdca26"
             ],
             [
              1,
              "#f0f921"
             ]
            ],
            "type": "heatmapgl"
           }
          ],
          "histogram": [
           {
            "marker": {
             "pattern": {
              "fillmode": "overlay",
              "size": 10,
              "solidity": 0.2
             }
            },
            "type": "histogram"
           }
          ],
          "histogram2d": [
           {
            "colorbar": {
             "outlinewidth": 0,
             "ticks": ""
            },
            "colorscale": [
             [
              0,
              "#0d0887"
             ],
             [
              0.1111111111111111,
              "#46039f"
             ],
             [
              0.2222222222222222,
              "#7201a8"
             ],
             [
              0.3333333333333333,
              "#9c179e"
             ],
             [
              0.4444444444444444,
              "#bd3786"
             ],
             [
              0.5555555555555556,
              "#d8576b"
             ],
             [
              0.6666666666666666,
              "#ed7953"
             ],
             [
              0.7777777777777778,
              "#fb9f3a"
             ],
             [
              0.8888888888888888,
              "#fdca26"
             ],
             [
              1,
              "#f0f921"
             ]
            ],
            "type": "histogram2d"
           }
          ],
          "histogram2dcontour": [
           {
            "colorbar": {
             "outlinewidth": 0,
             "ticks": ""
            },
            "colorscale": [
             [
              0,
              "#0d0887"
             ],
             [
              0.1111111111111111,
              "#46039f"
             ],
             [
              0.2222222222222222,
              "#7201a8"
             ],
             [
              0.3333333333333333,
              "#9c179e"
             ],
             [
              0.4444444444444444,
              "#bd3786"
             ],
             [
              0.5555555555555556,
              "#d8576b"
             ],
             [
              0.6666666666666666,
              "#ed7953"
             ],
             [
              0.7777777777777778,
              "#fb9f3a"
             ],
             [
              0.8888888888888888,
              "#fdca26"
             ],
             [
              1,
              "#f0f921"
             ]
            ],
            "type": "histogram2dcontour"
           }
          ],
          "mesh3d": [
           {
            "colorbar": {
             "outlinewidth": 0,
             "ticks": ""
            },
            "type": "mesh3d"
           }
          ],
          "parcoords": [
           {
            "line": {
             "colorbar": {
              "outlinewidth": 0,
              "ticks": ""
             }
            },
            "type": "parcoords"
           }
          ],
          "pie": [
           {
            "automargin": true,
            "type": "pie"
           }
          ],
          "scatter": [
           {
            "fillpattern": {
             "fillmode": "overlay",
             "size": 10,
             "solidity": 0.2
            },
            "type": "scatter"
           }
          ],
          "scatter3d": [
           {
            "line": {
             "colorbar": {
              "outlinewidth": 0,
              "ticks": ""
             }
            },
            "marker": {
             "colorbar": {
              "outlinewidth": 0,
              "ticks": ""
             }
            },
            "type": "scatter3d"
           }
          ],
          "scattercarpet": [
           {
            "marker": {
             "colorbar": {
              "outlinewidth": 0,
              "ticks": ""
             }
            },
            "type": "scattercarpet"
           }
          ],
          "scattergeo": [
           {
            "marker": {
             "colorbar": {
              "outlinewidth": 0,
              "ticks": ""
             }
            },
            "type": "scattergeo"
           }
          ],
          "scattergl": [
           {
            "marker": {
             "colorbar": {
              "outlinewidth": 0,
              "ticks": ""
             }
            },
            "type": "scattergl"
           }
          ],
          "scattermapbox": [
           {
            "marker": {
             "colorbar": {
              "outlinewidth": 0,
              "ticks": ""
             }
            },
            "type": "scattermapbox"
           }
          ],
          "scatterpolar": [
           {
            "marker": {
             "colorbar": {
              "outlinewidth": 0,
              "ticks": ""
             }
            },
            "type": "scatterpolar"
           }
          ],
          "scatterpolargl": [
           {
            "marker": {
             "colorbar": {
              "outlinewidth": 0,
              "ticks": ""
             }
            },
            "type": "scatterpolargl"
           }
          ],
          "scatterternary": [
           {
            "marker": {
             "colorbar": {
              "outlinewidth": 0,
              "ticks": ""
             }
            },
            "type": "scatterternary"
           }
          ],
          "surface": [
           {
            "colorbar": {
             "outlinewidth": 0,
             "ticks": ""
            },
            "colorscale": [
             [
              0,
              "#0d0887"
             ],
             [
              0.1111111111111111,
              "#46039f"
             ],
             [
              0.2222222222222222,
              "#7201a8"
             ],
             [
              0.3333333333333333,
              "#9c179e"
             ],
             [
              0.4444444444444444,
              "#bd3786"
             ],
             [
              0.5555555555555556,
              "#d8576b"
             ],
             [
              0.6666666666666666,
              "#ed7953"
             ],
             [
              0.7777777777777778,
              "#fb9f3a"
             ],
             [
              0.8888888888888888,
              "#fdca26"
             ],
             [
              1,
              "#f0f921"
             ]
            ],
            "type": "surface"
           }
          ],
          "table": [
           {
            "cells": {
             "fill": {
              "color": "#EBF0F8"
             },
             "line": {
              "color": "white"
             }
            },
            "header": {
             "fill": {
              "color": "#C8D4E3"
             },
             "line": {
              "color": "white"
             }
            },
            "type": "table"
           }
          ]
         },
         "layout": {
          "annotationdefaults": {
           "arrowcolor": "#2a3f5f",
           "arrowhead": 0,
           "arrowwidth": 1
          },
          "autotypenumbers": "strict",
          "coloraxis": {
           "colorbar": {
            "outlinewidth": 0,
            "ticks": ""
           }
          },
          "colorscale": {
           "diverging": [
            [
             0,
             "#8e0152"
            ],
            [
             0.1,
             "#c51b7d"
            ],
            [
             0.2,
             "#de77ae"
            ],
            [
             0.3,
             "#f1b6da"
            ],
            [
             0.4,
             "#fde0ef"
            ],
            [
             0.5,
             "#f7f7f7"
            ],
            [
             0.6,
             "#e6f5d0"
            ],
            [
             0.7,
             "#b8e186"
            ],
            [
             0.8,
             "#7fbc41"
            ],
            [
             0.9,
             "#4d9221"
            ],
            [
             1,
             "#276419"
            ]
           ],
           "sequential": [
            [
             0,
             "#0d0887"
            ],
            [
             0.1111111111111111,
             "#46039f"
            ],
            [
             0.2222222222222222,
             "#7201a8"
            ],
            [
             0.3333333333333333,
             "#9c179e"
            ],
            [
             0.4444444444444444,
             "#bd3786"
            ],
            [
             0.5555555555555556,
             "#d8576b"
            ],
            [
             0.6666666666666666,
             "#ed7953"
            ],
            [
             0.7777777777777778,
             "#fb9f3a"
            ],
            [
             0.8888888888888888,
             "#fdca26"
            ],
            [
             1,
             "#f0f921"
            ]
           ],
           "sequentialminus": [
            [
             0,
             "#0d0887"
            ],
            [
             0.1111111111111111,
             "#46039f"
            ],
            [
             0.2222222222222222,
             "#7201a8"
            ],
            [
             0.3333333333333333,
             "#9c179e"
            ],
            [
             0.4444444444444444,
             "#bd3786"
            ],
            [
             0.5555555555555556,
             "#d8576b"
            ],
            [
             0.6666666666666666,
             "#ed7953"
            ],
            [
             0.7777777777777778,
             "#fb9f3a"
            ],
            [
             0.8888888888888888,
             "#fdca26"
            ],
            [
             1,
             "#f0f921"
            ]
           ]
          },
          "colorway": [
           "#636efa",
           "#EF553B",
           "#00cc96",
           "#ab63fa",
           "#FFA15A",
           "#19d3f3",
           "#FF6692",
           "#B6E880",
           "#FF97FF",
           "#FECB52"
          ],
          "font": {
           "color": "#2a3f5f"
          },
          "geo": {
           "bgcolor": "white",
           "lakecolor": "white",
           "landcolor": "#E5ECF6",
           "showlakes": true,
           "showland": true,
           "subunitcolor": "white"
          },
          "hoverlabel": {
           "align": "left"
          },
          "hovermode": "closest",
          "mapbox": {
           "style": "light"
          },
          "paper_bgcolor": "white",
          "plot_bgcolor": "#E5ECF6",
          "polar": {
           "angularaxis": {
            "gridcolor": "white",
            "linecolor": "white",
            "ticks": ""
           },
           "bgcolor": "#E5ECF6",
           "radialaxis": {
            "gridcolor": "white",
            "linecolor": "white",
            "ticks": ""
           }
          },
          "scene": {
           "xaxis": {
            "backgroundcolor": "#E5ECF6",
            "gridcolor": "white",
            "gridwidth": 2,
            "linecolor": "white",
            "showbackground": true,
            "ticks": "",
            "zerolinecolor": "white"
           },
           "yaxis": {
            "backgroundcolor": "#E5ECF6",
            "gridcolor": "white",
            "gridwidth": 2,
            "linecolor": "white",
            "showbackground": true,
            "ticks": "",
            "zerolinecolor": "white"
           },
           "zaxis": {
            "backgroundcolor": "#E5ECF6",
            "gridcolor": "white",
            "gridwidth": 2,
            "linecolor": "white",
            "showbackground": true,
            "ticks": "",
            "zerolinecolor": "white"
           }
          },
          "shapedefaults": {
           "line": {
            "color": "#2a3f5f"
           }
          },
          "ternary": {
           "aaxis": {
            "gridcolor": "white",
            "linecolor": "white",
            "ticks": ""
           },
           "baxis": {
            "gridcolor": "white",
            "linecolor": "white",
            "ticks": ""
           },
           "bgcolor": "#E5ECF6",
           "caxis": {
            "gridcolor": "white",
            "linecolor": "white",
            "ticks": ""
           }
          },
          "title": {
           "x": 0.05
          },
          "xaxis": {
           "automargin": true,
           "gridcolor": "white",
           "linecolor": "white",
           "ticks": "",
           "title": {
            "standoff": 15
           },
           "zerolinecolor": "white",
           "zerolinewidth": 2
          },
          "yaxis": {
           "automargin": true,
           "gridcolor": "white",
           "linecolor": "white",
           "ticks": "",
           "title": {
            "standoff": 15
           },
           "zerolinecolor": "white",
           "zerolinewidth": 2
          }
         }
        },
        "xaxis": {
         "anchor": "y",
         "domain": [
          0,
          1
         ],
         "title": {
          "text": "brand"
         }
        },
        "yaxis": {
         "anchor": "x",
         "domain": [
          0,
          1
         ],
         "title": {
          "text": "rating"
         }
        }
       }
      }
     },
     "metadata": {},
     "output_type": "display_data"
    }
   ],
   "source": [
    "# Cruzamento entre brand e price apresentando os clusters\n",
    "px.scatter(df_laptops, x='brand', y='rating', color='cluster')"
   ]
  },
  {
   "cell_type": "code",
   "execution_count": 62,
   "metadata": {},
   "outputs": [
    {
     "data": {
      "application/vnd.plotly.v1+json": {
       "config": {
        "plotlyServerURL": "https://plot.ly"
       },
       "data": [
        {
         "hovertemplate": "brand=tecno<br>cluster=%{x}<br>rating=%{y}<extra></extra>",
         "legendgroup": "tecno",
         "marker": {
          "color": "#636efa",
          "symbol": "circle"
         },
         "mode": "markers",
         "name": "tecno",
         "orientation": "v",
         "showlegend": true,
         "type": "scatter",
         "x": [
          36,
          47
         ],
         "xaxis": "x",
         "y": [
          63,
          67
         ],
         "yaxis": "y"
        },
        {
         "hovertemplate": "brand=hp<br>cluster=%{x}<br>rating=%{y}<extra></extra>",
         "legendgroup": "hp",
         "marker": {
          "color": "#EF553B",
          "symbol": "circle"
         },
         "mode": "markers",
         "name": "hp",
         "orientation": "v",
         "showlegend": true,
         "type": "scatter",
         "x": [
          69,
          97,
          24,
          18,
          33,
          12,
          42,
          42,
          39,
          111,
          12,
          39,
          18,
          61,
          111,
          19,
          39,
          39,
          10,
          44,
          61,
          134,
          43,
          61,
          61,
          134,
          69,
          69,
          71,
          63,
          63,
          36,
          69,
          128,
          29,
          44,
          111,
          29,
          97,
          10,
          44,
          33,
          69,
          43,
          25,
          12,
          65,
          39,
          24,
          132,
          111,
          42,
          69,
          2,
          97,
          42,
          25,
          63,
          69,
          48,
          18,
          69,
          39,
          97,
          9,
          9,
          136,
          61,
          42,
          36,
          134,
          106,
          48,
          28,
          69,
          27,
          135,
          111,
          27,
          13,
          12,
          135,
          97,
          39,
          12,
          39,
          78,
          14,
          134,
          64,
          24,
          60,
          30,
          59,
          97,
          65,
          45,
          135,
          25,
          69,
          9,
          63,
          25,
          71,
          78,
          78,
          145,
          61,
          63,
          30,
          18,
          30,
          39,
          14,
          30,
          69,
          13,
          39,
          111,
          9,
          36,
          3,
          18,
          30,
          136,
          93,
          2,
          35,
          43,
          39,
          71,
          39,
          3,
          35,
          33,
          132,
          42,
          42,
          111,
          111,
          111,
          42,
          100,
          17,
          13,
          9,
          12,
          42,
          100,
          28,
          17,
          25,
          100,
          28,
          139,
          12,
          111,
          44,
          33,
          65,
          18,
          48,
          42,
          111,
          28,
          18,
          71,
          61,
          42,
          9,
          39,
          134,
          42,
          63,
          134,
          9,
          42,
          134,
          97,
          73,
          97,
          97,
          134,
          61,
          93,
          65,
          30,
          97,
          39,
          61,
          71,
          8,
          29,
          139,
          49,
          40,
          69,
          78,
          106,
          98,
          35,
          63,
          106,
          40,
          35
         ],
         "xaxis": "x",
         "y": [
          73,
          60,
          85,
          71,
          49,
          77,
          66,
          62,
          71,
          71,
          80,
          71,
          76,
          70,
          63,
          80,
          72,
          65,
          70,
          70,
          70,
          54,
          72,
          70,
          67,
          57,
          62,
          62,
          58,
          54,
          52,
          60,
          60,
          82,
          76,
          64,
          58,
          76,
          59,
          67,
          66,
          49,
          56,
          76,
          63,
          76,
          63,
          75,
          85,
          70,
          63,
          66,
          65,
          65,
          59,
          57,
          69,
          54,
          67,
          68,
          69,
          67,
          73,
          62,
          71,
          64,
          39,
          71,
          54,
          58,
          62,
          52,
          64,
          56,
          64,
          51,
          58,
          62,
          52,
          70,
          78,
          69,
          57,
          77,
          76,
          72,
          60,
          88,
          62,
          70,
          85,
          88,
          79,
          78,
          57,
          47,
          70,
          64,
          75,
          67,
          70,
          57,
          59,
          51,
          58,
          62,
          78,
          63,
          51,
          70,
          71,
          72,
          71,
          86,
          75,
          67,
          67,
          72,
          70,
          67,
          60,
          77,
          73,
          77,
          44,
          56,
          57,
          44,
          69,
          69,
          46,
          67,
          80,
          38,
          52,
          73,
          66,
          66,
          66,
          70,
          66,
          72,
          57,
          60,
          71,
          69,
          71,
          69,
          58,
          53,
          60,
          70,
          58,
          62,
          63,
          72,
          66,
          71,
          49,
          50,
          67,
          63,
          65,
          67,
          47,
          66,
          50,
          64,
          66,
          71,
          65,
          57,
          59,
          58,
          57,
          75,
          66,
          57,
          54,
          54,
          51,
          51,
          54,
          67,
          56,
          67,
          71,
          60,
          75,
          67,
          56,
          77,
          75,
          64,
          79,
          72,
          58,
          59,
          52,
          43,
          37,
          59,
          47,
          73,
          37
         ],
         "yaxis": "y"
        },
        {
         "hovertemplate": "brand=acer<br>cluster=%{x}<br>rating=%{y}<extra></extra>",
         "legendgroup": "acer",
         "marker": {
          "color": "#00cc96",
          "symbol": "circle"
         },
         "mode": "markers",
         "name": "acer",
         "orientation": "v",
         "showlegend": true,
         "type": "scatter",
         "x": [
          23,
          34,
          25,
          2,
          58,
          34,
          73,
          58,
          34,
          129,
          30,
          30,
          68,
          45,
          1,
          13,
          105,
          58,
          56,
          34,
          79,
          3,
          68,
          32,
          68,
          47,
          45,
          32,
          32,
          32,
          47,
          23,
          77,
          120,
          34,
          129,
          47,
          34,
          35,
          2,
          2,
          68,
          34,
          129,
          107,
          107,
          28,
          81,
          129,
          1,
          18,
          129,
          2,
          34,
          58,
          68,
          1,
          68,
          45,
          34,
          107,
          107,
          68,
          45,
          23,
          88,
          32,
          59,
          17,
          19,
          56,
          50,
          59,
          59,
          129,
          8,
          18,
          54,
          18,
          129,
          68,
          28,
          81,
          14,
          1,
          34,
          1,
          61,
          61
         ],
         "xaxis": "x",
         "y": [
          62,
          63,
          64,
          60,
          58,
          71,
          60,
          62,
          72,
          67,
          75,
          70,
          49,
          64,
          54,
          64,
          78,
          57,
          59,
          70,
          67,
          75,
          49,
          67,
          47,
          64,
          64,
          64,
          62,
          63,
          63,
          56,
          62,
          38,
          65,
          62,
          67,
          65,
          38,
          58,
          62,
          50,
          72,
          70,
          63,
          60,
          45,
          79,
          65,
          58,
          80,
          59,
          64,
          70,
          59,
          50,
          57,
          50,
          60,
          69,
          56,
          53,
          51,
          50,
          59,
          52,
          50,
          70,
          62,
          78,
          58,
          47,
          65,
          66,
          64,
          65,
          73,
          74,
          72,
          59,
          50,
          44,
          71,
          77,
          52,
          71,
          54,
          71,
          67
         ],
         "yaxis": "y"
        },
        {
         "hovertemplate": "brand=lenovo<br>cluster=%{x}<br>rating=%{y}<extra></extra>",
         "legendgroup": "lenovo",
         "marker": {
          "color": "#ab63fa",
          "symbol": "circle"
         },
         "mode": "markers",
         "name": "lenovo",
         "orientation": "v",
         "showlegend": true,
         "type": "scatter",
         "x": [
          26,
          2,
          88,
          26,
          148,
          122,
          41,
          26,
          26,
          67,
          122,
          41,
          64,
          114,
          146,
          67,
          148,
          26,
          41,
          19,
          8,
          104,
          80,
          67,
          127,
          114,
          114,
          114,
          27,
          100,
          41,
          8,
          122,
          50,
          22,
          88,
          0,
          91,
          26,
          144,
          0,
          88,
          10,
          10,
          91,
          66,
          22,
          124,
          104,
          122,
          104,
          91,
          14,
          70,
          125,
          137,
          26,
          41,
          26,
          148,
          104,
          124,
          104,
          10,
          51,
          19,
          104,
          148,
          51,
          26,
          51,
          8,
          14,
          8,
          51,
          95,
          26,
          51,
          41,
          26,
          148,
          26,
          104,
          104,
          41,
          33,
          100,
          146,
          88,
          41,
          125,
          36,
          2,
          148,
          87,
          125,
          99,
          95,
          122,
          148,
          114,
          0,
          124,
          95,
          67,
          36,
          51,
          2,
          125,
          25,
          88,
          41,
          88,
          0,
          51,
          125,
          26,
          73,
          27,
          41,
          148,
          10,
          127,
          36,
          51,
          2,
          127,
          51,
          51,
          36,
          125,
          73,
          51,
          114,
          114,
          122,
          122,
          122,
          40,
          127,
          125,
          125,
          26,
          125,
          50,
          0,
          104,
          26,
          80,
          70,
          48,
          41,
          122,
          125,
          146,
          146,
          104,
          67,
          104,
          36,
          114,
          137,
          0,
          91,
          26,
          91,
          9,
          10,
          26,
          0,
          26,
          26,
          45,
          41,
          0,
          146,
          26,
          0,
          2,
          70,
          137,
          2,
          146,
          104,
          122,
          79,
          66,
          66,
          137,
          144,
          26,
          26,
          36,
          41,
          27,
          142,
          3,
          137,
          137,
          27,
          25
         ],
         "xaxis": "x",
         "y": [
          62,
          66,
          59,
          59,
          71,
          69,
          51,
          66,
          47,
          70,
          63,
          59,
          80,
          70,
          66,
          64,
          67,
          60,
          64,
          77,
          83,
          60,
          50,
          64,
          62,
          69,
          63,
          67,
          53,
          53,
          53,
          78,
          74,
          49,
          64,
          57,
          58,
          62,
          50,
          58,
          62,
          66,
          57,
          60,
          63,
          51,
          64,
          67,
          66,
          75,
          65,
          57,
          86,
          70,
          69,
          54,
          53,
          57,
          56,
          69,
          67,
          75,
          63,
          58,
          57,
          63,
          65,
          69,
          64,
          56,
          58,
          84,
          85,
          78,
          58,
          77,
          57,
          65,
          57,
          57,
          67,
          58,
          60,
          62,
          51,
          46,
          51,
          63,
          64,
          43,
          69,
          58,
          59,
          65,
          71,
          63,
          89,
          83,
          79,
          67,
          66,
          56,
          65,
          83,
          69,
          52,
          58,
          60,
          62,
          58,
          58,
          53,
          63,
          58,
          59,
          69,
          58,
          60,
          56,
          65,
          64,
          60,
          60,
          60,
          62,
          65,
          64,
          62,
          60,
          59,
          64,
          58,
          60,
          72,
          71,
          73,
          73,
          75,
          73,
          63,
          69,
          72,
          57,
          69,
          38,
          62,
          65,
          59,
          50,
          70,
          62,
          58,
          69,
          64,
          67,
          66,
          67,
          64,
          67,
          59,
          70,
          57,
          62,
          62,
          57,
          63,
          75,
          62,
          57,
          57,
          59,
          54,
          64,
          53,
          54,
          56,
          59,
          57,
          66,
          64,
          50,
          67,
          58,
          67,
          71,
          78,
          47,
          43,
          45,
          58,
          56,
          56,
          60,
          66,
          55,
          52,
          75,
          54,
          50,
          48,
          64
         ],
         "yaxis": "y"
        },
        {
         "hovertemplate": "brand=apple<br>cluster=%{x}<br>rating=%{y}<extra></extra>",
         "legendgroup": "apple",
         "marker": {
          "color": "#FFA15A",
          "symbol": "circle"
         },
         "mode": "markers",
         "name": "apple",
         "orientation": "v",
         "showlegend": true,
         "type": "scatter",
         "x": [
          115,
          143,
          115,
          37,
          115,
          103,
          103,
          126,
          37,
          37,
          115,
          115,
          119,
          119,
          37
         ],
         "xaxis": "x",
         "y": [
          45,
          65,
          48,
          53,
          43,
          63,
          64,
          58,
          56,
          56,
          45,
          45,
          53,
          58,
          51
         ],
         "yaxis": "y"
        },
        {
         "hovertemplate": "brand=infinix<br>cluster=%{x}<br>rating=%{y}<extra></extra>",
         "legendgroup": "infinix",
         "marker": {
          "color": "#19d3f3",
          "symbol": "circle"
         },
         "mode": "markers",
         "name": "infinix",
         "orientation": "v",
         "showlegend": true,
         "type": "scatter",
         "x": [
          2,
          84,
          46,
          56,
          46,
          47,
          84,
          23,
          88,
          56,
          46,
          23,
          45
         ],
         "xaxis": "x",
         "y": [
          56,
          71,
          54,
          50,
          53,
          60,
          63,
          56,
          57,
          57,
          52,
          57,
          58
         ],
         "yaxis": "y"
        },
        {
         "hovertemplate": "brand=asus<br>cluster=%{x}<br>rating=%{y}<extra></extra>",
         "legendgroup": "asus",
         "marker": {
          "color": "#FF6692",
          "symbol": "circle"
         },
         "mode": "markers",
         "name": "asus",
         "orientation": "v",
         "showlegend": true,
         "type": "scatter",
         "x": [
          44,
          11,
          43,
          15,
          46,
          1,
          6,
          130,
          14,
          90,
          31,
          45,
          30,
          6,
          13,
          31,
          45,
          31,
          31,
          6,
          86,
          44,
          55,
          55,
          121,
          118,
          99,
          130,
          94,
          11,
          46,
          31,
          2,
          108,
          102,
          4,
          6,
          13,
          6,
          6,
          6,
          44,
          31,
          61,
          56,
          31,
          11,
          77,
          81,
          81,
          3,
          15,
          6,
          90,
          125,
          52,
          49,
          94,
          11,
          73,
          11,
          46,
          9,
          8,
          4,
          4,
          108,
          100,
          131,
          6,
          116,
          86,
          90,
          50,
          90,
          15,
          4,
          25,
          87,
          87,
          43,
          90,
          71,
          77,
          2,
          31,
          108,
          108,
          43,
          3,
          6,
          4,
          4,
          4,
          94,
          4,
          6,
          6,
          6,
          6,
          94,
          86,
          100,
          6,
          86,
          3,
          28,
          94,
          6,
          86,
          86,
          46,
          31,
          66,
          94,
          6,
          6,
          86,
          19,
          86,
          101,
          31,
          31,
          6,
          31,
          15,
          6,
          101,
          20,
          15,
          79,
          86,
          49,
          46,
          66,
          2,
          1,
          64,
          94,
          8,
          30,
          72,
          12,
          3,
          8,
          43,
          86,
          72,
          101,
          12,
          131,
          123,
          3,
          31,
          6,
          140,
          52,
          3,
          79,
          55,
          19,
          123,
          2,
          71,
          94,
          140,
          73,
          56,
          13,
          13,
          55,
          13,
          31,
          9,
          94,
          28,
          15,
          25,
          31,
          31,
          31,
          28,
          28,
          13,
          31,
          13,
          13,
          31,
          31,
          94,
          9,
          94,
          124,
          48,
          108,
          73,
          118,
          54,
          100,
          17,
          100,
          86,
          14,
          48,
          64,
          77,
          11,
          86,
          1,
          118
         ],
         "xaxis": "x",
         "y": [
          70,
          71,
          76,
          57,
          57,
          65,
          72,
          77,
          83,
          75,
          67,
          64,
          78,
          72,
          62,
          64,
          57,
          63,
          71,
          70,
          70,
          66,
          75,
          72,
          72,
          64,
          88,
          79,
          60,
          65,
          56,
          70,
          62,
          71,
          69,
          35,
          71,
          65,
          76,
          77,
          76,
          70,
          66,
          60,
          59,
          64,
          58,
          80,
          77,
          79,
          78,
          64,
          67,
          64,
          70,
          65,
          71,
          59,
          65,
          60,
          65,
          50,
          73,
          85,
          37,
          44,
          67,
          58,
          65,
          69,
          45,
          63,
          70,
          38,
          66,
          51,
          38,
          73,
          58,
          62,
          70,
          71,
          43,
          67,
          59,
          60,
          64,
          63,
          73,
          64,
          72,
          37,
          41,
          37,
          57,
          37,
          72,
          65,
          66,
          70,
          57,
          62,
          56,
          69,
          63,
          76,
          59,
          57,
          72,
          66,
          72,
          54,
          64,
          45,
          57,
          72,
          75,
          70,
          82,
          72,
          71,
          65,
          60,
          75,
          64,
          60,
          72,
          83,
          71,
          59,
          69,
          64,
          66,
          53,
          45,
          58,
          63,
          64,
          54,
          71,
          73,
          89,
          84,
          75,
          83,
          73,
          77,
          89,
          76,
          80,
          67,
          73,
          82,
          66,
          72,
          75,
          66,
          76,
          66,
          70,
          84,
          71,
          56,
          45,
          56,
          78,
          60,
          59,
          73,
          73,
          70,
          75,
          59,
          64,
          52,
          48,
          59,
          63,
          56,
          62,
          60,
          57,
          56,
          71,
          64,
          64,
          70,
          62,
          60,
          53,
          58,
          51,
          74,
          62,
          67,
          59,
          67,
          89,
          58,
          59,
          53,
          72,
          83,
          68,
          68,
          65,
          64,
          68,
          59,
          68
         ],
         "yaxis": "y"
        },
        {
         "hovertemplate": "brand=dell<br>cluster=%{x}<br>rating=%{y}<extra></extra>",
         "legendgroup": "dell",
         "marker": {
          "color": "#B6E880",
          "symbol": "circle"
         },
         "mode": "markers",
         "name": "dell",
         "orientation": "v",
         "showlegend": true,
         "type": "scatter",
         "x": [
          92,
          74,
          74,
          48,
          10,
          52,
          15,
          43,
          121,
          105,
          92,
          93,
          43,
          62,
          88,
          17,
          96,
          141,
          138,
          81,
          62,
          53,
          92,
          96,
          53,
          43,
          92,
          53,
          53,
          92,
          92,
          88,
          15,
          15,
          62,
          93,
          10,
          93,
          92,
          10,
          16,
          141,
          92,
          38,
          62,
          38,
          62,
          133,
          53,
          10,
          53,
          92,
          38,
          99,
          38,
          70,
          147,
          17,
          14,
          12,
          75,
          109,
          133,
          10,
          141,
          133,
          62,
          96,
          96,
          92,
          62,
          62,
          144,
          74,
          21,
          85,
          62,
          123,
          52,
          15,
          19,
          54,
          96,
          96,
          92,
          96,
          96,
          53,
          53,
          74,
          68,
          81,
          74,
          74,
          121,
          72,
          19,
          21,
          21,
          92,
          45,
          48,
          62,
          15,
          96,
          74
         ],
         "xaxis": "x",
         "y": [
          60,
          66,
          71,
          66,
          66,
          70,
          60,
          72,
          74,
          78,
          59,
          53,
          73,
          63,
          62,
          68,
          62,
          56,
          67,
          80,
          53,
          58,
          49,
          59,
          64,
          75,
          58,
          57,
          53,
          53,
          57,
          57,
          56,
          57,
          56,
          57,
          62,
          53,
          58,
          57,
          78,
          56,
          58,
          63,
          58,
          62,
          54,
          59,
          57,
          60,
          63,
          58,
          60,
          85,
          63,
          65,
          83,
          65,
          85,
          80,
          83,
          89,
          60,
          63,
          60,
          56,
          53,
          56,
          67,
          58,
          52,
          60,
          60,
          70,
          88,
          82,
          54,
          72,
          71,
          56,
          78,
          82,
          59,
          58,
          57,
          56,
          52,
          57,
          56,
          76,
          52,
          79,
          73,
          75,
          69,
          78,
          83,
          82,
          83,
          63,
          63,
          59,
          62,
          59,
          68,
          72
         ],
         "yaxis": "y"
        },
        {
         "hovertemplate": "brand=samsung<br>cluster=%{x}<br>rating=%{y}<extra></extra>",
         "legendgroup": "samsung",
         "marker": {
          "color": "#FF97FF",
          "symbol": "circle"
         },
         "mode": "markers",
         "name": "samsung",
         "orientation": "v",
         "showlegend": true,
         "type": "scatter",
         "x": [
          57,
          15,
          88,
          15,
          88,
          15,
          57
         ],
         "xaxis": "x",
         "y": [
          68,
          59,
          62,
          56,
          60,
          59,
          68
         ],
         "yaxis": "y"
        },
        {
         "hovertemplate": "brand=msi<br>cluster=%{x}<br>rating=%{y}<extra></extra>",
         "legendgroup": "msi",
         "marker": {
          "color": "#FECB52",
          "symbol": "circle"
         },
         "mode": "markers",
         "name": "msi",
         "orientation": "v",
         "showlegend": true,
         "type": "scatter",
         "x": [
          7,
          20,
          56,
          7,
          7,
          16,
          1,
          2,
          23,
          20,
          44,
          20,
          45,
          23,
          7,
          45,
          7,
          7,
          17,
          20,
          59,
          20,
          19,
          82,
          11,
          16,
          7,
          7,
          20,
          7,
          89,
          19,
          89,
          44,
          7,
          7,
          89,
          19,
          14,
          23,
          58,
          3,
          79,
          7,
          44,
          7,
          18,
          61,
          12,
          18,
          12,
          44,
          12,
          18,
          0,
          44,
          17,
          121,
          20,
          117,
          20,
          44,
          20,
          54,
          20,
          20,
          45,
          45,
          60,
          7,
          20,
          54,
          60,
          19,
          20,
          11,
          1,
          73,
          48,
          0,
          23,
          112,
          20,
          112,
          88,
          23,
          23,
          0,
          20,
          7
         ],
         "xaxis": "x",
         "y": [
          71,
          76,
          58,
          70,
          65,
          75,
          65,
          63,
          60,
          73,
          65,
          73,
          62,
          65,
          72,
          62,
          73,
          69,
          62,
          79,
          78,
          69,
          80,
          89,
          70,
          83,
          71,
          76,
          76,
          77,
          79,
          76,
          77,
          69,
          71,
          70,
          83,
          73,
          89,
          63,
          58,
          77,
          71,
          65,
          67,
          78,
          67,
          65,
          78,
          69,
          77,
          66,
          77,
          75,
          63,
          70,
          65,
          75,
          75,
          85,
          69,
          71,
          73,
          86,
          71,
          77,
          65,
          70,
          89,
          65,
          71,
          84,
          87,
          80,
          70,
          72,
          53,
          54,
          60,
          58,
          59,
          72,
          74,
          67,
          59,
          61,
          58,
          56,
          76,
          73
         ],
         "yaxis": "y"
        },
        {
         "hovertemplate": "brand=wings<br>cluster=%{x}<br>rating=%{y}<extra></extra>",
         "legendgroup": "wings",
         "marker": {
          "color": "#636efa",
          "symbol": "circle"
         },
         "mode": "markers",
         "name": "wings",
         "orientation": "v",
         "showlegend": true,
         "type": "scatter",
         "x": [
          5,
          5,
          5,
          5
         ],
         "xaxis": "x",
         "y": [
          56,
          58,
          49,
          51
         ],
         "yaxis": "y"
        },
        {
         "hovertemplate": "brand=ultimus<br>cluster=%{x}<br>rating=%{y}<extra></extra>",
         "legendgroup": "ultimus",
         "marker": {
          "color": "#EF553B",
          "symbol": "circle"
         },
         "mode": "markers",
         "name": "ultimus",
         "orientation": "v",
         "showlegend": true,
         "type": "scatter",
         "x": [
          56,
          80,
          80,
          80,
          80,
          56
         ],
         "xaxis": "x",
         "y": [
          54,
          46,
          41,
          45,
          47,
          52
         ],
         "yaxis": "y"
        },
        {
         "hovertemplate": "brand=primebook<br>cluster=%{x}<br>rating=%{y}<extra></extra>",
         "legendgroup": "primebook",
         "marker": {
          "color": "#00cc96",
          "symbol": "circle"
         },
         "mode": "markers",
         "name": "primebook",
         "orientation": "v",
         "showlegend": true,
         "type": "scatter",
         "x": [
          83,
          83
         ],
         "xaxis": "x",
         "y": [
          26,
          31
         ],
         "yaxis": "y"
        },
        {
         "hovertemplate": "brand=iball<br>cluster=%{x}<br>rating=%{y}<extra></extra>",
         "legendgroup": "iball",
         "marker": {
          "color": "#ab63fa",
          "symbol": "circle"
         },
         "mode": "markers",
         "name": "iball",
         "orientation": "v",
         "showlegend": true,
         "type": "scatter",
         "x": [
          50
         ],
         "xaxis": "x",
         "y": [
          41
         ],
         "yaxis": "y"
        },
        {
         "hovertemplate": "brand=zebronics<br>cluster=%{x}<br>rating=%{y}<extra></extra>",
         "legendgroup": "zebronics",
         "marker": {
          "color": "#FFA15A",
          "symbol": "circle"
         },
         "mode": "markers",
         "name": "zebronics",
         "orientation": "v",
         "showlegend": true,
         "type": "scatter",
         "x": [
          58,
          2,
          25,
          58,
          32,
          58,
          32
         ],
         "xaxis": "x",
         "y": [
          65,
          63,
          72,
          56,
          66,
          60,
          72
         ],
         "yaxis": "y"
        },
        {
         "hovertemplate": "brand=chuwi<br>cluster=%{x}<br>rating=%{y}<extra></extra>",
         "legendgroup": "chuwi",
         "marker": {
          "color": "#19d3f3",
          "symbol": "circle"
         },
         "mode": "markers",
         "name": "chuwi",
         "orientation": "v",
         "showlegend": true,
         "type": "scatter",
         "x": [
          110,
          56,
          56,
          110
         ],
         "xaxis": "x",
         "y": [
          50,
          50,
          50,
          54
         ],
         "yaxis": "y"
        },
        {
         "hovertemplate": "brand=gigabyte<br>cluster=%{x}<br>rating=%{y}<extra></extra>",
         "legendgroup": "gigabyte",
         "marker": {
          "color": "#FF6692",
          "symbol": "circle"
         },
         "mode": "markers",
         "name": "gigabyte",
         "orientation": "v",
         "showlegend": true,
         "type": "scatter",
         "x": [
          34,
          121
         ],
         "xaxis": "x",
         "y": [
          67,
          73
         ],
         "yaxis": "y"
        },
        {
         "hovertemplate": "brand=jio<br>cluster=%{x}<br>rating=%{y}<extra></extra>",
         "legendgroup": "jio",
         "marker": {
          "color": "#B6E880",
          "symbol": "circle"
         },
         "mode": "markers",
         "name": "jio",
         "orientation": "v",
         "showlegend": true,
         "type": "scatter",
         "x": [
          83
         ],
         "xaxis": "x",
         "y": [
          24
         ],
         "yaxis": "y"
        },
        {
         "hovertemplate": "brand=honor<br>cluster=%{x}<br>rating=%{y}<extra></extra>",
         "legendgroup": "honor",
         "marker": {
          "color": "#FF97FF",
          "symbol": "circle"
         },
         "mode": "markers",
         "name": "honor",
         "orientation": "v",
         "showlegend": true,
         "type": "scatter",
         "x": [
          9,
          73
         ],
         "xaxis": "x",
         "y": [
          66,
          59
         ],
         "yaxis": "y"
        },
        {
         "hovertemplate": "brand=realme<br>cluster=%{x}<br>rating=%{y}<extra></extra>",
         "legendgroup": "realme",
         "marker": {
          "color": "#FECB52",
          "symbol": "circle"
         },
         "mode": "markers",
         "name": "realme",
         "orientation": "v",
         "showlegend": true,
         "type": "scatter",
         "x": [
          5,
          110
         ],
         "xaxis": "x",
         "y": [
          52,
          62
         ],
         "yaxis": "y"
        },
        {
         "hovertemplate": "brand=avita<br>cluster=%{x}<br>rating=%{y}<extra></extra>",
         "legendgroup": "avita",
         "marker": {
          "color": "#636efa",
          "symbol": "circle"
         },
         "mode": "markers",
         "name": "avita",
         "orientation": "v",
         "showlegend": true,
         "type": "scatter",
         "x": [
          100,
          100,
          58,
          116,
          66
         ],
         "xaxis": "x",
         "y": [
          56,
          50,
          51,
          41,
          43
         ],
         "yaxis": "y"
        },
        {
         "hovertemplate": "brand=microsoft<br>cluster=%{x}<br>rating=%{y}<extra></extra>",
         "legendgroup": "microsoft",
         "marker": {
          "color": "#EF553B",
          "symbol": "circle"
         },
         "mode": "markers",
         "name": "microsoft",
         "orientation": "v",
         "showlegend": true,
         "type": "scatter",
         "x": [
          113,
          113
         ],
         "xaxis": "x",
         "y": [
          58,
          60
         ],
         "yaxis": "y"
        },
        {
         "hovertemplate": "brand=fujitsu<br>cluster=%{x}<br>rating=%{y}<extra></extra>",
         "legendgroup": "fujitsu",
         "marker": {
          "color": "#00cc96",
          "symbol": "circle"
         },
         "mode": "markers",
         "name": "fujitsu",
         "orientation": "v",
         "showlegend": true,
         "type": "scatter",
         "x": [
          9,
          9,
          112,
          9,
          11
         ],
         "xaxis": "x",
         "y": [
          67,
          65,
          76,
          73,
          70
         ],
         "yaxis": "y"
        },
        {
         "hovertemplate": "brand=lg<br>cluster=%{x}<br>rating=%{y}<extra></extra>",
         "legendgroup": "lg",
         "marker": {
          "color": "#ab63fa",
          "symbol": "circle"
         },
         "mode": "markers",
         "name": "lg",
         "orientation": "v",
         "showlegend": true,
         "type": "scatter",
         "x": [
          57,
          11,
          76,
          57,
          11,
          13,
          52
         ],
         "xaxis": "x",
         "y": [
          67,
          72,
          78,
          69,
          75,
          72,
          72
         ],
         "yaxis": "y"
        },
        {
         "hovertemplate": "brand=walker<br>cluster=%{x}<br>rating=%{y}<extra></extra>",
         "legendgroup": "walker",
         "marker": {
          "color": "#FFA15A",
          "symbol": "circle"
         },
         "mode": "markers",
         "name": "walker",
         "orientation": "v",
         "showlegend": true,
         "type": "scatter",
         "x": [
          116
         ],
         "xaxis": "x",
         "y": [
          37
         ],
         "yaxis": "y"
        },
        {
         "hovertemplate": "brand=axl<br>cluster=%{x}<br>rating=%{y}<extra></extra>",
         "legendgroup": "axl",
         "marker": {
          "color": "#19d3f3",
          "symbol": "circle"
         },
         "mode": "markers",
         "name": "axl",
         "orientation": "v",
         "showlegend": true,
         "type": "scatter",
         "x": [
          66,
          116
         ],
         "xaxis": "x",
         "y": [
          38,
          37
         ],
         "yaxis": "y"
        }
       ],
       "layout": {
        "legend": {
         "title": {
          "text": "brand"
         },
         "tracegroupgap": 0
        },
        "margin": {
         "t": 60
        },
        "template": {
         "data": {
          "bar": [
           {
            "error_x": {
             "color": "#2a3f5f"
            },
            "error_y": {
             "color": "#2a3f5f"
            },
            "marker": {
             "line": {
              "color": "#E5ECF6",
              "width": 0.5
             },
             "pattern": {
              "fillmode": "overlay",
              "size": 10,
              "solidity": 0.2
             }
            },
            "type": "bar"
           }
          ],
          "barpolar": [
           {
            "marker": {
             "line": {
              "color": "#E5ECF6",
              "width": 0.5
             },
             "pattern": {
              "fillmode": "overlay",
              "size": 10,
              "solidity": 0.2
             }
            },
            "type": "barpolar"
           }
          ],
          "carpet": [
           {
            "aaxis": {
             "endlinecolor": "#2a3f5f",
             "gridcolor": "white",
             "linecolor": "white",
             "minorgridcolor": "white",
             "startlinecolor": "#2a3f5f"
            },
            "baxis": {
             "endlinecolor": "#2a3f5f",
             "gridcolor": "white",
             "linecolor": "white",
             "minorgridcolor": "white",
             "startlinecolor": "#2a3f5f"
            },
            "type": "carpet"
           }
          ],
          "choropleth": [
           {
            "colorbar": {
             "outlinewidth": 0,
             "ticks": ""
            },
            "type": "choropleth"
           }
          ],
          "contour": [
           {
            "colorbar": {
             "outlinewidth": 0,
             "ticks": ""
            },
            "colorscale": [
             [
              0,
              "#0d0887"
             ],
             [
              0.1111111111111111,
              "#46039f"
             ],
             [
              0.2222222222222222,
              "#7201a8"
             ],
             [
              0.3333333333333333,
              "#9c179e"
             ],
             [
              0.4444444444444444,
              "#bd3786"
             ],
             [
              0.5555555555555556,
              "#d8576b"
             ],
             [
              0.6666666666666666,
              "#ed7953"
             ],
             [
              0.7777777777777778,
              "#fb9f3a"
             ],
             [
              0.8888888888888888,
              "#fdca26"
             ],
             [
              1,
              "#f0f921"
             ]
            ],
            "type": "contour"
           }
          ],
          "contourcarpet": [
           {
            "colorbar": {
             "outlinewidth": 0,
             "ticks": ""
            },
            "type": "contourcarpet"
           }
          ],
          "heatmap": [
           {
            "colorbar": {
             "outlinewidth": 0,
             "ticks": ""
            },
            "colorscale": [
             [
              0,
              "#0d0887"
             ],
             [
              0.1111111111111111,
              "#46039f"
             ],
             [
              0.2222222222222222,
              "#7201a8"
             ],
             [
              0.3333333333333333,
              "#9c179e"
             ],
             [
              0.4444444444444444,
              "#bd3786"
             ],
             [
              0.5555555555555556,
              "#d8576b"
             ],
             [
              0.6666666666666666,
              "#ed7953"
             ],
             [
              0.7777777777777778,
              "#fb9f3a"
             ],
             [
              0.8888888888888888,
              "#fdca26"
             ],
             [
              1,
              "#f0f921"
             ]
            ],
            "type": "heatmap"
           }
          ],
          "heatmapgl": [
           {
            "colorbar": {
             "outlinewidth": 0,
             "ticks": ""
            },
            "colorscale": [
             [
              0,
              "#0d0887"
             ],
             [
              0.1111111111111111,
              "#46039f"
             ],
             [
              0.2222222222222222,
              "#7201a8"
             ],
             [
              0.3333333333333333,
              "#9c179e"
             ],
             [
              0.4444444444444444,
              "#bd3786"
             ],
             [
              0.5555555555555556,
              "#d8576b"
             ],
             [
              0.6666666666666666,
              "#ed7953"
             ],
             [
              0.7777777777777778,
              "#fb9f3a"
             ],
             [
              0.8888888888888888,
              "#fdca26"
             ],
             [
              1,
              "#f0f921"
             ]
            ],
            "type": "heatmapgl"
           }
          ],
          "histogram": [
           {
            "marker": {
             "pattern": {
              "fillmode": "overlay",
              "size": 10,
              "solidity": 0.2
             }
            },
            "type": "histogram"
           }
          ],
          "histogram2d": [
           {
            "colorbar": {
             "outlinewidth": 0,
             "ticks": ""
            },
            "colorscale": [
             [
              0,
              "#0d0887"
             ],
             [
              0.1111111111111111,
              "#46039f"
             ],
             [
              0.2222222222222222,
              "#7201a8"
             ],
             [
              0.3333333333333333,
              "#9c179e"
             ],
             [
              0.4444444444444444,
              "#bd3786"
             ],
             [
              0.5555555555555556,
              "#d8576b"
             ],
             [
              0.6666666666666666,
              "#ed7953"
             ],
             [
              0.7777777777777778,
              "#fb9f3a"
             ],
             [
              0.8888888888888888,
              "#fdca26"
             ],
             [
              1,
              "#f0f921"
             ]
            ],
            "type": "histogram2d"
           }
          ],
          "histogram2dcontour": [
           {
            "colorbar": {
             "outlinewidth": 0,
             "ticks": ""
            },
            "colorscale": [
             [
              0,
              "#0d0887"
             ],
             [
              0.1111111111111111,
              "#46039f"
             ],
             [
              0.2222222222222222,
              "#7201a8"
             ],
             [
              0.3333333333333333,
              "#9c179e"
             ],
             [
              0.4444444444444444,
              "#bd3786"
             ],
             [
              0.5555555555555556,
              "#d8576b"
             ],
             [
              0.6666666666666666,
              "#ed7953"
             ],
             [
              0.7777777777777778,
              "#fb9f3a"
             ],
             [
              0.8888888888888888,
              "#fdca26"
             ],
             [
              1,
              "#f0f921"
             ]
            ],
            "type": "histogram2dcontour"
           }
          ],
          "mesh3d": [
           {
            "colorbar": {
             "outlinewidth": 0,
             "ticks": ""
            },
            "type": "mesh3d"
           }
          ],
          "parcoords": [
           {
            "line": {
             "colorbar": {
              "outlinewidth": 0,
              "ticks": ""
             }
            },
            "type": "parcoords"
           }
          ],
          "pie": [
           {
            "automargin": true,
            "type": "pie"
           }
          ],
          "scatter": [
           {
            "fillpattern": {
             "fillmode": "overlay",
             "size": 10,
             "solidity": 0.2
            },
            "type": "scatter"
           }
          ],
          "scatter3d": [
           {
            "line": {
             "colorbar": {
              "outlinewidth": 0,
              "ticks": ""
             }
            },
            "marker": {
             "colorbar": {
              "outlinewidth": 0,
              "ticks": ""
             }
            },
            "type": "scatter3d"
           }
          ],
          "scattercarpet": [
           {
            "marker": {
             "colorbar": {
              "outlinewidth": 0,
              "ticks": ""
             }
            },
            "type": "scattercarpet"
           }
          ],
          "scattergeo": [
           {
            "marker": {
             "colorbar": {
              "outlinewidth": 0,
              "ticks": ""
             }
            },
            "type": "scattergeo"
           }
          ],
          "scattergl": [
           {
            "marker": {
             "colorbar": {
              "outlinewidth": 0,
              "ticks": ""
             }
            },
            "type": "scattergl"
           }
          ],
          "scattermapbox": [
           {
            "marker": {
             "colorbar": {
              "outlinewidth": 0,
              "ticks": ""
             }
            },
            "type": "scattermapbox"
           }
          ],
          "scatterpolar": [
           {
            "marker": {
             "colorbar": {
              "outlinewidth": 0,
              "ticks": ""
             }
            },
            "type": "scatterpolar"
           }
          ],
          "scatterpolargl": [
           {
            "marker": {
             "colorbar": {
              "outlinewidth": 0,
              "ticks": ""
             }
            },
            "type": "scatterpolargl"
           }
          ],
          "scatterternary": [
           {
            "marker": {
             "colorbar": {
              "outlinewidth": 0,
              "ticks": ""
             }
            },
            "type": "scatterternary"
           }
          ],
          "surface": [
           {
            "colorbar": {
             "outlinewidth": 0,
             "ticks": ""
            },
            "colorscale": [
             [
              0,
              "#0d0887"
             ],
             [
              0.1111111111111111,
              "#46039f"
             ],
             [
              0.2222222222222222,
              "#7201a8"
             ],
             [
              0.3333333333333333,
              "#9c179e"
             ],
             [
              0.4444444444444444,
              "#bd3786"
             ],
             [
              0.5555555555555556,
              "#d8576b"
             ],
             [
              0.6666666666666666,
              "#ed7953"
             ],
             [
              0.7777777777777778,
              "#fb9f3a"
             ],
             [
              0.8888888888888888,
              "#fdca26"
             ],
             [
              1,
              "#f0f921"
             ]
            ],
            "type": "surface"
           }
          ],
          "table": [
           {
            "cells": {
             "fill": {
              "color": "#EBF0F8"
             },
             "line": {
              "color": "white"
             }
            },
            "header": {
             "fill": {
              "color": "#C8D4E3"
             },
             "line": {
              "color": "white"
             }
            },
            "type": "table"
           }
          ]
         },
         "layout": {
          "annotationdefaults": {
           "arrowcolor": "#2a3f5f",
           "arrowhead": 0,
           "arrowwidth": 1
          },
          "autotypenumbers": "strict",
          "coloraxis": {
           "colorbar": {
            "outlinewidth": 0,
            "ticks": ""
           }
          },
          "colorscale": {
           "diverging": [
            [
             0,
             "#8e0152"
            ],
            [
             0.1,
             "#c51b7d"
            ],
            [
             0.2,
             "#de77ae"
            ],
            [
             0.3,
             "#f1b6da"
            ],
            [
             0.4,
             "#fde0ef"
            ],
            [
             0.5,
             "#f7f7f7"
            ],
            [
             0.6,
             "#e6f5d0"
            ],
            [
             0.7,
             "#b8e186"
            ],
            [
             0.8,
             "#7fbc41"
            ],
            [
             0.9,
             "#4d9221"
            ],
            [
             1,
             "#276419"
            ]
           ],
           "sequential": [
            [
             0,
             "#0d0887"
            ],
            [
             0.1111111111111111,
             "#46039f"
            ],
            [
             0.2222222222222222,
             "#7201a8"
            ],
            [
             0.3333333333333333,
             "#9c179e"
            ],
            [
             0.4444444444444444,
             "#bd3786"
            ],
            [
             0.5555555555555556,
             "#d8576b"
            ],
            [
             0.6666666666666666,
             "#ed7953"
            ],
            [
             0.7777777777777778,
             "#fb9f3a"
            ],
            [
             0.8888888888888888,
             "#fdca26"
            ],
            [
             1,
             "#f0f921"
            ]
           ],
           "sequentialminus": [
            [
             0,
             "#0d0887"
            ],
            [
             0.1111111111111111,
             "#46039f"
            ],
            [
             0.2222222222222222,
             "#7201a8"
            ],
            [
             0.3333333333333333,
             "#9c179e"
            ],
            [
             0.4444444444444444,
             "#bd3786"
            ],
            [
             0.5555555555555556,
             "#d8576b"
            ],
            [
             0.6666666666666666,
             "#ed7953"
            ],
            [
             0.7777777777777778,
             "#fb9f3a"
            ],
            [
             0.8888888888888888,
             "#fdca26"
            ],
            [
             1,
             "#f0f921"
            ]
           ]
          },
          "colorway": [
           "#636efa",
           "#EF553B",
           "#00cc96",
           "#ab63fa",
           "#FFA15A",
           "#19d3f3",
           "#FF6692",
           "#B6E880",
           "#FF97FF",
           "#FECB52"
          ],
          "font": {
           "color": "#2a3f5f"
          },
          "geo": {
           "bgcolor": "white",
           "lakecolor": "white",
           "landcolor": "#E5ECF6",
           "showlakes": true,
           "showland": true,
           "subunitcolor": "white"
          },
          "hoverlabel": {
           "align": "left"
          },
          "hovermode": "closest",
          "mapbox": {
           "style": "light"
          },
          "paper_bgcolor": "white",
          "plot_bgcolor": "#E5ECF6",
          "polar": {
           "angularaxis": {
            "gridcolor": "white",
            "linecolor": "white",
            "ticks": ""
           },
           "bgcolor": "#E5ECF6",
           "radialaxis": {
            "gridcolor": "white",
            "linecolor": "white",
            "ticks": ""
           }
          },
          "scene": {
           "xaxis": {
            "backgroundcolor": "#E5ECF6",
            "gridcolor": "white",
            "gridwidth": 2,
            "linecolor": "white",
            "showbackground": true,
            "ticks": "",
            "zerolinecolor": "white"
           },
           "yaxis": {
            "backgroundcolor": "#E5ECF6",
            "gridcolor": "white",
            "gridwidth": 2,
            "linecolor": "white",
            "showbackground": true,
            "ticks": "",
            "zerolinecolor": "white"
           },
           "zaxis": {
            "backgroundcolor": "#E5ECF6",
            "gridcolor": "white",
            "gridwidth": 2,
            "linecolor": "white",
            "showbackground": true,
            "ticks": "",
            "zerolinecolor": "white"
           }
          },
          "shapedefaults": {
           "line": {
            "color": "#2a3f5f"
           }
          },
          "ternary": {
           "aaxis": {
            "gridcolor": "white",
            "linecolor": "white",
            "ticks": ""
           },
           "baxis": {
            "gridcolor": "white",
            "linecolor": "white",
            "ticks": ""
           },
           "bgcolor": "#E5ECF6",
           "caxis": {
            "gridcolor": "white",
            "linecolor": "white",
            "ticks": ""
           }
          },
          "title": {
           "x": 0.05
          },
          "xaxis": {
           "automargin": true,
           "gridcolor": "white",
           "linecolor": "white",
           "ticks": "",
           "title": {
            "standoff": 15
           },
           "zerolinecolor": "white",
           "zerolinewidth": 2
          },
          "yaxis": {
           "automargin": true,
           "gridcolor": "white",
           "linecolor": "white",
           "ticks": "",
           "title": {
            "standoff": 15
           },
           "zerolinecolor": "white",
           "zerolinewidth": 2
          }
         }
        },
        "xaxis": {
         "anchor": "y",
         "domain": [
          0,
          1
         ],
         "title": {
          "text": "cluster"
         }
        },
        "yaxis": {
         "anchor": "x",
         "domain": [
          0,
          1
         ],
         "title": {
          "text": "rating"
         }
        }
       }
      }
     },
     "metadata": {},
     "output_type": "display_data"
    }
   ],
   "source": [
    "# Cruzamento entre brand e price apresentando os clusters\n",
    "px.scatter(df_laptops, x='cluster', y='rating', color='brand')"
   ]
  },
  {
   "cell_type": "code",
   "execution_count": 63,
   "metadata": {},
   "outputs": [
    {
     "data": {
      "application/vnd.plotly.v1+json": {
       "config": {
        "plotlyServerURL": "https://plot.ly"
       },
       "data": [
        {
         "alignmentgroup": "True",
         "hovertemplate": "cluster=%{marker.color}<br>value=%{y}<extra></extra>",
         "legendgroup": "",
         "marker": {
          "color": [
           26,
           6,
           31,
           2,
           20,
           7,
           9,
           15,
           45,
           39,
           18,
           13,
           12,
           61,
           41,
           42,
           44,
           88,
           19,
           0,
           10,
           104,
           69,
           86,
           92,
           125,
           56,
           34,
           11,
           3,
           111,
           94,
           100,
           51,
           23,
           25,
           1,
           62,
           36,
           28,
           43,
           30,
           122,
           97,
           14,
           48,
           96,
           58,
           68,
           8,
           73,
           17,
           4,
           114,
           46,
           53,
           134,
           148,
           32,
           66,
           129,
           63,
           71,
           74,
           80,
           146,
           81,
           27,
           137,
           90,
           5,
           35,
           79,
           47,
           59,
           54,
           33,
           50,
           52,
           91,
           108,
           115,
           93,
           121,
           67,
           107,
           38,
           37,
           55,
           64,
           77,
           65,
           124,
           70,
           116,
           127,
           78,
           57,
           16,
           49,
           21,
           101,
           95,
           141,
           144,
           133,
           83,
           60,
           72,
           40,
           29,
           24,
           112,
           89,
           87,
           110,
           99,
           118,
           135,
           123,
           106,
           22,
           119,
           132,
           84,
           130,
           139,
           136,
           140,
           103,
           113,
           105,
           131,
           82,
           76,
           75,
           98,
           109,
           102,
           85,
           117,
           126,
           128,
           120,
           138,
           143,
           142,
           145,
           147
          ],
          "coloraxis": "coloraxis",
          "pattern": {
           "shape": ""
          }
         },
         "name": "",
         "offsetgroup": "",
         "orientation": "v",
         "showlegend": false,
         "textposition": "auto",
         "type": "bar",
         "x": [
          26,
          6,
          31,
          2,
          20,
          7,
          9,
          15,
          45,
          39,
          18,
          13,
          12,
          61,
          41,
          42,
          44,
          88,
          19,
          0,
          10,
          104,
          69,
          86,
          92,
          125,
          56,
          34,
          11,
          3,
          111,
          94,
          100,
          51,
          23,
          25,
          1,
          62,
          36,
          28,
          43,
          30,
          122,
          97,
          14,
          48,
          96,
          58,
          68,
          8,
          73,
          17,
          4,
          114,
          46,
          53,
          134,
          148,
          32,
          66,
          129,
          63,
          71,
          74,
          80,
          146,
          81,
          27,
          137,
          90,
          5,
          35,
          79,
          47,
          59,
          54,
          33,
          50,
          52,
          91,
          108,
          115,
          93,
          121,
          67,
          107,
          38,
          37,
          55,
          64,
          77,
          65,
          124,
          70,
          116,
          127,
          78,
          57,
          16,
          49,
          21,
          101,
          95,
          141,
          144,
          133,
          83,
          60,
          72,
          40,
          29,
          24,
          112,
          89,
          87,
          110,
          99,
          118,
          135,
          123,
          106,
          22,
          119,
          132,
          84,
          130,
          139,
          136,
          140,
          103,
          113,
          105,
          131,
          82,
          76,
          75,
          98,
          109,
          102,
          85,
          117,
          126,
          128,
          120,
          138,
          143,
          142,
          145,
          147
         ],
         "xaxis": "x",
         "y": [
          2.219979818365288,
          2.119071644803229,
          2.0181634712411705,
          1.917255297679112,
          1.6145307769929365,
          1.513622603430878,
          1.513622603430878,
          1.4127144298688195,
          1.4127144298688195,
          1.4127144298688195,
          1.3118062563067607,
          1.3118062563067607,
          1.3118062563067607,
          1.3118062563067607,
          1.3118062563067607,
          1.3118062563067607,
          1.3118062563067607,
          1.3118062563067607,
          1.2108980827447022,
          1.2108980827447022,
          1.2108980827447022,
          1.2108980827447022,
          1.2108980827447022,
          1.2108980827447022,
          1.2108980827447022,
          1.109989909182644,
          1.109989909182644,
          1.109989909182644,
          1.109989909182644,
          1.109989909182644,
          1.109989909182644,
          1.109989909182644,
          1.109989909182644,
          1.109989909182644,
          1.109989909182644,
          1.109989909182644,
          1.0090817356205852,
          1.0090817356205852,
          1.0090817356205852,
          1.0090817356205852,
          1.0090817356205852,
          1.0090817356205852,
          1.0090817356205852,
          1.0090817356205852,
          0.9081735620585267,
          0.9081735620585267,
          0.9081735620585267,
          0.9081735620585267,
          0.9081735620585267,
          0.9081735620585267,
          0.9081735620585267,
          0.8072653884964682,
          0.8072653884964682,
          0.8072653884964682,
          0.8072653884964682,
          0.8072653884964682,
          0.8072653884964682,
          0.8072653884964682,
          0.7063572149344097,
          0.7063572149344097,
          0.7063572149344097,
          0.7063572149344097,
          0.7063572149344097,
          0.7063572149344097,
          0.6054490413723511,
          0.6054490413723511,
          0.6054490413723511,
          0.6054490413723511,
          0.6054490413723511,
          0.5045408678102926,
          0.5045408678102926,
          0.5045408678102926,
          0.5045408678102926,
          0.5045408678102926,
          0.5045408678102926,
          0.5045408678102926,
          0.5045408678102926,
          0.5045408678102926,
          0.5045408678102926,
          0.5045408678102926,
          0.5045408678102926,
          0.5045408678102926,
          0.5045408678102926,
          0.5045408678102926,
          0.5045408678102926,
          0.4036326942482341,
          0.4036326942482341,
          0.4036326942482341,
          0.4036326942482341,
          0.4036326942482341,
          0.4036326942482341,
          0.4036326942482341,
          0.4036326942482341,
          0.4036326942482341,
          0.4036326942482341,
          0.4036326942482341,
          0.4036326942482341,
          0.4036326942482341,
          0.30272452068617556,
          0.30272452068617556,
          0.30272452068617556,
          0.30272452068617556,
          0.30272452068617556,
          0.30272452068617556,
          0.30272452068617556,
          0.30272452068617556,
          0.30272452068617556,
          0.30272452068617556,
          0.30272452068617556,
          0.30272452068617556,
          0.30272452068617556,
          0.30272452068617556,
          0.30272452068617556,
          0.30272452068617556,
          0.30272452068617556,
          0.30272452068617556,
          0.30272452068617556,
          0.30272452068617556,
          0.30272452068617556,
          0.30272452068617556,
          0.30272452068617556,
          0.20181634712411706,
          0.20181634712411706,
          0.20181634712411706,
          0.20181634712411706,
          0.20181634712411706,
          0.20181634712411706,
          0.20181634712411706,
          0.20181634712411706,
          0.20181634712411706,
          0.20181634712411706,
          0.20181634712411706,
          0.20181634712411706,
          0.10090817356205853,
          0.10090817356205853,
          0.10090817356205853,
          0.10090817356205853,
          0.10090817356205853,
          0.10090817356205853,
          0.10090817356205853,
          0.10090817356205853,
          0.10090817356205853,
          0.10090817356205853,
          0.10090817356205853,
          0.10090817356205853,
          0.10090817356205853,
          0.10090817356205853,
          0.10090817356205853,
          0.10090817356205853
         ],
         "yaxis": "y"
        }
       ],
       "layout": {
        "barmode": "relative",
        "coloraxis": {
         "colorbar": {
          "title": {
           "text": "cluster"
          }
         },
         "colorscale": [
          [
           0,
           "#0d0887"
          ],
          [
           0.1111111111111111,
           "#46039f"
          ],
          [
           0.2222222222222222,
           "#7201a8"
          ],
          [
           0.3333333333333333,
           "#9c179e"
          ],
          [
           0.4444444444444444,
           "#bd3786"
          ],
          [
           0.5555555555555556,
           "#d8576b"
          ],
          [
           0.6666666666666666,
           "#ed7953"
          ],
          [
           0.7777777777777778,
           "#fb9f3a"
          ],
          [
           0.8888888888888888,
           "#fdca26"
          ],
          [
           1,
           "#f0f921"
          ]
         ]
        },
        "legend": {
         "tracegroupgap": 0
        },
        "margin": {
         "t": 60
        },
        "template": {
         "data": {
          "bar": [
           {
            "error_x": {
             "color": "#2a3f5f"
            },
            "error_y": {
             "color": "#2a3f5f"
            },
            "marker": {
             "line": {
              "color": "#E5ECF6",
              "width": 0.5
             },
             "pattern": {
              "fillmode": "overlay",
              "size": 10,
              "solidity": 0.2
             }
            },
            "type": "bar"
           }
          ],
          "barpolar": [
           {
            "marker": {
             "line": {
              "color": "#E5ECF6",
              "width": 0.5
             },
             "pattern": {
              "fillmode": "overlay",
              "size": 10,
              "solidity": 0.2
             }
            },
            "type": "barpolar"
           }
          ],
          "carpet": [
           {
            "aaxis": {
             "endlinecolor": "#2a3f5f",
             "gridcolor": "white",
             "linecolor": "white",
             "minorgridcolor": "white",
             "startlinecolor": "#2a3f5f"
            },
            "baxis": {
             "endlinecolor": "#2a3f5f",
             "gridcolor": "white",
             "linecolor": "white",
             "minorgridcolor": "white",
             "startlinecolor": "#2a3f5f"
            },
            "type": "carpet"
           }
          ],
          "choropleth": [
           {
            "colorbar": {
             "outlinewidth": 0,
             "ticks": ""
            },
            "type": "choropleth"
           }
          ],
          "contour": [
           {
            "colorbar": {
             "outlinewidth": 0,
             "ticks": ""
            },
            "colorscale": [
             [
              0,
              "#0d0887"
             ],
             [
              0.1111111111111111,
              "#46039f"
             ],
             [
              0.2222222222222222,
              "#7201a8"
             ],
             [
              0.3333333333333333,
              "#9c179e"
             ],
             [
              0.4444444444444444,
              "#bd3786"
             ],
             [
              0.5555555555555556,
              "#d8576b"
             ],
             [
              0.6666666666666666,
              "#ed7953"
             ],
             [
              0.7777777777777778,
              "#fb9f3a"
             ],
             [
              0.8888888888888888,
              "#fdca26"
             ],
             [
              1,
              "#f0f921"
             ]
            ],
            "type": "contour"
           }
          ],
          "contourcarpet": [
           {
            "colorbar": {
             "outlinewidth": 0,
             "ticks": ""
            },
            "type": "contourcarpet"
           }
          ],
          "heatmap": [
           {
            "colorbar": {
             "outlinewidth": 0,
             "ticks": ""
            },
            "colorscale": [
             [
              0,
              "#0d0887"
             ],
             [
              0.1111111111111111,
              "#46039f"
             ],
             [
              0.2222222222222222,
              "#7201a8"
             ],
             [
              0.3333333333333333,
              "#9c179e"
             ],
             [
              0.4444444444444444,
              "#bd3786"
             ],
             [
              0.5555555555555556,
              "#d8576b"
             ],
             [
              0.6666666666666666,
              "#ed7953"
             ],
             [
              0.7777777777777778,
              "#fb9f3a"
             ],
             [
              0.8888888888888888,
              "#fdca26"
             ],
             [
              1,
              "#f0f921"
             ]
            ],
            "type": "heatmap"
           }
          ],
          "heatmapgl": [
           {
            "colorbar": {
             "outlinewidth": 0,
             "ticks": ""
            },
            "colorscale": [
             [
              0,
              "#0d0887"
             ],
             [
              0.1111111111111111,
              "#46039f"
             ],
             [
              0.2222222222222222,
              "#7201a8"
             ],
             [
              0.3333333333333333,
              "#9c179e"
             ],
             [
              0.4444444444444444,
              "#bd3786"
             ],
             [
              0.5555555555555556,
              "#d8576b"
             ],
             [
              0.6666666666666666,
              "#ed7953"
             ],
             [
              0.7777777777777778,
              "#fb9f3a"
             ],
             [
              0.8888888888888888,
              "#fdca26"
             ],
             [
              1,
              "#f0f921"
             ]
            ],
            "type": "heatmapgl"
           }
          ],
          "histogram": [
           {
            "marker": {
             "pattern": {
              "fillmode": "overlay",
              "size": 10,
              "solidity": 0.2
             }
            },
            "type": "histogram"
           }
          ],
          "histogram2d": [
           {
            "colorbar": {
             "outlinewidth": 0,
             "ticks": ""
            },
            "colorscale": [
             [
              0,
              "#0d0887"
             ],
             [
              0.1111111111111111,
              "#46039f"
             ],
             [
              0.2222222222222222,
              "#7201a8"
             ],
             [
              0.3333333333333333,
              "#9c179e"
             ],
             [
              0.4444444444444444,
              "#bd3786"
             ],
             [
              0.5555555555555556,
              "#d8576b"
             ],
             [
              0.6666666666666666,
              "#ed7953"
             ],
             [
              0.7777777777777778,
              "#fb9f3a"
             ],
             [
              0.8888888888888888,
              "#fdca26"
             ],
             [
              1,
              "#f0f921"
             ]
            ],
            "type": "histogram2d"
           }
          ],
          "histogram2dcontour": [
           {
            "colorbar": {
             "outlinewidth": 0,
             "ticks": ""
            },
            "colorscale": [
             [
              0,
              "#0d0887"
             ],
             [
              0.1111111111111111,
              "#46039f"
             ],
             [
              0.2222222222222222,
              "#7201a8"
             ],
             [
              0.3333333333333333,
              "#9c179e"
             ],
             [
              0.4444444444444444,
              "#bd3786"
             ],
             [
              0.5555555555555556,
              "#d8576b"
             ],
             [
              0.6666666666666666,
              "#ed7953"
             ],
             [
              0.7777777777777778,
              "#fb9f3a"
             ],
             [
              0.8888888888888888,
              "#fdca26"
             ],
             [
              1,
              "#f0f921"
             ]
            ],
            "type": "histogram2dcontour"
           }
          ],
          "mesh3d": [
           {
            "colorbar": {
             "outlinewidth": 0,
             "ticks": ""
            },
            "type": "mesh3d"
           }
          ],
          "parcoords": [
           {
            "line": {
             "colorbar": {
              "outlinewidth": 0,
              "ticks": ""
             }
            },
            "type": "parcoords"
           }
          ],
          "pie": [
           {
            "automargin": true,
            "type": "pie"
           }
          ],
          "scatter": [
           {
            "fillpattern": {
             "fillmode": "overlay",
             "size": 10,
             "solidity": 0.2
            },
            "type": "scatter"
           }
          ],
          "scatter3d": [
           {
            "line": {
             "colorbar": {
              "outlinewidth": 0,
              "ticks": ""
             }
            },
            "marker": {
             "colorbar": {
              "outlinewidth": 0,
              "ticks": ""
             }
            },
            "type": "scatter3d"
           }
          ],
          "scattercarpet": [
           {
            "marker": {
             "colorbar": {
              "outlinewidth": 0,
              "ticks": ""
             }
            },
            "type": "scattercarpet"
           }
          ],
          "scattergeo": [
           {
            "marker": {
             "colorbar": {
              "outlinewidth": 0,
              "ticks": ""
             }
            },
            "type": "scattergeo"
           }
          ],
          "scattergl": [
           {
            "marker": {
             "colorbar": {
              "outlinewidth": 0,
              "ticks": ""
             }
            },
            "type": "scattergl"
           }
          ],
          "scattermapbox": [
           {
            "marker": {
             "colorbar": {
              "outlinewidth": 0,
              "ticks": ""
             }
            },
            "type": "scattermapbox"
           }
          ],
          "scatterpolar": [
           {
            "marker": {
             "colorbar": {
              "outlinewidth": 0,
              "ticks": ""
             }
            },
            "type": "scatterpolar"
           }
          ],
          "scatterpolargl": [
           {
            "marker": {
             "colorbar": {
              "outlinewidth": 0,
              "ticks": ""
             }
            },
            "type": "scatterpolargl"
           }
          ],
          "scatterternary": [
           {
            "marker": {
             "colorbar": {
              "outlinewidth": 0,
              "ticks": ""
             }
            },
            "type": "scatterternary"
           }
          ],
          "surface": [
           {
            "colorbar": {
             "outlinewidth": 0,
             "ticks": ""
            },
            "colorscale": [
             [
              0,
              "#0d0887"
             ],
             [
              0.1111111111111111,
              "#46039f"
             ],
             [
              0.2222222222222222,
              "#7201a8"
             ],
             [
              0.3333333333333333,
              "#9c179e"
             ],
             [
              0.4444444444444444,
              "#bd3786"
             ],
             [
              0.5555555555555556,
              "#d8576b"
             ],
             [
              0.6666666666666666,
              "#ed7953"
             ],
             [
              0.7777777777777778,
              "#fb9f3a"
             ],
             [
              0.8888888888888888,
              "#fdca26"
             ],
             [
              1,
              "#f0f921"
             ]
            ],
            "type": "surface"
           }
          ],
          "table": [
           {
            "cells": {
             "fill": {
              "color": "#EBF0F8"
             },
             "line": {
              "color": "white"
             }
            },
            "header": {
             "fill": {
              "color": "#C8D4E3"
             },
             "line": {
              "color": "white"
             }
            },
            "type": "table"
           }
          ]
         },
         "layout": {
          "annotationdefaults": {
           "arrowcolor": "#2a3f5f",
           "arrowhead": 0,
           "arrowwidth": 1
          },
          "autotypenumbers": "strict",
          "coloraxis": {
           "colorbar": {
            "outlinewidth": 0,
            "ticks": ""
           }
          },
          "colorscale": {
           "diverging": [
            [
             0,
             "#8e0152"
            ],
            [
             0.1,
             "#c51b7d"
            ],
            [
             0.2,
             "#de77ae"
            ],
            [
             0.3,
             "#f1b6da"
            ],
            [
             0.4,
             "#fde0ef"
            ],
            [
             0.5,
             "#f7f7f7"
            ],
            [
             0.6,
             "#e6f5d0"
            ],
            [
             0.7,
             "#b8e186"
            ],
            [
             0.8,
             "#7fbc41"
            ],
            [
             0.9,
             "#4d9221"
            ],
            [
             1,
             "#276419"
            ]
           ],
           "sequential": [
            [
             0,
             "#0d0887"
            ],
            [
             0.1111111111111111,
             "#46039f"
            ],
            [
             0.2222222222222222,
             "#7201a8"
            ],
            [
             0.3333333333333333,
             "#9c179e"
            ],
            [
             0.4444444444444444,
             "#bd3786"
            ],
            [
             0.5555555555555556,
             "#d8576b"
            ],
            [
             0.6666666666666666,
             "#ed7953"
            ],
            [
             0.7777777777777778,
             "#fb9f3a"
            ],
            [
             0.8888888888888888,
             "#fdca26"
            ],
            [
             1,
             "#f0f921"
            ]
           ],
           "sequentialminus": [
            [
             0,
             "#0d0887"
            ],
            [
             0.1111111111111111,
             "#46039f"
            ],
            [
             0.2222222222222222,
             "#7201a8"
            ],
            [
             0.3333333333333333,
             "#9c179e"
            ],
            [
             0.4444444444444444,
             "#bd3786"
            ],
            [
             0.5555555555555556,
             "#d8576b"
            ],
            [
             0.6666666666666666,
             "#ed7953"
            ],
            [
             0.7777777777777778,
             "#fb9f3a"
            ],
            [
             0.8888888888888888,
             "#fdca26"
            ],
            [
             1,
             "#f0f921"
            ]
           ]
          },
          "colorway": [
           "#636efa",
           "#EF553B",
           "#00cc96",
           "#ab63fa",
           "#FFA15A",
           "#19d3f3",
           "#FF6692",
           "#B6E880",
           "#FF97FF",
           "#FECB52"
          ],
          "font": {
           "color": "#2a3f5f"
          },
          "geo": {
           "bgcolor": "white",
           "lakecolor": "white",
           "landcolor": "#E5ECF6",
           "showlakes": true,
           "showland": true,
           "subunitcolor": "white"
          },
          "hoverlabel": {
           "align": "left"
          },
          "hovermode": "closest",
          "mapbox": {
           "style": "light"
          },
          "paper_bgcolor": "white",
          "plot_bgcolor": "#E5ECF6",
          "polar": {
           "angularaxis": {
            "gridcolor": "white",
            "linecolor": "white",
            "ticks": ""
           },
           "bgcolor": "#E5ECF6",
           "radialaxis": {
            "gridcolor": "white",
            "linecolor": "white",
            "ticks": ""
           }
          },
          "scene": {
           "xaxis": {
            "backgroundcolor": "#E5ECF6",
            "gridcolor": "white",
            "gridwidth": 2,
            "linecolor": "white",
            "showbackground": true,
            "ticks": "",
            "zerolinecolor": "white"
           },
           "yaxis": {
            "backgroundcolor": "#E5ECF6",
            "gridcolor": "white",
            "gridwidth": 2,
            "linecolor": "white",
            "showbackground": true,
            "ticks": "",
            "zerolinecolor": "white"
           },
           "zaxis": {
            "backgroundcolor": "#E5ECF6",
            "gridcolor": "white",
            "gridwidth": 2,
            "linecolor": "white",
            "showbackground": true,
            "ticks": "",
            "zerolinecolor": "white"
           }
          },
          "shapedefaults": {
           "line": {
            "color": "#2a3f5f"
           }
          },
          "ternary": {
           "aaxis": {
            "gridcolor": "white",
            "linecolor": "white",
            "ticks": ""
           },
           "baxis": {
            "gridcolor": "white",
            "linecolor": "white",
            "ticks": ""
           },
           "bgcolor": "#E5ECF6",
           "caxis": {
            "gridcolor": "white",
            "linecolor": "white",
            "ticks": ""
           }
          },
          "title": {
           "x": 0.05
          },
          "xaxis": {
           "automargin": true,
           "gridcolor": "white",
           "linecolor": "white",
           "ticks": "",
           "title": {
            "standoff": 15
           },
           "zerolinecolor": "white",
           "zerolinewidth": 2
          },
          "yaxis": {
           "automargin": true,
           "gridcolor": "white",
           "linecolor": "white",
           "ticks": "",
           "title": {
            "standoff": 15
           },
           "zerolinecolor": "white",
           "zerolinewidth": 2
          }
         }
        },
        "xaxis": {
         "anchor": "y",
         "domain": [
          0,
          1
         ],
         "title": {
          "text": "cluster"
         }
        },
        "yaxis": {
         "anchor": "x",
         "domain": [
          0,
          1
         ],
         "title": {
          "text": "value"
         }
        }
       }
      }
     },
     "metadata": {},
     "output_type": "display_data"
    }
   ],
   "source": [
    "# Distribuição cluster\n",
    "percentual_cluster = df_laptops.value_counts('cluster') / len(df_laptops) * 100\n",
    "px.bar(percentual_cluster, color=percentual_cluster.index)"
   ]
  },
  {
   "cell_type": "code",
   "execution_count": 64,
   "metadata": {},
   "outputs": [
    {
     "data": {
      "application/vnd.plotly.v1+json": {
       "config": {
        "plotlyServerURL": "https://plot.ly"
       },
       "data": [
        {
         "alignmentgroup": "True",
         "hovertemplate": "cluster=%{marker.color}<br>value=%{y}<extra></extra>",
         "legendgroup": "",
         "marker": {
          "color": [
           26,
           6,
           31,
           2,
           20,
           7,
           9,
           15,
           45,
           39,
           18,
           13,
           12,
           61,
           41,
           42,
           44,
           88,
           19,
           0,
           10,
           104,
           69,
           86,
           92,
           125,
           56,
           34,
           11,
           3,
           111,
           94,
           100,
           51,
           23,
           25,
           1,
           62,
           36,
           28,
           43,
           30,
           122,
           97,
           14,
           48,
           96,
           58,
           68,
           8,
           73,
           17,
           4,
           114,
           46,
           53,
           134,
           148,
           32,
           66,
           129,
           63,
           71,
           74,
           80,
           146,
           81,
           27,
           137,
           90,
           5,
           35,
           79,
           47,
           59,
           54,
           33,
           50,
           52,
           91,
           108,
           115,
           93,
           121,
           67,
           107,
           38,
           37,
           55,
           64,
           77,
           65,
           124,
           70,
           116,
           127,
           78,
           57,
           16,
           49,
           21,
           101,
           95,
           141,
           144,
           133,
           83,
           60,
           72,
           40,
           29,
           24,
           112,
           89,
           87,
           110,
           99,
           118,
           135,
           123,
           106,
           22,
           119,
           132,
           84,
           130,
           139,
           136,
           140,
           103,
           113,
           105,
           131,
           82,
           76,
           75,
           98,
           109,
           102,
           85,
           117,
           126,
           128,
           120,
           138,
           143,
           142,
           145,
           147
          ],
          "coloraxis": "coloraxis",
          "pattern": {
           "shape": ""
          }
         },
         "name": "",
         "offsetgroup": "",
         "orientation": "v",
         "showlegend": false,
         "textposition": "auto",
         "type": "bar",
         "x": [
          26,
          6,
          31,
          2,
          20,
          7,
          9,
          15,
          45,
          39,
          18,
          13,
          12,
          61,
          41,
          42,
          44,
          88,
          19,
          0,
          10,
          104,
          69,
          86,
          92,
          125,
          56,
          34,
          11,
          3,
          111,
          94,
          100,
          51,
          23,
          25,
          1,
          62,
          36,
          28,
          43,
          30,
          122,
          97,
          14,
          48,
          96,
          58,
          68,
          8,
          73,
          17,
          4,
          114,
          46,
          53,
          134,
          148,
          32,
          66,
          129,
          63,
          71,
          74,
          80,
          146,
          81,
          27,
          137,
          90,
          5,
          35,
          79,
          47,
          59,
          54,
          33,
          50,
          52,
          91,
          108,
          115,
          93,
          121,
          67,
          107,
          38,
          37,
          55,
          64,
          77,
          65,
          124,
          70,
          116,
          127,
          78,
          57,
          16,
          49,
          21,
          101,
          95,
          141,
          144,
          133,
          83,
          60,
          72,
          40,
          29,
          24,
          112,
          89,
          87,
          110,
          99,
          118,
          135,
          123,
          106,
          22,
          119,
          132,
          84,
          130,
          139,
          136,
          140,
          103,
          113,
          105,
          131,
          82,
          76,
          75,
          98,
          109,
          102,
          85,
          117,
          126,
          128,
          120,
          138,
          143,
          142,
          145,
          147
         ],
         "xaxis": "x",
         "y": [
          22,
          21,
          20,
          19,
          16,
          15,
          15,
          14,
          14,
          14,
          13,
          13,
          13,
          13,
          13,
          13,
          13,
          13,
          12,
          12,
          12,
          12,
          12,
          12,
          12,
          11,
          11,
          11,
          11,
          11,
          11,
          11,
          11,
          11,
          11,
          11,
          10,
          10,
          10,
          10,
          10,
          10,
          10,
          10,
          9,
          9,
          9,
          9,
          9,
          9,
          9,
          8,
          8,
          8,
          8,
          8,
          8,
          8,
          7,
          7,
          7,
          7,
          7,
          7,
          6,
          6,
          6,
          6,
          6,
          5,
          5,
          5,
          5,
          5,
          5,
          5,
          5,
          5,
          5,
          5,
          5,
          5,
          5,
          5,
          5,
          4,
          4,
          4,
          4,
          4,
          4,
          4,
          4,
          4,
          4,
          4,
          4,
          4,
          3,
          3,
          3,
          3,
          3,
          3,
          3,
          3,
          3,
          3,
          3,
          3,
          3,
          3,
          3,
          3,
          3,
          3,
          3,
          3,
          3,
          3,
          3,
          2,
          2,
          2,
          2,
          2,
          2,
          2,
          2,
          2,
          2,
          2,
          2,
          1,
          1,
          1,
          1,
          1,
          1,
          1,
          1,
          1,
          1,
          1,
          1,
          1,
          1,
          1,
          1
         ],
         "yaxis": "y"
        }
       ],
       "layout": {
        "barmode": "relative",
        "coloraxis": {
         "colorbar": {
          "title": {
           "text": "cluster"
          }
         },
         "colorscale": [
          [
           0,
           "#0d0887"
          ],
          [
           0.1111111111111111,
           "#46039f"
          ],
          [
           0.2222222222222222,
           "#7201a8"
          ],
          [
           0.3333333333333333,
           "#9c179e"
          ],
          [
           0.4444444444444444,
           "#bd3786"
          ],
          [
           0.5555555555555556,
           "#d8576b"
          ],
          [
           0.6666666666666666,
           "#ed7953"
          ],
          [
           0.7777777777777778,
           "#fb9f3a"
          ],
          [
           0.8888888888888888,
           "#fdca26"
          ],
          [
           1,
           "#f0f921"
          ]
         ]
        },
        "legend": {
         "tracegroupgap": 0
        },
        "margin": {
         "t": 60
        },
        "template": {
         "data": {
          "bar": [
           {
            "error_x": {
             "color": "#2a3f5f"
            },
            "error_y": {
             "color": "#2a3f5f"
            },
            "marker": {
             "line": {
              "color": "#E5ECF6",
              "width": 0.5
             },
             "pattern": {
              "fillmode": "overlay",
              "size": 10,
              "solidity": 0.2
             }
            },
            "type": "bar"
           }
          ],
          "barpolar": [
           {
            "marker": {
             "line": {
              "color": "#E5ECF6",
              "width": 0.5
             },
             "pattern": {
              "fillmode": "overlay",
              "size": 10,
              "solidity": 0.2
             }
            },
            "type": "barpolar"
           }
          ],
          "carpet": [
           {
            "aaxis": {
             "endlinecolor": "#2a3f5f",
             "gridcolor": "white",
             "linecolor": "white",
             "minorgridcolor": "white",
             "startlinecolor": "#2a3f5f"
            },
            "baxis": {
             "endlinecolor": "#2a3f5f",
             "gridcolor": "white",
             "linecolor": "white",
             "minorgridcolor": "white",
             "startlinecolor": "#2a3f5f"
            },
            "type": "carpet"
           }
          ],
          "choropleth": [
           {
            "colorbar": {
             "outlinewidth": 0,
             "ticks": ""
            },
            "type": "choropleth"
           }
          ],
          "contour": [
           {
            "colorbar": {
             "outlinewidth": 0,
             "ticks": ""
            },
            "colorscale": [
             [
              0,
              "#0d0887"
             ],
             [
              0.1111111111111111,
              "#46039f"
             ],
             [
              0.2222222222222222,
              "#7201a8"
             ],
             [
              0.3333333333333333,
              "#9c179e"
             ],
             [
              0.4444444444444444,
              "#bd3786"
             ],
             [
              0.5555555555555556,
              "#d8576b"
             ],
             [
              0.6666666666666666,
              "#ed7953"
             ],
             [
              0.7777777777777778,
              "#fb9f3a"
             ],
             [
              0.8888888888888888,
              "#fdca26"
             ],
             [
              1,
              "#f0f921"
             ]
            ],
            "type": "contour"
           }
          ],
          "contourcarpet": [
           {
            "colorbar": {
             "outlinewidth": 0,
             "ticks": ""
            },
            "type": "contourcarpet"
           }
          ],
          "heatmap": [
           {
            "colorbar": {
             "outlinewidth": 0,
             "ticks": ""
            },
            "colorscale": [
             [
              0,
              "#0d0887"
             ],
             [
              0.1111111111111111,
              "#46039f"
             ],
             [
              0.2222222222222222,
              "#7201a8"
             ],
             [
              0.3333333333333333,
              "#9c179e"
             ],
             [
              0.4444444444444444,
              "#bd3786"
             ],
             [
              0.5555555555555556,
              "#d8576b"
             ],
             [
              0.6666666666666666,
              "#ed7953"
             ],
             [
              0.7777777777777778,
              "#fb9f3a"
             ],
             [
              0.8888888888888888,
              "#fdca26"
             ],
             [
              1,
              "#f0f921"
             ]
            ],
            "type": "heatmap"
           }
          ],
          "heatmapgl": [
           {
            "colorbar": {
             "outlinewidth": 0,
             "ticks": ""
            },
            "colorscale": [
             [
              0,
              "#0d0887"
             ],
             [
              0.1111111111111111,
              "#46039f"
             ],
             [
              0.2222222222222222,
              "#7201a8"
             ],
             [
              0.3333333333333333,
              "#9c179e"
             ],
             [
              0.4444444444444444,
              "#bd3786"
             ],
             [
              0.5555555555555556,
              "#d8576b"
             ],
             [
              0.6666666666666666,
              "#ed7953"
             ],
             [
              0.7777777777777778,
              "#fb9f3a"
             ],
             [
              0.8888888888888888,
              "#fdca26"
             ],
             [
              1,
              "#f0f921"
             ]
            ],
            "type": "heatmapgl"
           }
          ],
          "histogram": [
           {
            "marker": {
             "pattern": {
              "fillmode": "overlay",
              "size": 10,
              "solidity": 0.2
             }
            },
            "type": "histogram"
           }
          ],
          "histogram2d": [
           {
            "colorbar": {
             "outlinewidth": 0,
             "ticks": ""
            },
            "colorscale": [
             [
              0,
              "#0d0887"
             ],
             [
              0.1111111111111111,
              "#46039f"
             ],
             [
              0.2222222222222222,
              "#7201a8"
             ],
             [
              0.3333333333333333,
              "#9c179e"
             ],
             [
              0.4444444444444444,
              "#bd3786"
             ],
             [
              0.5555555555555556,
              "#d8576b"
             ],
             [
              0.6666666666666666,
              "#ed7953"
             ],
             [
              0.7777777777777778,
              "#fb9f3a"
             ],
             [
              0.8888888888888888,
              "#fdca26"
             ],
             [
              1,
              "#f0f921"
             ]
            ],
            "type": "histogram2d"
           }
          ],
          "histogram2dcontour": [
           {
            "colorbar": {
             "outlinewidth": 0,
             "ticks": ""
            },
            "colorscale": [
             [
              0,
              "#0d0887"
             ],
             [
              0.1111111111111111,
              "#46039f"
             ],
             [
              0.2222222222222222,
              "#7201a8"
             ],
             [
              0.3333333333333333,
              "#9c179e"
             ],
             [
              0.4444444444444444,
              "#bd3786"
             ],
             [
              0.5555555555555556,
              "#d8576b"
             ],
             [
              0.6666666666666666,
              "#ed7953"
             ],
             [
              0.7777777777777778,
              "#fb9f3a"
             ],
             [
              0.8888888888888888,
              "#fdca26"
             ],
             [
              1,
              "#f0f921"
             ]
            ],
            "type": "histogram2dcontour"
           }
          ],
          "mesh3d": [
           {
            "colorbar": {
             "outlinewidth": 0,
             "ticks": ""
            },
            "type": "mesh3d"
           }
          ],
          "parcoords": [
           {
            "line": {
             "colorbar": {
              "outlinewidth": 0,
              "ticks": ""
             }
            },
            "type": "parcoords"
           }
          ],
          "pie": [
           {
            "automargin": true,
            "type": "pie"
           }
          ],
          "scatter": [
           {
            "fillpattern": {
             "fillmode": "overlay",
             "size": 10,
             "solidity": 0.2
            },
            "type": "scatter"
           }
          ],
          "scatter3d": [
           {
            "line": {
             "colorbar": {
              "outlinewidth": 0,
              "ticks": ""
             }
            },
            "marker": {
             "colorbar": {
              "outlinewidth": 0,
              "ticks": ""
             }
            },
            "type": "scatter3d"
           }
          ],
          "scattercarpet": [
           {
            "marker": {
             "colorbar": {
              "outlinewidth": 0,
              "ticks": ""
             }
            },
            "type": "scattercarpet"
           }
          ],
          "scattergeo": [
           {
            "marker": {
             "colorbar": {
              "outlinewidth": 0,
              "ticks": ""
             }
            },
            "type": "scattergeo"
           }
          ],
          "scattergl": [
           {
            "marker": {
             "colorbar": {
              "outlinewidth": 0,
              "ticks": ""
             }
            },
            "type": "scattergl"
           }
          ],
          "scattermapbox": [
           {
            "marker": {
             "colorbar": {
              "outlinewidth": 0,
              "ticks": ""
             }
            },
            "type": "scattermapbox"
           }
          ],
          "scatterpolar": [
           {
            "marker": {
             "colorbar": {
              "outlinewidth": 0,
              "ticks": ""
             }
            },
            "type": "scatterpolar"
           }
          ],
          "scatterpolargl": [
           {
            "marker": {
             "colorbar": {
              "outlinewidth": 0,
              "ticks": ""
             }
            },
            "type": "scatterpolargl"
           }
          ],
          "scatterternary": [
           {
            "marker": {
             "colorbar": {
              "outlinewidth": 0,
              "ticks": ""
             }
            },
            "type": "scatterternary"
           }
          ],
          "surface": [
           {
            "colorbar": {
             "outlinewidth": 0,
             "ticks": ""
            },
            "colorscale": [
             [
              0,
              "#0d0887"
             ],
             [
              0.1111111111111111,
              "#46039f"
             ],
             [
              0.2222222222222222,
              "#7201a8"
             ],
             [
              0.3333333333333333,
              "#9c179e"
             ],
             [
              0.4444444444444444,
              "#bd3786"
             ],
             [
              0.5555555555555556,
              "#d8576b"
             ],
             [
              0.6666666666666666,
              "#ed7953"
             ],
             [
              0.7777777777777778,
              "#fb9f3a"
             ],
             [
              0.8888888888888888,
              "#fdca26"
             ],
             [
              1,
              "#f0f921"
             ]
            ],
            "type": "surface"
           }
          ],
          "table": [
           {
            "cells": {
             "fill": {
              "color": "#EBF0F8"
             },
             "line": {
              "color": "white"
             }
            },
            "header": {
             "fill": {
              "color": "#C8D4E3"
             },
             "line": {
              "color": "white"
             }
            },
            "type": "table"
           }
          ]
         },
         "layout": {
          "annotationdefaults": {
           "arrowcolor": "#2a3f5f",
           "arrowhead": 0,
           "arrowwidth": 1
          },
          "autotypenumbers": "strict",
          "coloraxis": {
           "colorbar": {
            "outlinewidth": 0,
            "ticks": ""
           }
          },
          "colorscale": {
           "diverging": [
            [
             0,
             "#8e0152"
            ],
            [
             0.1,
             "#c51b7d"
            ],
            [
             0.2,
             "#de77ae"
            ],
            [
             0.3,
             "#f1b6da"
            ],
            [
             0.4,
             "#fde0ef"
            ],
            [
             0.5,
             "#f7f7f7"
            ],
            [
             0.6,
             "#e6f5d0"
            ],
            [
             0.7,
             "#b8e186"
            ],
            [
             0.8,
             "#7fbc41"
            ],
            [
             0.9,
             "#4d9221"
            ],
            [
             1,
             "#276419"
            ]
           ],
           "sequential": [
            [
             0,
             "#0d0887"
            ],
            [
             0.1111111111111111,
             "#46039f"
            ],
            [
             0.2222222222222222,
             "#7201a8"
            ],
            [
             0.3333333333333333,
             "#9c179e"
            ],
            [
             0.4444444444444444,
             "#bd3786"
            ],
            [
             0.5555555555555556,
             "#d8576b"
            ],
            [
             0.6666666666666666,
             "#ed7953"
            ],
            [
             0.7777777777777778,
             "#fb9f3a"
            ],
            [
             0.8888888888888888,
             "#fdca26"
            ],
            [
             1,
             "#f0f921"
            ]
           ],
           "sequentialminus": [
            [
             0,
             "#0d0887"
            ],
            [
             0.1111111111111111,
             "#46039f"
            ],
            [
             0.2222222222222222,
             "#7201a8"
            ],
            [
             0.3333333333333333,
             "#9c179e"
            ],
            [
             0.4444444444444444,
             "#bd3786"
            ],
            [
             0.5555555555555556,
             "#d8576b"
            ],
            [
             0.6666666666666666,
             "#ed7953"
            ],
            [
             0.7777777777777778,
             "#fb9f3a"
            ],
            [
             0.8888888888888888,
             "#fdca26"
            ],
            [
             1,
             "#f0f921"
            ]
           ]
          },
          "colorway": [
           "#636efa",
           "#EF553B",
           "#00cc96",
           "#ab63fa",
           "#FFA15A",
           "#19d3f3",
           "#FF6692",
           "#B6E880",
           "#FF97FF",
           "#FECB52"
          ],
          "font": {
           "color": "#2a3f5f"
          },
          "geo": {
           "bgcolor": "white",
           "lakecolor": "white",
           "landcolor": "#E5ECF6",
           "showlakes": true,
           "showland": true,
           "subunitcolor": "white"
          },
          "hoverlabel": {
           "align": "left"
          },
          "hovermode": "closest",
          "mapbox": {
           "style": "light"
          },
          "paper_bgcolor": "white",
          "plot_bgcolor": "#E5ECF6",
          "polar": {
           "angularaxis": {
            "gridcolor": "white",
            "linecolor": "white",
            "ticks": ""
           },
           "bgcolor": "#E5ECF6",
           "radialaxis": {
            "gridcolor": "white",
            "linecolor": "white",
            "ticks": ""
           }
          },
          "scene": {
           "xaxis": {
            "backgroundcolor": "#E5ECF6",
            "gridcolor": "white",
            "gridwidth": 2,
            "linecolor": "white",
            "showbackground": true,
            "ticks": "",
            "zerolinecolor": "white"
           },
           "yaxis": {
            "backgroundcolor": "#E5ECF6",
            "gridcolor": "white",
            "gridwidth": 2,
            "linecolor": "white",
            "showbackground": true,
            "ticks": "",
            "zerolinecolor": "white"
           },
           "zaxis": {
            "backgroundcolor": "#E5ECF6",
            "gridcolor": "white",
            "gridwidth": 2,
            "linecolor": "white",
            "showbackground": true,
            "ticks": "",
            "zerolinecolor": "white"
           }
          },
          "shapedefaults": {
           "line": {
            "color": "#2a3f5f"
           }
          },
          "ternary": {
           "aaxis": {
            "gridcolor": "white",
            "linecolor": "white",
            "ticks": ""
           },
           "baxis": {
            "gridcolor": "white",
            "linecolor": "white",
            "ticks": ""
           },
           "bgcolor": "#E5ECF6",
           "caxis": {
            "gridcolor": "white",
            "linecolor": "white",
            "ticks": ""
           }
          },
          "title": {
           "x": 0.05
          },
          "xaxis": {
           "automargin": true,
           "gridcolor": "white",
           "linecolor": "white",
           "ticks": "",
           "title": {
            "standoff": 15
           },
           "zerolinecolor": "white",
           "zerolinewidth": 2
          },
          "yaxis": {
           "automargin": true,
           "gridcolor": "white",
           "linecolor": "white",
           "ticks": "",
           "title": {
            "standoff": 15
           },
           "zerolinecolor": "white",
           "zerolinewidth": 2
          }
         }
        },
        "xaxis": {
         "anchor": "y",
         "domain": [
          0,
          1
         ],
         "title": {
          "text": "cluster"
         }
        },
        "yaxis": {
         "anchor": "x",
         "domain": [
          0,
          1
         ],
         "title": {
          "text": "value"
         }
        }
       }
      }
     },
     "metadata": {},
     "output_type": "display_data"
    }
   ],
   "source": [
    "# Distribuição cluster\n",
    "qtde_cluster = df_laptops.value_counts('cluster')\n",
    "px.bar(qtde_cluster, color=qtde_cluster.index)"
   ]
  },
  {
   "cell_type": "markdown",
   "metadata": {},
   "source": [
    "### Salvar modelo, PreProcessor, CSV Atualizado"
   ]
  },
  {
   "cell_type": "code",
   "execution_count": 68,
   "metadata": {},
   "outputs": [
    {
     "data": {
      "text/plain": [
       "['./preprocesso_cluster_laptops.pkl']"
      ]
     },
     "execution_count": 68,
     "metadata": {},
     "output_type": "execute_result"
    }
   ],
   "source": [
    "import joblib\n",
    "\n",
    "joblib.dump(best_model, './modelo_cluster_laptops.pkl')\n",
    "joblib.dump(preprocessor, './preprocesso_cluster_laptops.pkl')"
   ]
  },
  {
   "cell_type": "code",
   "execution_count": 69,
   "metadata": {},
   "outputs": [],
   "source": [
    "df_laptops.to_csv('./datasets/cluster_laptops.csv', index=False)"
   ]
  }
 ],
 "metadata": {
  "kernelspec": {
   "display_name": "clusterizacao_hierarquica-HdfiWEqh",
   "language": "python",
   "name": "python3"
  },
  "language_info": {
   "codemirror_mode": {
    "name": "ipython",
    "version": 3
   },
   "file_extension": ".py",
   "mimetype": "text/x-python",
   "name": "python",
   "nbconvert_exporter": "python",
   "pygments_lexer": "ipython3",
   "version": "3.12.1"
  }
 },
 "nbformat": 4,
 "nbformat_minor": 2
}
