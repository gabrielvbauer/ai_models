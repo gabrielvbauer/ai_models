{
 "cells": [
  {
   "cell_type": "code",
   "execution_count": null,
   "metadata": {},
   "outputs": [],
   "source": [
    "import pandas as pd\n",
    "import pingouin as pg\n",
    "import plotly.express as px\n",
    "import plotly.figure_factory as ff\n",
    "import matplotlib.pyplot as plt\n",
    "\n",
    "from sklearn.model_selection import cross_validate, StratifiedKFold, cross_val_predict, cross_val_score\n",
    "from sklearn.preprocessing import OneHotEncoder\n",
    "from sklearn.compose import ColumnTransformer\n",
    "from sklearn.pipeline import Pipeline\n",
    "from sklearn.impute import SimpleImputer\n",
    "from sklearn.tree import DecisionTreeClassifier, plot_tree\n",
    "from sklearn.metrics import confusion_matrix, classification_report, ConfusionMatrixDisplay\n",
    "\n",
    "import optuna"
   ]
  },
  {
   "cell_type": "code",
   "execution_count": null,
   "metadata": {},
   "outputs": [],
   "source": [
    "df_segmento = pd.read_csv('./datasets/data.csv')"
   ]
  },
  {
   "cell_type": "markdown",
   "metadata": {},
   "source": [
    "## EDA"
   ]
  },
  {
   "cell_type": "code",
   "execution_count": null,
   "metadata": {},
   "outputs": [],
   "source": [
    "df_segmento.head(10)"
   ]
  },
  {
   "cell_type": "code",
   "execution_count": null,
   "metadata": {},
   "outputs": [],
   "source": [
    "df_segmento.info()"
   ]
  },
  {
   "cell_type": "code",
   "execution_count": null,
   "metadata": {},
   "outputs": [],
   "source": [
    "df_segmento['atividade_economica'].unique()"
   ]
  },
  {
   "cell_type": "code",
   "execution_count": null,
   "metadata": {},
   "outputs": [],
   "source": [
    "df_segmento['localizacao'].unique()"
   ]
  },
  {
   "cell_type": "code",
   "execution_count": null,
   "metadata": {},
   "outputs": [],
   "source": [
    "df_segmento['segmento_de_cliente'].unique()\n"
   ]
  },
  {
   "cell_type": "code",
   "execution_count": null,
   "metadata": {},
   "outputs": [],
   "source": [
    "df_segmento['inovacao'].unique()"
   ]
  },
  {
   "cell_type": "code",
   "execution_count": null,
   "metadata": {},
   "outputs": [],
   "source": [
    "contagem_target = df_segmento.value_counts('segmento_de_cliente')\n",
    "contagem_target"
   ]
  },
  {
   "cell_type": "code",
   "execution_count": null,
   "metadata": {},
   "outputs": [],
   "source": [
    "lista_segmento = ['Starter', 'Bronze', 'Silver', 'Gold']"
   ]
  },
  {
   "cell_type": "code",
   "execution_count": null,
   "metadata": {},
   "outputs": [],
   "source": [
    "px.bar(contagem_target, color=contagem_target.index, category_orders={'segmento_de_cliente': lista_segmento})"
   ]
  },
  {
   "cell_type": "code",
   "execution_count": null,
   "metadata": {},
   "outputs": [],
   "source": [
    "percentual_target = contagem_target / len(df_segmento) * 100\n",
    "px.bar(percentual_target, color=percentual_target.index, category_orders={'segmento_de_cliente': lista_segmento})"
   ]
  },
  {
   "cell_type": "code",
   "execution_count": null,
   "metadata": {},
   "outputs": [],
   "source": [
    "percentual_localizacao = df_segmento.value_counts('localizacao') / len(df_segmento) * 100\n",
    "px.bar(percentual_localizacao, color=percentual_localizacao.index)"
   ]
  },
  {
   "cell_type": "code",
   "execution_count": null,
   "metadata": {},
   "outputs": [],
   "source": [
    "percentual_atividade_economica = df_segmento.value_counts('atividade_economica') / len(df_segmento) * 100\n",
    "px.bar(percentual_atividade_economica, color=percentual_atividade_economica.index)"
   ]
  },
  {
   "cell_type": "code",
   "execution_count": null,
   "metadata": {},
   "outputs": [],
   "source": [
    "percentual_inovacao = df_segmento.value_counts('inovacao') / len(df_segmento) * 100\n",
    "px.bar(percentual_inovacao, color=percentual_inovacao.index)"
   ]
  },
  {
   "cell_type": "code",
   "execution_count": null,
   "metadata": {},
   "outputs": [],
   "source": [
    "crosstab_localizacao = pd.crosstab(df_segmento['localizacao'], df_segmento['segmento_de_cliente'], margins=True)[lista_segmento].reset_index()\n",
    "tabela_localizacao = ff.create_table(crosstab_localizacao)\n",
    "\n",
    "tabela_localizacao.show()"
   ]
  },
  {
   "cell_type": "code",
   "execution_count": null,
   "metadata": {},
   "outputs": [],
   "source": [
    "crosstab_atividade = pd.crosstab(df_segmento['atividade_economica'], df_segmento['segmento_de_cliente'], margins=True)[lista_segmento].reset_index()\n",
    "tabela_atividade = ff.create_table(crosstab_atividade)\n",
    "\n",
    "tabela_atividade.show()"
   ]
  },
  {
   "cell_type": "code",
   "execution_count": null,
   "metadata": {},
   "outputs": [],
   "source": [
    "crosstab_inovacao = pd.crosstab(df_segmento['inovacao'], df_segmento['segmento_de_cliente'], margins=True)[lista_segmento].reset_index()\n",
    "tabela_inovacao = ff.create_table(crosstab_inovacao)\n",
    "\n",
    "tabela_inovacao.show()"
   ]
  },
  {
   "cell_type": "code",
   "execution_count": null,
   "metadata": {},
   "outputs": [],
   "source": [
    "px.histogram(df_segmento, x='idade')"
   ]
  },
  {
   "cell_type": "code",
   "execution_count": null,
   "metadata": {},
   "outputs": [],
   "source": [
    "px.histogram(df_segmento, x='faturamento_mensal')"
   ]
  },
  {
   "cell_type": "code",
   "execution_count": null,
   "metadata": {},
   "outputs": [],
   "source": [
    "px.box(df_segmento, x='segmento_de_cliente', y='idade', color='segmento_de_cliente', category_orders={'segmento_de_cliente': lista_segmento})"
   ]
  },
  {
   "cell_type": "code",
   "execution_count": null,
   "metadata": {},
   "outputs": [],
   "source": [
    "px.box(df_segmento, x='segmento_de_cliente', y='faturamento_mensal', color='segmento_de_cliente', category_orders={'segmento_de_cliente': lista_segmento})"
   ]
  },
  {
   "cell_type": "code",
   "execution_count": null,
   "metadata": {},
   "outputs": [],
   "source": [
    "valor_esperado, valor_observado, estatisticas = pg.chi2_independence(df_segmento, 'segmento_de_cliente', 'inovacao')"
   ]
  },
  {
   "cell_type": "code",
   "execution_count": null,
   "metadata": {},
   "outputs": [],
   "source": [
    "# Valor esperado\n",
    "# Frequência que seria esperado se não houvesse associação entre as variáveis\n",
    "# É calculado usando a distribuição assumida no teste qui-quadrado\n",
    "valor_esperado"
   ]
  },
  {
   "cell_type": "code",
   "execution_count": null,
   "metadata": {},
   "outputs": [],
   "source": [
    "# Valor observado\n",
    "# É a frequência real dos dados coletados\n",
    "valor_observado"
   ]
  },
  {
   "cell_type": "code",
   "execution_count": null,
   "metadata": {},
   "outputs": [],
   "source": [
    "# Estatisticas\n",
    "estatisticas.round(5)"
   ]
  },
  {
   "cell_type": "markdown",
   "metadata": {},
   "source": [
    "As variáveis Localização e Segmento de Cliente são independentes. Qui-quadrado (p-value = 0.81714)\n",
    "As variáveis atividade econômica e Segmento de Cliente são independentes. Qui-quadrado (p-value = 0.35292)\n",
    "As variáveis inovação e Segmento de Cliente não são independentes. Qui-quadrado (p-value = 0.0)"
   ]
  },
  {
   "cell_type": "markdown",
   "metadata": {},
   "source": [
    "## Treinando o modelo"
   ]
  },
  {
   "cell_type": "code",
   "execution_count": null,
   "metadata": {},
   "outputs": [],
   "source": [
    "X = df_segmento.drop(columns=['segmento_de_cliente'])\n",
    "y = df_segmento['segmento_de_cliente']"
   ]
  },
  {
   "cell_type": "code",
   "execution_count": null,
   "metadata": {},
   "outputs": [],
   "source": [
    "categorical_features = ['atividade_economica', 'localizacao']\n",
    "categorical_transformer = Pipeline(steps=[\n",
    "  ('imputer', SimpleImputer(strategy='most_frequent')),\n",
    "  ('onehot', OneHotEncoder(handle_unknown='ignore'))\n",
    "])\n",
    "\n",
    "preprocessor = ColumnTransformer(\n",
    "  transformers=[\n",
    "    ('cat', categorical_transformer, categorical_features)\n",
    "  ]\n",
    ")\n",
    "\n",
    "dt_model = Pipeline(steps=[('preprocessor', preprocessor),\n",
    "                           ('classifier', DecisionTreeClassifier())])"
   ]
  },
  {
   "cell_type": "markdown",
   "metadata": {},
   "source": [
    "### Validação Cruzada"
   ]
  },
  {
   "cell_type": "code",
   "execution_count": null,
   "metadata": {},
   "outputs": [],
   "source": [
    "cv_folds = StratifiedKFold(n_splits=3, shuffle=True, random_state=51)\n",
    "metrics_result = cross_validate(dt_model, X, y, cv=cv_folds, scoring=['accuracy'], return_estimator=True)"
   ]
  },
  {
   "cell_type": "code",
   "execution_count": null,
   "metadata": {},
   "outputs": [],
   "source": [
    "metrics_result"
   ]
  },
  {
   "cell_type": "code",
   "execution_count": null,
   "metadata": {},
   "outputs": [],
   "source": [
    "metrics_result['test_accuracy'].mean()"
   ]
  },
  {
   "cell_type": "markdown",
   "metadata": {},
   "source": [
    "### Metricas"
   ]
  },
  {
   "cell_type": "code",
   "execution_count": null,
   "metadata": {},
   "outputs": [],
   "source": [
    "y_pred = cross_val_predict(dt_model, X, y, cv=cv_folds)"
   ]
  },
  {
   "cell_type": "code",
   "execution_count": null,
   "metadata": {},
   "outputs": [],
   "source": [
    "classification_report_str = classification_report(y, y_pred)\n",
    "\n",
    "print(f'Relatório de classificação:\\n{classification_report_str}')"
   ]
  },
  {
   "cell_type": "code",
   "execution_count": null,
   "metadata": {},
   "outputs": [],
   "source": [
    "confusion_matrix_modelo = confusion_matrix(y, y_pred, labels=lista_segmento)\n",
    "disp = ConfusionMatrixDisplay(confusion_matrix_modelo, display_labels=lista_segmento)\n",
    "disp.plot()"
   ]
  },
  {
   "cell_type": "markdown",
   "metadata": {},
   "source": [
    "### Tuning de Hiperparâmetros"
   ]
  },
  {
   "cell_type": "code",
   "execution_count": null,
   "metadata": {},
   "outputs": [],
   "source": [
    "# min_samples_leaf = Mínimo de instâncias requerido para formar uma folha (nó terminal)\n",
    "# max_depth = Profundidade máxima da árvore\n",
    "\n",
    "def decisiontree_optuna(trial):\n",
    "  min_samples_leaf = trial.suggest_int('min_samples_leaf', 1, 20)\n",
    "  max_depth = trial.suggest_int('max_depth', 2, 8)\n",
    "\n",
    "  dt_model.set_params(classifier__min_samples_leaf=min_samples_leaf)\n",
    "  dt_model.set_params(classifier__max_depth=max_depth)\n",
    "\n",
    "  scores = cross_val_score(dt_model, X, y, cv=cv_folds, scoring='accuracy')\n",
    "\n",
    "  return scores.mean()"
   ]
  },
  {
   "cell_type": "code",
   "execution_count": null,
   "metadata": {},
   "outputs": [],
   "source": [
    "study_decision_tree = optuna.create_study(direction='maximize')\n",
    "study_decision_tree.optimize(decisiontree_optuna, n_trials=200)"
   ]
  },
  {
   "cell_type": "code",
   "execution_count": null,
   "metadata": {},
   "outputs": [],
   "source": [
    "print(f'Melhor acurácia: {study_decision_tree.best_value}')\n",
    "print(f'Melhores parâmetros: {study_decision_tree.best_params}')"
   ]
  },
  {
   "cell_type": "markdown",
   "metadata": {},
   "source": [
    "### Visualizar Arvore"
   ]
  },
  {
   "cell_type": "code",
   "execution_count": null,
   "metadata": {},
   "outputs": [],
   "source": [
    "X_train_tree = X.copy()\n",
    "X_train_tree['localizacao_label'] = X_train_tree.localizacao.astype('category').cat.codes\n",
    "X_train_tree['atividade_economica_label'] = X_train_tree.atividade_economica.astype('category').cat.codes\n",
    "X_train_tree.drop(columns=['localizacao', 'atividade_economica'], axis=1, inplace=True)\n",
    "X_train_tree.rename(columns={'localizacao_label': 'localizacao', 'atividade_economica': 'atividade_economica'}, inplace=True)\n",
    "X_train_tree.head(10)"
   ]
  },
  {
   "cell_type": "code",
   "execution_count": null,
   "metadata": {},
   "outputs": [],
   "source": [
    "clf_decisiontree = DecisionTreeClassifier(min_samples_leaf=study_decision_tree.best_params['min_samples_leaf'],\n",
    "                                          max_depth=study_decision_tree.best_params['max_depth'])\n",
    "\n",
    "y_train_tree = y.copy()\n",
    "clf_decisiontree.fit(X_train_tree, y_train_tree)"
   ]
  },
  {
   "cell_type": "code",
   "execution_count": null,
   "metadata": {},
   "outputs": [],
   "source": [
    "fig, axes = plt.subplots(nrows=1, ncols=1, figsize=(10, 10), dpi=600)\n",
    "\n",
    "plot_tree(clf_decisiontree,\n",
    "          feature_names=X_train_tree.columns.to_numpy(),\n",
    "          class_names=lista_segmento,\n",
    "          filled=True)"
   ]
  },
  {
   "cell_type": "markdown",
   "metadata": {},
   "source": [
    "## Salvar modelo"
   ]
  },
  {
   "cell_type": "code",
   "execution_count": null,
   "metadata": {},
   "outputs": [],
   "source": [
    "import joblib\n",
    "\n",
    "dt_model_tunado = Pipeline(steps=[('preprocessor', preprocessor),\n",
    "                                  ('classifier', DecisionTreeClassifier(min_samples_leaf=study_decision_tree.best_params['min_samples_leaf'],\n",
    "                                                                      max_depth=study_decision_tree.best_params['max_depth']))])\n",
    "\n",
    "dt_model_tunado.fit(X, y)\n",
    "\n",
    "joblib.dump(dt_model_tunado, './modelo_classificacao_decision_tree.pkl')"
   ]
  },
  {
   "cell_type": "markdown",
   "metadata": {},
   "source": [
    "### Entrega modelo"
   ]
  },
  {
   "cell_type": "code",
   "execution_count": null,
   "metadata": {},
   "outputs": [],
   "source": [
    "import gradio as gr\n",
    "modelo = joblib.load('./modelo_classificacao_decision_tree.pkl')\n",
    "\n",
    "def predict(file):\n",
    "  df_empresas = pd.read_csv(file.name)\n",
    "  y_pred = modelo.predict(df_empresas)\n",
    "  df_segmentos = pd.DataFrame(y_pred, columns=['segmento_de_clientes'])\n",
    "  df_predicoes = pd.concat([df_empresas, df_segmentos], axis=1)\n",
    "  df_predicoes.to_csv('./predicoes.csv', index=False)\n",
    "  return './predicoes.csv'\n",
    "\n",
    "demo = gr.Interface(\n",
    "  predict,\n",
    "  gr.File(file_types=['.csv']),\n",
    "  \"file\"\n",
    ")\n",
    "\n",
    "demo.launch()"
   ]
  }
 ],
 "metadata": {
  "kernelspec": {
   "display_name": "arvore_decisao-Mnc_E-na",
   "language": "python",
   "name": "python3"
  },
  "language_info": {
   "codemirror_mode": {
    "name": "ipython",
    "version": 3
   },
   "file_extension": ".py",
   "mimetype": "text/x-python",
   "name": "python",
   "nbconvert_exporter": "python",
   "pygments_lexer": "ipython3",
   "version": "3.12.1"
  }
 },
 "nbformat": 4,
 "nbformat_minor": 2
}
